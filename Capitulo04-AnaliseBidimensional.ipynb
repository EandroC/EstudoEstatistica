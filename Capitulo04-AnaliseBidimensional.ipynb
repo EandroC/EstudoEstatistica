{
 "cells": [
  {
   "cell_type": "code",
   "execution_count": 1,
   "id": "b6fcc35c",
   "metadata": {},
   "outputs": [],
   "source": [
    "import pandas as pd"
   ]
  },
  {
   "cell_type": "markdown",
   "id": "ef8aac62",
   "metadata": {},
   "source": [
    "### Problema 1: Usando os dados da EmpregadosCompanhiaMB, Capítulo 2:"
   ]
  },
  {
   "cell_type": "code",
   "execution_count": 2,
   "id": "4a643022",
   "metadata": {},
   "outputs": [],
   "source": [
    "dados = pd.read_csv(\"Dados/EmpregadosCompanhiaMB.csv\", sep=\";\")"
   ]
  },
  {
   "cell_type": "code",
   "execution_count": 3,
   "id": "ee9797b4",
   "metadata": {},
   "outputs": [
    {
     "data": {
      "text/html": [
       "<div>\n",
       "<style scoped>\n",
       "    .dataframe tbody tr th:only-of-type {\n",
       "        vertical-align: middle;\n",
       "    }\n",
       "\n",
       "    .dataframe tbody tr th {\n",
       "        vertical-align: top;\n",
       "    }\n",
       "\n",
       "    .dataframe thead th {\n",
       "        text-align: right;\n",
       "    }\n",
       "</style>\n",
       "<table border=\"1\" class=\"dataframe\">\n",
       "  <thead>\n",
       "    <tr style=\"text-align: right;\">\n",
       "      <th></th>\n",
       "      <th>N</th>\n",
       "      <th>EstadoCivil</th>\n",
       "      <th>GrauInstrucao</th>\n",
       "      <th>Nfilhos</th>\n",
       "      <th>Salario(xSalMin)</th>\n",
       "      <th>AnosIdade</th>\n",
       "      <th>MesesIdade</th>\n",
       "      <th>RegiaoProcedencia</th>\n",
       "    </tr>\n",
       "  </thead>\n",
       "  <tbody>\n",
       "    <tr>\n",
       "      <th>0</th>\n",
       "      <td>1</td>\n",
       "      <td>solteiro</td>\n",
       "      <td>ensino fundamental</td>\n",
       "      <td>0</td>\n",
       "      <td>4</td>\n",
       "      <td>26</td>\n",
       "      <td>3</td>\n",
       "      <td>interior</td>\n",
       "    </tr>\n",
       "    <tr>\n",
       "      <th>1</th>\n",
       "      <td>2</td>\n",
       "      <td>casado</td>\n",
       "      <td>ensino fundamental</td>\n",
       "      <td>1</td>\n",
       "      <td>4,56</td>\n",
       "      <td>32</td>\n",
       "      <td>10</td>\n",
       "      <td>capital</td>\n",
       "    </tr>\n",
       "    <tr>\n",
       "      <th>2</th>\n",
       "      <td>3</td>\n",
       "      <td>casado</td>\n",
       "      <td>ensino fundamental</td>\n",
       "      <td>2</td>\n",
       "      <td>5,25</td>\n",
       "      <td>36</td>\n",
       "      <td>5</td>\n",
       "      <td>capital</td>\n",
       "    </tr>\n",
       "    <tr>\n",
       "      <th>3</th>\n",
       "      <td>4</td>\n",
       "      <td>solteiro</td>\n",
       "      <td>ensino médio</td>\n",
       "      <td>0</td>\n",
       "      <td>5,73</td>\n",
       "      <td>20</td>\n",
       "      <td>10</td>\n",
       "      <td>outra</td>\n",
       "    </tr>\n",
       "    <tr>\n",
       "      <th>4</th>\n",
       "      <td>5</td>\n",
       "      <td>solteiro</td>\n",
       "      <td>ensino fundamental</td>\n",
       "      <td>0</td>\n",
       "      <td>6,26</td>\n",
       "      <td>40</td>\n",
       "      <td>7</td>\n",
       "      <td>outra</td>\n",
       "    </tr>\n",
       "  </tbody>\n",
       "</table>\n",
       "</div>"
      ],
      "text/plain": [
       "   N EstadoCivil       GrauInstrucao  Nfilhos Salario(xSalMin)  AnosIdade  \\\n",
       "0  1    solteiro  ensino fundamental        0                4         26   \n",
       "1  2      casado  ensino fundamental        1             4,56         32   \n",
       "2  3      casado  ensino fundamental        2             5,25         36   \n",
       "3  4    solteiro        ensino médio        0             5,73         20   \n",
       "4  5    solteiro  ensino fundamental        0             6,26         40   \n",
       "\n",
       "   MesesIdade RegiaoProcedencia  \n",
       "0           3          interior  \n",
       "1          10           capital  \n",
       "2           5           capital  \n",
       "3          10             outra  \n",
       "4           7             outra  "
      ]
     },
     "execution_count": 3,
     "metadata": {},
     "output_type": "execute_result"
    }
   ],
   "source": [
    "dados.head()"
   ]
  },
  {
   "cell_type": "markdown",
   "id": "c8d83b20",
   "metadata": {},
   "source": [
    "#### Construa a distribuição de freqüência conjunta para as variáveis grau de instrução e região de procedência."
   ]
  },
  {
   "cell_type": "markdown",
   "id": "f6cb4c53",
   "metadata": {},
   "source": [
    "##### Freqüências absolutas"
   ]
  },
  {
   "cell_type": "code",
   "execution_count": 4,
   "id": "e75e784d",
   "metadata": {},
   "outputs": [
    {
     "data": {
      "text/html": [
       "<div>\n",
       "<style scoped>\n",
       "    .dataframe tbody tr th:only-of-type {\n",
       "        vertical-align: middle;\n",
       "    }\n",
       "\n",
       "    .dataframe tbody tr th {\n",
       "        vertical-align: top;\n",
       "    }\n",
       "\n",
       "    .dataframe thead th {\n",
       "        text-align: right;\n",
       "    }\n",
       "</style>\n",
       "<table border=\"1\" class=\"dataframe\">\n",
       "  <thead>\n",
       "    <tr style=\"text-align: right;\">\n",
       "      <th>RegiaoProcedencia</th>\n",
       "      <th>capital</th>\n",
       "      <th>interior</th>\n",
       "      <th>outra</th>\n",
       "      <th>Total</th>\n",
       "    </tr>\n",
       "    <tr>\n",
       "      <th>GrauInstrucao</th>\n",
       "      <th></th>\n",
       "      <th></th>\n",
       "      <th></th>\n",
       "      <th></th>\n",
       "    </tr>\n",
       "  </thead>\n",
       "  <tbody>\n",
       "    <tr>\n",
       "      <th>ensino fundamental</th>\n",
       "      <td>4</td>\n",
       "      <td>3</td>\n",
       "      <td>5</td>\n",
       "      <td>12</td>\n",
       "    </tr>\n",
       "    <tr>\n",
       "      <th>ensino médio</th>\n",
       "      <td>5</td>\n",
       "      <td>7</td>\n",
       "      <td>6</td>\n",
       "      <td>18</td>\n",
       "    </tr>\n",
       "    <tr>\n",
       "      <th>superior</th>\n",
       "      <td>2</td>\n",
       "      <td>2</td>\n",
       "      <td>2</td>\n",
       "      <td>6</td>\n",
       "    </tr>\n",
       "    <tr>\n",
       "      <th>Total</th>\n",
       "      <td>11</td>\n",
       "      <td>12</td>\n",
       "      <td>13</td>\n",
       "      <td>36</td>\n",
       "    </tr>\n",
       "  </tbody>\n",
       "</table>\n",
       "</div>"
      ],
      "text/plain": [
       "RegiaoProcedencia   capital  interior  outra  Total\n",
       "GrauInstrucao                                      \n",
       "ensino fundamental        4         3      5     12\n",
       "ensino médio              5         7      6     18\n",
       "superior                  2         2      2      6\n",
       "Total                    11        12     13     36"
      ]
     },
     "execution_count": 4,
     "metadata": {},
     "output_type": "execute_result"
    }
   ],
   "source": [
    "tabelaConjunta = pd.crosstab(dados['GrauInstrucao'], dados['RegiaoProcedencia'], margins=True, margins_name='Total')\n",
    "tabelaConjunta"
   ]
  },
  {
   "cell_type": "markdown",
   "id": "79ec1130",
   "metadata": {},
   "source": [
    "##### Freqüências relativas"
   ]
  },
  {
   "cell_type": "code",
   "execution_count": 5,
   "id": "afe0a2eb",
   "metadata": {},
   "outputs": [
    {
     "data": {
      "text/html": [
       "<div>\n",
       "<style scoped>\n",
       "    .dataframe tbody tr th:only-of-type {\n",
       "        vertical-align: middle;\n",
       "    }\n",
       "\n",
       "    .dataframe tbody tr th {\n",
       "        vertical-align: top;\n",
       "    }\n",
       "\n",
       "    .dataframe thead th {\n",
       "        text-align: right;\n",
       "    }\n",
       "</style>\n",
       "<table border=\"1\" class=\"dataframe\">\n",
       "  <thead>\n",
       "    <tr style=\"text-align: right;\">\n",
       "      <th>RegiaoProcedencia</th>\n",
       "      <th>capital</th>\n",
       "      <th>interior</th>\n",
       "      <th>outra</th>\n",
       "      <th>Total</th>\n",
       "    </tr>\n",
       "    <tr>\n",
       "      <th>GrauInstrucao</th>\n",
       "      <th></th>\n",
       "      <th></th>\n",
       "      <th></th>\n",
       "      <th></th>\n",
       "    </tr>\n",
       "  </thead>\n",
       "  <tbody>\n",
       "    <tr>\n",
       "      <th>ensino fundamental</th>\n",
       "      <td>0.111111</td>\n",
       "      <td>0.083333</td>\n",
       "      <td>0.138889</td>\n",
       "      <td>0.333333</td>\n",
       "    </tr>\n",
       "    <tr>\n",
       "      <th>ensino médio</th>\n",
       "      <td>0.138889</td>\n",
       "      <td>0.194444</td>\n",
       "      <td>0.166667</td>\n",
       "      <td>0.500000</td>\n",
       "    </tr>\n",
       "    <tr>\n",
       "      <th>superior</th>\n",
       "      <td>0.055556</td>\n",
       "      <td>0.055556</td>\n",
       "      <td>0.055556</td>\n",
       "      <td>0.166667</td>\n",
       "    </tr>\n",
       "    <tr>\n",
       "      <th>Total</th>\n",
       "      <td>0.305556</td>\n",
       "      <td>0.333333</td>\n",
       "      <td>0.361111</td>\n",
       "      <td>1.000000</td>\n",
       "    </tr>\n",
       "  </tbody>\n",
       "</table>\n",
       "</div>"
      ],
      "text/plain": [
       "RegiaoProcedencia    capital  interior     outra     Total\n",
       "GrauInstrucao                                             \n",
       "ensino fundamental  0.111111  0.083333  0.138889  0.333333\n",
       "ensino médio        0.138889  0.194444  0.166667  0.500000\n",
       "superior            0.055556  0.055556  0.055556  0.166667\n",
       "Total               0.305556  0.333333  0.361111  1.000000"
      ]
     },
     "execution_count": 5,
     "metadata": {},
     "output_type": "execute_result"
    }
   ],
   "source": [
    "tabelaConjunta = pd.crosstab(dados['GrauInstrucao'], dados['RegiaoProcedencia'], margins=True, margins_name='Total', normalize=True)\n",
    "tabelaConjunta"
   ]
  },
  {
   "cell_type": "markdown",
   "id": "190c38fb",
   "metadata": {},
   "source": [
    "##### Freqüências relativas (porcentagem)"
   ]
  },
  {
   "cell_type": "code",
   "execution_count": 6,
   "id": "87a80fdb",
   "metadata": {},
   "outputs": [
    {
     "data": {
      "text/html": [
       "<div>\n",
       "<style scoped>\n",
       "    .dataframe tbody tr th:only-of-type {\n",
       "        vertical-align: middle;\n",
       "    }\n",
       "\n",
       "    .dataframe tbody tr th {\n",
       "        vertical-align: top;\n",
       "    }\n",
       "\n",
       "    .dataframe thead th {\n",
       "        text-align: right;\n",
       "    }\n",
       "</style>\n",
       "<table border=\"1\" class=\"dataframe\">\n",
       "  <thead>\n",
       "    <tr style=\"text-align: right;\">\n",
       "      <th>RegiaoProcedencia</th>\n",
       "      <th>capital</th>\n",
       "      <th>interior</th>\n",
       "      <th>outra</th>\n",
       "      <th>Total</th>\n",
       "    </tr>\n",
       "    <tr>\n",
       "      <th>GrauInstrucao</th>\n",
       "      <th></th>\n",
       "      <th></th>\n",
       "      <th></th>\n",
       "      <th></th>\n",
       "    </tr>\n",
       "  </thead>\n",
       "  <tbody>\n",
       "    <tr>\n",
       "      <th>ensino fundamental</th>\n",
       "      <td>11.11</td>\n",
       "      <td>8.33</td>\n",
       "      <td>13.89</td>\n",
       "      <td>33.33</td>\n",
       "    </tr>\n",
       "    <tr>\n",
       "      <th>ensino médio</th>\n",
       "      <td>13.89</td>\n",
       "      <td>19.44</td>\n",
       "      <td>16.67</td>\n",
       "      <td>50.00</td>\n",
       "    </tr>\n",
       "    <tr>\n",
       "      <th>superior</th>\n",
       "      <td>5.56</td>\n",
       "      <td>5.56</td>\n",
       "      <td>5.56</td>\n",
       "      <td>16.67</td>\n",
       "    </tr>\n",
       "    <tr>\n",
       "      <th>Total</th>\n",
       "      <td>30.56</td>\n",
       "      <td>33.33</td>\n",
       "      <td>36.11</td>\n",
       "      <td>100.00</td>\n",
       "    </tr>\n",
       "  </tbody>\n",
       "</table>\n",
       "</div>"
      ],
      "text/plain": [
       "RegiaoProcedencia   capital  interior  outra   Total\n",
       "GrauInstrucao                                       \n",
       "ensino fundamental    11.11      8.33  13.89   33.33\n",
       "ensino médio          13.89     19.44  16.67   50.00\n",
       "superior               5.56      5.56   5.56   16.67\n",
       "Total                 30.56     33.33  36.11  100.00"
      ]
     },
     "execution_count": 6,
     "metadata": {},
     "output_type": "execute_result"
    }
   ],
   "source": [
    "tabelaConjunta = round(pd.crosstab(dados['GrauInstrucao'], dados['RegiaoProcedencia'], margins=True, margins_name='Total', normalize=True) * 100, 2)\n",
    "tabelaConjunta"
   ]
  },
  {
   "cell_type": "markdown",
   "id": "5654e689",
   "metadata": {},
   "source": [
    "#### Qual a porcentagem de funcionários que têm o ensino médio?"
   ]
  },
  {
   "cell_type": "code",
   "execution_count": 7,
   "id": "d2d23329",
   "metadata": {},
   "outputs": [
    {
     "data": {
      "text/plain": [
       "50.0"
      ]
     },
     "execution_count": 7,
     "metadata": {},
     "output_type": "execute_result"
    }
   ],
   "source": [
    "tabelaConjunta.loc['ensino médio', 'Total']"
   ]
  },
  {
   "cell_type": "markdown",
   "id": "0e274116",
   "metadata": {},
   "source": [
    "#### Qual a porcentagem daqueles que têm o ensino médio e são do interior?"
   ]
  },
  {
   "cell_type": "code",
   "execution_count": 8,
   "id": "c8d7e0c3",
   "metadata": {},
   "outputs": [
    {
     "data": {
      "text/plain": [
       "19.44"
      ]
     },
     "execution_count": 8,
     "metadata": {},
     "output_type": "execute_result"
    }
   ],
   "source": [
    "tabelaConjunta.loc['ensino médio', 'interior']"
   ]
  },
  {
   "cell_type": "markdown",
   "id": "bb86087f",
   "metadata": {},
   "source": [
    "#### Dentre os funcionários do interior, quantos porcento têm o ensino médio?"
   ]
  },
  {
   "cell_type": "code",
   "execution_count": 9,
   "id": "17de36f6",
   "metadata": {},
   "outputs": [
    {
     "name": "stdout",
     "output_type": "stream",
     "text": [
      "58.33\n"
     ]
    }
   ],
   "source": [
    "interiorMedio = tabelaConjunta.loc['ensino médio', 'interior']\n",
    "\n",
    "ttlFuncInterior = tabelaConjunta.loc['Total', 'interior']\n",
    "\n",
    "porcentagem = round((interiorMedio / ttlFuncInterior) * 100, 2)\n",
    "\n",
    "print(porcentagem)"
   ]
  },
  {
   "cell_type": "markdown",
   "id": "4e74226c",
   "metadata": {},
   "source": [
    "### Problema 2: No problema anterior, sorteando um funcionário ao acaso entre os 36:"
   ]
  },
  {
   "cell_type": "code",
   "execution_count": 10,
   "id": "b36b8abe",
   "metadata": {},
   "outputs": [
    {
     "data": {
      "text/html": [
       "<div>\n",
       "<style scoped>\n",
       "    .dataframe tbody tr th:only-of-type {\n",
       "        vertical-align: middle;\n",
       "    }\n",
       "\n",
       "    .dataframe tbody tr th {\n",
       "        vertical-align: top;\n",
       "    }\n",
       "\n",
       "    .dataframe thead th {\n",
       "        text-align: right;\n",
       "    }\n",
       "</style>\n",
       "<table border=\"1\" class=\"dataframe\">\n",
       "  <thead>\n",
       "    <tr style=\"text-align: right;\">\n",
       "      <th>RegiaoProcedencia</th>\n",
       "      <th>capital</th>\n",
       "      <th>interior</th>\n",
       "      <th>outra</th>\n",
       "    </tr>\n",
       "    <tr>\n",
       "      <th>GrauInstrucao</th>\n",
       "      <th></th>\n",
       "      <th></th>\n",
       "      <th></th>\n",
       "    </tr>\n",
       "  </thead>\n",
       "  <tbody>\n",
       "    <tr>\n",
       "      <th>ensino fundamental</th>\n",
       "      <td>11.11</td>\n",
       "      <td>8.33</td>\n",
       "      <td>13.89</td>\n",
       "    </tr>\n",
       "    <tr>\n",
       "      <th>ensino médio</th>\n",
       "      <td>13.89</td>\n",
       "      <td>19.44</td>\n",
       "      <td>16.67</td>\n",
       "    </tr>\n",
       "    <tr>\n",
       "      <th>superior</th>\n",
       "      <td>5.56</td>\n",
       "      <td>5.56</td>\n",
       "      <td>5.56</td>\n",
       "    </tr>\n",
       "  </tbody>\n",
       "</table>\n",
       "</div>"
      ],
      "text/plain": [
       "RegiaoProcedencia   capital  interior  outra\n",
       "GrauInstrucao                               \n",
       "ensino fundamental    11.11      8.33  13.89\n",
       "ensino médio          13.89     19.44  16.67\n",
       "superior               5.56      5.56   5.56"
      ]
     },
     "execution_count": 10,
     "metadata": {},
     "output_type": "execute_result"
    }
   ],
   "source": [
    "tabelaConjunta = round(pd.crosstab(dados['GrauInstrucao'], dados['RegiaoProcedencia'], normalize=True) * 100, 2)\n",
    "tabelaConjunta"
   ]
  },
  {
   "cell_type": "markdown",
   "id": "fc74bd66",
   "metadata": {},
   "source": [
    "#### Qual será provavelmente o seu grau de instrução?"
   ]
  },
  {
   "cell_type": "code",
   "execution_count": 11,
   "id": "79b36aa6",
   "metadata": {},
   "outputs": [
    {
     "data": {
      "text/plain": [
       "'ensino médio'"
      ]
     },
     "execution_count": 11,
     "metadata": {},
     "output_type": "execute_result"
    }
   ],
   "source": [
    "freqInstrucao = tabelaConjunta.sum(axis=1)\n",
    "freqInstrucao.idxmax()"
   ]
  },
  {
   "cell_type": "markdown",
   "id": "aa0ebd03",
   "metadata": {},
   "source": [
    "#### E sua região de procedência?"
   ]
  },
  {
   "cell_type": "code",
   "execution_count": 12,
   "id": "495e8602",
   "metadata": {},
   "outputs": [
    {
     "data": {
      "text/plain": [
       "'outra'"
      ]
     },
     "execution_count": 12,
     "metadata": {},
     "output_type": "execute_result"
    }
   ],
   "source": [
    "freqRegiao = tabelaConjunta.sum(axis=0)\n",
    "freqRegiao.idxmax()"
   ]
  },
  {
   "cell_type": "markdown",
   "id": "10ec84b0",
   "metadata": {},
   "source": [
    "#### Qual a probabilidade do sorteado ter nível superior?"
   ]
  },
  {
   "cell_type": "code",
   "execution_count": 13,
   "id": "1b51c885",
   "metadata": {},
   "outputs": [
    {
     "data": {
      "text/plain": [
       "16.68"
      ]
     },
     "execution_count": 13,
     "metadata": {},
     "output_type": "execute_result"
    }
   ],
   "source": [
    "freqInstrucao.loc['superior']"
   ]
  },
  {
   "cell_type": "markdown",
   "id": "28d4c4ac",
   "metadata": {},
   "source": [
    "#### Sabendo que o sorteado é do interior, qual a probabilidade de ele possuir nível superior?"
   ]
  },
  {
   "cell_type": "code",
   "execution_count": 14,
   "id": "990effe8",
   "metadata": {},
   "outputs": [
    {
     "data": {
      "text/plain": [
       "16.68"
      ]
     },
     "execution_count": 14,
     "metadata": {},
     "output_type": "execute_result"
    }
   ],
   "source": [
    "round((tabelaConjunta.loc['superior', 'interior'] / freqRegiao.loc['interior']) * 100, 2)"
   ]
  },
  {
   "cell_type": "markdown",
   "id": "b9503cd1",
   "metadata": {},
   "source": [
    "#### Sabendo que o escolhido é da capital, qual a probabilidade de ele possuir nível superior?"
   ]
  },
  {
   "cell_type": "code",
   "execution_count": 15,
   "id": "81691208",
   "metadata": {},
   "outputs": [
    {
     "data": {
      "text/plain": [
       "18.19"
      ]
     },
     "execution_count": 15,
     "metadata": {},
     "output_type": "execute_result"
    }
   ],
   "source": [
    "round((tabelaConjunta.loc['superior', 'capital'] / freqRegiao.loc['capital']) * 100, 2)"
   ]
  },
  {
   "cell_type": "markdown",
   "id": "174056a8",
   "metadata": {},
   "source": [
    "### Problema 3: Numa pesquisa sobre rotatividade de mão-de-obra, para uma amostra de 40 pessoas foram observadas duas variáveis: número de empregos nos últimos dois anos (X) e salário mais recente, em número de salários mínimos (Y). Os resultados foram:"
   ]
  },
  {
   "cell_type": "code",
   "execution_count": 16,
   "id": "defb89f7",
   "metadata": {},
   "outputs": [
    {
     "data": {
      "text/html": [
       "<div>\n",
       "<style scoped>\n",
       "    .dataframe tbody tr th:only-of-type {\n",
       "        vertical-align: middle;\n",
       "    }\n",
       "\n",
       "    .dataframe tbody tr th {\n",
       "        vertical-align: top;\n",
       "    }\n",
       "\n",
       "    .dataframe thead th {\n",
       "        text-align: right;\n",
       "    }\n",
       "</style>\n",
       "<table border=\"1\" class=\"dataframe\">\n",
       "  <thead>\n",
       "    <tr style=\"text-align: right;\">\n",
       "      <th></th>\n",
       "      <th>Individuo</th>\n",
       "      <th>X</th>\n",
       "      <th>Y</th>\n",
       "    </tr>\n",
       "  </thead>\n",
       "  <tbody>\n",
       "    <tr>\n",
       "      <th>0</th>\n",
       "      <td>1</td>\n",
       "      <td>1</td>\n",
       "      <td>6</td>\n",
       "    </tr>\n",
       "    <tr>\n",
       "      <th>1</th>\n",
       "      <td>2</td>\n",
       "      <td>3</td>\n",
       "      <td>2</td>\n",
       "    </tr>\n",
       "    <tr>\n",
       "      <th>2</th>\n",
       "      <td>3</td>\n",
       "      <td>2</td>\n",
       "      <td>4</td>\n",
       "    </tr>\n",
       "    <tr>\n",
       "      <th>3</th>\n",
       "      <td>4</td>\n",
       "      <td>3</td>\n",
       "      <td>1</td>\n",
       "    </tr>\n",
       "    <tr>\n",
       "      <th>4</th>\n",
       "      <td>5</td>\n",
       "      <td>2</td>\n",
       "      <td>4</td>\n",
       "    </tr>\n",
       "    <tr>\n",
       "      <th>5</th>\n",
       "      <td>6</td>\n",
       "      <td>2</td>\n",
       "      <td>1</td>\n",
       "    </tr>\n",
       "    <tr>\n",
       "      <th>6</th>\n",
       "      <td>7</td>\n",
       "      <td>3</td>\n",
       "      <td>3</td>\n",
       "    </tr>\n",
       "    <tr>\n",
       "      <th>7</th>\n",
       "      <td>8</td>\n",
       "      <td>1</td>\n",
       "      <td>5</td>\n",
       "    </tr>\n",
       "    <tr>\n",
       "      <th>8</th>\n",
       "      <td>9</td>\n",
       "      <td>2</td>\n",
       "      <td>2</td>\n",
       "    </tr>\n",
       "    <tr>\n",
       "      <th>9</th>\n",
       "      <td>10</td>\n",
       "      <td>3</td>\n",
       "      <td>2</td>\n",
       "    </tr>\n",
       "    <tr>\n",
       "      <th>10</th>\n",
       "      <td>11</td>\n",
       "      <td>2</td>\n",
       "      <td>5</td>\n",
       "    </tr>\n",
       "    <tr>\n",
       "      <th>11</th>\n",
       "      <td>12</td>\n",
       "      <td>3</td>\n",
       "      <td>2</td>\n",
       "    </tr>\n",
       "    <tr>\n",
       "      <th>12</th>\n",
       "      <td>13</td>\n",
       "      <td>1</td>\n",
       "      <td>6</td>\n",
       "    </tr>\n",
       "    <tr>\n",
       "      <th>13</th>\n",
       "      <td>14</td>\n",
       "      <td>2</td>\n",
       "      <td>6</td>\n",
       "    </tr>\n",
       "    <tr>\n",
       "      <th>14</th>\n",
       "      <td>15</td>\n",
       "      <td>3</td>\n",
       "      <td>2</td>\n",
       "    </tr>\n",
       "    <tr>\n",
       "      <th>15</th>\n",
       "      <td>16</td>\n",
       "      <td>4</td>\n",
       "      <td>2</td>\n",
       "    </tr>\n",
       "    <tr>\n",
       "      <th>16</th>\n",
       "      <td>17</td>\n",
       "      <td>1</td>\n",
       "      <td>5</td>\n",
       "    </tr>\n",
       "    <tr>\n",
       "      <th>17</th>\n",
       "      <td>18</td>\n",
       "      <td>2</td>\n",
       "      <td>5</td>\n",
       "    </tr>\n",
       "    <tr>\n",
       "      <th>18</th>\n",
       "      <td>19</td>\n",
       "      <td>2</td>\n",
       "      <td>1</td>\n",
       "    </tr>\n",
       "    <tr>\n",
       "      <th>19</th>\n",
       "      <td>20</td>\n",
       "      <td>2</td>\n",
       "      <td>1</td>\n",
       "    </tr>\n",
       "    <tr>\n",
       "      <th>20</th>\n",
       "      <td>21</td>\n",
       "      <td>2</td>\n",
       "      <td>4</td>\n",
       "    </tr>\n",
       "    <tr>\n",
       "      <th>21</th>\n",
       "      <td>22</td>\n",
       "      <td>3</td>\n",
       "      <td>2</td>\n",
       "    </tr>\n",
       "    <tr>\n",
       "      <th>22</th>\n",
       "      <td>23</td>\n",
       "      <td>4</td>\n",
       "      <td>1</td>\n",
       "    </tr>\n",
       "    <tr>\n",
       "      <th>23</th>\n",
       "      <td>24</td>\n",
       "      <td>1</td>\n",
       "      <td>5</td>\n",
       "    </tr>\n",
       "    <tr>\n",
       "      <th>24</th>\n",
       "      <td>25</td>\n",
       "      <td>2</td>\n",
       "      <td>4</td>\n",
       "    </tr>\n",
       "    <tr>\n",
       "      <th>25</th>\n",
       "      <td>26</td>\n",
       "      <td>3</td>\n",
       "      <td>2</td>\n",
       "    </tr>\n",
       "    <tr>\n",
       "      <th>26</th>\n",
       "      <td>27</td>\n",
       "      <td>4</td>\n",
       "      <td>1</td>\n",
       "    </tr>\n",
       "    <tr>\n",
       "      <th>27</th>\n",
       "      <td>28</td>\n",
       "      <td>1</td>\n",
       "      <td>5</td>\n",
       "    </tr>\n",
       "    <tr>\n",
       "      <th>28</th>\n",
       "      <td>29</td>\n",
       "      <td>4</td>\n",
       "      <td>4</td>\n",
       "    </tr>\n",
       "    <tr>\n",
       "      <th>29</th>\n",
       "      <td>30</td>\n",
       "      <td>3</td>\n",
       "      <td>3</td>\n",
       "    </tr>\n",
       "    <tr>\n",
       "      <th>30</th>\n",
       "      <td>31</td>\n",
       "      <td>2</td>\n",
       "      <td>2</td>\n",
       "    </tr>\n",
       "    <tr>\n",
       "      <th>31</th>\n",
       "      <td>32</td>\n",
       "      <td>1</td>\n",
       "      <td>1</td>\n",
       "    </tr>\n",
       "    <tr>\n",
       "      <th>32</th>\n",
       "      <td>33</td>\n",
       "      <td>4</td>\n",
       "      <td>1</td>\n",
       "    </tr>\n",
       "    <tr>\n",
       "      <th>33</th>\n",
       "      <td>34</td>\n",
       "      <td>2</td>\n",
       "      <td>6</td>\n",
       "    </tr>\n",
       "    <tr>\n",
       "      <th>34</th>\n",
       "      <td>35</td>\n",
       "      <td>4</td>\n",
       "      <td>2</td>\n",
       "    </tr>\n",
       "    <tr>\n",
       "      <th>35</th>\n",
       "      <td>36</td>\n",
       "      <td>3</td>\n",
       "      <td>1</td>\n",
       "    </tr>\n",
       "    <tr>\n",
       "      <th>36</th>\n",
       "      <td>37</td>\n",
       "      <td>1</td>\n",
       "      <td>4</td>\n",
       "    </tr>\n",
       "    <tr>\n",
       "      <th>37</th>\n",
       "      <td>38</td>\n",
       "      <td>3</td>\n",
       "      <td>2</td>\n",
       "    </tr>\n",
       "    <tr>\n",
       "      <th>38</th>\n",
       "      <td>39</td>\n",
       "      <td>2</td>\n",
       "      <td>3</td>\n",
       "    </tr>\n",
       "    <tr>\n",
       "      <th>39</th>\n",
       "      <td>40</td>\n",
       "      <td>2</td>\n",
       "      <td>5</td>\n",
       "    </tr>\n",
       "  </tbody>\n",
       "</table>\n",
       "</div>"
      ],
      "text/plain": [
       "    Individuo  X  Y\n",
       "0           1  1  6\n",
       "1           2  3  2\n",
       "2           3  2  4\n",
       "3           4  3  1\n",
       "4           5  2  4\n",
       "5           6  2  1\n",
       "6           7  3  3\n",
       "7           8  1  5\n",
       "8           9  2  2\n",
       "9          10  3  2\n",
       "10         11  2  5\n",
       "11         12  3  2\n",
       "12         13  1  6\n",
       "13         14  2  6\n",
       "14         15  3  2\n",
       "15         16  4  2\n",
       "16         17  1  5\n",
       "17         18  2  5\n",
       "18         19  2  1\n",
       "19         20  2  1\n",
       "20         21  2  4\n",
       "21         22  3  2\n",
       "22         23  4  1\n",
       "23         24  1  5\n",
       "24         25  2  4\n",
       "25         26  3  2\n",
       "26         27  4  1\n",
       "27         28  1  5\n",
       "28         29  4  4\n",
       "29         30  3  3\n",
       "30         31  2  2\n",
       "31         32  1  1\n",
       "32         33  4  1\n",
       "33         34  2  6\n",
       "34         35  4  2\n",
       "35         36  3  1\n",
       "36         37  1  4\n",
       "37         38  3  2\n",
       "38         39  2  3\n",
       "39         40  2  5"
      ]
     },
     "execution_count": 16,
     "metadata": {},
     "output_type": "execute_result"
    }
   ],
   "source": [
    "dados = pd.read_csv(\"Dados/RotatividadeMao-de-obra.csv\", sep =\";\")\n",
    "dados"
   ]
  },
  {
   "cell_type": "markdown",
   "id": "5ba63207",
   "metadata": {},
   "source": [
    "#### Usando a mediana, classifique os indivíduos em dois níveis, alto e baixo, para cada uma das variáveis, e construa a distribuição de freqüências conjunta das duas classificações."
   ]
  },
  {
   "cell_type": "code",
   "execution_count": 17,
   "id": "68fbb05d",
   "metadata": {},
   "outputs": [],
   "source": [
    "def classificar(valor, mediana):\n",
    "    if valor >= mediana:\n",
    "        return 'Alto'\n",
    "    else:\n",
    "        return 'Baixo'"
   ]
  },
  {
   "cell_type": "code",
   "execution_count": 18,
   "id": "0cc56c75",
   "metadata": {},
   "outputs": [
    {
     "data": {
      "text/html": [
       "<div>\n",
       "<style scoped>\n",
       "    .dataframe tbody tr th:only-of-type {\n",
       "        vertical-align: middle;\n",
       "    }\n",
       "\n",
       "    .dataframe tbody tr th {\n",
       "        vertical-align: top;\n",
       "    }\n",
       "\n",
       "    .dataframe thead th {\n",
       "        text-align: right;\n",
       "    }\n",
       "</style>\n",
       "<table border=\"1\" class=\"dataframe\">\n",
       "  <thead>\n",
       "    <tr style=\"text-align: right;\">\n",
       "      <th></th>\n",
       "      <th>Individuo</th>\n",
       "      <th>Rotatividade</th>\n",
       "      <th>NSalariosMinimos</th>\n",
       "    </tr>\n",
       "  </thead>\n",
       "  <tbody>\n",
       "    <tr>\n",
       "      <th>0</th>\n",
       "      <td>1</td>\n",
       "      <td>Baixo</td>\n",
       "      <td>Alto</td>\n",
       "    </tr>\n",
       "    <tr>\n",
       "      <th>1</th>\n",
       "      <td>2</td>\n",
       "      <td>Alto</td>\n",
       "      <td>Baixo</td>\n",
       "    </tr>\n",
       "    <tr>\n",
       "      <th>2</th>\n",
       "      <td>3</td>\n",
       "      <td>Alto</td>\n",
       "      <td>Alto</td>\n",
       "    </tr>\n",
       "    <tr>\n",
       "      <th>3</th>\n",
       "      <td>4</td>\n",
       "      <td>Alto</td>\n",
       "      <td>Baixo</td>\n",
       "    </tr>\n",
       "    <tr>\n",
       "      <th>4</th>\n",
       "      <td>5</td>\n",
       "      <td>Alto</td>\n",
       "      <td>Alto</td>\n",
       "    </tr>\n",
       "    <tr>\n",
       "      <th>5</th>\n",
       "      <td>6</td>\n",
       "      <td>Alto</td>\n",
       "      <td>Baixo</td>\n",
       "    </tr>\n",
       "    <tr>\n",
       "      <th>6</th>\n",
       "      <td>7</td>\n",
       "      <td>Alto</td>\n",
       "      <td>Alto</td>\n",
       "    </tr>\n",
       "    <tr>\n",
       "      <th>7</th>\n",
       "      <td>8</td>\n",
       "      <td>Baixo</td>\n",
       "      <td>Alto</td>\n",
       "    </tr>\n",
       "    <tr>\n",
       "      <th>8</th>\n",
       "      <td>9</td>\n",
       "      <td>Alto</td>\n",
       "      <td>Baixo</td>\n",
       "    </tr>\n",
       "    <tr>\n",
       "      <th>9</th>\n",
       "      <td>10</td>\n",
       "      <td>Alto</td>\n",
       "      <td>Baixo</td>\n",
       "    </tr>\n",
       "    <tr>\n",
       "      <th>10</th>\n",
       "      <td>11</td>\n",
       "      <td>Alto</td>\n",
       "      <td>Alto</td>\n",
       "    </tr>\n",
       "    <tr>\n",
       "      <th>11</th>\n",
       "      <td>12</td>\n",
       "      <td>Alto</td>\n",
       "      <td>Baixo</td>\n",
       "    </tr>\n",
       "    <tr>\n",
       "      <th>12</th>\n",
       "      <td>13</td>\n",
       "      <td>Baixo</td>\n",
       "      <td>Alto</td>\n",
       "    </tr>\n",
       "    <tr>\n",
       "      <th>13</th>\n",
       "      <td>14</td>\n",
       "      <td>Alto</td>\n",
       "      <td>Alto</td>\n",
       "    </tr>\n",
       "    <tr>\n",
       "      <th>14</th>\n",
       "      <td>15</td>\n",
       "      <td>Alto</td>\n",
       "      <td>Baixo</td>\n",
       "    </tr>\n",
       "    <tr>\n",
       "      <th>15</th>\n",
       "      <td>16</td>\n",
       "      <td>Alto</td>\n",
       "      <td>Baixo</td>\n",
       "    </tr>\n",
       "    <tr>\n",
       "      <th>16</th>\n",
       "      <td>17</td>\n",
       "      <td>Baixo</td>\n",
       "      <td>Alto</td>\n",
       "    </tr>\n",
       "    <tr>\n",
       "      <th>17</th>\n",
       "      <td>18</td>\n",
       "      <td>Alto</td>\n",
       "      <td>Alto</td>\n",
       "    </tr>\n",
       "    <tr>\n",
       "      <th>18</th>\n",
       "      <td>19</td>\n",
       "      <td>Alto</td>\n",
       "      <td>Baixo</td>\n",
       "    </tr>\n",
       "    <tr>\n",
       "      <th>19</th>\n",
       "      <td>20</td>\n",
       "      <td>Alto</td>\n",
       "      <td>Baixo</td>\n",
       "    </tr>\n",
       "    <tr>\n",
       "      <th>20</th>\n",
       "      <td>21</td>\n",
       "      <td>Alto</td>\n",
       "      <td>Alto</td>\n",
       "    </tr>\n",
       "    <tr>\n",
       "      <th>21</th>\n",
       "      <td>22</td>\n",
       "      <td>Alto</td>\n",
       "      <td>Baixo</td>\n",
       "    </tr>\n",
       "    <tr>\n",
       "      <th>22</th>\n",
       "      <td>23</td>\n",
       "      <td>Alto</td>\n",
       "      <td>Baixo</td>\n",
       "    </tr>\n",
       "    <tr>\n",
       "      <th>23</th>\n",
       "      <td>24</td>\n",
       "      <td>Baixo</td>\n",
       "      <td>Alto</td>\n",
       "    </tr>\n",
       "    <tr>\n",
       "      <th>24</th>\n",
       "      <td>25</td>\n",
       "      <td>Alto</td>\n",
       "      <td>Alto</td>\n",
       "    </tr>\n",
       "    <tr>\n",
       "      <th>25</th>\n",
       "      <td>26</td>\n",
       "      <td>Alto</td>\n",
       "      <td>Baixo</td>\n",
       "    </tr>\n",
       "    <tr>\n",
       "      <th>26</th>\n",
       "      <td>27</td>\n",
       "      <td>Alto</td>\n",
       "      <td>Baixo</td>\n",
       "    </tr>\n",
       "    <tr>\n",
       "      <th>27</th>\n",
       "      <td>28</td>\n",
       "      <td>Baixo</td>\n",
       "      <td>Alto</td>\n",
       "    </tr>\n",
       "    <tr>\n",
       "      <th>28</th>\n",
       "      <td>29</td>\n",
       "      <td>Alto</td>\n",
       "      <td>Alto</td>\n",
       "    </tr>\n",
       "    <tr>\n",
       "      <th>29</th>\n",
       "      <td>30</td>\n",
       "      <td>Alto</td>\n",
       "      <td>Alto</td>\n",
       "    </tr>\n",
       "    <tr>\n",
       "      <th>30</th>\n",
       "      <td>31</td>\n",
       "      <td>Alto</td>\n",
       "      <td>Baixo</td>\n",
       "    </tr>\n",
       "    <tr>\n",
       "      <th>31</th>\n",
       "      <td>32</td>\n",
       "      <td>Baixo</td>\n",
       "      <td>Baixo</td>\n",
       "    </tr>\n",
       "    <tr>\n",
       "      <th>32</th>\n",
       "      <td>33</td>\n",
       "      <td>Alto</td>\n",
       "      <td>Baixo</td>\n",
       "    </tr>\n",
       "    <tr>\n",
       "      <th>33</th>\n",
       "      <td>34</td>\n",
       "      <td>Alto</td>\n",
       "      <td>Alto</td>\n",
       "    </tr>\n",
       "    <tr>\n",
       "      <th>34</th>\n",
       "      <td>35</td>\n",
       "      <td>Alto</td>\n",
       "      <td>Baixo</td>\n",
       "    </tr>\n",
       "    <tr>\n",
       "      <th>35</th>\n",
       "      <td>36</td>\n",
       "      <td>Alto</td>\n",
       "      <td>Baixo</td>\n",
       "    </tr>\n",
       "    <tr>\n",
       "      <th>36</th>\n",
       "      <td>37</td>\n",
       "      <td>Baixo</td>\n",
       "      <td>Alto</td>\n",
       "    </tr>\n",
       "    <tr>\n",
       "      <th>37</th>\n",
       "      <td>38</td>\n",
       "      <td>Alto</td>\n",
       "      <td>Baixo</td>\n",
       "    </tr>\n",
       "    <tr>\n",
       "      <th>38</th>\n",
       "      <td>39</td>\n",
       "      <td>Alto</td>\n",
       "      <td>Alto</td>\n",
       "    </tr>\n",
       "    <tr>\n",
       "      <th>39</th>\n",
       "      <td>40</td>\n",
       "      <td>Alto</td>\n",
       "      <td>Alto</td>\n",
       "    </tr>\n",
       "  </tbody>\n",
       "</table>\n",
       "</div>"
      ],
      "text/plain": [
       "    Individuo Rotatividade NSalariosMinimos\n",
       "0           1        Baixo             Alto\n",
       "1           2         Alto            Baixo\n",
       "2           3         Alto             Alto\n",
       "3           4         Alto            Baixo\n",
       "4           5         Alto             Alto\n",
       "5           6         Alto            Baixo\n",
       "6           7         Alto             Alto\n",
       "7           8        Baixo             Alto\n",
       "8           9         Alto            Baixo\n",
       "9          10         Alto            Baixo\n",
       "10         11         Alto             Alto\n",
       "11         12         Alto            Baixo\n",
       "12         13        Baixo             Alto\n",
       "13         14         Alto             Alto\n",
       "14         15         Alto            Baixo\n",
       "15         16         Alto            Baixo\n",
       "16         17        Baixo             Alto\n",
       "17         18         Alto             Alto\n",
       "18         19         Alto            Baixo\n",
       "19         20         Alto            Baixo\n",
       "20         21         Alto             Alto\n",
       "21         22         Alto            Baixo\n",
       "22         23         Alto            Baixo\n",
       "23         24        Baixo             Alto\n",
       "24         25         Alto             Alto\n",
       "25         26         Alto            Baixo\n",
       "26         27         Alto            Baixo\n",
       "27         28        Baixo             Alto\n",
       "28         29         Alto             Alto\n",
       "29         30         Alto             Alto\n",
       "30         31         Alto            Baixo\n",
       "31         32        Baixo            Baixo\n",
       "32         33         Alto            Baixo\n",
       "33         34         Alto             Alto\n",
       "34         35         Alto            Baixo\n",
       "35         36         Alto            Baixo\n",
       "36         37        Baixo             Alto\n",
       "37         38         Alto            Baixo\n",
       "38         39         Alto             Alto\n",
       "39         40         Alto             Alto"
      ]
     },
     "execution_count": 18,
     "metadata": {},
     "output_type": "execute_result"
    }
   ],
   "source": [
    "# Renomeando\n",
    "dados = dados.rename(columns={'X': 'Rotatividade', 'Y': 'NSalariosMinimos'})\n",
    "\n",
    "mediana = dados['Rotatividade'].median()\n",
    "\n",
    "dados['Rotatividade'] = dados['Rotatividade'].apply(lambda x: classificar(x, mediana))\n",
    "\n",
    "mediana = dados['NSalariosMinimos'].median()\n",
    "\n",
    "dados['NSalariosMinimos'] = dados['NSalariosMinimos'].apply(lambda x: classificar(x, mediana))\n",
    "\n",
    "dados"
   ]
  },
  {
   "cell_type": "code",
   "execution_count": 19,
   "id": "88f0e023",
   "metadata": {},
   "outputs": [
    {
     "data": {
      "text/html": [
       "<div>\n",
       "<style scoped>\n",
       "    .dataframe tbody tr th:only-of-type {\n",
       "        vertical-align: middle;\n",
       "    }\n",
       "\n",
       "    .dataframe tbody tr th {\n",
       "        vertical-align: top;\n",
       "    }\n",
       "\n",
       "    .dataframe thead th {\n",
       "        text-align: right;\n",
       "    }\n",
       "</style>\n",
       "<table border=\"1\" class=\"dataframe\">\n",
       "  <thead>\n",
       "    <tr style=\"text-align: right;\">\n",
       "      <th>NSalariosMinimos</th>\n",
       "      <th>Alto</th>\n",
       "      <th>Baixo</th>\n",
       "      <th>Total</th>\n",
       "    </tr>\n",
       "    <tr>\n",
       "      <th>Rotatividade</th>\n",
       "      <th></th>\n",
       "      <th></th>\n",
       "      <th></th>\n",
       "    </tr>\n",
       "  </thead>\n",
       "  <tbody>\n",
       "    <tr>\n",
       "      <th>Alto</th>\n",
       "      <td>13</td>\n",
       "      <td>19</td>\n",
       "      <td>32</td>\n",
       "    </tr>\n",
       "    <tr>\n",
       "      <th>Baixo</th>\n",
       "      <td>7</td>\n",
       "      <td>1</td>\n",
       "      <td>8</td>\n",
       "    </tr>\n",
       "    <tr>\n",
       "      <th>Total</th>\n",
       "      <td>20</td>\n",
       "      <td>20</td>\n",
       "      <td>40</td>\n",
       "    </tr>\n",
       "  </tbody>\n",
       "</table>\n",
       "</div>"
      ],
      "text/plain": [
       "NSalariosMinimos  Alto  Baixo  Total\n",
       "Rotatividade                        \n",
       "Alto                13     19     32\n",
       "Baixo                7      1      8\n",
       "Total               20     20     40"
      ]
     },
     "execution_count": 19,
     "metadata": {},
     "output_type": "execute_result"
    }
   ],
   "source": [
    "tabelaConjunta = pd.crosstab(dados['Rotatividade'], dados['NSalariosMinimos'], margins=True, margins_name='Total')\n",
    "tabelaConjunta"
   ]
  },
  {
   "cell_type": "code",
   "execution_count": 20,
   "id": "ba122f4f",
   "metadata": {},
   "outputs": [
    {
     "data": {
      "text/html": [
       "<div>\n",
       "<style scoped>\n",
       "    .dataframe tbody tr th:only-of-type {\n",
       "        vertical-align: middle;\n",
       "    }\n",
       "\n",
       "    .dataframe tbody tr th {\n",
       "        vertical-align: top;\n",
       "    }\n",
       "\n",
       "    .dataframe thead th {\n",
       "        text-align: right;\n",
       "    }\n",
       "</style>\n",
       "<table border=\"1\" class=\"dataframe\">\n",
       "  <thead>\n",
       "    <tr style=\"text-align: right;\">\n",
       "      <th>NSalariosMinimos</th>\n",
       "      <th>Alto</th>\n",
       "      <th>Baixo</th>\n",
       "      <th>Total</th>\n",
       "    </tr>\n",
       "    <tr>\n",
       "      <th>Rotatividade</th>\n",
       "      <th></th>\n",
       "      <th></th>\n",
       "      <th></th>\n",
       "    </tr>\n",
       "  </thead>\n",
       "  <tbody>\n",
       "    <tr>\n",
       "      <th>Alto</th>\n",
       "      <td>32.5</td>\n",
       "      <td>47.5</td>\n",
       "      <td>80.0</td>\n",
       "    </tr>\n",
       "    <tr>\n",
       "      <th>Baixo</th>\n",
       "      <td>17.5</td>\n",
       "      <td>2.5</td>\n",
       "      <td>20.0</td>\n",
       "    </tr>\n",
       "    <tr>\n",
       "      <th>Total</th>\n",
       "      <td>50.0</td>\n",
       "      <td>50.0</td>\n",
       "      <td>100.0</td>\n",
       "    </tr>\n",
       "  </tbody>\n",
       "</table>\n",
       "</div>"
      ],
      "text/plain": [
       "NSalariosMinimos  Alto  Baixo  Total\n",
       "Rotatividade                        \n",
       "Alto              32.5   47.5   80.0\n",
       "Baixo             17.5    2.5   20.0\n",
       "Total             50.0   50.0  100.0"
      ]
     },
     "execution_count": 20,
     "metadata": {},
     "output_type": "execute_result"
    }
   ],
   "source": [
    "tabelaConjunta = round(pd.crosstab(dados['Rotatividade'], dados['NSalariosMinimos'], margins=True, margins_name='Total', normalize=True) * 100, 2)\n",
    "tabelaConjunta"
   ]
  },
  {
   "cell_type": "markdown",
   "id": "f8bdce5a",
   "metadata": {},
   "source": [
    "#### Qual a porcentagem das pessoas com baixa rotatividade e ganhando pouco?"
   ]
  },
  {
   "cell_type": "code",
   "execution_count": 21,
   "id": "1c71d84c",
   "metadata": {},
   "outputs": [
    {
     "data": {
      "text/plain": [
       "2.5"
      ]
     },
     "execution_count": 21,
     "metadata": {},
     "output_type": "execute_result"
    }
   ],
   "source": [
    "tabelaConjunta.loc['Baixo', 'Baixo']"
   ]
  },
  {
   "cell_type": "markdown",
   "id": "684a5600",
   "metadata": {},
   "source": [
    "#### Qual a porcentagem das pessoas que ganham pouco?"
   ]
  },
  {
   "cell_type": "code",
   "execution_count": 22,
   "id": "118972a5",
   "metadata": {},
   "outputs": [
    {
     "data": {
      "text/plain": [
       "50.0"
      ]
     },
     "execution_count": 22,
     "metadata": {},
     "output_type": "execute_result"
    }
   ],
   "source": [
    "tabelaConjunta.loc['Total', 'Baixo']"
   ]
  },
  {
   "cell_type": "markdown",
   "id": "9e3514d3",
   "metadata": {},
   "source": [
    "#### Entre as pessoas com baixa rotatividade, qual a porcentagem das que ganham pouco?"
   ]
  },
  {
   "cell_type": "code",
   "execution_count": 23,
   "id": "d22c42dd",
   "metadata": {},
   "outputs": [
    {
     "data": {
      "text/plain": [
       "12.5"
      ]
     },
     "execution_count": 23,
     "metadata": {},
     "output_type": "execute_result"
    }
   ],
   "source": [
    "totalBaixaRotatividade = tabelaConjunta.loc['Baixo', 'Total']\n",
    "\n",
    "BaixaRotatividadeGanhandoPouco = tabelaConjunta.loc['Baixo', 'Baixo']\n",
    "\n",
    "\n",
    "(BaixaRotatividadeGanhandoPouco / totalBaixaRotatividade ) * 100"
   ]
  },
  {
   "cell_type": "markdown",
   "id": "1c2ffbb7",
   "metadata": {},
   "source": [
    "#### A informação adicional dada em (d) mudou muito a porcentagem observada em (c)?O que isso significa?"
   ]
  },
  {
   "cell_type": "markdown",
   "id": "a5a4f502",
   "metadata": {},
   "source": [
    "Sim, pois a maioria da pessoas que recebem pouco tem uma alta rotatividae."
   ]
  },
  {
   "cell_type": "markdown",
   "id": "0368b0c7",
   "metadata": {},
   "source": [
    "### Problema 4: Usando os dados do Problema 1, responda:"
   ]
  },
  {
   "cell_type": "code",
   "execution_count": 24,
   "id": "8024e570",
   "metadata": {},
   "outputs": [
    {
     "data": {
      "text/html": [
       "<div>\n",
       "<style scoped>\n",
       "    .dataframe tbody tr th:only-of-type {\n",
       "        vertical-align: middle;\n",
       "    }\n",
       "\n",
       "    .dataframe tbody tr th {\n",
       "        vertical-align: top;\n",
       "    }\n",
       "\n",
       "    .dataframe thead th {\n",
       "        text-align: right;\n",
       "    }\n",
       "</style>\n",
       "<table border=\"1\" class=\"dataframe\">\n",
       "  <thead>\n",
       "    <tr style=\"text-align: right;\">\n",
       "      <th></th>\n",
       "      <th>N</th>\n",
       "      <th>EstadoCivil</th>\n",
       "      <th>GrauInstrucao</th>\n",
       "      <th>Nfilhos</th>\n",
       "      <th>Salario(xSalMin)</th>\n",
       "      <th>AnosIdade</th>\n",
       "      <th>MesesIdade</th>\n",
       "      <th>RegiaoProcedencia</th>\n",
       "    </tr>\n",
       "  </thead>\n",
       "  <tbody>\n",
       "    <tr>\n",
       "      <th>0</th>\n",
       "      <td>1</td>\n",
       "      <td>solteiro</td>\n",
       "      <td>ensino fundamental</td>\n",
       "      <td>0</td>\n",
       "      <td>4</td>\n",
       "      <td>26</td>\n",
       "      <td>3</td>\n",
       "      <td>interior</td>\n",
       "    </tr>\n",
       "    <tr>\n",
       "      <th>1</th>\n",
       "      <td>2</td>\n",
       "      <td>casado</td>\n",
       "      <td>ensino fundamental</td>\n",
       "      <td>1</td>\n",
       "      <td>4,56</td>\n",
       "      <td>32</td>\n",
       "      <td>10</td>\n",
       "      <td>capital</td>\n",
       "    </tr>\n",
       "    <tr>\n",
       "      <th>2</th>\n",
       "      <td>3</td>\n",
       "      <td>casado</td>\n",
       "      <td>ensino fundamental</td>\n",
       "      <td>2</td>\n",
       "      <td>5,25</td>\n",
       "      <td>36</td>\n",
       "      <td>5</td>\n",
       "      <td>capital</td>\n",
       "    </tr>\n",
       "    <tr>\n",
       "      <th>3</th>\n",
       "      <td>4</td>\n",
       "      <td>solteiro</td>\n",
       "      <td>ensino médio</td>\n",
       "      <td>0</td>\n",
       "      <td>5,73</td>\n",
       "      <td>20</td>\n",
       "      <td>10</td>\n",
       "      <td>outra</td>\n",
       "    </tr>\n",
       "    <tr>\n",
       "      <th>4</th>\n",
       "      <td>5</td>\n",
       "      <td>solteiro</td>\n",
       "      <td>ensino fundamental</td>\n",
       "      <td>0</td>\n",
       "      <td>6,26</td>\n",
       "      <td>40</td>\n",
       "      <td>7</td>\n",
       "      <td>outra</td>\n",
       "    </tr>\n",
       "  </tbody>\n",
       "</table>\n",
       "</div>"
      ],
      "text/plain": [
       "   N EstadoCivil       GrauInstrucao  Nfilhos Salario(xSalMin)  AnosIdade  \\\n",
       "0  1    solteiro  ensino fundamental        0                4         26   \n",
       "1  2      casado  ensino fundamental        1             4,56         32   \n",
       "2  3      casado  ensino fundamental        2             5,25         36   \n",
       "3  4    solteiro        ensino médio        0             5,73         20   \n",
       "4  5    solteiro  ensino fundamental        0             6,26         40   \n",
       "\n",
       "   MesesIdade RegiaoProcedencia  \n",
       "0           3          interior  \n",
       "1          10           capital  \n",
       "2           5           capital  \n",
       "3          10             outra  \n",
       "4           7             outra  "
      ]
     },
     "execution_count": 24,
     "metadata": {},
     "output_type": "execute_result"
    }
   ],
   "source": [
    "dados = pd.read_csv(\"Dados/EmpregadosCompanhiaMB.csv\", sep=\";\")\n",
    "dados.head()"
   ]
  },
  {
   "cell_type": "markdown",
   "id": "63bfb7f0",
   "metadata": {},
   "source": [
    "#### Qual a distribuição das proporções do grau de educação segundo cada uma das regiões de procedência?"
   ]
  },
  {
   "cell_type": "code",
   "execution_count": 25,
   "id": "0123cc3e",
   "metadata": {},
   "outputs": [
    {
     "data": {
      "text/html": [
       "<div>\n",
       "<style scoped>\n",
       "    .dataframe tbody tr th:only-of-type {\n",
       "        vertical-align: middle;\n",
       "    }\n",
       "\n",
       "    .dataframe tbody tr th {\n",
       "        vertical-align: top;\n",
       "    }\n",
       "\n",
       "    .dataframe thead th {\n",
       "        text-align: right;\n",
       "    }\n",
       "</style>\n",
       "<table border=\"1\" class=\"dataframe\">\n",
       "  <thead>\n",
       "    <tr style=\"text-align: right;\">\n",
       "      <th>GrauInstrucao</th>\n",
       "      <th>ensino fundamental</th>\n",
       "      <th>ensino médio</th>\n",
       "      <th>superior</th>\n",
       "      <th>Total</th>\n",
       "    </tr>\n",
       "    <tr>\n",
       "      <th>RegiaoProcedencia</th>\n",
       "      <th></th>\n",
       "      <th></th>\n",
       "      <th></th>\n",
       "      <th></th>\n",
       "    </tr>\n",
       "  </thead>\n",
       "  <tbody>\n",
       "    <tr>\n",
       "      <th>capital</th>\n",
       "      <td>4</td>\n",
       "      <td>5</td>\n",
       "      <td>2</td>\n",
       "      <td>11</td>\n",
       "    </tr>\n",
       "    <tr>\n",
       "      <th>interior</th>\n",
       "      <td>3</td>\n",
       "      <td>7</td>\n",
       "      <td>2</td>\n",
       "      <td>12</td>\n",
       "    </tr>\n",
       "    <tr>\n",
       "      <th>outra</th>\n",
       "      <td>5</td>\n",
       "      <td>6</td>\n",
       "      <td>2</td>\n",
       "      <td>13</td>\n",
       "    </tr>\n",
       "    <tr>\n",
       "      <th>Total</th>\n",
       "      <td>12</td>\n",
       "      <td>18</td>\n",
       "      <td>6</td>\n",
       "      <td>36</td>\n",
       "    </tr>\n",
       "  </tbody>\n",
       "</table>\n",
       "</div>"
      ],
      "text/plain": [
       "GrauInstrucao      ensino fundamental  ensino médio  superior  Total\n",
       "RegiaoProcedencia                                                   \n",
       "capital                             4             5         2     11\n",
       "interior                            3             7         2     12\n",
       "outra                               5             6         2     13\n",
       "Total                              12            18         6     36"
      ]
     },
     "execution_count": 25,
     "metadata": {},
     "output_type": "execute_result"
    }
   ],
   "source": [
    "tabelaConjunta = pd.crosstab(dados['RegiaoProcedencia'], dados['GrauInstrucao'], margins=True, margins_name='Total')\n",
    "tabelaConjunta "
   ]
  },
  {
   "cell_type": "markdown",
   "id": "ffeeda0e",
   "metadata": {},
   "source": [
    "#### Baseado no resultado anterior e no Problema 2, você diria que existe dependência entre a região de procedência e o nível de educação do funcionário?"
   ]
  },
  {
   "cell_type": "markdown",
   "id": "6ecbd005",
   "metadata": {},
   "source": [
    "Não acho que existe uma dependência, pois não existe uma grande diferença."
   ]
  },
  {
   "cell_type": "markdown",
   "id": "8106609e",
   "metadata": {},
   "source": [
    "### Problema 5: Usando o Problema 3, verifique se há relações entre as variáveis rotatividade e salário."
   ]
  },
  {
   "cell_type": "code",
   "execution_count": 26,
   "id": "4f1209ab",
   "metadata": {},
   "outputs": [
    {
     "data": {
      "text/html": [
       "<div>\n",
       "<style scoped>\n",
       "    .dataframe tbody tr th:only-of-type {\n",
       "        vertical-align: middle;\n",
       "    }\n",
       "\n",
       "    .dataframe tbody tr th {\n",
       "        vertical-align: top;\n",
       "    }\n",
       "\n",
       "    .dataframe thead th {\n",
       "        text-align: right;\n",
       "    }\n",
       "</style>\n",
       "<table border=\"1\" class=\"dataframe\">\n",
       "  <thead>\n",
       "    <tr style=\"text-align: right;\">\n",
       "      <th></th>\n",
       "      <th>Individuo</th>\n",
       "      <th>Rotatividade</th>\n",
       "      <th>NSalariosMinimos</th>\n",
       "    </tr>\n",
       "  </thead>\n",
       "  <tbody>\n",
       "    <tr>\n",
       "      <th>0</th>\n",
       "      <td>1</td>\n",
       "      <td>Baixo</td>\n",
       "      <td>Alto</td>\n",
       "    </tr>\n",
       "    <tr>\n",
       "      <th>1</th>\n",
       "      <td>2</td>\n",
       "      <td>Alto</td>\n",
       "      <td>Baixo</td>\n",
       "    </tr>\n",
       "    <tr>\n",
       "      <th>2</th>\n",
       "      <td>3</td>\n",
       "      <td>Alto</td>\n",
       "      <td>Alto</td>\n",
       "    </tr>\n",
       "    <tr>\n",
       "      <th>3</th>\n",
       "      <td>4</td>\n",
       "      <td>Alto</td>\n",
       "      <td>Baixo</td>\n",
       "    </tr>\n",
       "    <tr>\n",
       "      <th>4</th>\n",
       "      <td>5</td>\n",
       "      <td>Alto</td>\n",
       "      <td>Alto</td>\n",
       "    </tr>\n",
       "  </tbody>\n",
       "</table>\n",
       "</div>"
      ],
      "text/plain": [
       "   Individuo Rotatividade NSalariosMinimos\n",
       "0          1        Baixo             Alto\n",
       "1          2         Alto            Baixo\n",
       "2          3         Alto             Alto\n",
       "3          4         Alto            Baixo\n",
       "4          5         Alto             Alto"
      ]
     },
     "execution_count": 26,
     "metadata": {},
     "output_type": "execute_result"
    }
   ],
   "source": [
    "dados = pd.read_csv(\"Dados/RotatividadeMao-de-obra.csv\", sep =\";\")\n",
    "dados = dados.rename(columns={'X': 'Rotatividade', 'Y': 'NSalariosMinimos'})\n",
    "mediana = dados['Rotatividade'].median()\n",
    "dados['Rotatividade'] = dados['Rotatividade'].apply(lambda x: classificar(x, mediana))\n",
    "mediana = dados['NSalariosMinimos'].median()\n",
    "dados['NSalariosMinimos'] = dados['NSalariosMinimos'].apply(lambda x: classificar(x, mediana))\n",
    "\n",
    "dados.head()"
   ]
  },
  {
   "cell_type": "code",
   "execution_count": 27,
   "id": "ecdfa1a1",
   "metadata": {},
   "outputs": [
    {
     "data": {
      "text/html": [
       "<div>\n",
       "<style scoped>\n",
       "    .dataframe tbody tr th:only-of-type {\n",
       "        vertical-align: middle;\n",
       "    }\n",
       "\n",
       "    .dataframe tbody tr th {\n",
       "        vertical-align: top;\n",
       "    }\n",
       "\n",
       "    .dataframe thead th {\n",
       "        text-align: right;\n",
       "    }\n",
       "</style>\n",
       "<table border=\"1\" class=\"dataframe\">\n",
       "  <thead>\n",
       "    <tr style=\"text-align: right;\">\n",
       "      <th>Rotatividade</th>\n",
       "      <th>Alto</th>\n",
       "      <th>Baixo</th>\n",
       "      <th>Total</th>\n",
       "    </tr>\n",
       "    <tr>\n",
       "      <th>NSalariosMinimos</th>\n",
       "      <th></th>\n",
       "      <th></th>\n",
       "      <th></th>\n",
       "    </tr>\n",
       "  </thead>\n",
       "  <tbody>\n",
       "    <tr>\n",
       "      <th>Alto</th>\n",
       "      <td>13</td>\n",
       "      <td>7</td>\n",
       "      <td>20</td>\n",
       "    </tr>\n",
       "    <tr>\n",
       "      <th>Baixo</th>\n",
       "      <td>19</td>\n",
       "      <td>1</td>\n",
       "      <td>20</td>\n",
       "    </tr>\n",
       "    <tr>\n",
       "      <th>Total</th>\n",
       "      <td>32</td>\n",
       "      <td>8</td>\n",
       "      <td>40</td>\n",
       "    </tr>\n",
       "  </tbody>\n",
       "</table>\n",
       "</div>"
      ],
      "text/plain": [
       "Rotatividade      Alto  Baixo  Total\n",
       "NSalariosMinimos                    \n",
       "Alto                13      7     20\n",
       "Baixo               19      1     20\n",
       "Total               32      8     40"
      ]
     },
     "execution_count": 27,
     "metadata": {},
     "output_type": "execute_result"
    }
   ],
   "source": [
    "tabelaConjunta = pd.crosstab(dados['NSalariosMinimos'], dados['Rotatividade'], margins=True, margins_name='Total')\n",
    "tabelaConjunta "
   ]
  },
  {
   "cell_type": "markdown",
   "id": "4896a201",
   "metadata": {},
   "source": [
    "Existe uma relação que quando o salário é baixo existe uma maior rotatividade"
   ]
  },
  {
   "cell_type": "markdown",
   "id": "3f4f8d7e",
   "metadata": {},
   "source": [
    "### Problema 6: Uma companhia de seguros analisou a freqüência com que 2.000 segurados (1.000 homens e 1.000 mulheres) usaram o hospital. Os resultados foram:"
   ]
  },
  {
   "cell_type": "code",
   "execution_count": 28,
   "id": "0f0b326f",
   "metadata": {},
   "outputs": [
    {
     "data": {
      "text/html": [
       "<div>\n",
       "<style scoped>\n",
       "    .dataframe tbody tr th:only-of-type {\n",
       "        vertical-align: middle;\n",
       "    }\n",
       "\n",
       "    .dataframe tbody tr th {\n",
       "        vertical-align: top;\n",
       "    }\n",
       "\n",
       "    .dataframe thead th {\n",
       "        text-align: right;\n",
       "    }\n",
       "</style>\n",
       "<table border=\"1\" class=\"dataframe\">\n",
       "  <thead>\n",
       "    <tr style=\"text-align: right;\">\n",
       "      <th></th>\n",
       "      <th>Sexo</th>\n",
       "      <th>UsoHospital</th>\n",
       "    </tr>\n",
       "  </thead>\n",
       "  <tbody>\n",
       "    <tr>\n",
       "      <th>0</th>\n",
       "      <td>Homem</td>\n",
       "      <td>Usaram o hospital</td>\n",
       "    </tr>\n",
       "    <tr>\n",
       "      <th>1</th>\n",
       "      <td>Homem</td>\n",
       "      <td>Usaram o hospital</td>\n",
       "    </tr>\n",
       "    <tr>\n",
       "      <th>2</th>\n",
       "      <td>Homem</td>\n",
       "      <td>Usaram o hospital</td>\n",
       "    </tr>\n",
       "    <tr>\n",
       "      <th>3</th>\n",
       "      <td>Homem</td>\n",
       "      <td>Usaram o hospital</td>\n",
       "    </tr>\n",
       "    <tr>\n",
       "      <th>4</th>\n",
       "      <td>Homem</td>\n",
       "      <td>Usaram o hospital</td>\n",
       "    </tr>\n",
       "  </tbody>\n",
       "</table>\n",
       "</div>"
      ],
      "text/plain": [
       "    Sexo        UsoHospital\n",
       "0  Homem  Usaram o hospital\n",
       "1  Homem  Usaram o hospital\n",
       "2  Homem  Usaram o hospital\n",
       "3  Homem  Usaram o hospital\n",
       "4  Homem  Usaram o hospital"
      ]
     },
     "execution_count": 28,
     "metadata": {},
     "output_type": "execute_result"
    }
   ],
   "source": [
    "dados = pd.DataFrame({\"Sexo\": [\"Homem\"]*1000 + [\"Mulher\"]*1000})\n",
    "\n",
    "# Inicializando a coluna \"UsoHospital\" como \"Não usaram o hospital\"\n",
    "dados[\"UsoHospital\"] = \"Não usaram o hospital\"\n",
    "\n",
    "# Marcando homens e mulheres conforme as condições especificadas\n",
    "for i in range(len(dados)):\n",
    "    if dados.loc[i, \"Sexo\"] == \"Homem\":\n",
    "        if i < 100:\n",
    "            dados.loc[i, \"UsoHospital\"] = \"Usaram o hospital\"\n",
    "    elif dados.loc[i, \"Sexo\"] == \"Mulher\":\n",
    "        if i < 150 + 1000:\n",
    "            dados.loc[i, \"UsoHospital\"] = \"Usaram o hospital\"\n",
    "\n",
    "dados.head()"
   ]
  },
  {
   "cell_type": "code",
   "execution_count": 29,
   "id": "2e8f5ac5",
   "metadata": {},
   "outputs": [
    {
     "data": {
      "text/html": [
       "<div>\n",
       "<style scoped>\n",
       "    .dataframe tbody tr th:only-of-type {\n",
       "        vertical-align: middle;\n",
       "    }\n",
       "\n",
       "    .dataframe tbody tr th {\n",
       "        vertical-align: top;\n",
       "    }\n",
       "\n",
       "    .dataframe thead th {\n",
       "        text-align: right;\n",
       "    }\n",
       "</style>\n",
       "<table border=\"1\" class=\"dataframe\">\n",
       "  <thead>\n",
       "    <tr style=\"text-align: right;\">\n",
       "      <th>Sexo</th>\n",
       "      <th>Homem</th>\n",
       "      <th>Mulher</th>\n",
       "      <th>Total</th>\n",
       "    </tr>\n",
       "    <tr>\n",
       "      <th>UsoHospital</th>\n",
       "      <th></th>\n",
       "      <th></th>\n",
       "      <th></th>\n",
       "    </tr>\n",
       "  </thead>\n",
       "  <tbody>\n",
       "    <tr>\n",
       "      <th>Usaram o hospital</th>\n",
       "      <td>100</td>\n",
       "      <td>150</td>\n",
       "      <td>250</td>\n",
       "    </tr>\n",
       "    <tr>\n",
       "      <th>Não usaram o hospital</th>\n",
       "      <td>900</td>\n",
       "      <td>850</td>\n",
       "      <td>1750</td>\n",
       "    </tr>\n",
       "    <tr>\n",
       "      <th>Total</th>\n",
       "      <td>1000</td>\n",
       "      <td>1000</td>\n",
       "      <td>2000</td>\n",
       "    </tr>\n",
       "  </tbody>\n",
       "</table>\n",
       "</div>"
      ],
      "text/plain": [
       "Sexo                   Homem  Mulher  Total\n",
       "UsoHospital                                \n",
       "Usaram o hospital        100     150    250\n",
       "Não usaram o hospital    900     850   1750\n",
       "Total                   1000    1000   2000"
      ]
     },
     "execution_count": 29,
     "metadata": {},
     "output_type": "execute_result"
    }
   ],
   "source": [
    "tabelaConjunta = pd.crosstab(dados['UsoHospital'], dados['Sexo'], margins=True, margins_name='Total')\n",
    "\n",
    "#Ordenando para ficar similar ao livro\n",
    "tabelaConjunta = tabelaConjunta.reindex(['Usaram o hospital', 'Não usaram o hospital', 'Total'])\n",
    "\n",
    "tabelaConjunta "
   ]
  },
  {
   "cell_type": "code",
   "execution_count": 30,
   "id": "f2cd8983",
   "metadata": {},
   "outputs": [
    {
     "data": {
      "text/html": [
       "<div>\n",
       "<style scoped>\n",
       "    .dataframe tbody tr th:only-of-type {\n",
       "        vertical-align: middle;\n",
       "    }\n",
       "\n",
       "    .dataframe tbody tr th {\n",
       "        vertical-align: top;\n",
       "    }\n",
       "\n",
       "    .dataframe thead th {\n",
       "        text-align: right;\n",
       "    }\n",
       "</style>\n",
       "<table border=\"1\" class=\"dataframe\">\n",
       "  <thead>\n",
       "    <tr style=\"text-align: right;\">\n",
       "      <th>Sexo</th>\n",
       "      <th>Homem</th>\n",
       "      <th>Mulher</th>\n",
       "      <th>Total</th>\n",
       "    </tr>\n",
       "    <tr>\n",
       "      <th>UsoHospital</th>\n",
       "      <th></th>\n",
       "      <th></th>\n",
       "      <th></th>\n",
       "    </tr>\n",
       "  </thead>\n",
       "  <tbody>\n",
       "    <tr>\n",
       "      <th>Usaram o hospital</th>\n",
       "      <td>5.0</td>\n",
       "      <td>7.5</td>\n",
       "      <td>12.5</td>\n",
       "    </tr>\n",
       "    <tr>\n",
       "      <th>Não usaram o hospital</th>\n",
       "      <td>45.0</td>\n",
       "      <td>42.5</td>\n",
       "      <td>87.5</td>\n",
       "    </tr>\n",
       "    <tr>\n",
       "      <th>Total</th>\n",
       "      <td>50.0</td>\n",
       "      <td>50.0</td>\n",
       "      <td>100.0</td>\n",
       "    </tr>\n",
       "  </tbody>\n",
       "</table>\n",
       "</div>"
      ],
      "text/plain": [
       "Sexo                   Homem  Mulher  Total\n",
       "UsoHospital                                \n",
       "Usaram o hospital        5.0     7.5   12.5\n",
       "Não usaram o hospital   45.0    42.5   87.5\n",
       "Total                   50.0    50.0  100.0"
      ]
     },
     "execution_count": 30,
     "metadata": {},
     "output_type": "execute_result"
    }
   ],
   "source": [
    "tabelaConjunta = round(pd.crosstab(dados['UsoHospital'], dados['Sexo'], margins=True, margins_name='Total', normalize=True) * 100, 2)\n",
    "tabelaConjunta = tabelaConjunta.reindex(['Usaram o hospital', 'Não usaram o hospital', 'Total'])\n",
    "tabelaConjunta"
   ]
  },
  {
   "cell_type": "markdown",
   "id": "2bd9a5c5",
   "metadata": {},
   "source": [
    "#### Calcule a proporção de homens entre os indivíduos que usaram o hospital."
   ]
  },
  {
   "cell_type": "code",
   "execution_count": 31,
   "id": "0b16f32c",
   "metadata": {},
   "outputs": [
    {
     "data": {
      "text/plain": [
       "40.0"
      ]
     },
     "execution_count": 31,
     "metadata": {},
     "output_type": "execute_result"
    }
   ],
   "source": [
    "tabelaConjunta.loc['Usaram o hospital', 'Homem'] / tabelaConjunta.loc['Usaram o hospital', 'Total'] * 100"
   ]
  },
  {
   "cell_type": "markdown",
   "id": "88b109e1",
   "metadata": {},
   "source": [
    "#### Calcule a proporção de homens entre os indivíduos que não usaram o hospital."
   ]
  },
  {
   "cell_type": "code",
   "execution_count": 32,
   "id": "6e4f1b0c",
   "metadata": {},
   "outputs": [
    {
     "data": {
      "text/plain": [
       "51.43"
      ]
     },
     "execution_count": 32,
     "metadata": {},
     "output_type": "execute_result"
    }
   ],
   "source": [
    "round(tabelaConjunta.loc['Não usaram o hospital', 'Homem'] / tabelaConjunta.loc['Não usaram o hospital', 'Total'] * 100, 2)"
   ]
  },
  {
   "cell_type": "markdown",
   "id": "608d6d66",
   "metadata": {},
   "source": [
    "#### O uso do hospital independe do sexo do segurado?"
   ]
  },
  {
   "cell_type": "markdown",
   "id": "4874b022",
   "metadata": {},
   "source": [
    "Mulheres possuem uma tendência maior de uso, porém não existe uma grande diferença analisando essa amostra."
   ]
  },
  {
   "cell_type": "markdown",
   "id": "82f6a745",
   "metadata": {},
   "source": [
    "### Problema 7: Usando os dados do Problema 1, calcule o valor de χ2 e o coeficiente de contingência C.Esses valores estão de acordo com as conclusões obtidas anteriormente?"
   ]
  },
  {
   "cell_type": "code",
   "execution_count": null,
   "id": "4f376d99",
   "metadata": {},
   "outputs": [],
   "source": []
  }
 ],
 "metadata": {
  "kernelspec": {
   "display_name": "Python 3 (ipykernel)",
   "language": "python",
   "name": "python3"
  },
  "language_info": {
   "codemirror_mode": {
    "name": "ipython",
    "version": 3
   },
   "file_extension": ".py",
   "mimetype": "text/x-python",
   "name": "python",
   "nbconvert_exporter": "python",
   "pygments_lexer": "ipython3",
   "version": "3.11.5"
  }
 },
 "nbformat": 4,
 "nbformat_minor": 5
}
