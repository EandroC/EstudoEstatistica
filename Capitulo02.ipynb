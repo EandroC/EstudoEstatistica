{
 "cells": [
  {
   "cell_type": "code",
   "execution_count": 1,
   "id": "9d1dfd14",
   "metadata": {},
   "outputs": [],
   "source": [
    "#pip install stemgraphic\n",
    "import pandas as pd\n",
    "import numpy as np \n",
    "import math as mt\n",
    "import seaborn as sns\n",
    "import stemgraphic as st\n",
    "from matplotlib import pyplot as plt "
   ]
  },
  {
   "cell_type": "markdown",
   "id": "7b3e57e8",
   "metadata": {},
   "source": [
    "### Problema 2: Usando os dados da EmpregadosCompanhiaMB, construa a distribuição de freqüências das variáveis:"
   ]
  },
  {
   "cell_type": "code",
   "execution_count": 2,
   "id": "eecabb29",
   "metadata": {},
   "outputs": [],
   "source": [
    "dados = pd.read_csv(\"Dados/EmpregadosCompanhiaMB.csv\", sep=\";\")"
   ]
  },
  {
   "cell_type": "code",
   "execution_count": 3,
   "id": "9e92a487",
   "metadata": {},
   "outputs": [
    {
     "data": {
      "text/html": [
       "<div>\n",
       "<style scoped>\n",
       "    .dataframe tbody tr th:only-of-type {\n",
       "        vertical-align: middle;\n",
       "    }\n",
       "\n",
       "    .dataframe tbody tr th {\n",
       "        vertical-align: top;\n",
       "    }\n",
       "\n",
       "    .dataframe thead th {\n",
       "        text-align: right;\n",
       "    }\n",
       "</style>\n",
       "<table border=\"1\" class=\"dataframe\">\n",
       "  <thead>\n",
       "    <tr style=\"text-align: right;\">\n",
       "      <th></th>\n",
       "      <th>N</th>\n",
       "      <th>EstadoCivil</th>\n",
       "      <th>GrauInstrucao</th>\n",
       "      <th>Nfilhos</th>\n",
       "      <th>Salario(xSalMin)</th>\n",
       "      <th>AnosIdade</th>\n",
       "      <th>MesesIdade</th>\n",
       "      <th>RegiaoProcedencia</th>\n",
       "    </tr>\n",
       "  </thead>\n",
       "  <tbody>\n",
       "    <tr>\n",
       "      <th>0</th>\n",
       "      <td>1</td>\n",
       "      <td>solteiro</td>\n",
       "      <td>ensino fundamental</td>\n",
       "      <td>0</td>\n",
       "      <td>4</td>\n",
       "      <td>26</td>\n",
       "      <td>3</td>\n",
       "      <td>interior</td>\n",
       "    </tr>\n",
       "    <tr>\n",
       "      <th>1</th>\n",
       "      <td>2</td>\n",
       "      <td>casado</td>\n",
       "      <td>ensino fundamental</td>\n",
       "      <td>1</td>\n",
       "      <td>4,56</td>\n",
       "      <td>32</td>\n",
       "      <td>10</td>\n",
       "      <td>capital</td>\n",
       "    </tr>\n",
       "    <tr>\n",
       "      <th>2</th>\n",
       "      <td>3</td>\n",
       "      <td>casado</td>\n",
       "      <td>ensino fundamental</td>\n",
       "      <td>2</td>\n",
       "      <td>5,25</td>\n",
       "      <td>36</td>\n",
       "      <td>5</td>\n",
       "      <td>capital</td>\n",
       "    </tr>\n",
       "    <tr>\n",
       "      <th>3</th>\n",
       "      <td>4</td>\n",
       "      <td>solteiro</td>\n",
       "      <td>ensino médio</td>\n",
       "      <td>0</td>\n",
       "      <td>5,73</td>\n",
       "      <td>20</td>\n",
       "      <td>10</td>\n",
       "      <td>outra</td>\n",
       "    </tr>\n",
       "    <tr>\n",
       "      <th>4</th>\n",
       "      <td>5</td>\n",
       "      <td>solteiro</td>\n",
       "      <td>ensino fundamental</td>\n",
       "      <td>0</td>\n",
       "      <td>6,26</td>\n",
       "      <td>40</td>\n",
       "      <td>7</td>\n",
       "      <td>outra</td>\n",
       "    </tr>\n",
       "  </tbody>\n",
       "</table>\n",
       "</div>"
      ],
      "text/plain": [
       "   N EstadoCivil       GrauInstrucao  Nfilhos Salario(xSalMin)  AnosIdade  \\\n",
       "0  1    solteiro  ensino fundamental        0                4         26   \n",
       "1  2      casado  ensino fundamental        1             4,56         32   \n",
       "2  3      casado  ensino fundamental        2             5,25         36   \n",
       "3  4    solteiro        ensino médio        0             5,73         20   \n",
       "4  5    solteiro  ensino fundamental        0             6,26         40   \n",
       "\n",
       "   MesesIdade RegiaoProcedencia  \n",
       "0           3          interior  \n",
       "1          10           capital  \n",
       "2           5           capital  \n",
       "3          10             outra  \n",
       "4           7             outra  "
      ]
     },
     "execution_count": 3,
     "metadata": {},
     "output_type": "execute_result"
    }
   ],
   "source": [
    "dados.head()"
   ]
  },
  {
   "cell_type": "code",
   "execution_count": 4,
   "id": "2be5d389",
   "metadata": {},
   "outputs": [
    {
     "data": {
      "text/plain": [
       "N                     int64\n",
       "EstadoCivil          object\n",
       "GrauInstrucao        object\n",
       "Nfilhos               int64\n",
       "Salario(xSalMin)     object\n",
       "AnosIdade             int64\n",
       "MesesIdade            int64\n",
       "RegiaoProcedencia    object\n",
       "dtype: object"
      ]
     },
     "execution_count": 4,
     "metadata": {},
     "output_type": "execute_result"
    }
   ],
   "source": [
    "dados.dtypes"
   ]
  },
  {
   "cell_type": "markdown",
   "id": "b283b1b7",
   "metadata": {},
   "source": [
    "#### EstadoCivil"
   ]
  },
  {
   "cell_type": "code",
   "execution_count": 5,
   "id": "240c0700",
   "metadata": {},
   "outputs": [
    {
     "data": {
      "text/html": [
       "<div>\n",
       "<style scoped>\n",
       "    .dataframe tbody tr th:only-of-type {\n",
       "        vertical-align: middle;\n",
       "    }\n",
       "\n",
       "    .dataframe tbody tr th {\n",
       "        vertical-align: top;\n",
       "    }\n",
       "\n",
       "    .dataframe thead th {\n",
       "        text-align: right;\n",
       "    }\n",
       "</style>\n",
       "<table border=\"1\" class=\"dataframe\">\n",
       "  <thead>\n",
       "    <tr style=\"text-align: right;\">\n",
       "      <th>col_0</th>\n",
       "      <th>FreqAbsoluta</th>\n",
       "      <th>FreqRelativa</th>\n",
       "    </tr>\n",
       "    <tr>\n",
       "      <th>EstadoCivil</th>\n",
       "      <th></th>\n",
       "      <th></th>\n",
       "    </tr>\n",
       "  </thead>\n",
       "  <tbody>\n",
       "    <tr>\n",
       "      <th>casado</th>\n",
       "      <td>20</td>\n",
       "      <td>0.555556</td>\n",
       "    </tr>\n",
       "    <tr>\n",
       "      <th>solteiro</th>\n",
       "      <td>16</td>\n",
       "      <td>0.444444</td>\n",
       "    </tr>\n",
       "    <tr>\n",
       "      <th>Total</th>\n",
       "      <td>36</td>\n",
       "      <td>1.000000</td>\n",
       "    </tr>\n",
       "  </tbody>\n",
       "</table>\n",
       "</div>"
      ],
      "text/plain": [
       "col_0        FreqAbsoluta  FreqRelativa\n",
       "EstadoCivil                            \n",
       "casado                 20      0.555556\n",
       "solteiro               16      0.444444\n",
       "Total                  36      1.000000"
      ]
     },
     "execution_count": 5,
     "metadata": {},
     "output_type": "execute_result"
    }
   ],
   "source": [
    "#Fazendo a coluna da frequência absoluta\n",
    "freq_table = pd.crosstab(dados['EstadoCivil'], 'FreqAbsoluta')\n",
    "\n",
    "#Fazendo a coluna da frequência relativa, dividindo a coluna FreqAbsoluta pelo tamanho\n",
    "freq_table['FreqRelativa'] = freq_table['FreqAbsoluta']/len(dados) \n",
    "\n",
    "#Fazendo a linha com os totais\n",
    "freq_table.loc['Total'] = freq_table.sum(axis=0)\n",
    "\n",
    "#Alterando a coluna FreqAbsoluta do tipo float para inteiro (só para ficar mais bonitinho)\n",
    "freq_table['FreqAbsoluta'] = freq_table['FreqAbsoluta'].astype(int)\n",
    "\n",
    "freq_table"
   ]
  },
  {
   "cell_type": "markdown",
   "id": "06d73fc4",
   "metadata": {},
   "source": [
    "#### RegiaoProcedencia"
   ]
  },
  {
   "cell_type": "code",
   "execution_count": 6,
   "id": "4ca8a020",
   "metadata": {},
   "outputs": [
    {
     "data": {
      "text/html": [
       "<div>\n",
       "<style scoped>\n",
       "    .dataframe tbody tr th:only-of-type {\n",
       "        vertical-align: middle;\n",
       "    }\n",
       "\n",
       "    .dataframe tbody tr th {\n",
       "        vertical-align: top;\n",
       "    }\n",
       "\n",
       "    .dataframe thead th {\n",
       "        text-align: right;\n",
       "    }\n",
       "</style>\n",
       "<table border=\"1\" class=\"dataframe\">\n",
       "  <thead>\n",
       "    <tr style=\"text-align: right;\">\n",
       "      <th>col_0</th>\n",
       "      <th>FreqAbsoluta</th>\n",
       "      <th>FreqRelativa</th>\n",
       "    </tr>\n",
       "    <tr>\n",
       "      <th>RegiaoProcedencia</th>\n",
       "      <th></th>\n",
       "      <th></th>\n",
       "    </tr>\n",
       "  </thead>\n",
       "  <tbody>\n",
       "    <tr>\n",
       "      <th>capital</th>\n",
       "      <td>11</td>\n",
       "      <td>0.305556</td>\n",
       "    </tr>\n",
       "    <tr>\n",
       "      <th>interior</th>\n",
       "      <td>12</td>\n",
       "      <td>0.333333</td>\n",
       "    </tr>\n",
       "    <tr>\n",
       "      <th>outra</th>\n",
       "      <td>13</td>\n",
       "      <td>0.361111</td>\n",
       "    </tr>\n",
       "    <tr>\n",
       "      <th>Total</th>\n",
       "      <td>36</td>\n",
       "      <td>1.000000</td>\n",
       "    </tr>\n",
       "  </tbody>\n",
       "</table>\n",
       "</div>"
      ],
      "text/plain": [
       "col_0              FreqAbsoluta  FreqRelativa\n",
       "RegiaoProcedencia                            \n",
       "capital                      11      0.305556\n",
       "interior                     12      0.333333\n",
       "outra                        13      0.361111\n",
       "Total                        36      1.000000"
      ]
     },
     "execution_count": 6,
     "metadata": {},
     "output_type": "execute_result"
    }
   ],
   "source": [
    "freq_table = pd.crosstab(dados['RegiaoProcedencia'], 'FreqAbsoluta')\n",
    "freq_table['FreqRelativa'] = freq_table['FreqAbsoluta']/len(dados) \n",
    "freq_table.loc['Total'] = freq_table.sum(axis=0)\n",
    "\n",
    "freq_table['FreqAbsoluta'] = freq_table['FreqAbsoluta'].astype(int)\n",
    "\n",
    "freq_table"
   ]
  },
  {
   "cell_type": "markdown",
   "id": "6196a874",
   "metadata": {},
   "source": [
    "#### Nfilhos"
   ]
  },
  {
   "cell_type": "code",
   "execution_count": 7,
   "id": "4cee37dc",
   "metadata": {},
   "outputs": [
    {
     "data": {
      "text/html": [
       "<div>\n",
       "<style scoped>\n",
       "    .dataframe tbody tr th:only-of-type {\n",
       "        vertical-align: middle;\n",
       "    }\n",
       "\n",
       "    .dataframe tbody tr th {\n",
       "        vertical-align: top;\n",
       "    }\n",
       "\n",
       "    .dataframe thead th {\n",
       "        text-align: right;\n",
       "    }\n",
       "</style>\n",
       "<table border=\"1\" class=\"dataframe\">\n",
       "  <thead>\n",
       "    <tr style=\"text-align: right;\">\n",
       "      <th>col_0</th>\n",
       "      <th>FreqAbsoluta</th>\n",
       "      <th>FreqRelativa</th>\n",
       "    </tr>\n",
       "    <tr>\n",
       "      <th>Nfilhos</th>\n",
       "      <th></th>\n",
       "      <th></th>\n",
       "    </tr>\n",
       "  </thead>\n",
       "  <tbody>\n",
       "    <tr>\n",
       "      <th>0</th>\n",
       "      <td>20</td>\n",
       "      <td>0.555556</td>\n",
       "    </tr>\n",
       "    <tr>\n",
       "      <th>1</th>\n",
       "      <td>5</td>\n",
       "      <td>0.138889</td>\n",
       "    </tr>\n",
       "    <tr>\n",
       "      <th>2</th>\n",
       "      <td>7</td>\n",
       "      <td>0.194444</td>\n",
       "    </tr>\n",
       "    <tr>\n",
       "      <th>3</th>\n",
       "      <td>3</td>\n",
       "      <td>0.083333</td>\n",
       "    </tr>\n",
       "    <tr>\n",
       "      <th>5</th>\n",
       "      <td>1</td>\n",
       "      <td>0.027778</td>\n",
       "    </tr>\n",
       "    <tr>\n",
       "      <th>Total</th>\n",
       "      <td>36</td>\n",
       "      <td>1.000000</td>\n",
       "    </tr>\n",
       "  </tbody>\n",
       "</table>\n",
       "</div>"
      ],
      "text/plain": [
       "col_0    FreqAbsoluta  FreqRelativa\n",
       "Nfilhos                            \n",
       "0                  20      0.555556\n",
       "1                   5      0.138889\n",
       "2                   7      0.194444\n",
       "3                   3      0.083333\n",
       "5                   1      0.027778\n",
       "Total              36      1.000000"
      ]
     },
     "execution_count": 7,
     "metadata": {},
     "output_type": "execute_result"
    }
   ],
   "source": [
    "freq_table = pd.crosstab(dados['Nfilhos'], 'FreqAbsoluta')\n",
    "freq_table['FreqRelativa'] = freq_table['FreqAbsoluta']/len(dados) \n",
    "freq_table.loc['Total'] = freq_table.sum(axis=0)\n",
    "\n",
    "freq_table['FreqAbsoluta'] = freq_table['FreqAbsoluta'].astype(int)\n",
    "\n",
    "freq_table"
   ]
  },
  {
   "cell_type": "markdown",
   "id": "37d8d89b",
   "metadata": {},
   "source": [
    "#### AnosIdade"
   ]
  },
  {
   "cell_type": "code",
   "execution_count": 8,
   "id": "7608278a",
   "metadata": {},
   "outputs": [
    {
     "data": {
      "text/html": [
       "<div>\n",
       "<style scoped>\n",
       "    .dataframe tbody tr th:only-of-type {\n",
       "        vertical-align: middle;\n",
       "    }\n",
       "\n",
       "    .dataframe tbody tr th {\n",
       "        vertical-align: top;\n",
       "    }\n",
       "\n",
       "    .dataframe thead th {\n",
       "        text-align: right;\n",
       "    }\n",
       "</style>\n",
       "<table border=\"1\" class=\"dataframe\">\n",
       "  <thead>\n",
       "    <tr style=\"text-align: right;\">\n",
       "      <th>col_0</th>\n",
       "      <th>FreqAbsoluta</th>\n",
       "      <th>FreqRelativa</th>\n",
       "    </tr>\n",
       "    <tr>\n",
       "      <th>AnosIdade</th>\n",
       "      <th></th>\n",
       "      <th></th>\n",
       "    </tr>\n",
       "  </thead>\n",
       "  <tbody>\n",
       "    <tr>\n",
       "      <th>20</th>\n",
       "      <td>1</td>\n",
       "      <td>0.027778</td>\n",
       "    </tr>\n",
       "    <tr>\n",
       "      <th>23</th>\n",
       "      <td>1</td>\n",
       "      <td>0.027778</td>\n",
       "    </tr>\n",
       "    <tr>\n",
       "      <th>25</th>\n",
       "      <td>1</td>\n",
       "      <td>0.027778</td>\n",
       "    </tr>\n",
       "    <tr>\n",
       "      <th>26</th>\n",
       "      <td>2</td>\n",
       "      <td>0.055556</td>\n",
       "    </tr>\n",
       "    <tr>\n",
       "      <th>27</th>\n",
       "      <td>1</td>\n",
       "      <td>0.027778</td>\n",
       "    </tr>\n",
       "    <tr>\n",
       "      <th>28</th>\n",
       "      <td>1</td>\n",
       "      <td>0.027778</td>\n",
       "    </tr>\n",
       "    <tr>\n",
       "      <th>29</th>\n",
       "      <td>1</td>\n",
       "      <td>0.027778</td>\n",
       "    </tr>\n",
       "    <tr>\n",
       "      <th>30</th>\n",
       "      <td>2</td>\n",
       "      <td>0.055556</td>\n",
       "    </tr>\n",
       "    <tr>\n",
       "      <th>31</th>\n",
       "      <td>2</td>\n",
       "      <td>0.055556</td>\n",
       "    </tr>\n",
       "    <tr>\n",
       "      <th>32</th>\n",
       "      <td>2</td>\n",
       "      <td>0.055556</td>\n",
       "    </tr>\n",
       "    <tr>\n",
       "      <th>33</th>\n",
       "      <td>2</td>\n",
       "      <td>0.055556</td>\n",
       "    </tr>\n",
       "    <tr>\n",
       "      <th>34</th>\n",
       "      <td>2</td>\n",
       "      <td>0.055556</td>\n",
       "    </tr>\n",
       "    <tr>\n",
       "      <th>35</th>\n",
       "      <td>2</td>\n",
       "      <td>0.055556</td>\n",
       "    </tr>\n",
       "    <tr>\n",
       "      <th>36</th>\n",
       "      <td>2</td>\n",
       "      <td>0.055556</td>\n",
       "    </tr>\n",
       "    <tr>\n",
       "      <th>37</th>\n",
       "      <td>2</td>\n",
       "      <td>0.055556</td>\n",
       "    </tr>\n",
       "    <tr>\n",
       "      <th>38</th>\n",
       "      <td>1</td>\n",
       "      <td>0.027778</td>\n",
       "    </tr>\n",
       "    <tr>\n",
       "      <th>39</th>\n",
       "      <td>1</td>\n",
       "      <td>0.027778</td>\n",
       "    </tr>\n",
       "    <tr>\n",
       "      <th>40</th>\n",
       "      <td>2</td>\n",
       "      <td>0.055556</td>\n",
       "    </tr>\n",
       "    <tr>\n",
       "      <th>41</th>\n",
       "      <td>2</td>\n",
       "      <td>0.055556</td>\n",
       "    </tr>\n",
       "    <tr>\n",
       "      <th>42</th>\n",
       "      <td>1</td>\n",
       "      <td>0.027778</td>\n",
       "    </tr>\n",
       "    <tr>\n",
       "      <th>43</th>\n",
       "      <td>2</td>\n",
       "      <td>0.055556</td>\n",
       "    </tr>\n",
       "    <tr>\n",
       "      <th>44</th>\n",
       "      <td>1</td>\n",
       "      <td>0.027778</td>\n",
       "    </tr>\n",
       "    <tr>\n",
       "      <th>46</th>\n",
       "      <td>1</td>\n",
       "      <td>0.027778</td>\n",
       "    </tr>\n",
       "    <tr>\n",
       "      <th>48</th>\n",
       "      <td>1</td>\n",
       "      <td>0.027778</td>\n",
       "    </tr>\n",
       "    <tr>\n",
       "      <th>Total</th>\n",
       "      <td>36</td>\n",
       "      <td>1.000000</td>\n",
       "    </tr>\n",
       "  </tbody>\n",
       "</table>\n",
       "</div>"
      ],
      "text/plain": [
       "col_0      FreqAbsoluta  FreqRelativa\n",
       "AnosIdade                            \n",
       "20                    1      0.027778\n",
       "23                    1      0.027778\n",
       "25                    1      0.027778\n",
       "26                    2      0.055556\n",
       "27                    1      0.027778\n",
       "28                    1      0.027778\n",
       "29                    1      0.027778\n",
       "30                    2      0.055556\n",
       "31                    2      0.055556\n",
       "32                    2      0.055556\n",
       "33                    2      0.055556\n",
       "34                    2      0.055556\n",
       "35                    2      0.055556\n",
       "36                    2      0.055556\n",
       "37                    2      0.055556\n",
       "38                    1      0.027778\n",
       "39                    1      0.027778\n",
       "40                    2      0.055556\n",
       "41                    2      0.055556\n",
       "42                    1      0.027778\n",
       "43                    2      0.055556\n",
       "44                    1      0.027778\n",
       "46                    1      0.027778\n",
       "48                    1      0.027778\n",
       "Total                36      1.000000"
      ]
     },
     "execution_count": 8,
     "metadata": {},
     "output_type": "execute_result"
    }
   ],
   "source": [
    "freq_table = pd.crosstab(dados['AnosIdade'], 'FreqAbsoluta')\n",
    "freq_table['FreqRelativa'] = freq_table['FreqAbsoluta']/len(dados) \n",
    "freq_table.loc['Total'] = freq_table.sum(axis=0)\n",
    "\n",
    "freq_table['FreqAbsoluta'] = freq_table['FreqAbsoluta'].astype(int)\n",
    "\n",
    "freq_table"
   ]
  },
  {
   "cell_type": "markdown",
   "id": "76688cb8",
   "metadata": {},
   "source": [
    "#### Aqui existe um número de classes bem alto(48) então seria interessante fazer novas classes divididas por intervalos. "
   ]
  },
  {
   "cell_type": "code",
   "execution_count": 9,
   "id": "5c6dc7d7",
   "metadata": {},
   "outputs": [
    {
     "data": {
      "text/html": [
       "<div>\n",
       "<style scoped>\n",
       "    .dataframe tbody tr th:only-of-type {\n",
       "        vertical-align: middle;\n",
       "    }\n",
       "\n",
       "    .dataframe tbody tr th {\n",
       "        vertical-align: top;\n",
       "    }\n",
       "\n",
       "    .dataframe thead th {\n",
       "        text-align: right;\n",
       "    }\n",
       "</style>\n",
       "<table border=\"1\" class=\"dataframe\">\n",
       "  <thead>\n",
       "    <tr style=\"text-align: right;\">\n",
       "      <th>col_0</th>\n",
       "      <th>FreqAbsoluta</th>\n",
       "      <th>FreqRelativa</th>\n",
       "    </tr>\n",
       "    <tr>\n",
       "      <th>Intervalo</th>\n",
       "      <th></th>\n",
       "      <th></th>\n",
       "    </tr>\n",
       "  </thead>\n",
       "  <tbody>\n",
       "    <tr>\n",
       "      <th>(19.999, 25.0]</th>\n",
       "      <td>3</td>\n",
       "      <td>0.083333</td>\n",
       "    </tr>\n",
       "    <tr>\n",
       "      <th>(25.0, 30.0]</th>\n",
       "      <td>7</td>\n",
       "      <td>0.194444</td>\n",
       "    </tr>\n",
       "    <tr>\n",
       "      <th>(30.0, 35.0]</th>\n",
       "      <td>10</td>\n",
       "      <td>0.277778</td>\n",
       "    </tr>\n",
       "    <tr>\n",
       "      <th>(35.0, 40.0]</th>\n",
       "      <td>8</td>\n",
       "      <td>0.222222</td>\n",
       "    </tr>\n",
       "    <tr>\n",
       "      <th>(40.0, 45.0]</th>\n",
       "      <td>6</td>\n",
       "      <td>0.166667</td>\n",
       "    </tr>\n",
       "    <tr>\n",
       "      <th>(45.0, 50.0]</th>\n",
       "      <td>2</td>\n",
       "      <td>0.055556</td>\n",
       "    </tr>\n",
       "    <tr>\n",
       "      <th>Total</th>\n",
       "      <td>36</td>\n",
       "      <td>1.000000</td>\n",
       "    </tr>\n",
       "  </tbody>\n",
       "</table>\n",
       "</div>"
      ],
      "text/plain": [
       "col_0           FreqAbsoluta  FreqRelativa\n",
       "Intervalo                                 \n",
       "(19.999, 25.0]             3      0.083333\n",
       "(25.0, 30.0]               7      0.194444\n",
       "(30.0, 35.0]              10      0.277778\n",
       "(35.0, 40.0]               8      0.222222\n",
       "(40.0, 45.0]               6      0.166667\n",
       "(45.0, 50.0]               2      0.055556\n",
       "Total                     36      1.000000"
      ]
     },
     "execution_count": 9,
     "metadata": {},
     "output_type": "execute_result"
    }
   ],
   "source": [
    "#saber a quantidade de faixas necessarias, através da raiz e arrendodar caso necessário\n",
    "qtdFaixas = mt.ceil(np.sqrt(len(dados)))\n",
    "\n",
    "#pegar o minimo e maximo, aqui eu preferi deixa os números fechadinhos(arrendondei o min para baixo e o max para cima) \n",
    "#ex:48 eu arredondei para 50\n",
    "#o minimo não precisava fazer arredondamento nesse caso(já esta 20), mas já deixei caso necessite para outros códigos no futuro.\n",
    "minimo=np.amin(dados['AnosIdade'])-(np.amin(dados['AnosIdade'])%10)\n",
    "maximo=np.amax(dados['AnosIdade'])+(10-(np.amax(dados['AnosIdade'])%10))\n",
    "\n",
    "#defini o tamanho de cada faixa pegando a amplitude(max-min) e dividindo pela quantidade de faixas                \n",
    "tamanhoIntervalo = mt.ceil((maximo-minimo)/qtdFaixas)\n",
    "           \n",
    "bins=[]\n",
    "soma = minimo\n",
    "\n",
    "for i in range(qtdFaixas+1):\n",
    "    \n",
    "    bins.append(soma)\n",
    "    soma=soma+tamanhoIntervalo\n",
    " \n",
    "#peguei as idades e classifiquei em uma nova tabela\n",
    "idades = []\n",
    "for i in dados['AnosIdade']:\n",
    "    idades.append(i)\n",
    "\n",
    "\n",
    "classificacao = pd.DataFrame(idades, columns=['Idade'])\n",
    "\n",
    "classificacao['Intervalo'] = pd.cut(classificacao['Idade'], bins, include_lowest = True)\n",
    "\n",
    "#Aqui segui que estava fazendo em outras tabelas\n",
    "freq_table = pd.crosstab(classificacao['Intervalo'], 'FreqAbsoluta')\n",
    "freq_table['FreqRelativa'] = freq_table['FreqAbsoluta']/len(dados) \n",
    "freq_table.loc['Total'] = freq_table.sum(axis=0)\n",
    "\n",
    "freq_table['FreqAbsoluta'] = freq_table['FreqAbsoluta'].astype(int)\n",
    "\n",
    "\n",
    "freq_table"
   ]
  },
  {
   "cell_type": "code",
   "execution_count": 10,
   "id": "a54c26c8",
   "metadata": {},
   "outputs": [
    {
     "data": {
      "text/html": [
       "<div>\n",
       "<style scoped>\n",
       "    .dataframe tbody tr th:only-of-type {\n",
       "        vertical-align: middle;\n",
       "    }\n",
       "\n",
       "    .dataframe tbody tr th {\n",
       "        vertical-align: top;\n",
       "    }\n",
       "\n",
       "    .dataframe thead th {\n",
       "        text-align: right;\n",
       "    }\n",
       "</style>\n",
       "<table border=\"1\" class=\"dataframe\">\n",
       "  <thead>\n",
       "    <tr style=\"text-align: right;\">\n",
       "      <th>col_0</th>\n",
       "      <th>FreqAbsoluta</th>\n",
       "      <th>FreqRelativa</th>\n",
       "    </tr>\n",
       "    <tr>\n",
       "      <th>Intervalo</th>\n",
       "      <th></th>\n",
       "      <th></th>\n",
       "    </tr>\n",
       "  </thead>\n",
       "  <tbody>\n",
       "    <tr>\n",
       "      <th>(19.971, 24.667]</th>\n",
       "      <td>2</td>\n",
       "      <td>0.055556</td>\n",
       "    </tr>\n",
       "    <tr>\n",
       "      <th>(24.667, 29.333]</th>\n",
       "      <td>6</td>\n",
       "      <td>0.166667</td>\n",
       "    </tr>\n",
       "    <tr>\n",
       "      <th>(29.333, 34.0]</th>\n",
       "      <td>10</td>\n",
       "      <td>0.277778</td>\n",
       "    </tr>\n",
       "    <tr>\n",
       "      <th>(34.0, 38.667]</th>\n",
       "      <td>7</td>\n",
       "      <td>0.194444</td>\n",
       "    </tr>\n",
       "    <tr>\n",
       "      <th>(38.667, 43.333]</th>\n",
       "      <td>8</td>\n",
       "      <td>0.222222</td>\n",
       "    </tr>\n",
       "    <tr>\n",
       "      <th>(43.333, 48.0]</th>\n",
       "      <td>3</td>\n",
       "      <td>0.083333</td>\n",
       "    </tr>\n",
       "    <tr>\n",
       "      <th>Total</th>\n",
       "      <td>36</td>\n",
       "      <td>1.000000</td>\n",
       "    </tr>\n",
       "  </tbody>\n",
       "</table>\n",
       "</div>"
      ],
      "text/plain": [
       "col_0             FreqAbsoluta  FreqRelativa\n",
       "Intervalo                                   \n",
       "(19.971, 24.667]             2      0.055556\n",
       "(24.667, 29.333]             6      0.166667\n",
       "(29.333, 34.0]              10      0.277778\n",
       "(34.0, 38.667]               7      0.194444\n",
       "(38.667, 43.333]             8      0.222222\n",
       "(43.333, 48.0]               3      0.083333\n",
       "Total                       36      1.000000"
      ]
     },
     "execution_count": 10,
     "metadata": {},
     "output_type": "execute_result"
    }
   ],
   "source": [
    "#Outra forma mais curta é pegando a apenas a raiz e deixando que faça as bins(classes) sozinho.\n",
    "bins= mt.ceil(np.sqrt(len(dados)))\n",
    "\n",
    "idades = []\n",
    "for i in dados['AnosIdade']:\n",
    "    idades.append(i)\n",
    "\n",
    "\n",
    "classificacao = pd.DataFrame(idades, columns=['Idade'])\n",
    "\n",
    "classificacao['Intervalo'] = pd.cut(classificacao['Idade'], bins, include_lowest = True)\n",
    "\n",
    "\n",
    "freq_table = pd.crosstab(classificacao['Intervalo'], 'FreqAbsoluta')\n",
    "freq_table['FreqRelativa'] = freq_table['FreqAbsoluta']/len(dados) \n",
    "freq_table.loc['Total'] = freq_table.sum(axis=0)\n",
    "\n",
    "freq_table['FreqAbsoluta'] = freq_table['FreqAbsoluta'].astype(int)\n",
    "\n",
    "freq_table"
   ]
  },
  {
   "cell_type": "markdown",
   "id": "8b6601c7",
   "metadata": {},
   "source": [
    "### Problema 3: Para o Conjunto de Dados 1 (CD-Brasil), construa a distribuição de freqüências para as variáveis população urbana e densidade populacional."
   ]
  },
  {
   "cell_type": "code",
   "execution_count": 11,
   "id": "f33dfb37",
   "metadata": {},
   "outputs": [],
   "source": [
    "dados = pd.read_csv(\"Dados/CD-Brasil.csv\", sep=\";\")"
   ]
  },
  {
   "cell_type": "code",
   "execution_count": 12,
   "id": "f80b43fa",
   "metadata": {},
   "outputs": [
    {
     "data": {
      "text/html": [
       "<div>\n",
       "<style scoped>\n",
       "    .dataframe tbody tr th:only-of-type {\n",
       "        vertical-align: middle;\n",
       "    }\n",
       "\n",
       "    .dataframe tbody tr th {\n",
       "        vertical-align: top;\n",
       "    }\n",
       "\n",
       "    .dataframe thead th {\n",
       "        text-align: right;\n",
       "    }\n",
       "</style>\n",
       "<table border=\"1\" class=\"dataframe\">\n",
       "  <thead>\n",
       "    <tr style=\"text-align: right;\">\n",
       "      <th></th>\n",
       "      <th>Regiao</th>\n",
       "      <th>Estado</th>\n",
       "      <th>Superficie</th>\n",
       "      <th>Populacao</th>\n",
       "      <th>Densidade</th>\n",
       "    </tr>\n",
       "  </thead>\n",
       "  <tbody>\n",
       "    <tr>\n",
       "      <th>0</th>\n",
       "      <td>Norte</td>\n",
       "      <td>RO</td>\n",
       "      <td>237.576,167</td>\n",
       "      <td>1.453.756</td>\n",
       "      <td>6,12</td>\n",
       "    </tr>\n",
       "    <tr>\n",
       "      <th>1</th>\n",
       "      <td>Norte</td>\n",
       "      <td>AC</td>\n",
       "      <td>164.165,250</td>\n",
       "      <td>653.385</td>\n",
       "      <td>3,98</td>\n",
       "    </tr>\n",
       "    <tr>\n",
       "      <th>2</th>\n",
       "      <td>Norte</td>\n",
       "      <td>AM</td>\n",
       "      <td>1.559.161,810</td>\n",
       "      <td>3.221.940</td>\n",
       "      <td>2,07</td>\n",
       "    </tr>\n",
       "    <tr>\n",
       "      <th>3</th>\n",
       "      <td>Norte</td>\n",
       "      <td>RR</td>\n",
       "      <td>224.298,980</td>\n",
       "      <td>395.725</td>\n",
       "      <td>1,76</td>\n",
       "    </tr>\n",
       "    <tr>\n",
       "      <th>4</th>\n",
       "      <td>Norte</td>\n",
       "      <td>PA</td>\n",
       "      <td>1.247.689,515</td>\n",
       "      <td>7.065.573</td>\n",
       "      <td>5,66</td>\n",
       "    </tr>\n",
       "  </tbody>\n",
       "</table>\n",
       "</div>"
      ],
      "text/plain": [
       "  Regiao Estado     Superficie  Populacao Densidade\n",
       "0  Norte     RO    237.576,167  1.453.756      6,12\n",
       "1  Norte     AC    164.165,250    653.385      3,98\n",
       "2  Norte     AM  1.559.161,810  3.221.940      2,07\n",
       "3  Norte     RR    224.298,980    395.725      1,76\n",
       "4  Norte     PA  1.247.689,515  7.065.573      5,66"
      ]
     },
     "execution_count": 12,
     "metadata": {},
     "output_type": "execute_result"
    }
   ],
   "source": [
    "dados.head()"
   ]
  },
  {
   "cell_type": "code",
   "execution_count": 13,
   "id": "be61cf92",
   "metadata": {},
   "outputs": [
    {
     "data": {
      "text/plain": [
       "Regiao        object\n",
       "Estado        object\n",
       "Superficie    object\n",
       "Populacao     object\n",
       "Densidade     object\n",
       "dtype: object"
      ]
     },
     "execution_count": 13,
     "metadata": {},
     "output_type": "execute_result"
    }
   ],
   "source": [
    "dados.dtypes"
   ]
  },
  {
   "cell_type": "code",
   "execution_count": 14,
   "id": "599b2d16",
   "metadata": {},
   "outputs": [],
   "source": [
    "dados['Superficie']= dados['Superficie'].str.replace('.','')\n",
    "dados['Superficie'] = dados['Superficie'].str.replace(',','.')"
   ]
  },
  {
   "cell_type": "code",
   "execution_count": 15,
   "id": "5c413bb5",
   "metadata": {},
   "outputs": [],
   "source": [
    "dados['Superficie'] = dados['Superficie'].astype(float)"
   ]
  },
  {
   "cell_type": "markdown",
   "id": "1e0d6b71",
   "metadata": {},
   "source": [
    "####  população urbana"
   ]
  },
  {
   "cell_type": "code",
   "execution_count": 16,
   "id": "e68afc6d",
   "metadata": {},
   "outputs": [],
   "source": [
    "dados['Populacao']= dados['Populacao'].str.replace('.','')"
   ]
  },
  {
   "cell_type": "code",
   "execution_count": 17,
   "id": "b47fcade",
   "metadata": {},
   "outputs": [],
   "source": [
    "dados['Populacao'] = dados['Populacao'].astype(int)"
   ]
  },
  {
   "cell_type": "code",
   "execution_count": 18,
   "id": "e2f9b658",
   "metadata": {},
   "outputs": [
    {
     "data": {
      "text/plain": [
       "Regiao         object\n",
       "Estado         object\n",
       "Superficie    float64\n",
       "Populacao       int32\n",
       "Densidade      object\n",
       "dtype: object"
      ]
     },
     "execution_count": 18,
     "metadata": {},
     "output_type": "execute_result"
    }
   ],
   "source": [
    "dados.dtypes"
   ]
  },
  {
   "cell_type": "code",
   "execution_count": 19,
   "id": "6fdbcbc2",
   "metadata": {},
   "outputs": [
    {
     "data": {
      "text/html": [
       "<div>\n",
       "<style scoped>\n",
       "    .dataframe tbody tr th:only-of-type {\n",
       "        vertical-align: middle;\n",
       "    }\n",
       "\n",
       "    .dataframe tbody tr th {\n",
       "        vertical-align: top;\n",
       "    }\n",
       "\n",
       "    .dataframe thead th {\n",
       "        text-align: right;\n",
       "    }\n",
       "</style>\n",
       "<table border=\"1\" class=\"dataframe\">\n",
       "  <thead>\n",
       "    <tr style=\"text-align: right;\">\n",
       "      <th></th>\n",
       "      <th>Regiao</th>\n",
       "      <th>Estado</th>\n",
       "      <th>Superficie</th>\n",
       "      <th>Populacao</th>\n",
       "      <th>Densidade</th>\n",
       "    </tr>\n",
       "  </thead>\n",
       "  <tbody>\n",
       "    <tr>\n",
       "      <th>0</th>\n",
       "      <td>Norte</td>\n",
       "      <td>RO</td>\n",
       "      <td>237576.167</td>\n",
       "      <td>1453756</td>\n",
       "      <td>6,12</td>\n",
       "    </tr>\n",
       "    <tr>\n",
       "      <th>1</th>\n",
       "      <td>Norte</td>\n",
       "      <td>AC</td>\n",
       "      <td>164165.250</td>\n",
       "      <td>653385</td>\n",
       "      <td>3,98</td>\n",
       "    </tr>\n",
       "    <tr>\n",
       "      <th>2</th>\n",
       "      <td>Norte</td>\n",
       "      <td>AM</td>\n",
       "      <td>1559161.810</td>\n",
       "      <td>3221940</td>\n",
       "      <td>2,07</td>\n",
       "    </tr>\n",
       "    <tr>\n",
       "      <th>3</th>\n",
       "      <td>Norte</td>\n",
       "      <td>RR</td>\n",
       "      <td>224298.980</td>\n",
       "      <td>395725</td>\n",
       "      <td>1,76</td>\n",
       "    </tr>\n",
       "    <tr>\n",
       "      <th>4</th>\n",
       "      <td>Norte</td>\n",
       "      <td>PA</td>\n",
       "      <td>1247689.515</td>\n",
       "      <td>7065573</td>\n",
       "      <td>5,66</td>\n",
       "    </tr>\n",
       "  </tbody>\n",
       "</table>\n",
       "</div>"
      ],
      "text/plain": [
       "  Regiao Estado   Superficie  Populacao Densidade\n",
       "0  Norte     RO   237576.167    1453756      6,12\n",
       "1  Norte     AC   164165.250     653385      3,98\n",
       "2  Norte     AM  1559161.810    3221940      2,07\n",
       "3  Norte     RR   224298.980     395725      1,76\n",
       "4  Norte     PA  1247689.515    7065573      5,66"
      ]
     },
     "execution_count": 19,
     "metadata": {},
     "output_type": "execute_result"
    }
   ],
   "source": [
    "dados.head()"
   ]
  },
  {
   "cell_type": "code",
   "execution_count": 20,
   "id": "9558aa49",
   "metadata": {},
   "outputs": [
    {
     "data": {
      "text/plain": [
       "Regiao\n",
       "Centro-Oeste    4\n",
       "Nordeste        9\n",
       "Norte           7\n",
       "Sudeste         4\n",
       "Sul             3\n",
       "dtype: int64"
      ]
     },
     "execution_count": 20,
     "metadata": {},
     "output_type": "execute_result"
    }
   ],
   "source": [
    "regiao = dados.groupby(['Regiao']).size()\n",
    "regiao"
   ]
  },
  {
   "cell_type": "code",
   "execution_count": 21,
   "id": "02815792",
   "metadata": {},
   "outputs": [],
   "source": [
    "len(dados)\n",
    "\n",
    "qtdFaixas= mt.ceil(np.sqrt(len(dados)))\n",
    "\n"
   ]
  },
  {
   "cell_type": "markdown",
   "id": "4e39aff9",
   "metadata": {},
   "source": [
    "##### Aqui da maneira que fiz as outras atividades ia ficar com intervalos vazios(pois existem grandes saltos de população de um estado para outro), então preferi elabora intervalo de maneira que não ficassem intervalos vazios e nem intervalos com um grande quantidade."
   ]
  },
  {
   "cell_type": "code",
   "execution_count": 22,
   "id": "b0ccb1be",
   "metadata": {},
   "outputs": [
    {
     "data": {
      "text/html": [
       "<div>\n",
       "<style scoped>\n",
       "    .dataframe tbody tr th:only-of-type {\n",
       "        vertical-align: middle;\n",
       "    }\n",
       "\n",
       "    .dataframe tbody tr th {\n",
       "        vertical-align: top;\n",
       "    }\n",
       "\n",
       "    .dataframe thead th {\n",
       "        text-align: right;\n",
       "    }\n",
       "</style>\n",
       "<table border=\"1\" class=\"dataframe\">\n",
       "  <thead>\n",
       "    <tr style=\"text-align: right;\">\n",
       "      <th>col_0</th>\n",
       "      <th>FreqAbsoluta</th>\n",
       "      <th>FreqRelativa</th>\n",
       "    </tr>\n",
       "    <tr>\n",
       "      <th>Intervalo</th>\n",
       "      <th></th>\n",
       "      <th></th>\n",
       "    </tr>\n",
       "  </thead>\n",
       "  <tbody>\n",
       "    <tr>\n",
       "      <th>Até 1400000</th>\n",
       "      <td>4</td>\n",
       "      <td>0.148148</td>\n",
       "    </tr>\n",
       "    <tr>\n",
       "      <th>Igual ou maior que 1400000 e menor 2500000</th>\n",
       "      <td>4</td>\n",
       "      <td>0.148148</td>\n",
       "    </tr>\n",
       "    <tr>\n",
       "      <th>Igual ou maior que 2500000 e menor 3250000</th>\n",
       "      <td>5</td>\n",
       "      <td>0.185185</td>\n",
       "    </tr>\n",
       "    <tr>\n",
       "      <th>Igual ou maior que 3250000 e menor 6000000</th>\n",
       "      <td>4</td>\n",
       "      <td>0.148148</td>\n",
       "    </tr>\n",
       "    <tr>\n",
       "      <th>Igual ou maior que 6000000 e menor 11000000</th>\n",
       "      <td>6</td>\n",
       "      <td>0.222222</td>\n",
       "    </tr>\n",
       "    <tr>\n",
       "      <th>Maior ou igual que 11000000</th>\n",
       "      <td>4</td>\n",
       "      <td>0.148148</td>\n",
       "    </tr>\n",
       "    <tr>\n",
       "      <th>Total</th>\n",
       "      <td>27</td>\n",
       "      <td>1.000000</td>\n",
       "    </tr>\n",
       "  </tbody>\n",
       "</table>\n",
       "</div>"
      ],
      "text/plain": [
       "col_0                                        FreqAbsoluta  FreqRelativa\n",
       "Intervalo                                                              \n",
       "Até 1400000                                             4      0.148148\n",
       "Igual ou maior que 1400000 e menor 2500000              4      0.148148\n",
       "Igual ou maior que 2500000 e menor 3250000              5      0.185185\n",
       "Igual ou maior que 3250000 e menor 6000000              4      0.148148\n",
       "Igual ou maior que 6000000 e menor 11000000             6      0.222222\n",
       "Maior ou igual que 11000000                             4      0.148148\n",
       "Total                                                  27      1.000000"
      ]
     },
     "execution_count": 22,
     "metadata": {},
     "output_type": "execute_result"
    }
   ],
   "source": [
    "#Apenas para saber uma quantidade de faixas adequada.\n",
    "qtdFaixas = mt.ceil(np.sqrt(len(dados)))\n",
    "\n",
    "bins=[350000, 1400000, 2500000, 3250000, 6000000, 11000000,40000000]\n",
    "\n",
    "populacoes = []\n",
    "for i in dados['Populacao']:\n",
    "    populacoes.append(i)\n",
    "\n",
    "classificacao = pd.DataFrame(populacoes, columns=['Populacao'])\n",
    "classificacao['Intervalo'] = pd.cut(classificacao['Populacao'], bins, include_lowest = True)\n",
    "\n",
    "#Renomeando as categorias\n",
    "classificacao['Intervalo'] = classificacao['Intervalo'].astype(str)\n",
    "classificacao.loc[classificacao['Intervalo'] ==  '(349999.999, 1400000.0]', 'Intervalo'] = \"Até 1400000\"\n",
    "classificacao.loc[classificacao['Intervalo'] ==  '(1400000.0, 2500000.0]', 'Intervalo'] = \"Igual ou maior que 1400000 e menor 2500000\"\n",
    "classificacao.loc[classificacao['Intervalo'] ==  '(2500000.0, 3250000.0]', 'Intervalo'] = \"Igual ou maior que 2500000 e menor 3250000\"\n",
    "classificacao.loc[classificacao['Intervalo'] ==  '(3250000.0, 6000000.0]', 'Intervalo'] = \"Igual ou maior que 3250000 e menor 6000000\"\n",
    "classificacao.loc[classificacao['Intervalo'] ==  '(6000000.0, 11000000.0]', 'Intervalo'] = \"Igual ou maior que 6000000 e menor 11000000\"\n",
    "classificacao.loc[classificacao['Intervalo'] ==  '(11000000.0, 40000000.0]', 'Intervalo'] = \"Maior ou igual que 11000000\"\n",
    "\n",
    "freq_table = pd.crosstab(classificacao['Intervalo'], 'FreqAbsoluta')\n",
    "freq_table['FreqRelativa'] = freq_table['FreqAbsoluta']/len(dados) \n",
    "freq_table.loc['Total'] = freq_table.sum(axis=0)\n",
    "\n",
    "freq_table['FreqAbsoluta'] = freq_table['FreqAbsoluta'].astype(int)\n",
    "      \n",
    "freq_table"
   ]
  },
  {
   "cell_type": "markdown",
   "id": "f7c20f56",
   "metadata": {},
   "source": [
    "####  densidade populacional"
   ]
  },
  {
   "cell_type": "code",
   "execution_count": 23,
   "id": "b8250d14",
   "metadata": {},
   "outputs": [],
   "source": [
    "dados['Densidade']= dados['Densidade'].str.replace(',','.')"
   ]
  },
  {
   "cell_type": "code",
   "execution_count": 24,
   "id": "7407f206",
   "metadata": {},
   "outputs": [],
   "source": [
    "dados['Densidade'] = dados['Densidade'].astype(float)"
   ]
  },
  {
   "cell_type": "code",
   "execution_count": 25,
   "id": "4784de8e",
   "metadata": {},
   "outputs": [
    {
     "data": {
      "text/plain": [
       "Regiao         object\n",
       "Estado         object\n",
       "Superficie    float64\n",
       "Populacao       int32\n",
       "Densidade     float64\n",
       "dtype: object"
      ]
     },
     "execution_count": 25,
     "metadata": {},
     "output_type": "execute_result"
    }
   ],
   "source": [
    "dados.dtypes"
   ]
  },
  {
   "cell_type": "code",
   "execution_count": 26,
   "id": "a9f4443b",
   "metadata": {},
   "outputs": [
    {
     "data": {
      "text/html": [
       "<div>\n",
       "<style scoped>\n",
       "    .dataframe tbody tr th:only-of-type {\n",
       "        vertical-align: middle;\n",
       "    }\n",
       "\n",
       "    .dataframe tbody tr th {\n",
       "        vertical-align: top;\n",
       "    }\n",
       "\n",
       "    .dataframe thead th {\n",
       "        text-align: right;\n",
       "    }\n",
       "</style>\n",
       "<table border=\"1\" class=\"dataframe\">\n",
       "  <thead>\n",
       "    <tr style=\"text-align: right;\">\n",
       "      <th></th>\n",
       "      <th>Regiao</th>\n",
       "      <th>Estado</th>\n",
       "      <th>Superficie</th>\n",
       "      <th>Populacao</th>\n",
       "      <th>Densidade</th>\n",
       "    </tr>\n",
       "  </thead>\n",
       "  <tbody>\n",
       "    <tr>\n",
       "      <th>0</th>\n",
       "      <td>Norte</td>\n",
       "      <td>RO</td>\n",
       "      <td>237576.167</td>\n",
       "      <td>1453756</td>\n",
       "      <td>6.12</td>\n",
       "    </tr>\n",
       "    <tr>\n",
       "      <th>1</th>\n",
       "      <td>Norte</td>\n",
       "      <td>AC</td>\n",
       "      <td>164165.250</td>\n",
       "      <td>653385</td>\n",
       "      <td>3.98</td>\n",
       "    </tr>\n",
       "    <tr>\n",
       "      <th>2</th>\n",
       "      <td>Norte</td>\n",
       "      <td>AM</td>\n",
       "      <td>1559161.810</td>\n",
       "      <td>3221940</td>\n",
       "      <td>2.07</td>\n",
       "    </tr>\n",
       "    <tr>\n",
       "      <th>3</th>\n",
       "      <td>Norte</td>\n",
       "      <td>RR</td>\n",
       "      <td>224298.980</td>\n",
       "      <td>395725</td>\n",
       "      <td>1.76</td>\n",
       "    </tr>\n",
       "    <tr>\n",
       "      <th>4</th>\n",
       "      <td>Norte</td>\n",
       "      <td>PA</td>\n",
       "      <td>1247689.515</td>\n",
       "      <td>7065573</td>\n",
       "      <td>5.66</td>\n",
       "    </tr>\n",
       "  </tbody>\n",
       "</table>\n",
       "</div>"
      ],
      "text/plain": [
       "  Regiao Estado   Superficie  Populacao  Densidade\n",
       "0  Norte     RO   237576.167    1453756       6.12\n",
       "1  Norte     AC   164165.250     653385       3.98\n",
       "2  Norte     AM  1559161.810    3221940       2.07\n",
       "3  Norte     RR   224298.980     395725       1.76\n",
       "4  Norte     PA  1247689.515    7065573       5.66"
      ]
     },
     "execution_count": 26,
     "metadata": {},
     "output_type": "execute_result"
    }
   ],
   "source": [
    "dados.head()"
   ]
  },
  {
   "cell_type": "code",
   "execution_count": 27,
   "id": "a52bd213",
   "metadata": {},
   "outputs": [
    {
     "data": {
      "text/html": [
       "<div>\n",
       "<style scoped>\n",
       "    .dataframe tbody tr th:only-of-type {\n",
       "        vertical-align: middle;\n",
       "    }\n",
       "\n",
       "    .dataframe tbody tr th {\n",
       "        vertical-align: top;\n",
       "    }\n",
       "\n",
       "    .dataframe thead th {\n",
       "        text-align: right;\n",
       "    }\n",
       "</style>\n",
       "<table border=\"1\" class=\"dataframe\">\n",
       "  <thead>\n",
       "    <tr style=\"text-align: right;\">\n",
       "      <th>col_0</th>\n",
       "      <th>FreqAbsoluta</th>\n",
       "      <th>FreqRelativa</th>\n",
       "    </tr>\n",
       "    <tr>\n",
       "      <th>Intervalo</th>\n",
       "      <th></th>\n",
       "      <th></th>\n",
       "    </tr>\n",
       "  </thead>\n",
       "  <tbody>\n",
       "    <tr>\n",
       "      <th>Até 20.0</th>\n",
       "      <td>12</td>\n",
       "      <td>0.444444</td>\n",
       "    </tr>\n",
       "    <tr>\n",
       "      <th>Igual ou maior que 20.0 e menor 40.0</th>\n",
       "      <td>3</td>\n",
       "      <td>0.111111</td>\n",
       "    </tr>\n",
       "    <tr>\n",
       "      <th>Igual ou maior que 40.0 e menor 60.0</th>\n",
       "      <td>3</td>\n",
       "      <td>0.111111</td>\n",
       "    </tr>\n",
       "    <tr>\n",
       "      <th>Igual ou maior que 60.0 e menor 80.0</th>\n",
       "      <td>3</td>\n",
       "      <td>0.111111</td>\n",
       "    </tr>\n",
       "    <tr>\n",
       "      <th>Igual ou maior que 80.0 e menor 100.0</th>\n",
       "      <td>2</td>\n",
       "      <td>0.074074</td>\n",
       "    </tr>\n",
       "    <tr>\n",
       "      <th>Maior ou igual que 100.0</th>\n",
       "      <td>4</td>\n",
       "      <td>0.148148</td>\n",
       "    </tr>\n",
       "    <tr>\n",
       "      <th>Total</th>\n",
       "      <td>27</td>\n",
       "      <td>1.000000</td>\n",
       "    </tr>\n",
       "  </tbody>\n",
       "</table>\n",
       "</div>"
      ],
      "text/plain": [
       "col_0                                  FreqAbsoluta  FreqRelativa\n",
       "Intervalo                                                        \n",
       "Até 20.0                                         12      0.444444\n",
       "Igual ou maior que 20.0 e menor 40.0              3      0.111111\n",
       "Igual ou maior que 40.0 e menor 60.0              3      0.111111\n",
       "Igual ou maior que 60.0 e menor 80.0              3      0.111111\n",
       "Igual ou maior que 80.0 e menor 100.0             2      0.074074\n",
       "Maior ou igual que 100.0                          4      0.148148\n",
       "Total                                            27      1.000000"
      ]
     },
     "execution_count": 27,
     "metadata": {},
     "output_type": "execute_result"
    }
   ],
   "source": [
    "bins=[1.70, 20.0, 40.0, 60.0, 80.0, 100, 450.0]\n",
    "\n",
    "densidades = []\n",
    "for i in dados['Densidade']:\n",
    "    densidades.append(i)\n",
    "\n",
    "\n",
    "classificacao = pd.DataFrame(densidades, columns=['Densidade'])\n",
    "classificacao['Intervalo'] = pd.cut(classificacao['Densidade'], bins, include_lowest = True)\n",
    "\n",
    "classificacao['Intervalo'] = classificacao['Intervalo'].astype(str)\n",
    "classificacao.loc[classificacao['Intervalo'] ==  '(1.699, 20.0]', 'Intervalo'] = \"Até 20.0\"\n",
    "classificacao.loc[classificacao['Intervalo'] ==  '(20.0, 40.0]', 'Intervalo'] = \"Igual ou maior que 20.0 e menor 40.0\"\n",
    "classificacao.loc[classificacao['Intervalo'] ==  '(40.0, 60.0]', 'Intervalo'] = \"Igual ou maior que 40.0 e menor 60.0\"\n",
    "classificacao.loc[classificacao['Intervalo'] ==  '(60.0, 80.0]', 'Intervalo'] = \"Igual ou maior que 60.0 e menor 80.0\"\n",
    "classificacao.loc[classificacao['Intervalo'] ==  '(80.0, 100.0]', 'Intervalo'] = \"Igual ou maior que 80.0 e menor 100.0\"\n",
    "classificacao.loc[classificacao['Intervalo'] ==  '(100.0, 450.0]', 'Intervalo'] = \"Maior ou igual que 100.0\"\n",
    "\n",
    "freq_table = pd.crosstab(classificacao['Intervalo'], 'FreqAbsoluta')\n",
    "freq_table['FreqRelativa'] = freq_table['FreqAbsoluta']/len(dados) \n",
    "freq_table.loc['Total'] = freq_table.sum(axis=0)\n",
    "\n",
    "freq_table['FreqAbsoluta'] = freq_table['FreqAbsoluta'].astype(int)\n",
    "      \n",
    "freq_table"
   ]
  },
  {
   "cell_type": "markdown",
   "id": "b44ba674",
   "metadata": {},
   "source": [
    "### Problema 4: Contou-se o número de erros de impressão da primeira página de um jornal durante 50 dias, obtendo-se os resultados abaixo:\n",
    "                                 8 11  8 12 14 13 11 14 14 15\n",
    "                                 6 10 14 19  6 12  7  5  8  8\n",
    "                                10 16 10 12 12  8 11  6  7 12\n",
    "                                 7 10 14  5 12  7  9 12 11  9\n",
    "                                14  8 14  8 12 10 12 22  7 15\n"
   ]
  },
  {
   "cell_type": "code",
   "execution_count": 28,
   "id": "d13a086e",
   "metadata": {},
   "outputs": [
    {
     "data": {
      "text/plain": [
       "50"
      ]
     },
     "execution_count": 28,
     "metadata": {},
     "output_type": "execute_result"
    }
   ],
   "source": [
    "dados = [ 8, 11, 8, 12, 14, 13, 11, 14, 14, 15, 6, 10, 14, 19, 6, 12, 7, 5, 8, 8, 10, 16, 10, 12, 12,\n",
    "         8, 11, 6, 7, 12, 7, 10, 14, 5, 12, 7, 9, 12, 11, 9, 14, 8, 14, 8, 12, 10, 12, 22, 7, 15]\n",
    "\n",
    "len(dados)"
   ]
  },
  {
   "cell_type": "markdown",
   "id": "bb420683",
   "metadata": {},
   "source": [
    "##### Coloquei dados num dataframe e dei umas groupby para saber saber os dias que tiveram a mesma quantidade de erros. ex: dos 50 dias analisados houveram 2 dias em que ocorreram 5 erros"
   ]
  },
  {
   "cell_type": "code",
   "execution_count": 29,
   "id": "e21863d7",
   "metadata": {},
   "outputs": [
    {
     "data": {
      "text/html": [
       "<div>\n",
       "<style scoped>\n",
       "    .dataframe tbody tr th:only-of-type {\n",
       "        vertical-align: middle;\n",
       "    }\n",
       "\n",
       "    .dataframe tbody tr th {\n",
       "        vertical-align: top;\n",
       "    }\n",
       "\n",
       "    .dataframe thead th {\n",
       "        text-align: right;\n",
       "    }\n",
       "</style>\n",
       "<table border=\"1\" class=\"dataframe\">\n",
       "  <thead>\n",
       "    <tr style=\"text-align: right;\">\n",
       "      <th></th>\n",
       "      <th>Dia</th>\n",
       "      <th>NErros</th>\n",
       "    </tr>\n",
       "  </thead>\n",
       "  <tbody>\n",
       "    <tr>\n",
       "      <th>0</th>\n",
       "      <td>1</td>\n",
       "      <td>8</td>\n",
       "    </tr>\n",
       "    <tr>\n",
       "      <th>1</th>\n",
       "      <td>2</td>\n",
       "      <td>11</td>\n",
       "    </tr>\n",
       "    <tr>\n",
       "      <th>2</th>\n",
       "      <td>3</td>\n",
       "      <td>8</td>\n",
       "    </tr>\n",
       "    <tr>\n",
       "      <th>3</th>\n",
       "      <td>4</td>\n",
       "      <td>12</td>\n",
       "    </tr>\n",
       "    <tr>\n",
       "      <th>4</th>\n",
       "      <td>5</td>\n",
       "      <td>14</td>\n",
       "    </tr>\n",
       "    <tr>\n",
       "      <th>5</th>\n",
       "      <td>6</td>\n",
       "      <td>13</td>\n",
       "    </tr>\n",
       "    <tr>\n",
       "      <th>6</th>\n",
       "      <td>7</td>\n",
       "      <td>11</td>\n",
       "    </tr>\n",
       "    <tr>\n",
       "      <th>7</th>\n",
       "      <td>8</td>\n",
       "      <td>14</td>\n",
       "    </tr>\n",
       "    <tr>\n",
       "      <th>8</th>\n",
       "      <td>9</td>\n",
       "      <td>14</td>\n",
       "    </tr>\n",
       "    <tr>\n",
       "      <th>9</th>\n",
       "      <td>10</td>\n",
       "      <td>15</td>\n",
       "    </tr>\n",
       "    <tr>\n",
       "      <th>10</th>\n",
       "      <td>11</td>\n",
       "      <td>6</td>\n",
       "    </tr>\n",
       "    <tr>\n",
       "      <th>11</th>\n",
       "      <td>12</td>\n",
       "      <td>10</td>\n",
       "    </tr>\n",
       "    <tr>\n",
       "      <th>12</th>\n",
       "      <td>13</td>\n",
       "      <td>14</td>\n",
       "    </tr>\n",
       "    <tr>\n",
       "      <th>13</th>\n",
       "      <td>14</td>\n",
       "      <td>19</td>\n",
       "    </tr>\n",
       "    <tr>\n",
       "      <th>14</th>\n",
       "      <td>15</td>\n",
       "      <td>6</td>\n",
       "    </tr>\n",
       "    <tr>\n",
       "      <th>15</th>\n",
       "      <td>16</td>\n",
       "      <td>12</td>\n",
       "    </tr>\n",
       "    <tr>\n",
       "      <th>16</th>\n",
       "      <td>17</td>\n",
       "      <td>7</td>\n",
       "    </tr>\n",
       "    <tr>\n",
       "      <th>17</th>\n",
       "      <td>18</td>\n",
       "      <td>5</td>\n",
       "    </tr>\n",
       "    <tr>\n",
       "      <th>18</th>\n",
       "      <td>19</td>\n",
       "      <td>8</td>\n",
       "    </tr>\n",
       "    <tr>\n",
       "      <th>19</th>\n",
       "      <td>20</td>\n",
       "      <td>8</td>\n",
       "    </tr>\n",
       "    <tr>\n",
       "      <th>20</th>\n",
       "      <td>21</td>\n",
       "      <td>10</td>\n",
       "    </tr>\n",
       "    <tr>\n",
       "      <th>21</th>\n",
       "      <td>22</td>\n",
       "      <td>16</td>\n",
       "    </tr>\n",
       "    <tr>\n",
       "      <th>22</th>\n",
       "      <td>23</td>\n",
       "      <td>10</td>\n",
       "    </tr>\n",
       "    <tr>\n",
       "      <th>23</th>\n",
       "      <td>24</td>\n",
       "      <td>12</td>\n",
       "    </tr>\n",
       "    <tr>\n",
       "      <th>24</th>\n",
       "      <td>25</td>\n",
       "      <td>12</td>\n",
       "    </tr>\n",
       "    <tr>\n",
       "      <th>25</th>\n",
       "      <td>26</td>\n",
       "      <td>8</td>\n",
       "    </tr>\n",
       "    <tr>\n",
       "      <th>26</th>\n",
       "      <td>27</td>\n",
       "      <td>11</td>\n",
       "    </tr>\n",
       "    <tr>\n",
       "      <th>27</th>\n",
       "      <td>28</td>\n",
       "      <td>6</td>\n",
       "    </tr>\n",
       "    <tr>\n",
       "      <th>28</th>\n",
       "      <td>29</td>\n",
       "      <td>7</td>\n",
       "    </tr>\n",
       "    <tr>\n",
       "      <th>29</th>\n",
       "      <td>30</td>\n",
       "      <td>12</td>\n",
       "    </tr>\n",
       "    <tr>\n",
       "      <th>30</th>\n",
       "      <td>31</td>\n",
       "      <td>7</td>\n",
       "    </tr>\n",
       "    <tr>\n",
       "      <th>31</th>\n",
       "      <td>32</td>\n",
       "      <td>10</td>\n",
       "    </tr>\n",
       "    <tr>\n",
       "      <th>32</th>\n",
       "      <td>33</td>\n",
       "      <td>14</td>\n",
       "    </tr>\n",
       "    <tr>\n",
       "      <th>33</th>\n",
       "      <td>34</td>\n",
       "      <td>5</td>\n",
       "    </tr>\n",
       "    <tr>\n",
       "      <th>34</th>\n",
       "      <td>35</td>\n",
       "      <td>12</td>\n",
       "    </tr>\n",
       "    <tr>\n",
       "      <th>35</th>\n",
       "      <td>36</td>\n",
       "      <td>7</td>\n",
       "    </tr>\n",
       "    <tr>\n",
       "      <th>36</th>\n",
       "      <td>37</td>\n",
       "      <td>9</td>\n",
       "    </tr>\n",
       "    <tr>\n",
       "      <th>37</th>\n",
       "      <td>38</td>\n",
       "      <td>12</td>\n",
       "    </tr>\n",
       "    <tr>\n",
       "      <th>38</th>\n",
       "      <td>39</td>\n",
       "      <td>11</td>\n",
       "    </tr>\n",
       "    <tr>\n",
       "      <th>39</th>\n",
       "      <td>40</td>\n",
       "      <td>9</td>\n",
       "    </tr>\n",
       "    <tr>\n",
       "      <th>40</th>\n",
       "      <td>41</td>\n",
       "      <td>14</td>\n",
       "    </tr>\n",
       "    <tr>\n",
       "      <th>41</th>\n",
       "      <td>42</td>\n",
       "      <td>8</td>\n",
       "    </tr>\n",
       "    <tr>\n",
       "      <th>42</th>\n",
       "      <td>43</td>\n",
       "      <td>14</td>\n",
       "    </tr>\n",
       "    <tr>\n",
       "      <th>43</th>\n",
       "      <td>44</td>\n",
       "      <td>8</td>\n",
       "    </tr>\n",
       "    <tr>\n",
       "      <th>44</th>\n",
       "      <td>45</td>\n",
       "      <td>12</td>\n",
       "    </tr>\n",
       "    <tr>\n",
       "      <th>45</th>\n",
       "      <td>46</td>\n",
       "      <td>10</td>\n",
       "    </tr>\n",
       "    <tr>\n",
       "      <th>46</th>\n",
       "      <td>47</td>\n",
       "      <td>12</td>\n",
       "    </tr>\n",
       "    <tr>\n",
       "      <th>47</th>\n",
       "      <td>48</td>\n",
       "      <td>22</td>\n",
       "    </tr>\n",
       "    <tr>\n",
       "      <th>48</th>\n",
       "      <td>49</td>\n",
       "      <td>7</td>\n",
       "    </tr>\n",
       "    <tr>\n",
       "      <th>49</th>\n",
       "      <td>50</td>\n",
       "      <td>15</td>\n",
       "    </tr>\n",
       "  </tbody>\n",
       "</table>\n",
       "</div>"
      ],
      "text/plain": [
       "    Dia  NErros\n",
       "0     1       8\n",
       "1     2      11\n",
       "2     3       8\n",
       "3     4      12\n",
       "4     5      14\n",
       "5     6      13\n",
       "6     7      11\n",
       "7     8      14\n",
       "8     9      14\n",
       "9    10      15\n",
       "10   11       6\n",
       "11   12      10\n",
       "12   13      14\n",
       "13   14      19\n",
       "14   15       6\n",
       "15   16      12\n",
       "16   17       7\n",
       "17   18       5\n",
       "18   19       8\n",
       "19   20       8\n",
       "20   21      10\n",
       "21   22      16\n",
       "22   23      10\n",
       "23   24      12\n",
       "24   25      12\n",
       "25   26       8\n",
       "26   27      11\n",
       "27   28       6\n",
       "28   29       7\n",
       "29   30      12\n",
       "30   31       7\n",
       "31   32      10\n",
       "32   33      14\n",
       "33   34       5\n",
       "34   35      12\n",
       "35   36       7\n",
       "36   37       9\n",
       "37   38      12\n",
       "38   39      11\n",
       "39   40       9\n",
       "40   41      14\n",
       "41   42       8\n",
       "42   43      14\n",
       "43   44       8\n",
       "44   45      12\n",
       "45   46      10\n",
       "46   47      12\n",
       "47   48      22\n",
       "48   49       7\n",
       "49   50      15"
      ]
     },
     "execution_count": 29,
     "metadata": {},
     "output_type": "execute_result"
    }
   ],
   "source": [
    "erros = pd.DataFrame(range(1,51), columns=['Dia'])\n",
    "erros['NErros']=dados\n",
    "erros"
   ]
  },
  {
   "cell_type": "code",
   "execution_count": 30,
   "id": "914b174b",
   "metadata": {},
   "outputs": [
    {
     "data": {
      "text/plain": [
       "NErros\n",
       "5     2\n",
       "6     3\n",
       "7     5\n",
       "8     7\n",
       "9     2\n",
       "10    5\n",
       "11    4\n",
       "12    9\n",
       "13    1\n",
       "14    7\n",
       "15    2\n",
       "16    1\n",
       "19    1\n",
       "22    1\n",
       "dtype: int64"
      ]
     },
     "execution_count": 30,
     "metadata": {},
     "output_type": "execute_result"
    }
   ],
   "source": [
    "dtbDias = erros.groupby(['NErros']).size()\n",
    "dtbDias"
   ]
  },
  {
   "cell_type": "markdown",
   "id": "2f5222da",
   "metadata": {},
   "source": [
    "##### Fiz uma tabela de frequência só observar melhor as ocorrencias de erros e a frequência relativa"
   ]
  },
  {
   "cell_type": "code",
   "execution_count": 31,
   "id": "c47dba47",
   "metadata": {},
   "outputs": [
    {
     "data": {
      "text/html": [
       "<div>\n",
       "<style scoped>\n",
       "    .dataframe tbody tr th:only-of-type {\n",
       "        vertical-align: middle;\n",
       "    }\n",
       "\n",
       "    .dataframe tbody tr th {\n",
       "        vertical-align: top;\n",
       "    }\n",
       "\n",
       "    .dataframe thead th {\n",
       "        text-align: right;\n",
       "    }\n",
       "</style>\n",
       "<table border=\"1\" class=\"dataframe\">\n",
       "  <thead>\n",
       "    <tr style=\"text-align: right;\">\n",
       "      <th>col_0</th>\n",
       "      <th>QtdDias</th>\n",
       "      <th>NErros</th>\n",
       "      <th>FreqRelativa</th>\n",
       "    </tr>\n",
       "    <tr>\n",
       "      <th>row_0</th>\n",
       "      <th></th>\n",
       "      <th></th>\n",
       "      <th></th>\n",
       "    </tr>\n",
       "  </thead>\n",
       "  <tbody>\n",
       "    <tr>\n",
       "      <th>5</th>\n",
       "      <td>2</td>\n",
       "      <td>5</td>\n",
       "      <td>0.04</td>\n",
       "    </tr>\n",
       "    <tr>\n",
       "      <th>6</th>\n",
       "      <td>3</td>\n",
       "      <td>6</td>\n",
       "      <td>0.06</td>\n",
       "    </tr>\n",
       "    <tr>\n",
       "      <th>7</th>\n",
       "      <td>5</td>\n",
       "      <td>7</td>\n",
       "      <td>0.10</td>\n",
       "    </tr>\n",
       "    <tr>\n",
       "      <th>8</th>\n",
       "      <td>7</td>\n",
       "      <td>8</td>\n",
       "      <td>0.14</td>\n",
       "    </tr>\n",
       "    <tr>\n",
       "      <th>9</th>\n",
       "      <td>2</td>\n",
       "      <td>9</td>\n",
       "      <td>0.04</td>\n",
       "    </tr>\n",
       "    <tr>\n",
       "      <th>10</th>\n",
       "      <td>5</td>\n",
       "      <td>10</td>\n",
       "      <td>0.10</td>\n",
       "    </tr>\n",
       "    <tr>\n",
       "      <th>11</th>\n",
       "      <td>4</td>\n",
       "      <td>11</td>\n",
       "      <td>0.08</td>\n",
       "    </tr>\n",
       "    <tr>\n",
       "      <th>12</th>\n",
       "      <td>9</td>\n",
       "      <td>12</td>\n",
       "      <td>0.18</td>\n",
       "    </tr>\n",
       "    <tr>\n",
       "      <th>13</th>\n",
       "      <td>1</td>\n",
       "      <td>13</td>\n",
       "      <td>0.02</td>\n",
       "    </tr>\n",
       "    <tr>\n",
       "      <th>14</th>\n",
       "      <td>7</td>\n",
       "      <td>14</td>\n",
       "      <td>0.14</td>\n",
       "    </tr>\n",
       "    <tr>\n",
       "      <th>15</th>\n",
       "      <td>2</td>\n",
       "      <td>15</td>\n",
       "      <td>0.04</td>\n",
       "    </tr>\n",
       "    <tr>\n",
       "      <th>16</th>\n",
       "      <td>1</td>\n",
       "      <td>16</td>\n",
       "      <td>0.02</td>\n",
       "    </tr>\n",
       "    <tr>\n",
       "      <th>19</th>\n",
       "      <td>1</td>\n",
       "      <td>19</td>\n",
       "      <td>0.02</td>\n",
       "    </tr>\n",
       "    <tr>\n",
       "      <th>22</th>\n",
       "      <td>1</td>\n",
       "      <td>22</td>\n",
       "      <td>0.02</td>\n",
       "    </tr>\n",
       "  </tbody>\n",
       "</table>\n",
       "</div>"
      ],
      "text/plain": [
       "col_0  QtdDias  NErros  FreqRelativa\n",
       "row_0                               \n",
       "5            2       5          0.04\n",
       "6            3       6          0.06\n",
       "7            5       7          0.10\n",
       "8            7       8          0.14\n",
       "9            2       9          0.04\n",
       "10           5      10          0.10\n",
       "11           4      11          0.08\n",
       "12           9      12          0.18\n",
       "13           1      13          0.02\n",
       "14           7      14          0.14\n",
       "15           2      15          0.04\n",
       "16           1      16          0.02\n",
       "19           1      19          0.02\n",
       "22           1      22          0.02"
      ]
     },
     "execution_count": 31,
     "metadata": {},
     "output_type": "execute_result"
    }
   ],
   "source": [
    "freq_table = pd.crosstab( dados, 'QtdDias')\n",
    "freq_table['NErros'] = freq_table.index\n",
    "freq_table['FreqRelativa'] = freq_table['QtdDias']/len(dados) \n",
    "\n",
    "freq_table"
   ]
  },
  {
   "cell_type": "markdown",
   "id": "dd38f692",
   "metadata": {},
   "source": [
    "#### Represente os dados graficamente.\n"
   ]
  },
  {
   "cell_type": "markdown",
   "id": "305d0713",
   "metadata": {},
   "source": [
    "##### Fiz um diagramas de barras em que x= número de erros y=  número de dias com essa quantidade de erros"
   ]
  },
  {
   "cell_type": "code",
   "execution_count": 32,
   "id": "f404c659",
   "metadata": {},
   "outputs": [
    {
     "data": {
      "text/plain": [
       "<Axes: xlabel='NErros'>"
      ]
     },
     "execution_count": 32,
     "metadata": {},
     "output_type": "execute_result"
    },
    {
     "data": {
      "image/png": "[encoded data removed]",
      "text/plain": [
       "<Figure size 640x480 with 1 Axes>"
      ]
     },
     "metadata": {},
     "output_type": "display_data"
    }
   ],
   "source": [
    "dtbDias.plot.bar(color = 'blue')"
   ]
  },
  {
   "cell_type": "markdown",
   "id": "63177138",
   "metadata": {},
   "source": [
    "#### Faça um histograma e um ramo-e-folhas."
   ]
  },
  {
   "cell_type": "markdown",
   "id": "6db2c85d",
   "metadata": {},
   "source": [
    "##### Através do histograma e ramo-e-folhas é possível notar que existe que nesses 50 dias que ocorreram, em maioria, entre 10 e 14 erros (também dando uma ideia da localização da moda, mediana e média)"
   ]
  },
  {
   "cell_type": "markdown",
   "id": "a66780a8",
   "metadata": {},
   "source": [
    "###### Histograma"
   ]
  },
  {
   "cell_type": "code",
   "execution_count": 33,
   "id": "d79d8cdf",
   "metadata": {},
   "outputs": [
    {
     "data": {
      "text/plain": [
       "<Axes: xlabel='NErros', ylabel='Count'>"
      ]
     },
     "execution_count": 33,
     "metadata": {},
     "output_type": "execute_result"
    },
    {
     "data": {
      "image/png": "[encoded data removed]",
      "text/plain": [
       "<Figure size 640x480 with 1 Axes>"
      ]
     },
     "metadata": {},
     "output_type": "display_data"
    }
   ],
   "source": [
    "sns.histplot(data=erros, x='NErros')"
   ]
  },
  {
   "cell_type": "markdown",
   "id": "e00a1ea9",
   "metadata": {},
   "source": [
    "###### Ramo-e-folhas"
   ]
  },
  {
   "cell_type": "code",
   "execution_count": 34,
   "id": "f0a50d04",
   "metadata": {},
   "outputs": [
    {
     "data": {
      "text/plain": [
       "(<Figure size 750x525 with 1 Axes>, <Axes: >)"
      ]
     },
     "execution_count": 34,
     "metadata": {},
     "output_type": "execute_result"
    },
    {
     "data": {
      "image/png": "[encoded data removed]",
      "text/plain": [
       "<Figure size 750x525 with 1 Axes>"
      ]
     },
     "metadata": {},
     "output_type": "display_data"
    }
   ],
   "source": [
    "st.stem_graphic(erros['NErros'])"
   ]
  },
  {
   "cell_type": "code",
   "execution_count": 35,
   "id": "c179cfa0",
   "metadata": {},
   "outputs": [
    {
     "data": {
      "text/plain": [
       "count    50.00000\n",
       "mean     10.74000\n",
       "std       3.55028\n",
       "min       5.00000\n",
       "25%       8.00000\n",
       "50%      11.00000\n",
       "75%      12.75000\n",
       "max      22.00000\n",
       "Name: NErros, dtype: float64"
      ]
     },
     "execution_count": 35,
     "metadata": {},
     "output_type": "execute_result"
    }
   ],
   "source": [
    "erros['NErros'].describe()"
   ]
  },
  {
   "cell_type": "markdown",
   "id": "532bb08f",
   "metadata": {},
   "source": [
    "### Problema 5:  Usando os resultados do Problema 2 e da GrauInstrucao:"
   ]
  },
  {
   "cell_type": "code",
   "execution_count": 36,
   "id": "3a22117a",
   "metadata": {},
   "outputs": [],
   "source": [
    "dados = pd.read_csv(\"Dados/EmpregadosCompanhiaMB.csv\", sep=\";\")"
   ]
  },
  {
   "cell_type": "markdown",
   "id": "8a6f17ad",
   "metadata": {},
   "source": [
    "#### Construa um histograma para a variável idade\n"
   ]
  },
  {
   "cell_type": "code",
   "execution_count": 37,
   "id": "b049cc9e",
   "metadata": {},
   "outputs": [
    {
     "data": {
      "text/plain": [
       "<Axes: xlabel='AnosIdade', ylabel='Count'>"
      ]
     },
     "execution_count": 37,
     "metadata": {},
     "output_type": "execute_result"
    },
    {
     "data": {
      "image/png": "[encoded data removed]",
      "text/plain": [
       "<Figure size 640x480 with 1 Axes>"
      ]
     },
     "metadata": {},
     "output_type": "display_data"
    }
   ],
   "source": [
    "sns.histplot(data=dados, x='AnosIdade')"
   ]
  },
  {
   "cell_type": "markdown",
   "id": "92ccd6a8",
   "metadata": {},
   "source": [
    "#### Proponha uma representação gráfica para a variável grau de instrução."
   ]
  },
  {
   "cell_type": "markdown",
   "id": "adc21c4c",
   "metadata": {},
   "source": [
    "OBS: No livro é usada uma tabela de frequência hipotetica(com bem mais funcionários) não usando os dados da tabela EmpregadosCompanhiaMB, então aqui resolvi utilizar a tabela que eu tinha disponiveis os dados, fazendo sua tabela de frequência e representação gráfica."
   ]
  },
  {
   "cell_type": "markdown",
   "id": "cc5b7b8f",
   "metadata": {},
   "source": [
    "##### Tabela de Frequência"
   ]
  },
  {
   "cell_type": "code",
   "execution_count": 38,
   "id": "dc7bff6b",
   "metadata": {},
   "outputs": [
    {
     "data": {
      "text/html": [
       "<div>\n",
       "<style scoped>\n",
       "    .dataframe tbody tr th:only-of-type {\n",
       "        vertical-align: middle;\n",
       "    }\n",
       "\n",
       "    .dataframe tbody tr th {\n",
       "        vertical-align: top;\n",
       "    }\n",
       "\n",
       "    .dataframe thead th {\n",
       "        text-align: right;\n",
       "    }\n",
       "</style>\n",
       "<table border=\"1\" class=\"dataframe\">\n",
       "  <thead>\n",
       "    <tr style=\"text-align: right;\">\n",
       "      <th>col_0</th>\n",
       "      <th>FreqAbsoluta</th>\n",
       "      <th>FreqRelativa</th>\n",
       "    </tr>\n",
       "    <tr>\n",
       "      <th>GrauInstrucao</th>\n",
       "      <th></th>\n",
       "      <th></th>\n",
       "    </tr>\n",
       "  </thead>\n",
       "  <tbody>\n",
       "    <tr>\n",
       "      <th>ensino fundamental</th>\n",
       "      <td>12</td>\n",
       "      <td>0.333333</td>\n",
       "    </tr>\n",
       "    <tr>\n",
       "      <th>ensino médio</th>\n",
       "      <td>18</td>\n",
       "      <td>0.500000</td>\n",
       "    </tr>\n",
       "    <tr>\n",
       "      <th>superior</th>\n",
       "      <td>6</td>\n",
       "      <td>0.166667</td>\n",
       "    </tr>\n",
       "    <tr>\n",
       "      <th>Total</th>\n",
       "      <td>36</td>\n",
       "      <td>1.000000</td>\n",
       "    </tr>\n",
       "  </tbody>\n",
       "</table>\n",
       "</div>"
      ],
      "text/plain": [
       "col_0               FreqAbsoluta  FreqRelativa\n",
       "GrauInstrucao                                 \n",
       "ensino fundamental            12      0.333333\n",
       "ensino médio                  18      0.500000\n",
       "superior                       6      0.166667\n",
       "Total                         36      1.000000"
      ]
     },
     "execution_count": 38,
     "metadata": {},
     "output_type": "execute_result"
    }
   ],
   "source": [
    "freq_table = pd.crosstab(dados['GrauInstrucao'], 'FreqAbsoluta')\n",
    "freq_table['FreqRelativa'] = freq_table['FreqAbsoluta']/len(dados) \n",
    "freq_table.loc['Total'] = freq_table.sum(axis=0)\n",
    "\n",
    "freq_table['FreqAbsoluta'] = freq_table['FreqAbsoluta'].astype(int)\n",
    "\n",
    "freq_table"
   ]
  },
  {
   "cell_type": "markdown",
   "id": "63cd6e2e",
   "metadata": {},
   "source": [
    "##### Representação gráfica"
   ]
  },
  {
   "cell_type": "markdown",
   "id": "016de26d",
   "metadata": {},
   "source": [
    "###### Gráfico de Barras "
   ]
  },
  {
   "cell_type": "code",
   "execution_count": 39,
   "id": "e0e18b33",
   "metadata": {},
   "outputs": [
    {
     "data": {
      "text/plain": [
       "<Axes: xlabel='GrauInstrucao'>"
      ]
     },
     "execution_count": 39,
     "metadata": {},
     "output_type": "execute_result"
    },
    {
     "data": {
      "image/png": "[encoded data removed]",
      "text/plain": [
       "<Figure size 640x480 with 1 Axes>"
      ]
     },
     "metadata": {},
     "output_type": "display_data"
    }
   ],
   "source": [
    "grau = dados.groupby(['GrauInstrucao']).size()\n",
    "grau.plot.bar(color = 'blue')"
   ]
  },
  {
   "cell_type": "markdown",
   "id": "036656d5",
   "metadata": {},
   "source": [
    "###### Gráfico de Setores(Pizza)"
   ]
  },
  {
   "cell_type": "code",
   "execution_count": 40,
   "id": "192aef40",
   "metadata": {},
   "outputs": [
    {
     "data": {
      "image/png": "[encoded data removed]",
      "text/plain": [
       "<Figure size 1000x700 with 1 Axes>"
      ]
     },
     "metadata": {},
     "output_type": "display_data"
    }
   ],
   "source": [
    "#Pegando a linha com o total para não sair no gráfico. \n",
    "freq_table.drop(['Total'], inplace=True)\n",
    "\n",
    "fig = plt.figure(figsize =(10, 7)) \n",
    "plt.pie(freq_table['FreqRelativa'], labels = freq_table.index) \n",
    "plt.show()"
   ]
  },
  {
   "cell_type": "code",
   "execution_count": null,
   "id": "3cf27a90",
   "metadata": {},
   "outputs": [],
   "source": []
  }
 ],
 "metadata": {
  "kernelspec": {
   "display_name": "Python 3 (ipykernel)",
   "language": "python",
   "name": "python3"
  },
  "language_info": {
   "codemirror_mode": {
    "name": "ipython",
    "version": 3
   },
   "file_extension": ".py",
   "mimetype": "text/x-python",
   "name": "python",
   "nbconvert_exporter": "python",
   "pygments_lexer": "ipython3",
   "version": "3.11.5"
  }
 },
 "nbformat": 4,
 "nbformat_minor": 5
}
