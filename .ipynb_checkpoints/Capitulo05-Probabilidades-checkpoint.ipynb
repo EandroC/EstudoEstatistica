{
 "cells": [
  {
   "cell_type": "code",
   "execution_count": 1,
   "id": "eb32a21d",
   "metadata": {},
   "outputs": [],
   "source": [
    "from itertools import product"
   ]
  },
  {
   "cell_type": "markdown",
   "id": "fd4fc865",
   "metadata": {},
   "source": [
    "### Problema 1: Uma urna contém duas bolas brancas (B) e três bolas vermelhas (V). Retira-se uma bola ao acaso da urna. Se for branca, lança-se uma moeda; se for vermelha, ela é devolvida à urna e retira-se outra. Dê um espaço amostral para o experimento."
   ]
  },
  {
   "cell_type": "code",
   "execution_count": 2,
   "id": "39e51d3e",
   "metadata": {},
   "outputs": [
    {
     "name": "stdout",
     "output_type": "stream",
     "text": [
      "Espaço Amostral:\n",
      "Ω = {('B', 'C'), ('B', 'K'), ('V', 'V'), ('V', 'B')}\n"
     ]
    }
   ],
   "source": [
    "espacoAmostral = []\n",
    "\n",
    "# Se uma bola branca for retirada\n",
    "for resultado in ['C', 'K']:  # Resultado da moeda - cara(C) ou coroa(K))\n",
    "    espacoAmostral.append(('B', resultado))\n",
    "\n",
    "# Se uma bola vermelha for retirada\n",
    "for resultado in ['V', 'B']:  # Será devolvida e retirada uma nova bola - vermelha(V) ou branca (B)\n",
    "    espacoAmostral.append(('V', resultado))\n",
    "\n",
    "print(\"Espaço Amostral:\")\n",
    "print(\"Ω = {\", end=\"\")\n",
    "print(', '.join([str(evento) for evento in espacoAmostral]), end=\"\")\n",
    "print(\"}\")"
   ]
  },
  {
   "cell_type": "markdown",
   "id": "bd417156",
   "metadata": {},
   "source": [
    "### Problema 2: Lance um dado até que a face 5 apareça pela primeira vez. Enumere os possíveis resultados desse experimento."
   ]
  },
  {
   "cell_type": "code",
   "execution_count": 3,
   "id": "b8f574e9",
   "metadata": {},
   "outputs": [
    {
     "name": "stdout",
     "output_type": "stream",
     "text": [
      "Espaço Amostral:\n",
      "Ω = {5, F5, FF5, FFF5, FFFF5, FFFFF5, ...}\n",
      "Esse espaço amostral pode ser infinito\n"
     ]
    }
   ],
   "source": [
    "def stringRepetida(letra, numero):\n",
    "    # Cria a string repetindo a letra o número de vezes especificado\n",
    "    string_repetida = letra * numero\n",
    "    return string_repetida\n",
    "\n",
    "espacoAmostral = []\n",
    "letra = 'F'\n",
    "for contagem in range(7):  # Resultado da moeda - cara(C) ou coroa(K))\n",
    "    if contagem == 0:\n",
    "        espacoAmostral.append(5)\n",
    "    elif contagem < 6:\n",
    "        string_repetida = stringRepetida(letra, contagem)\n",
    "        espacoAmostral.append(string_repetida + str(5))\n",
    "    else:\n",
    "        espacoAmostral.append('...')\n",
    "\n",
    "        \n",
    "print(\"Espaço Amostral:\")\n",
    "print(\"Ω = {\", end=\"\")\n",
    "print(', '.join([str(evento) for evento in espacoAmostral]), end=\"\")\n",
    "print(\"}\")\n",
    "print(\"Esse espaço amostral pode ser infinito\")"
   ]
  },
  {
   "cell_type": "markdown",
   "id": "069cd971",
   "metadata": {},
   "source": [
    "### Problema 3: Três jogadores A, B e C disputam um torneio de tênis. Inicialmente, A joga com B e o vencedor joga com C, e assim por diante. O torneio termina quando um jogador ganha duas vezes em seguida ou quando são disputadas, ao todo, quatro partidas. Quais são os resultados possíveis do torneio?"
   ]
  },
  {
   "cell_type": "code",
   "execution_count": 4,
   "id": "782108aa",
   "metadata": {},
   "outputs": [
    {
     "name": "stdout",
     "output_type": "stream",
     "text": [
      "Resultado possíveis:\n",
      "Ω = {('A', 'A'), ('A', 'C', 'B', 'A'), ('A', 'C', 'B', 'B'), ('A', 'C', 'C'), ('B', 'B'), ('B', 'C', 'A', 'A'), ('B', 'C', 'A', 'B'), ('B', 'C', 'C')}\n"
     ]
    }
   ],
   "source": [
    "espacoAmostral =[]\n",
    "\n",
    "for rodada1 in ['A', 'B']:\n",
    "    espacoAmostral.append((rodada1, rodada1))\n",
    "    for rodada2 in [rodada1, 'C']:\n",
    "        if rodada1 != rodada2:\n",
    "            for rodada3 in ['A', 'B', 'C']:\n",
    "                if rodada2 == rodada3:\n",
    "                    espacoAmostral.append((rodada1, rodada2, rodada3))\n",
    "                else:\n",
    "                    for rodada4 in ['A', 'B']:\n",
    "                           if rodada1 != rodada3: #Não é possivel que aconteça isso, ex: R1: AB= A, R2: AC= C, R3: CB= B (na rodada 3 irá jogar contra o eliminado da rodada 1)\n",
    "                                espacoAmostral.append((rodada1, rodada2, rodada3, rodada4))\n",
    "        \n",
    "    \n",
    "print(\"Resultado possíveis:\")\n",
    "print(\"Ω = {\", end=\"\")\n",
    "print(', '.join([str(evento) for evento in espacoAmostral]), end=\"\")\n",
    "print(\"}\")"
   ]
  },
  {
   "cell_type": "markdown",
   "id": "ccf25a01",
   "metadata": {},
   "source": [
    "### Problema 4: Duas moedas são lançadas. Dê dois possíveis espaços amostrais para esse experimento. Represente um deles como o produto cartesiano de dois outros espaços amostrais (ver Morettin et al., 1999, para o conceito de produto cartesiano)."
   ]
  },
  {
   "cell_type": "code",
   "execution_count": 5,
   "id": "dd9ad956",
   "metadata": {},
   "outputs": [
    {
     "name": "stdout",
     "output_type": "stream",
     "text": [
      "Espaço Amostral:\n",
      "Ω = {('C', 'C'), ('K', 'C'), ('C', 'K'), ('K', 'K')}\n"
     ]
    }
   ],
   "source": [
    "espacoAmostral = []\n",
    "\n",
    "\n",
    "for moeda in ['C', 'K']:\n",
    "    espacoAmostral.append(('C', moeda))\n",
    "    espacoAmostral.append(('K', moeda))\n",
    "\n",
    "print(\"Espaço Amostral:\")\n",
    "print(\"Ω = {\", end=\"\")\n",
    "print(', '.join([str(evento) for evento in espacoAmostral]), end=\"\")\n",
    "print(\"}\")"
   ]
  },
  {
   "cell_type": "markdown",
   "id": "7e6cde47",
   "metadata": {},
   "source": [
    "#### utilizando itertools"
   ]
  },
  {
   "cell_type": "code",
   "execution_count": 6,
   "id": "fcc70eb5",
   "metadata": {},
   "outputs": [
    {
     "name": "stdout",
     "output_type": "stream",
     "text": [
      "Espaço Amostral:\n",
      "Ω = {('C', 'C'), ('C', 'K'), ('K', 'C'), ('K', 'K')}\n"
     ]
    }
   ],
   "source": [
    "moeda = ['C', 'K']\n",
    "\n",
    "espacoAmostral = list(product(moeda, repeat=2))\n",
    "\n",
    "print(\"Espaço Amostral:\")\n",
    "print(\"Ω = {\", end=\"\")\n",
    "print(', '.join([str(evento) for evento in espacoAmostral]), end=\"\")\n",
    "print(\"}\")"
   ]
  },
  {
   "cell_type": "code",
   "execution_count": 7,
   "id": "f6477d2a",
   "metadata": {},
   "outputs": [
    {
     "name": "stdout",
     "output_type": "stream",
     "text": [
      "O produto cartesiano seria: Ω={ C, K } X { C, K }\n"
     ]
    }
   ],
   "source": [
    "print('O produto cartesiano seria: Ω={{ {}, {} }} X {{ {}, {} }}'.format(moeda[0], moeda[1], moeda[0], moeda[1]))"
   ]
  },
  {
   "cell_type": "markdown",
   "id": "de94bd23",
   "metadata": {},
   "source": [
    "### Problema 5: Uma moeda e um dado são lançados. Dê um espaço amostral do experimento e depois represente-o como produto cartesiano dos dois espaços amostrais, correspondente aos experimentos considerados individualmente."
   ]
  },
  {
   "cell_type": "code",
   "execution_count": 8,
   "id": "f15376e8",
   "metadata": {},
   "outputs": [
    {
     "name": "stdout",
     "output_type": "stream",
     "text": [
      "Espaço Amostral:\n",
      "Ω = {('C', 1), ('C', 2), ('C', 3), ('C', 4), ('C', 5), ('C', 6), ('K', 1), ('K', 2), ('K', 3), ('K', 4), ('K', 5), ('K', 6)}\n"
     ]
    }
   ],
   "source": [
    "espacoAmostral = []\n",
    "\n",
    "\n",
    "for moeda in range(1,7):\n",
    "    espacoAmostral.append(('C', moeda))\n",
    "    espacoAmostral.append(('K', moeda))\n",
    "\n",
    "espacoAmostral = sorted(espacoAmostral)\n",
    "\n",
    "print(\"Espaço Amostral:\")\n",
    "print(\"Ω = {\", end=\"\")\n",
    "print(', '.join([str(evento) for evento in espacoAmostral]), end=\"\")\n",
    "print(\"}\")"
   ]
  },
  {
   "cell_type": "code",
   "execution_count": 9,
   "id": "3092adc6",
   "metadata": {},
   "outputs": [
    {
     "name": "stdout",
     "output_type": "stream",
     "text": [
      "Espaço Amostral:\n",
      "Ω = {('C', 1), ('C', 2), ('C', 3), ('C', 4), ('C', 5), ('C', 6), ('K', 1), ('K', 2), ('K', 3), ('K', 4), ('K', 5), ('K', 6)}\n"
     ]
    }
   ],
   "source": [
    "moeda = ['C', 'K']\n",
    "dado = [1, 2, 3, 4, 5, 6]\n",
    "\n",
    "espacoAmostral = list(product(moeda, dado))\n",
    "\n",
    "print(\"Espaço Amostral:\")\n",
    "print(\"Ω = {\", end=\"\")\n",
    "print(', '.join([str(evento) for evento in espacoAmostral]), end=\"\")\n",
    "print(\"}\")"
   ]
  },
  {
   "cell_type": "code",
   "execution_count": 10,
   "id": "ce363d3a",
   "metadata": {},
   "outputs": [
    {
     "name": "stdout",
     "output_type": "stream",
     "text": [
      "O produto cartesiano seria: Ω={ C, K } X { 1, 2, 3, 4, 5, 6, }\n"
     ]
    }
   ],
   "source": [
    "moeda = ['C', 'K']\n",
    "dado = [1, 2, 3, 4, 5, 6]\n",
    "\n",
    "# Imprimindo o produto cartesiano com formatação de string e um loop for\n",
    "print('O produto cartesiano seria: Ω={{ {}, {} }} X {{'.format(moeda[0], moeda[1]), end='')\n",
    "for valor in dado:\n",
    "    print(' {},'.format(valor), end='')\n",
    "print(' }')\n"
   ]
  },
  {
   "cell_type": "markdown",
   "id": "1545b598",
   "metadata": {},
   "source": [
    "### Problema 6:  Defina um espaço amostral para cada um dos seguintes experimentos aleatórios:"
   ]
  },
  {
   "cell_type": "markdown",
   "id": "f94a3f99",
   "metadata": {},
   "source": [
    "#### Lançamento de dois dados; anota-se a configuração obtida"
   ]
  },
  {
   "cell_type": "code",
   "execution_count": 11,
   "id": "d1b70993",
   "metadata": {},
   "outputs": [
    {
     "name": "stdout",
     "output_type": "stream",
     "text": [
      "Espaço Amostral:\n",
      "Ω = {(1, 1), (1, 2), (1, 3), (1, 4), (1, 5), (1, 6), (2, 1), (2, 2), (2, 3), (2, 4), (2, 5), (2, 6), (3, 1), (3, 2), (3, 3), (3, 4), (3, 5), (3, 6), (4, 1), (4, 2), (4, 3), (4, 4), (4, 5), (4, 6), (5, 1), (5, 2), (5, 3), (5, 4), (5, 5), (5, 6), (6, 1), (6, 2), (6, 3), (6, 4), (6, 5), (6, 6)}\n"
     ]
    }
   ],
   "source": [
    "dado = [1, 2, 3, 4, 5, 6]\n",
    "\n",
    "espacoAmostral = list(product(dado, repeat=2))\n",
    "\n",
    "print(\"Espaço Amostral:\")\n",
    "print(\"Ω = {\", end=\"\")\n",
    "print(', '.join([str(evento) for evento in espacoAmostral]), end=\"\")\n",
    "print(\"}\")"
   ]
  },
  {
   "cell_type": "markdown",
   "id": "831df350",
   "metadata": {},
   "source": [
    "#### Numa linha de produção conta-se o número de peças defeituosas num intervalo de uma hora."
   ]
  },
  {
   "cell_type": "code",
   "execution_count": 12,
   "id": "c4d15c8b",
   "metadata": {},
   "outputs": [
    {
     "name": "stdout",
     "output_type": "stream",
     "text": [
      "Espaço Amostral:\n",
      "Ω = {1, 2, 3, 4, 5, 6, ...}\n"
     ]
    }
   ],
   "source": [
    "espacoAmostral = [1, 2, 3, 4, 5, 6, '...']\n",
    "\n",
    "print(\"Espaço Amostral:\")\n",
    "print(\"Ω = {\", end=\"\")\n",
    "print(', '.join([str(evento) for evento in espacoAmostral]), end=\"\")\n",
    "print(\"}\")"
   ]
  },
  {
   "cell_type": "code",
   "execution_count": null,
   "id": "90daff03",
   "metadata": {},
   "outputs": [],
   "source": []
  },
  {
   "cell_type": "code",
   "execution_count": null,
   "id": "33e4f20f",
   "metadata": {},
   "outputs": [],
   "source": []
  }
 ],
 "metadata": {
  "kernelspec": {
   "display_name": "Python 3 (ipykernel)",
   "language": "python",
   "name": "python3"
  },
  "language_info": {
   "codemirror_mode": {
    "name": "ipython",
    "version": 3
   },
   "file_extension": ".py",
   "mimetype": "text/x-python",
   "name": "python",
   "nbconvert_exporter": "python",
   "pygments_lexer": "ipython3",
   "version": "3.11.5"
  }
 },
 "nbformat": 4,
 "nbformat_minor": 5
}
