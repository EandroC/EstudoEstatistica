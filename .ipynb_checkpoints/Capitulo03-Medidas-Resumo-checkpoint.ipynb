{
 "cells": [
  {
   "cell_type": "code",
   "execution_count": 1,
   "id": "0c147656",
   "metadata": {},
   "outputs": [],
   "source": [
    "import pandas as pd\n",
    "import numpy as np\n",
    "import math as mt\n",
    "from matplotlib import pyplot as plt "
   ]
  },
  {
   "cell_type": "markdown",
   "id": "0401700d",
   "metadata": {},
   "source": [
    "### Problema 1: Quer se estudar o número de erros de impressão de um livro. Para isso escolheu-se uma amostra de 50 páginas, encontrando-se o número de erros por página da tabela abaixo."
   ]
  },
  {
   "cell_type": "code",
   "execution_count": 2,
   "id": "5955a80a",
   "metadata": {},
   "outputs": [
    {
     "data": {
      "text/html": [
       "<div>\n",
       "<style scoped>\n",
       "    .dataframe tbody tr th:only-of-type {\n",
       "        vertical-align: middle;\n",
       "    }\n",
       "\n",
       "    .dataframe tbody tr th {\n",
       "        vertical-align: top;\n",
       "    }\n",
       "\n",
       "    .dataframe thead th {\n",
       "        text-align: right;\n",
       "    }\n",
       "</style>\n",
       "<table border=\"1\" class=\"dataframe\">\n",
       "  <thead>\n",
       "    <tr style=\"text-align: right;\">\n",
       "      <th></th>\n",
       "      <th>Erros</th>\n",
       "      <th>Frequencia</th>\n",
       "    </tr>\n",
       "  </thead>\n",
       "  <tbody>\n",
       "    <tr>\n",
       "      <th>0</th>\n",
       "      <td>0</td>\n",
       "      <td>25</td>\n",
       "    </tr>\n",
       "    <tr>\n",
       "      <th>1</th>\n",
       "      <td>1</td>\n",
       "      <td>20</td>\n",
       "    </tr>\n",
       "    <tr>\n",
       "      <th>2</th>\n",
       "      <td>2</td>\n",
       "      <td>3</td>\n",
       "    </tr>\n",
       "    <tr>\n",
       "      <th>3</th>\n",
       "      <td>3</td>\n",
       "      <td>1</td>\n",
       "    </tr>\n",
       "    <tr>\n",
       "      <th>4</th>\n",
       "      <td>4</td>\n",
       "      <td>1</td>\n",
       "    </tr>\n",
       "  </tbody>\n",
       "</table>\n",
       "</div>"
      ],
      "text/plain": [
       "   Erros  Frequencia\n",
       "0      0          25\n",
       "1      1          20\n",
       "2      2           3\n",
       "3      3           1\n",
       "4      4           1"
      ]
     },
     "execution_count": 2,
     "metadata": {},
     "output_type": "execute_result"
    }
   ],
   "source": [
    "erros = [0, 1, 2, 3, 4]\n",
    "frequencia = [25, 20, 3, 1, 1]\n",
    "\n",
    "freq_table = pd.DataFrame(erros, columns=['Erros'])\n",
    "freq_table['Frequencia'] = frequencia\n",
    "\n",
    "freq_table"
   ]
  },
  {
   "cell_type": "code",
   "execution_count": 3,
   "id": "b44c33f5",
   "metadata": {},
   "outputs": [
    {
     "data": {
      "text/html": [
       "<div>\n",
       "<style scoped>\n",
       "    .dataframe tbody tr th:only-of-type {\n",
       "        vertical-align: middle;\n",
       "    }\n",
       "\n",
       "    .dataframe tbody tr th {\n",
       "        vertical-align: top;\n",
       "    }\n",
       "\n",
       "    .dataframe thead th {\n",
       "        text-align: right;\n",
       "    }\n",
       "</style>\n",
       "<table border=\"1\" class=\"dataframe\">\n",
       "  <thead>\n",
       "    <tr style=\"text-align: right;\">\n",
       "      <th></th>\n",
       "      <th>QtdErrosXPgn</th>\n",
       "    </tr>\n",
       "  </thead>\n",
       "  <tbody>\n",
       "    <tr>\n",
       "      <th>0</th>\n",
       "      <td>0</td>\n",
       "    </tr>\n",
       "    <tr>\n",
       "      <th>1</th>\n",
       "      <td>0</td>\n",
       "    </tr>\n",
       "    <tr>\n",
       "      <th>2</th>\n",
       "      <td>0</td>\n",
       "    </tr>\n",
       "    <tr>\n",
       "      <th>3</th>\n",
       "      <td>0</td>\n",
       "    </tr>\n",
       "    <tr>\n",
       "      <th>4</th>\n",
       "      <td>0</td>\n",
       "    </tr>\n",
       "    <tr>\n",
       "      <th>5</th>\n",
       "      <td>0</td>\n",
       "    </tr>\n",
       "    <tr>\n",
       "      <th>6</th>\n",
       "      <td>0</td>\n",
       "    </tr>\n",
       "    <tr>\n",
       "      <th>7</th>\n",
       "      <td>0</td>\n",
       "    </tr>\n",
       "    <tr>\n",
       "      <th>8</th>\n",
       "      <td>0</td>\n",
       "    </tr>\n",
       "    <tr>\n",
       "      <th>9</th>\n",
       "      <td>0</td>\n",
       "    </tr>\n",
       "    <tr>\n",
       "      <th>10</th>\n",
       "      <td>0</td>\n",
       "    </tr>\n",
       "    <tr>\n",
       "      <th>11</th>\n",
       "      <td>0</td>\n",
       "    </tr>\n",
       "    <tr>\n",
       "      <th>12</th>\n",
       "      <td>0</td>\n",
       "    </tr>\n",
       "    <tr>\n",
       "      <th>13</th>\n",
       "      <td>0</td>\n",
       "    </tr>\n",
       "    <tr>\n",
       "      <th>14</th>\n",
       "      <td>0</td>\n",
       "    </tr>\n",
       "    <tr>\n",
       "      <th>15</th>\n",
       "      <td>0</td>\n",
       "    </tr>\n",
       "    <tr>\n",
       "      <th>16</th>\n",
       "      <td>0</td>\n",
       "    </tr>\n",
       "    <tr>\n",
       "      <th>17</th>\n",
       "      <td>0</td>\n",
       "    </tr>\n",
       "    <tr>\n",
       "      <th>18</th>\n",
       "      <td>0</td>\n",
       "    </tr>\n",
       "    <tr>\n",
       "      <th>19</th>\n",
       "      <td>0</td>\n",
       "    </tr>\n",
       "    <tr>\n",
       "      <th>20</th>\n",
       "      <td>0</td>\n",
       "    </tr>\n",
       "    <tr>\n",
       "      <th>21</th>\n",
       "      <td>0</td>\n",
       "    </tr>\n",
       "    <tr>\n",
       "      <th>22</th>\n",
       "      <td>0</td>\n",
       "    </tr>\n",
       "    <tr>\n",
       "      <th>23</th>\n",
       "      <td>0</td>\n",
       "    </tr>\n",
       "    <tr>\n",
       "      <th>24</th>\n",
       "      <td>0</td>\n",
       "    </tr>\n",
       "    <tr>\n",
       "      <th>25</th>\n",
       "      <td>1</td>\n",
       "    </tr>\n",
       "    <tr>\n",
       "      <th>26</th>\n",
       "      <td>1</td>\n",
       "    </tr>\n",
       "    <tr>\n",
       "      <th>27</th>\n",
       "      <td>1</td>\n",
       "    </tr>\n",
       "    <tr>\n",
       "      <th>28</th>\n",
       "      <td>1</td>\n",
       "    </tr>\n",
       "    <tr>\n",
       "      <th>29</th>\n",
       "      <td>1</td>\n",
       "    </tr>\n",
       "    <tr>\n",
       "      <th>30</th>\n",
       "      <td>1</td>\n",
       "    </tr>\n",
       "    <tr>\n",
       "      <th>31</th>\n",
       "      <td>1</td>\n",
       "    </tr>\n",
       "    <tr>\n",
       "      <th>32</th>\n",
       "      <td>1</td>\n",
       "    </tr>\n",
       "    <tr>\n",
       "      <th>33</th>\n",
       "      <td>1</td>\n",
       "    </tr>\n",
       "    <tr>\n",
       "      <th>34</th>\n",
       "      <td>1</td>\n",
       "    </tr>\n",
       "    <tr>\n",
       "      <th>35</th>\n",
       "      <td>1</td>\n",
       "    </tr>\n",
       "    <tr>\n",
       "      <th>36</th>\n",
       "      <td>1</td>\n",
       "    </tr>\n",
       "    <tr>\n",
       "      <th>37</th>\n",
       "      <td>1</td>\n",
       "    </tr>\n",
       "    <tr>\n",
       "      <th>38</th>\n",
       "      <td>1</td>\n",
       "    </tr>\n",
       "    <tr>\n",
       "      <th>39</th>\n",
       "      <td>1</td>\n",
       "    </tr>\n",
       "    <tr>\n",
       "      <th>40</th>\n",
       "      <td>1</td>\n",
       "    </tr>\n",
       "    <tr>\n",
       "      <th>41</th>\n",
       "      <td>1</td>\n",
       "    </tr>\n",
       "    <tr>\n",
       "      <th>42</th>\n",
       "      <td>1</td>\n",
       "    </tr>\n",
       "    <tr>\n",
       "      <th>43</th>\n",
       "      <td>1</td>\n",
       "    </tr>\n",
       "    <tr>\n",
       "      <th>44</th>\n",
       "      <td>1</td>\n",
       "    </tr>\n",
       "    <tr>\n",
       "      <th>45</th>\n",
       "      <td>2</td>\n",
       "    </tr>\n",
       "    <tr>\n",
       "      <th>46</th>\n",
       "      <td>2</td>\n",
       "    </tr>\n",
       "    <tr>\n",
       "      <th>47</th>\n",
       "      <td>2</td>\n",
       "    </tr>\n",
       "    <tr>\n",
       "      <th>48</th>\n",
       "      <td>3</td>\n",
       "    </tr>\n",
       "    <tr>\n",
       "      <th>49</th>\n",
       "      <td>4</td>\n",
       "    </tr>\n",
       "  </tbody>\n",
       "</table>\n",
       "</div>"
      ],
      "text/plain": [
       "    QtdErrosXPgn\n",
       "0              0\n",
       "1              0\n",
       "2              0\n",
       "3              0\n",
       "4              0\n",
       "5              0\n",
       "6              0\n",
       "7              0\n",
       "8              0\n",
       "9              0\n",
       "10             0\n",
       "11             0\n",
       "12             0\n",
       "13             0\n",
       "14             0\n",
       "15             0\n",
       "16             0\n",
       "17             0\n",
       "18             0\n",
       "19             0\n",
       "20             0\n",
       "21             0\n",
       "22             0\n",
       "23             0\n",
       "24             0\n",
       "25             1\n",
       "26             1\n",
       "27             1\n",
       "28             1\n",
       "29             1\n",
       "30             1\n",
       "31             1\n",
       "32             1\n",
       "33             1\n",
       "34             1\n",
       "35             1\n",
       "36             1\n",
       "37             1\n",
       "38             1\n",
       "39             1\n",
       "40             1\n",
       "41             1\n",
       "42             1\n",
       "43             1\n",
       "44             1\n",
       "45             2\n",
       "46             2\n",
       "47             2\n",
       "48             3\n",
       "49             4"
      ]
     },
     "execution_count": 3,
     "metadata": {},
     "output_type": "execute_result"
    }
   ],
   "source": [
    "paginas = []\n",
    "\n",
    "for erro, freq in zip(erros, frequencia):\n",
    "    paginas.extend([erro] * freq)\n",
    "\n",
    "paginas = pd.DataFrame(paginas, columns=['QtdErrosXPgn'])\n",
    "paginas"
   ]
  },
  {
   "cell_type": "markdown",
   "id": "c1da384a",
   "metadata": {},
   "source": [
    "#### Qual o número médio de erros por página?"
   ]
  },
  {
   "cell_type": "code",
   "execution_count": 4,
   "id": "d93d7a4b",
   "metadata": {},
   "outputs": [
    {
     "name": "stdout",
     "output_type": "stream",
     "text": [
      "Media: 0.66  Media usando pandas:  0.66\n"
     ]
    }
   ],
   "source": [
    "#Sem o uso do pandas\n",
    "media = paginas['QtdErrosXPgn'].sum()/len(paginas)\n",
    "\n",
    "#Usando o pandas\n",
    "mediaPd = paginas['QtdErrosXPgn'].mean()\n",
    "\n",
    "print('Media:', media,' Media usando pandas: ', mediaPd)"
   ]
  },
  {
   "cell_type": "markdown",
   "id": "1445259e",
   "metadata": {},
   "source": [
    "#### E o número mediano?"
   ]
  },
  {
   "cell_type": "code",
   "execution_count": 5,
   "id": "ce94c565",
   "metadata": {},
   "outputs": [
    {
     "name": "stdout",
     "output_type": "stream",
     "text": [
      "Mediana: 0.5  Mediana usando pandas:  0.5\n"
     ]
    }
   ],
   "source": [
    "#Sem o uso do Pandas\n",
    "if len(paginas)%2==0:\n",
    "    i = int((len(paginas)/2)-1)\n",
    "    o = i+1\n",
    "    mediana = (paginas['QtdErrosXPgn'][i] + paginas['QtdErrosXPgn'][o])/ 2\n",
    "else:\n",
    "    i = floor(len(paginas['QtdErrosXPgn'])/2)\n",
    "    mediana = paginas['QtdErrosXPgn'][i]\n",
    "\n",
    "#Usando o pandas\n",
    "\n",
    "medianaPd = paginas['QtdErrosXPgn'].median()\n",
    "\n",
    "print('Mediana:', mediana,' Mediana usando pandas: ', medianaPd)"
   ]
  },
  {
   "cell_type": "markdown",
   "id": "837d9774",
   "metadata": {},
   "source": [
    "#### Qual é o desvio padrão?"
   ]
  },
  {
   "cell_type": "markdown",
   "id": "2c2ea516",
   "metadata": {},
   "source": [
    "##### Sem o uso do pandas"
   ]
  },
  {
   "cell_type": "code",
   "execution_count": 6,
   "id": "2d24c8b9",
   "metadata": {},
   "outputs": [],
   "source": [
    "def funcDesvio(valor, media):\n",
    "    if valor > media:\n",
    "        return round(valor - media, 3)\n",
    "    else:\n",
    "        return round(media - valor, 3) \n",
    "    \n",
    "def funcQuadradoDesvios(valor):\n",
    "    return round(valor**2, 3)"
   ]
  },
  {
   "cell_type": "code",
   "execution_count": 7,
   "id": "78f43ff6",
   "metadata": {},
   "outputs": [
    {
     "name": "stdout",
     "output_type": "stream",
     "text": [
      "Desvios: [0.66, 0.66, 0.66, 0.66, 0.66, 0.66, 0.66, 0.66, 0.66, 0.66, 0.66, 0.66, 0.66, 0.66, 0.66, 0.66, 0.66, 0.66, 0.66, 0.66, 0.66, 0.66, 0.66, 0.66, 0.66, 0.34, 0.34, 0.34, 0.34, 0.34, 0.34, 0.34, 0.34, 0.34, 0.34, 0.34, 0.34, 0.34, 0.34, 0.34, 0.34, 0.34, 0.34, 0.34, 0.34, 1.34, 1.34, 1.34, 2.34, 3.34]\n",
      "\n",
      "Desvio Medio: 0.66\n",
      "\n",
      "Quadrado dos desvios [0.436, 0.436, 0.436, 0.436, 0.436, 0.436, 0.436, 0.436, 0.436, 0.436, 0.436, 0.436, 0.436, 0.436, 0.436, 0.436, 0.436, 0.436, 0.436, 0.436, 0.436, 0.436, 0.436, 0.436, 0.436, 0.116, 0.116, 0.116, 0.116, 0.116, 0.116, 0.116, 0.116, 0.116, 0.116, 0.116, 0.116, 0.116, 0.116, 0.116, 0.116, 0.116, 0.116, 0.116, 0.116, 1.796, 1.796, 1.796, 5.476, 11.156]\n",
      "\n",
      "Variancia: 0.705\n",
      "\n",
      "Desvio Padrão: 0.84\n"
     ]
    }
   ],
   "source": [
    "tamanho = len(paginas)\n",
    "media = paginas['QtdErrosXPgn'].mean()\n",
    "\n",
    "desvios = []\n",
    "quadradoDesvios = []\n",
    "\n",
    "#Pegando os desvios de cada elemento\n",
    "for i in paginas['QtdErrosXPgn']:\n",
    "    desvios.append(funcDesvio(i, media))\n",
    "\n",
    "#Calculando o desvio medio a partir do desvio\n",
    "desvioMedio = (sum(desvios))/tamanho\n",
    "\n",
    "#Pegando o quadrado dos desvios de cada elemento\n",
    "for i in desvios:\n",
    "    quadradoDesvios.append(funcQuadradoDesvios(i))\n",
    "    \n",
    "#Calculando a variancia a partir do quadrado dos desvios\n",
    "variancia = round((sum(quadradoDesvios))/tamanho, 3)\n",
    "\n",
    "#Calculado o desvio Padrao a partir da variância\n",
    "desvioPadrao = round(mt.sqrt(variancia),2)\n",
    "\n",
    "print('Desvios:', desvios)\n",
    "print()\n",
    "print('Desvio Medio:', desvioMedio)\n",
    "print()\n",
    "print('Quadrado dos desvios', quadradoDesvios)\n",
    "print()\n",
    "print('Variancia:', variancia)\n",
    "print()\n",
    "print('Desvio Padrão:', desvioPadrao)"
   ]
  },
  {
   "cell_type": "markdown",
   "id": "58b65814",
   "metadata": {},
   "source": [
    "##### Com o pandas"
   ]
  },
  {
   "cell_type": "code",
   "execution_count": 8,
   "id": "8d0c0e6d",
   "metadata": {},
   "outputs": [
    {
     "name": "stdout",
     "output_type": "stream",
     "text": [
      "Desvio Médio: 0.66\n",
      "Variância: 0.719\n",
      "Desvio Padrão: 0.85\n"
     ]
    }
   ],
   "source": [
    "#lista.mad() foi descontinuado\n",
    "desvioMedio = paginas['QtdErrosXPgn']\n",
    "desvioMedio = (desvioMedio-desvioMedio.mean()).abs().mean()\n",
    "print('Desvio Médio:', desvioMedio)\n",
    "\n",
    "#variância\n",
    "variancia = round(paginas['QtdErrosXPgn'].var(), 3)\n",
    "print(\"Variância:\", variancia)\n",
    "\n",
    "#desvio padrão\n",
    "desvioPadrao = round(paginas['QtdErrosXPgn'].std(), 2)\n",
    "print(\"Desvio Padrão:\", desvioPadrao)\n"
   ]
  },
  {
   "cell_type": "markdown",
   "id": "deb20598",
   "metadata": {},
   "source": [
    "###### Acredito que da primeira maneira o calculo é mais preciso."
   ]
  },
  {
   "cell_type": "markdown",
   "id": "d5f390df",
   "metadata": {},
   "source": [
    "##### Acima achei melhor definir os desvios, desvio médio, quadrado dos desvio, variância e o desvio padrão, para mostra os outros pontos e o que deve ser feito até chegar DP"
   ]
  },
  {
   "cell_type": "markdown",
   "id": "e4d09a21",
   "metadata": {},
   "source": [
    "#### Faça uma representação gráfica para a distribuição."
   ]
  },
  {
   "cell_type": "code",
   "execution_count": 9,
   "id": "1ad0ce27",
   "metadata": {},
   "outputs": [
    {
     "data": {
      "image/png": "[encoded data removed]",
      "text/plain": [
       "<Figure size 640x480 with 1 Axes>"
      ]
     },
     "metadata": {},
     "output_type": "display_data"
    }
   ],
   "source": [
    "plt.bar(freq_table['Erros'], freq_table['Frequencia'])\n",
    "plt.xlabel('Erros')\n",
    "plt.ylabel('Frequência')\n",
    "plt.title('Erros por Frequência')\n",
    "plt.show()\n"
   ]
  },
  {
   "cell_type": "markdown",
   "id": "5b8c0974",
   "metadata": {},
   "source": [
    "#### Se o livro tem 500 páginas, qual o número total de erros esperado no livro?"
   ]
  },
  {
   "cell_type": "code",
   "execution_count": 10,
   "id": "6e568ee0",
   "metadata": {},
   "outputs": [
    {
     "name": "stdout",
     "output_type": "stream",
     "text": [
      "O valor esperado é:  330.0\n"
     ]
    }
   ],
   "source": [
    "valor = media * 500\n",
    "print('O valor esperado é: ', valor)"
   ]
  },
  {
   "cell_type": "markdown",
   "id": "0b15c4b9",
   "metadata": {},
   "source": [
    "### Problema 2: As taxas de juros recebidas por 10 ações durante um certo período foram (medidas em porcentagem) 2,59; 2,64; 2,60; 2,62; 2,57; 2,55; 2,61; 2,50; 2,63; 2,64. Calcule a média, a mediana e o desvio padrão."
   ]
  },
  {
   "cell_type": "code",
   "execution_count": 11,
   "id": "2b6cd819",
   "metadata": {},
   "outputs": [],
   "source": [
    "dados = [2.59, 2.64, 2.60, 2.62, 2.57, 2.55, 2.61, 2.50, 2.63, 2.64]"
   ]
  },
  {
   "cell_type": "code",
   "execution_count": 12,
   "id": "bf2fce8e",
   "metadata": {},
   "outputs": [
    {
     "data": {
      "text/html": [
       "<div>\n",
       "<style scoped>\n",
       "    .dataframe tbody tr th:only-of-type {\n",
       "        vertical-align: middle;\n",
       "    }\n",
       "\n",
       "    .dataframe tbody tr th {\n",
       "        vertical-align: top;\n",
       "    }\n",
       "\n",
       "    .dataframe thead th {\n",
       "        text-align: right;\n",
       "    }\n",
       "</style>\n",
       "<table border=\"1\" class=\"dataframe\">\n",
       "  <thead>\n",
       "    <tr style=\"text-align: right;\">\n",
       "      <th></th>\n",
       "      <th>TaxasJuros</th>\n",
       "    </tr>\n",
       "  </thead>\n",
       "  <tbody>\n",
       "    <tr>\n",
       "      <th>0</th>\n",
       "      <td>2.59</td>\n",
       "    </tr>\n",
       "    <tr>\n",
       "      <th>1</th>\n",
       "      <td>2.64</td>\n",
       "    </tr>\n",
       "    <tr>\n",
       "      <th>2</th>\n",
       "      <td>2.60</td>\n",
       "    </tr>\n",
       "    <tr>\n",
       "      <th>3</th>\n",
       "      <td>2.62</td>\n",
       "    </tr>\n",
       "    <tr>\n",
       "      <th>4</th>\n",
       "      <td>2.57</td>\n",
       "    </tr>\n",
       "    <tr>\n",
       "      <th>5</th>\n",
       "      <td>2.55</td>\n",
       "    </tr>\n",
       "    <tr>\n",
       "      <th>6</th>\n",
       "      <td>2.61</td>\n",
       "    </tr>\n",
       "    <tr>\n",
       "      <th>7</th>\n",
       "      <td>2.50</td>\n",
       "    </tr>\n",
       "    <tr>\n",
       "      <th>8</th>\n",
       "      <td>2.63</td>\n",
       "    </tr>\n",
       "    <tr>\n",
       "      <th>9</th>\n",
       "      <td>2.64</td>\n",
       "    </tr>\n",
       "  </tbody>\n",
       "</table>\n",
       "</div>"
      ],
      "text/plain": [
       "   TaxasJuros\n",
       "0        2.59\n",
       "1        2.64\n",
       "2        2.60\n",
       "3        2.62\n",
       "4        2.57\n",
       "5        2.55\n",
       "6        2.61\n",
       "7        2.50\n",
       "8        2.63\n",
       "9        2.64"
      ]
     },
     "execution_count": 12,
     "metadata": {},
     "output_type": "execute_result"
    }
   ],
   "source": [
    "dados = pd.DataFrame(dados, columns=['TaxasJuros'])\n",
    "dados"
   ]
  },
  {
   "cell_type": "code",
   "execution_count": 13,
   "id": "2dba9d54",
   "metadata": {},
   "outputs": [
    {
     "name": "stdout",
     "output_type": "stream",
     "text": [
      "Media: 2.6\n",
      "Mediana: 2.6\n",
      "Desvio Padrão: 0.04\n"
     ]
    }
   ],
   "source": [
    "media = round(dados['TaxasJuros'].mean(), 2)\n",
    "print('Media:', media)\n",
    "\n",
    "mediana = round(dados['TaxasJuros'].median(), 2)\n",
    "print('Mediana:', mediana)\n",
    "\n",
    "desvioPadrao = round(dados['TaxasJuros'].std(), 2)\n",
    "print(\"Desvio Padrão:\", desvioPadrao)"
   ]
  },
  {
   "cell_type": "markdown",
   "id": "980ba1d3",
   "metadata": {},
   "source": [
    "### Problema 3: Para facilitar um projeto de ampliação da rede de esgoto de uma certa região de uma cidade, as autoridades tomaram uma amostra de tamanho 50 dos 270 quarteirões que compõem a região, e foram encontrados os seguintes números de casas por quarteirão:\n",
    "                                 2  2  3 10 13 14 15 15 16 16\n",
    "                                18 18 20 21 22 22 23 24 25 25\n",
    "                                26 27 29 29 30 32 36 42 44 45\n",
    "                                45 46 48 52 58 59 61 61 61 65\n",
    "                                66 66 68 75 78 80 89 90 92 97"
   ]
  },
  {
   "cell_type": "code",
   "execution_count": 14,
   "id": "cdee2d75",
   "metadata": {},
   "outputs": [],
   "source": [
    "dados = [2, 2, 3, 10, 13, 14, 15, 15, 16, 16, 18, 18, 20, 21, 22, 22, 23, 24, 25, 25, 26, 27, 29, 29, 30, 32, 36, 42, 44,\n",
    "         45, 45, 46, 48, 52, 58, 59, 61, 61, 61, 65, 66, 66, 68, 75, 78, 80, 89, 90, 92, 97]"
   ]
  },
  {
   "cell_type": "markdown",
   "id": "a23e26da",
   "metadata": {},
   "source": [
    "#### Use cinco intervalos e construa um histograma."
   ]
  },
  {
   "cell_type": "code",
   "execution_count": 15,
   "id": "c8c26eaa",
   "metadata": {},
   "outputs": [
    {
     "data": {
      "image/png": "[encoded data removed]",
      "text/plain": [
       "<Figure size 640x480 with 1 Axes>"
      ]
     },
     "metadata": {},
     "output_type": "display_data"
    }
   ],
   "source": [
    "plt.hist(dados, bins=5, edgecolor='black')\n",
    "\n",
    "plt.xlabel('Intervalo')\n",
    "plt.ylabel('Qtd de Quarteirões')\n",
    "plt.title('Amostra de tamanho 50 dos 270 quarteirões')\n",
    "\n",
    "\n",
    "plt.show()\n"
   ]
  },
  {
   "cell_type": "markdown",
   "id": "05e21f8b",
   "metadata": {},
   "source": [
    "#### Determine uma medida de posição central e uma medida de dispersão."
   ]
  },
  {
   "cell_type": "code",
   "execution_count": 16,
   "id": "9a85038d",
   "metadata": {},
   "outputs": [
    {
     "name": "stdout",
     "output_type": "stream",
     "text": [
      "Medida de posição central\n",
      "Mediana: 31.0\n",
      "\n",
      "medida de dispersão\n",
      "Desvio Padrão: 25.81\n"
     ]
    }
   ],
   "source": [
    "#Utilizando Numpy\n",
    "\n",
    "print('Medida de posição central')\n",
    "mediana = np.median(dados)\n",
    "print('Mediana:', mediana)\n",
    "\n",
    "print()\n",
    "\n",
    "print('medida de dispersão')\n",
    "desvioPadrao = round(np.std(dados),2)\n",
    "print('Desvio Padrão:', desvioPadrao)"
   ]
  },
  {
   "cell_type": "markdown",
   "id": "d6f4ebaa",
   "metadata": {},
   "source": [
    "### Problema 6: Numa pesquisa realizada com 100 famílias, levantaram-se as seguintes informações:"
   ]
  },
  {
   "cell_type": "code",
   "execution_count": 17,
   "id": "731621bb",
   "metadata": {},
   "outputs": [
    {
     "data": {
      "text/html": [
       "<div>\n",
       "<style scoped>\n",
       "    .dataframe tbody tr th:only-of-type {\n",
       "        vertical-align: middle;\n",
       "    }\n",
       "\n",
       "    .dataframe tbody tr th {\n",
       "        vertical-align: top;\n",
       "    }\n",
       "\n",
       "    .dataframe thead th {\n",
       "        text-align: right;\n",
       "    }\n",
       "</style>\n",
       "<table border=\"1\" class=\"dataframe\">\n",
       "  <thead>\n",
       "    <tr style=\"text-align: right;\">\n",
       "      <th></th>\n",
       "      <th>NumeroFilhos</th>\n",
       "      <th>FreqFamilia</th>\n",
       "    </tr>\n",
       "  </thead>\n",
       "  <tbody>\n",
       "    <tr>\n",
       "      <th>0</th>\n",
       "      <td>0</td>\n",
       "      <td>17</td>\n",
       "    </tr>\n",
       "    <tr>\n",
       "      <th>1</th>\n",
       "      <td>1</td>\n",
       "      <td>20</td>\n",
       "    </tr>\n",
       "    <tr>\n",
       "      <th>2</th>\n",
       "      <td>2</td>\n",
       "      <td>28</td>\n",
       "    </tr>\n",
       "    <tr>\n",
       "      <th>3</th>\n",
       "      <td>3</td>\n",
       "      <td>19</td>\n",
       "    </tr>\n",
       "    <tr>\n",
       "      <th>4</th>\n",
       "      <td>4</td>\n",
       "      <td>7</td>\n",
       "    </tr>\n",
       "    <tr>\n",
       "      <th>5</th>\n",
       "      <td>5</td>\n",
       "      <td>4</td>\n",
       "    </tr>\n",
       "    <tr>\n",
       "      <th>6</th>\n",
       "      <td>+ q 5</td>\n",
       "      <td>5</td>\n",
       "    </tr>\n",
       "  </tbody>\n",
       "</table>\n",
       "</div>"
      ],
      "text/plain": [
       "  NumeroFilhos  FreqFamilia\n",
       "0            0           17\n",
       "1            1           20\n",
       "2            2           28\n",
       "3            3           19\n",
       "4            4            7\n",
       "5            5            4\n",
       "6        + q 5            5"
      ]
     },
     "execution_count": 17,
     "metadata": {},
     "output_type": "execute_result"
    }
   ],
   "source": [
    "numeroFilhos = [0, 1, 2, 3, 4, 5, '+ q 5']\n",
    "freqFamilia = [17, 20, 28, 19, 7, 4, 5]\n",
    "\n",
    "pesquisa = pd.DataFrame(numeroFilhos, columns=['NumeroFilhos'])\n",
    "pesquisa['FreqFamilia'] = freqFamilia\n",
    "\n",
    "pesquisa"
   ]
  },
  {
   "cell_type": "code",
   "execution_count": 18,
   "id": "eac8f70e",
   "metadata": {},
   "outputs": [],
   "source": [
    "#Mudando elemento da lista\n",
    "numeroFilhos = [6 if x == '+ q 5' else x for x in numeroFilhos]\n",
    "\n",
    "familias = []\n",
    "\n",
    "for numeroFilhos, freqFamilia in zip(numeroFilhos, freqFamilia):\n",
    "    familias.extend([numeroFilhos] * freqFamilia)"
   ]
  },
  {
   "cell_type": "code",
   "execution_count": 19,
   "id": "79be38a9",
   "metadata": {},
   "outputs": [
    {
     "data": {
      "text/plain": [
       "100"
      ]
     },
     "execution_count": 19,
     "metadata": {},
     "output_type": "execute_result"
    }
   ],
   "source": [
    "len(familias)"
   ]
  },
  {
   "cell_type": "markdown",
   "id": "f809bb54",
   "metadata": {},
   "source": [
    "#### Qual a mediana do número de filhos?"
   ]
  },
  {
   "cell_type": "code",
   "execution_count": 20,
   "id": "42610dff",
   "metadata": {},
   "outputs": [
    {
     "name": "stdout",
     "output_type": "stream",
     "text": [
      "A mediana é: 2.0\n"
     ]
    }
   ],
   "source": [
    "mediana = np.median(familias)\n",
    "\n",
    "print(\"A mediana é:\", mediana)"
   ]
  },
  {
   "cell_type": "markdown",
   "id": "245bdfaf",
   "metadata": {},
   "source": [
    "#### E a moda?"
   ]
  },
  {
   "cell_type": "code",
   "execution_count": 21,
   "id": "64115346",
   "metadata": {},
   "outputs": [
    {
     "data": {
      "text/html": [
       "<div>\n",
       "<style scoped>\n",
       "    .dataframe tbody tr th:only-of-type {\n",
       "        vertical-align: middle;\n",
       "    }\n",
       "\n",
       "    .dataframe tbody tr th {\n",
       "        vertical-align: top;\n",
       "    }\n",
       "\n",
       "    .dataframe thead th {\n",
       "        text-align: right;\n",
       "    }\n",
       "</style>\n",
       "<table border=\"1\" class=\"dataframe\">\n",
       "  <thead>\n",
       "    <tr style=\"text-align: right;\">\n",
       "      <th></th>\n",
       "      <th>NumeroFilhos</th>\n",
       "      <th>FreqFamilia</th>\n",
       "    </tr>\n",
       "  </thead>\n",
       "  <tbody>\n",
       "    <tr>\n",
       "      <th>0</th>\n",
       "      <td>0</td>\n",
       "      <td>17</td>\n",
       "    </tr>\n",
       "    <tr>\n",
       "      <th>1</th>\n",
       "      <td>1</td>\n",
       "      <td>20</td>\n",
       "    </tr>\n",
       "    <tr>\n",
       "      <th>2</th>\n",
       "      <td>2</td>\n",
       "      <td>28</td>\n",
       "    </tr>\n",
       "    <tr>\n",
       "      <th>3</th>\n",
       "      <td>3</td>\n",
       "      <td>19</td>\n",
       "    </tr>\n",
       "    <tr>\n",
       "      <th>4</th>\n",
       "      <td>4</td>\n",
       "      <td>7</td>\n",
       "    </tr>\n",
       "    <tr>\n",
       "      <th>5</th>\n",
       "      <td>5</td>\n",
       "      <td>4</td>\n",
       "    </tr>\n",
       "    <tr>\n",
       "      <th>6</th>\n",
       "      <td>+ q 5</td>\n",
       "      <td>5</td>\n",
       "    </tr>\n",
       "  </tbody>\n",
       "</table>\n",
       "</div>"
      ],
      "text/plain": [
       "  NumeroFilhos  FreqFamilia\n",
       "0            0           17\n",
       "1            1           20\n",
       "2            2           28\n",
       "3            3           19\n",
       "4            4            7\n",
       "5            5            4\n",
       "6        + q 5            5"
      ]
     },
     "execution_count": 21,
     "metadata": {},
     "output_type": "execute_result"
    }
   ],
   "source": [
    "# Apenas de olhar tabela é possivel identificar que é a quantidade de 2 filhos que mais acontece.\n",
    "pesquisa"
   ]
  },
  {
   "cell_type": "code",
   "execution_count": 22,
   "id": "8e61686b",
   "metadata": {},
   "outputs": [
    {
     "name": "stdout",
     "output_type": "stream",
     "text": [
      "A moda é: 2\n"
     ]
    }
   ],
   "source": [
    "# Apenas para registrar outra maneira\n",
    "moda = np.argmax(np.bincount(familias))\n",
    "\n",
    "print(\"A moda é:\", moda)"
   ]
  },
  {
   "cell_type": "markdown",
   "id": "ea838da3",
   "metadata": {},
   "source": [
    "### Problema 7: Obtenha o esquema dos cinco números para os dados do Problema 3. Calcule o intervalo interquartil e as dispersões inferior e superior. Baseado nessas medidas, verifique se a forma da distribuição dos dados é normal."
   ]
  },
  {
   "cell_type": "code",
   "execution_count": 23,
   "id": "7ceee4d2",
   "metadata": {},
   "outputs": [],
   "source": [
    "dados = [2, 2, 3, 10, 13, 14, 15, 15, 16, 16, 18, 18, 20, 21, 22, 22, 23, 24, 25, 25, 26, 27, 29, 29, 30, 32, 36, 42, 44,\n",
    "         45, 45, 46, 48, 52, 58, 59, 61, 61, 61, 65, 66, 66, 68, 75, 78, 80, 89, 90, 92, 97]"
   ]
  },
  {
   "cell_type": "code",
   "execution_count": 24,
   "id": "85e1f110",
   "metadata": {},
   "outputs": [
    {
     "data": {
      "image/png": "[encoded data removed]",
      "text/plain": [
       "<Figure size 640x480 with 1 Axes>"
      ]
     },
     "metadata": {},
     "output_type": "display_data"
    }
   ],
   "source": [
    "plt.hist(dados, bins=10, color='skyblue', edgecolor='black')\n",
    "plt.xlabel('Valores')\n",
    "plt.ylabel('Frequência')\n",
    "plt.title('Histograma dos Dados')\n",
    "plt.grid(True)\n",
    "plt.show()"
   ]
  },
  {
   "cell_type": "markdown",
   "id": "43a7e0b6",
   "metadata": {},
   "source": [
    "Nesse histograma já possível notar que não existe uma distribuição normal."
   ]
  },
  {
   "cell_type": "markdown",
   "id": "f1c19fb2",
   "metadata": {},
   "source": [
    "##### Sem o uso de numpy"
   ]
  },
  {
   "cell_type": "code",
   "execution_count": 25,
   "id": "836d20e6",
   "metadata": {},
   "outputs": [
    {
     "name": "stdout",
     "output_type": "stream",
     "text": [
      "Q1: 20\n",
      "Q2 ou mediana: 31.0\n",
      "Q3: 61\n",
      "IQR: 41\n",
      "Dispersao Inferior: 29.0\n",
      "Dispersao Superior: 66.0\n"
     ]
    }
   ],
   "source": [
    "\n",
    "#ordena os dados\n",
    "dados.sort()\n",
    "\n",
    "#Q1\n",
    "Q1 = (len(dados)+1)/4\n",
    "\n",
    "#arredondar para cima\n",
    "Q1= mt.ceil(Q1)\n",
    "\n",
    "#-1 pois começa do valor zero\n",
    "dadoQ1 = dados[Q1-1]\n",
    "\n",
    "\n",
    "#Q2 ou mediana\n",
    "if len(dados)%2==0:\n",
    "    i = int((len(dados)/2)-1)\n",
    "    o = i+1\n",
    "    dadoQ2 = (dados[i] + dados[o])/ 2\n",
    "else:\n",
    "    i = floor(len(dados)/2)\n",
    "    dadoQ2 = dados[i]\n",
    "\n",
    "#Q3\n",
    "Q3 =(3*(len(dados)+1))/4\n",
    "Q3= mt.ceil(Q3)\n",
    "\n",
    "dadoQ3 = dados[Q3-1]\n",
    "\n",
    "#Intervalo interquartil\n",
    "IQR = dadoQ3 - dadoQ1\n",
    "\n",
    "#Distribuições pegar mediana - primeiro valor da lista e ultimo valor da lista - mediana\n",
    "dispersaoInferior = dadoQ2 - dados[0]\n",
    "dispersaoSuperior = dados[-1] - dadoQ2\n",
    "\n",
    "print('Q1:', dadoQ1)\n",
    "print('Q2 ou mediana:', dadoQ2)\n",
    "print('Q3:', dadoQ3)\n",
    "print('IQR:', IQR)\n",
    "print('Dispersao Inferior:', dispersaoInferior)\n",
    "print('Dispersao Superior:', dispersaoSuperior)"
   ]
  },
  {
   "cell_type": "markdown",
   "id": "d6137215",
   "metadata": {},
   "source": [
    "##### Com numpy"
   ]
  },
  {
   "cell_type": "code",
   "execution_count": 26,
   "id": "27c7dd1d",
   "metadata": {},
   "outputs": [
    {
     "name": "stdout",
     "output_type": "stream",
     "text": [
      "Q1: 20.25\n",
      "Q2 ou mediana: 31.0\n",
      "Q3: 61.0\n",
      "IQR: 40.75\n",
      "Dispersão Inferior: 29.0\n",
      "Dispersão Superior: 66.0\n"
     ]
    }
   ],
   "source": [
    "dados.sort()\n",
    "\n",
    "dadoQ1 = np.percentile(dados, 25)\n",
    "dadoQ2 = np.median(dados)\n",
    "dadoQ3 = np.percentile(dados, 75)\n",
    "\n",
    "IQR = dadoQ3 - dadoQ1\n",
    "\n",
    "dispersaoInferior = dadoQ2 - dados[0]\n",
    "dispersaoSuperior = dados[-1] - dadoQ2\n",
    "\n",
    "print('Q1:', dadoQ1)\n",
    "print('Q2 ou mediana:', dadoQ2)\n",
    "print('Q3:', dadoQ3)\n",
    "print(\"IQR:\", IQR)\n",
    "print(\"Dispersão Inferior:\", dispersaoInferior)\n",
    "print(\"Dispersão Superior:\", dispersaoSuperior)\n"
   ]
  },
  {
   "cell_type": "markdown",
   "id": "af254900",
   "metadata": {},
   "source": [
    "###### Após conseguir os dados necessários é apenas avaliar as seguintes condições:\n",
    "(a) q2 – x(1) ≈ x(n) – q2: significa que a diferença entre o segundo quartil e o menor valor é aproximadamente igual à diferença entre o maior valor e o segundo quartil. Isso sugere simetria na distribuição.\n",
    "\n",
    "(b) q2 – q1 ≈ q3 – q2: Indica que a diferença entre o segundo quartil e o primeiro quartil é aproximadamente igual à diferença entre o terceiro quartil e o segundo quartil, o que também sugere simetria.\n",
    "\n",
    "(c) q1 – x(1) ≈ x(n) – q3: Essa condição também compara as dispersões inferior e superior, sugerindo simetria se forem aproximadamente iguais.\n",
    "\n",
    "(d) Distâncias entre mediana e q1 , q3 menores do que distâncias entre os extremos e q1 , q3: Essa opção ressalta que as distâncias entre a mediana e os quartis devem ser menores do que as distâncias entre os extremos (o menor e o maior valor) e os quartis."
   ]
  },
  {
   "cell_type": "code",
   "execution_count": 27,
   "id": "bfa55999",
   "metadata": {},
   "outputs": [
    {
     "name": "stdout",
     "output_type": "stream",
     "text": [
      "(a) É possível ver que a disperção inferior =  29.0 e a superior = 66.0 , não são aproximadamente iguais.\n",
      "\n",
      "(b) Q2 - Q1 =  10.75 e Q3 - Q2 = 30.0 , não são aproximadamente iguais.\n",
      "\n",
      "(c) Q1 - primeiro valor: 20.25 - 2 = 18.25 e Q3 - ultimo valor = 97 - 61.0 = 36.0 , não são aproximadamente iguais\n",
      "\n",
      "(d) A distância, ou seja, Mediana - Q1 = 10.75 e Q3 - Mediana= 30.0 , devem ser menores que ultimo valor - primeiro valor = 95 e Q3 - Q1 = 40.75\n",
      "\n",
      "Apenas a opção (d) é cumprida então é possível dizer que esses dados não possui distribuição normal\n"
     ]
    }
   ],
   "source": [
    "#Condição a)\n",
    "print('(a) É possível ver que a disperção inferior = ', dispersaoInferior, 'e a superior =', dispersaoSuperior,\n",
    "      ', não são aproximadamente iguais.')\n",
    "print()\n",
    "#Condição b)\n",
    "print('(b) Q2 - Q1 = ', dadoQ2 - dadoQ1, 'e Q3 - Q2 =', dadoQ3 - dadoQ2, ', não são aproximadamente iguais.')\n",
    "print()\n",
    "#Condição c)\n",
    "print('(c) Q1 - primeiro valor:', dadoQ1,'-', dados[0],'=', dadoQ1-dados[0], 'e Q3 - ultimo valor =', dados[-1],'-', dadoQ3,'=', dados[-1]-dadoQ3,\n",
    "     ', não são aproximadamente iguais')\n",
    "print()\n",
    "#Condição D\n",
    "print('(d) A distância, ou seja, Mediana - Q1 =', dadoQ2 - dadoQ1, 'e Q3 - Mediana=', dadoQ3 - dadoQ2, \n",
    "     ', devem ser menores que ultimo valor - primeiro valor =', dados[-1]-dados[0], 'e Q3 - Q1 =', dadoQ3 - dadoQ1)\n",
    "print()\n",
    "print('Apenas a opção (d) é cumprida então é possível dizer que esses dados não possui distribuição normal')"
   ]
  },
  {
   "cell_type": "markdown",
   "id": "682f5fb7",
   "metadata": {},
   "source": [
    "### Problema 8: Refaça o problema anterior, utilizando desta vez os dados do Problema 5(AnosIdade) do Capítulo 2."
   ]
  },
  {
   "cell_type": "code",
   "execution_count": 28,
   "id": "41eb8f54",
   "metadata": {},
   "outputs": [
    {
     "data": {
      "text/html": [
       "<div>\n",
       "<style scoped>\n",
       "    .dataframe tbody tr th:only-of-type {\n",
       "        vertical-align: middle;\n",
       "    }\n",
       "\n",
       "    .dataframe tbody tr th {\n",
       "        vertical-align: top;\n",
       "    }\n",
       "\n",
       "    .dataframe thead th {\n",
       "        text-align: right;\n",
       "    }\n",
       "</style>\n",
       "<table border=\"1\" class=\"dataframe\">\n",
       "  <thead>\n",
       "    <tr style=\"text-align: right;\">\n",
       "      <th></th>\n",
       "      <th>N</th>\n",
       "      <th>EstadoCivil</th>\n",
       "      <th>GrauInstrucao</th>\n",
       "      <th>Nfilhos</th>\n",
       "      <th>Salario(xSalMin)</th>\n",
       "      <th>AnosIdade</th>\n",
       "      <th>MesesIdade</th>\n",
       "      <th>RegiaoProcedencia</th>\n",
       "    </tr>\n",
       "  </thead>\n",
       "  <tbody>\n",
       "    <tr>\n",
       "      <th>0</th>\n",
       "      <td>1</td>\n",
       "      <td>solteiro</td>\n",
       "      <td>ensino fundamental</td>\n",
       "      <td>0</td>\n",
       "      <td>4</td>\n",
       "      <td>26</td>\n",
       "      <td>3</td>\n",
       "      <td>interior</td>\n",
       "    </tr>\n",
       "    <tr>\n",
       "      <th>1</th>\n",
       "      <td>2</td>\n",
       "      <td>casado</td>\n",
       "      <td>ensino fundamental</td>\n",
       "      <td>1</td>\n",
       "      <td>4,56</td>\n",
       "      <td>32</td>\n",
       "      <td>10</td>\n",
       "      <td>capital</td>\n",
       "    </tr>\n",
       "    <tr>\n",
       "      <th>2</th>\n",
       "      <td>3</td>\n",
       "      <td>casado</td>\n",
       "      <td>ensino fundamental</td>\n",
       "      <td>2</td>\n",
       "      <td>5,25</td>\n",
       "      <td>36</td>\n",
       "      <td>5</td>\n",
       "      <td>capital</td>\n",
       "    </tr>\n",
       "    <tr>\n",
       "      <th>3</th>\n",
       "      <td>4</td>\n",
       "      <td>solteiro</td>\n",
       "      <td>ensino médio</td>\n",
       "      <td>0</td>\n",
       "      <td>5,73</td>\n",
       "      <td>20</td>\n",
       "      <td>10</td>\n",
       "      <td>outra</td>\n",
       "    </tr>\n",
       "    <tr>\n",
       "      <th>4</th>\n",
       "      <td>5</td>\n",
       "      <td>solteiro</td>\n",
       "      <td>ensino fundamental</td>\n",
       "      <td>0</td>\n",
       "      <td>6,26</td>\n",
       "      <td>40</td>\n",
       "      <td>7</td>\n",
       "      <td>outra</td>\n",
       "    </tr>\n",
       "  </tbody>\n",
       "</table>\n",
       "</div>"
      ],
      "text/plain": [
       "   N EstadoCivil       GrauInstrucao  Nfilhos Salario(xSalMin)  AnosIdade  \\\n",
       "0  1    solteiro  ensino fundamental        0                4         26   \n",
       "1  2      casado  ensino fundamental        1             4,56         32   \n",
       "2  3      casado  ensino fundamental        2             5,25         36   \n",
       "3  4    solteiro        ensino médio        0             5,73         20   \n",
       "4  5    solteiro  ensino fundamental        0             6,26         40   \n",
       "\n",
       "   MesesIdade RegiaoProcedencia  \n",
       "0           3          interior  \n",
       "1          10           capital  \n",
       "2           5           capital  \n",
       "3          10             outra  \n",
       "4           7             outra  "
      ]
     },
     "execution_count": 28,
     "metadata": {},
     "output_type": "execute_result"
    }
   ],
   "source": [
    "dados = pd.read_csv(\"Dados/EmpregadosCompanhiaMB.csv\", sep=\";\")\n",
    "\n",
    "dados.head()"
   ]
  },
  {
   "cell_type": "code",
   "execution_count": 29,
   "id": "2d43cce8",
   "metadata": {},
   "outputs": [
    {
     "data": {
      "text/plain": [
       "36"
      ]
     },
     "execution_count": 29,
     "metadata": {},
     "output_type": "execute_result"
    }
   ],
   "source": [
    "idades = dados['AnosIdade'].tolist()\n",
    "\n",
    "len(idades)"
   ]
  },
  {
   "cell_type": "code",
   "execution_count": 30,
   "id": "9ca82867",
   "metadata": {},
   "outputs": [
    {
     "name": "stdout",
     "output_type": "stream",
     "text": [
      "Q1: 30.0\n",
      "Q2 ou mediana: 34.5\n",
      "Q3: 40.0\n",
      "IQR: 10.0\n",
      "Dispersão Inferior: 14.5\n",
      "Dispersão Superior: 13.5\n"
     ]
    }
   ],
   "source": [
    "idades.sort()\n",
    "\n",
    "Q1 = np.percentile(idades, 25)\n",
    "Q2 = np.median(idades)\n",
    "Q3 = np.percentile(idades, 75)\n",
    "\n",
    "IQR = Q3 - Q1\n",
    "\n",
    "dispersaoInferior = Q2 - idades[0]\n",
    "dispersaoSuperior = idades[-1] - Q2\n",
    "\n",
    "print('Q1:', Q1)\n",
    "print('Q2 ou mediana:', Q2)\n",
    "print('Q3:', Q3)\n",
    "print(\"IQR:\", IQR)\n",
    "print(\"Dispersão Inferior:\", dispersaoInferior)\n",
    "print(\"Dispersão Superior:\", dispersaoSuperior)"
   ]
  },
  {
   "cell_type": "code",
   "execution_count": 31,
   "id": "4281339a",
   "metadata": {},
   "outputs": [
    {
     "name": "stdout",
     "output_type": "stream",
     "text": [
      "(a) É possível ver que a disperção inferior =  14.5 e a superior = 13.5 , são aproximadamente iguais.\n",
      "\n",
      "(b) Q2 - Q1 =  4.5 e Q3 - Q2 = 5.5 , são aproximadamente iguais.\n",
      "\n",
      "(c) Q1 - primeiro valor: 30.0 - 20 = 10.0 e Q3 - ultimo valor = 48 - 40.0 = 8.0 , são aproximadamente iguais\n",
      "\n",
      "(d) A distância, ou seja, Mediana - Q1 = 4.5 e Q3 - Mediana= 5.5 , devem ser menores que ultimo valor - primeiro valor= 28 e Q3 - Q1 = 10.0\n",
      "\n",
      "Todas as afirmações são cumpridas então é possível dizer que a distribuição do dados é normal\n"
     ]
    }
   ],
   "source": [
    "#Condição a)\n",
    "print('(a) É possível ver que a disperção inferior = ', dispersaoInferior, 'e a superior =', dispersaoSuperior,\n",
    "      ', são aproximadamente iguais.')\n",
    "print()\n",
    "#Condição b)\n",
    "print('(b) Q2 - Q1 = ', Q2 - Q1, 'e Q3 - Q2 =', Q3 - Q2, ', são aproximadamente iguais.')\n",
    "print()\n",
    "#Condição c)\n",
    "print('(c) Q1 - primeiro valor:', Q1,'-', idades[0],'=', Q1-idades[0], 'e Q3 - ultimo valor =', idades[-1],'-', Q3,'=', idades[-1]-Q3,\n",
    "     ', são aproximadamente iguais')\n",
    "print()\n",
    "#Condição D\n",
    "print('(d) A distância, ou seja, Mediana - Q1 =', Q2 - Q1, 'e Q3 - Mediana=', Q3 - Q2, \n",
    "     ', devem ser menores que ultimo valor - primeiro valor=', idades[-1]-idades[0], 'e Q3 - Q1 =', Q3 - Q1)\n",
    "print()\n",
    "print('Todas as afirmações são cumpridas então é possível dizer que a distribuição do dados é normal')"
   ]
  },
  {
   "cell_type": "markdown",
   "id": "782e7450",
   "metadata": {},
   "source": [
    "#### Elaborando um histograma é possivel ver essa distribuição normal"
   ]
  },
  {
   "cell_type": "code",
   "execution_count": 32,
   "id": "ffc7013b",
   "metadata": {},
   "outputs": [
    {
     "data": {
      "image/png": "[encoded data removed]",
      "text/plain": [
       "<Figure size 640x480 with 1 Axes>"
      ]
     },
     "metadata": {},
     "output_type": "display_data"
    }
   ],
   "source": [
    "plt.hist(idades, bins=10, edgecolor='black')\n",
    "\n",
    "plt.xlabel('Idades')\n",
    "plt.ylabel('Frequência')\n",
    "plt.title('Histograma dos dados')\n",
    "\n",
    "plt.show()\n"
   ]
  },
  {
   "cell_type": "markdown",
   "id": "a3511349",
   "metadata": {},
   "source": [
    "### Problema 9: Obter os três quartis, q(0,1) e q(0,90) para os dados do Problema 3."
   ]
  },
  {
   "cell_type": "code",
   "execution_count": 33,
   "id": "148a2883",
   "metadata": {},
   "outputs": [
    {
     "data": {
      "text/plain": [
       "50"
      ]
     },
     "execution_count": 33,
     "metadata": {},
     "output_type": "execute_result"
    }
   ],
   "source": [
    "dados = [2, 2, 3, 10, 13, 14, 15, 15, 16, 16, 18, 18, 20, 21, 22, 22, 23, 24, 25, 25, 26, 27, 29, 29, 30, 32, 36, 42, 44,\n",
    "         45, 45, 46, 48, 52, 58, 59, 61, 61, 61, 65, 66, 66, 68, 75, 78, 80, 89, 90, 92, 97]\n",
    "\n",
    "len(dados)"
   ]
  },
  {
   "cell_type": "code",
   "execution_count": 34,
   "id": "b68b3dd2",
   "metadata": {},
   "outputs": [
    {
     "name": "stdout",
     "output_type": "stream",
     "text": [
      "10%: 13.9\n",
      "25%: 20.25\n",
      "50%: 31.0\n",
      "75%: 61.0\n",
      "90%: 78.2\n"
     ]
    }
   ],
   "source": [
    "dados.sort()\n",
    "\n",
    "Q1 = np.percentile(dados, 25)\n",
    "Q2 = np.median(dados)\n",
    "Q3 = np.percentile(dados, 75)\n",
    "\n",
    "Q10= np.percentile(dados, 10)\n",
    "Q90= np.percentile(dados, 90)\n",
    "\n",
    "print('10%:', Q10)\n",
    "print('25%:', Q1)\n",
    "print('50%:', Q2)\n",
    "print('75%:', Q3)\n",
    "print('90%:', Q90)"
   ]
  },
  {
   "cell_type": "markdown",
   "id": "94a8365e",
   "metadata": {},
   "source": [
    "### Problema 10: Para a variável população urbana do CD-Brasil, obtenha q(0,10), q(0,25), q(0,50), q(0,75), q(0,80) e q(0,95)."
   ]
  },
  {
   "cell_type": "code",
   "execution_count": 35,
   "id": "d76a65da",
   "metadata": {},
   "outputs": [
    {
     "data": {
      "text/html": [
       "<div>\n",
       "<style scoped>\n",
       "    .dataframe tbody tr th:only-of-type {\n",
       "        vertical-align: middle;\n",
       "    }\n",
       "\n",
       "    .dataframe tbody tr th {\n",
       "        vertical-align: top;\n",
       "    }\n",
       "\n",
       "    .dataframe thead th {\n",
       "        text-align: right;\n",
       "    }\n",
       "</style>\n",
       "<table border=\"1\" class=\"dataframe\">\n",
       "  <thead>\n",
       "    <tr style=\"text-align: right;\">\n",
       "      <th></th>\n",
       "      <th>Regiao</th>\n",
       "      <th>Estado</th>\n",
       "      <th>Superficie</th>\n",
       "      <th>Populacao</th>\n",
       "      <th>Densidade</th>\n",
       "    </tr>\n",
       "  </thead>\n",
       "  <tbody>\n",
       "    <tr>\n",
       "      <th>0</th>\n",
       "      <td>Norte</td>\n",
       "      <td>RO</td>\n",
       "      <td>237.576,167</td>\n",
       "      <td>1453756</td>\n",
       "      <td>6,12</td>\n",
       "    </tr>\n",
       "    <tr>\n",
       "      <th>1</th>\n",
       "      <td>Norte</td>\n",
       "      <td>AC</td>\n",
       "      <td>164.165,250</td>\n",
       "      <td>653385</td>\n",
       "      <td>3,98</td>\n",
       "    </tr>\n",
       "    <tr>\n",
       "      <th>2</th>\n",
       "      <td>Norte</td>\n",
       "      <td>AM</td>\n",
       "      <td>1.559.161,810</td>\n",
       "      <td>3221940</td>\n",
       "      <td>2,07</td>\n",
       "    </tr>\n",
       "    <tr>\n",
       "      <th>3</th>\n",
       "      <td>Norte</td>\n",
       "      <td>RR</td>\n",
       "      <td>224.298,980</td>\n",
       "      <td>395725</td>\n",
       "      <td>1,76</td>\n",
       "    </tr>\n",
       "    <tr>\n",
       "      <th>4</th>\n",
       "      <td>Norte</td>\n",
       "      <td>PA</td>\n",
       "      <td>1.247.689,515</td>\n",
       "      <td>7065573</td>\n",
       "      <td>5,66</td>\n",
       "    </tr>\n",
       "  </tbody>\n",
       "</table>\n",
       "</div>"
      ],
      "text/plain": [
       "  Regiao Estado     Superficie  Populacao Densidade\n",
       "0  Norte     RO    237.576,167    1453756      6,12\n",
       "1  Norte     AC    164.165,250     653385      3,98\n",
       "2  Norte     AM  1.559.161,810    3221940      2,07\n",
       "3  Norte     RR    224.298,980     395725      1,76\n",
       "4  Norte     PA  1.247.689,515    7065573      5,66"
      ]
     },
     "execution_count": 35,
     "metadata": {},
     "output_type": "execute_result"
    }
   ],
   "source": [
    "dados = pd.read_csv(\"Dados/CD-Brasil.csv\", sep=\";\")\n",
    "\n",
    "dados['Populacao']= dados['Populacao'].str.replace('.','')\n",
    "dados['Populacao'] = dados['Populacao'].astype(int)\n",
    "\n",
    "dados.head()"
   ]
  },
  {
   "cell_type": "code",
   "execution_count": 36,
   "id": "5302ab88",
   "metadata": {},
   "outputs": [
    {
     "data": {
      "text/plain": [
       "27"
      ]
     },
     "execution_count": 36,
     "metadata": {},
     "output_type": "execute_result"
    }
   ],
   "source": [
    "populacaoUrbana = dados['Populacao'].tolist()\n",
    "len(populacaoUrbana)"
   ]
  },
  {
   "cell_type": "code",
   "execution_count": 37,
   "id": "b87d2d35",
   "metadata": {},
   "outputs": [
    {
     "name": "stdout",
     "output_type": "stream",
     "text": [
      "25%: 2360858.0\n",
      "50%: 3351669.0\n",
      "75%: 8335944.0\n",
      "80%: 9924930.0\n",
      "95%: 18117608.1\n"
     ]
    }
   ],
   "source": [
    "populacaoUrbana.sort()\n",
    "\n",
    "Q1 = np.percentile(populacaoUrbana, 25)\n",
    "Q2 = np.percentile(populacaoUrbana, 50)\n",
    "Q3 = np.percentile(populacaoUrbana, 75)\n",
    "Q80 = round(np.percentile(populacaoUrbana, 80), 2)\n",
    "Q95 = round(np.percentile(populacaoUrbana, 95), 2)\n",
    "\n",
    "print('25%:', Q1)\n",
    "print('50%:', Q2)\n",
    "print('75%:', Q3)\n",
    "print('80%:', Q80)\n",
    "print('95%:', Q95)"
   ]
  },
  {
   "cell_type": "markdown",
   "id": "494c5fa2",
   "metadata": {},
   "source": [
    "### Problema 11: Construa o box plot para os dados do Exemplo 2.3, Capítulo 2. O que você pode concluir a respeito da distribuição?"
   ]
  },
  {
   "cell_type": "code",
   "execution_count": 38,
   "id": "4dfed537",
   "metadata": {
    "scrolled": false
   },
   "outputs": [
    {
     "data": {
      "text/html": [
       "<div>\n",
       "<style scoped>\n",
       "    .dataframe tbody tr th:only-of-type {\n",
       "        vertical-align: middle;\n",
       "    }\n",
       "\n",
       "    .dataframe tbody tr th {\n",
       "        vertical-align: top;\n",
       "    }\n",
       "\n",
       "    .dataframe thead th {\n",
       "        text-align: right;\n",
       "    }\n",
       "</style>\n",
       "<table border=\"1\" class=\"dataframe\">\n",
       "  <thead>\n",
       "    <tr style=\"text-align: right;\">\n",
       "      <th></th>\n",
       "      <th>N</th>\n",
       "      <th>EstadoCivil</th>\n",
       "      <th>GrauInstrucao</th>\n",
       "      <th>Nfilhos</th>\n",
       "      <th>Salario(xSalMin)</th>\n",
       "      <th>AnosIdade</th>\n",
       "      <th>MesesIdade</th>\n",
       "      <th>RegiaoProcedencia</th>\n",
       "    </tr>\n",
       "  </thead>\n",
       "  <tbody>\n",
       "    <tr>\n",
       "      <th>0</th>\n",
       "      <td>1</td>\n",
       "      <td>solteiro</td>\n",
       "      <td>ensino fundamental</td>\n",
       "      <td>0</td>\n",
       "      <td>4.00</td>\n",
       "      <td>26</td>\n",
       "      <td>3</td>\n",
       "      <td>interior</td>\n",
       "    </tr>\n",
       "    <tr>\n",
       "      <th>1</th>\n",
       "      <td>2</td>\n",
       "      <td>casado</td>\n",
       "      <td>ensino fundamental</td>\n",
       "      <td>1</td>\n",
       "      <td>4.56</td>\n",
       "      <td>32</td>\n",
       "      <td>10</td>\n",
       "      <td>capital</td>\n",
       "    </tr>\n",
       "    <tr>\n",
       "      <th>2</th>\n",
       "      <td>3</td>\n",
       "      <td>casado</td>\n",
       "      <td>ensino fundamental</td>\n",
       "      <td>2</td>\n",
       "      <td>5.25</td>\n",
       "      <td>36</td>\n",
       "      <td>5</td>\n",
       "      <td>capital</td>\n",
       "    </tr>\n",
       "    <tr>\n",
       "      <th>3</th>\n",
       "      <td>4</td>\n",
       "      <td>solteiro</td>\n",
       "      <td>ensino médio</td>\n",
       "      <td>0</td>\n",
       "      <td>5.73</td>\n",
       "      <td>20</td>\n",
       "      <td>10</td>\n",
       "      <td>outra</td>\n",
       "    </tr>\n",
       "    <tr>\n",
       "      <th>4</th>\n",
       "      <td>5</td>\n",
       "      <td>solteiro</td>\n",
       "      <td>ensino fundamental</td>\n",
       "      <td>0</td>\n",
       "      <td>6.26</td>\n",
       "      <td>40</td>\n",
       "      <td>7</td>\n",
       "      <td>outra</td>\n",
       "    </tr>\n",
       "  </tbody>\n",
       "</table>\n",
       "</div>"
      ],
      "text/plain": [
       "   N EstadoCivil       GrauInstrucao  Nfilhos  Salario(xSalMin)  AnosIdade  \\\n",
       "0  1    solteiro  ensino fundamental        0              4.00         26   \n",
       "1  2      casado  ensino fundamental        1              4.56         32   \n",
       "2  3      casado  ensino fundamental        2              5.25         36   \n",
       "3  4    solteiro        ensino médio        0              5.73         20   \n",
       "4  5    solteiro  ensino fundamental        0              6.26         40   \n",
       "\n",
       "   MesesIdade RegiaoProcedencia  \n",
       "0           3          interior  \n",
       "1          10           capital  \n",
       "2           5           capital  \n",
       "3          10             outra  \n",
       "4           7             outra  "
      ]
     },
     "execution_count": 38,
     "metadata": {},
     "output_type": "execute_result"
    }
   ],
   "source": [
    "dados = pd.read_csv('Dados/EmpregadosCompanhiaMB.csv', sep=\";\")\n",
    "\n",
    "dados['Salario(xSalMin)'] = dados['Salario(xSalMin)'].str.replace(',', '.').astype(float)\n",
    "\n",
    "dados.head()"
   ]
  },
  {
   "cell_type": "code",
   "execution_count": 39,
   "id": "735baaf1",
   "metadata": {},
   "outputs": [
    {
     "data": {
      "text/plain": [
       "36"
      ]
     },
     "execution_count": 39,
     "metadata": {},
     "output_type": "execute_result"
    }
   ],
   "source": [
    "salarios = dados['Salario(xSalMin)'].tolist()\n",
    "len(salarios)"
   ]
  },
  {
   "cell_type": "code",
   "execution_count": 40,
   "id": "d7463c98",
   "metadata": {},
   "outputs": [
    {
     "data": {
      "image/png": "[encoded data removed]",
      "text/plain": [
       "<Figure size 800x600 with 1 Axes>"
      ]
     },
     "metadata": {},
     "output_type": "display_data"
    }
   ],
   "source": [
    "salarios.sort()\n",
    "\n",
    "plt.figure(figsize=(8, 6))\n",
    "plt.boxplot(salarios)\n",
    "plt.title('Boxplot dos Salários')\n",
    "plt.ylabel('Salário (xSalMin)')\n",
    "plt.show()"
   ]
  },
  {
   "cell_type": "markdown",
   "id": "453f03a9",
   "metadata": {},
   "source": [
    "É possível notar uma assimetria a direita dos dados e sem valores exteriores (outliers)."
   ]
  },
  {
   "cell_type": "markdown",
   "id": "36dd7300",
   "metadata": {},
   "source": [
    "### Problema 12: Refaça a questão anterior com os dados do Problema 3 deste capítulo."
   ]
  },
  {
   "cell_type": "code",
   "execution_count": 41,
   "id": "4264ca2f",
   "metadata": {},
   "outputs": [],
   "source": [
    "dados = [2, 2, 3, 10, 13, 14, 15, 15, 16, 16, 18, 18, 20, 21, 22, 22, 23, 24, 25, 25, 26, 27, 29, 29, 30, 32, 36, 42, 44,\n",
    "         45, 45, 46, 48, 52, 58, 59, 61, 61, 61, 65, 66, 66, 68, 75, 78, 80, 89, 90, 92, 97]"
   ]
  },
  {
   "cell_type": "code",
   "execution_count": 42,
   "id": "23052234",
   "metadata": {},
   "outputs": [
    {
     "data": {
      "image/png": "[encoded data removed]",
      "text/plain": [
       "<Figure size 800x600 with 1 Axes>"
      ]
     },
     "metadata": {},
     "output_type": "display_data"
    }
   ],
   "source": [
    "dados.sort()\n",
    "\n",
    "plt.figure(figsize=(8, 6))\n",
    "plt.boxplot(dados)\n",
    "plt.title('Boxplot dos quarteirões')\n",
    "plt.ylabel('Número de casas')\n",
    "plt.show()"
   ]
  },
  {
   "cell_type": "markdown",
   "id": "08e8c10c",
   "metadata": {},
   "source": [
    "É possível notar uma assimetria a direita dos dados e sem valores exteriores (outliers)."
   ]
  },
  {
   "cell_type": "markdown",
   "id": "b9c6f92b",
   "metadata": {},
   "source": [
    "### Problema 13: Faça um box plot para o Problema 10. Comente sobre a simetria, caudas e presença de valores atípicos"
   ]
  },
  {
   "cell_type": "code",
   "execution_count": 43,
   "id": "27c5b103",
   "metadata": {},
   "outputs": [
    {
     "data": {
      "text/html": [
       "<div>\n",
       "<style scoped>\n",
       "    .dataframe tbody tr th:only-of-type {\n",
       "        vertical-align: middle;\n",
       "    }\n",
       "\n",
       "    .dataframe tbody tr th {\n",
       "        vertical-align: top;\n",
       "    }\n",
       "\n",
       "    .dataframe thead th {\n",
       "        text-align: right;\n",
       "    }\n",
       "</style>\n",
       "<table border=\"1\" class=\"dataframe\">\n",
       "  <thead>\n",
       "    <tr style=\"text-align: right;\">\n",
       "      <th></th>\n",
       "      <th>Regiao</th>\n",
       "      <th>Estado</th>\n",
       "      <th>Superficie</th>\n",
       "      <th>Populacao</th>\n",
       "      <th>Densidade</th>\n",
       "    </tr>\n",
       "  </thead>\n",
       "  <tbody>\n",
       "    <tr>\n",
       "      <th>0</th>\n",
       "      <td>Norte</td>\n",
       "      <td>RO</td>\n",
       "      <td>237.576,167</td>\n",
       "      <td>1453756</td>\n",
       "      <td>6,12</td>\n",
       "    </tr>\n",
       "    <tr>\n",
       "      <th>1</th>\n",
       "      <td>Norte</td>\n",
       "      <td>AC</td>\n",
       "      <td>164.165,250</td>\n",
       "      <td>653385</td>\n",
       "      <td>3,98</td>\n",
       "    </tr>\n",
       "    <tr>\n",
       "      <th>2</th>\n",
       "      <td>Norte</td>\n",
       "      <td>AM</td>\n",
       "      <td>1.559.161,810</td>\n",
       "      <td>3221940</td>\n",
       "      <td>2,07</td>\n",
       "    </tr>\n",
       "    <tr>\n",
       "      <th>3</th>\n",
       "      <td>Norte</td>\n",
       "      <td>RR</td>\n",
       "      <td>224.298,980</td>\n",
       "      <td>395725</td>\n",
       "      <td>1,76</td>\n",
       "    </tr>\n",
       "    <tr>\n",
       "      <th>4</th>\n",
       "      <td>Norte</td>\n",
       "      <td>PA</td>\n",
       "      <td>1.247.689,515</td>\n",
       "      <td>7065573</td>\n",
       "      <td>5,66</td>\n",
       "    </tr>\n",
       "  </tbody>\n",
       "</table>\n",
       "</div>"
      ],
      "text/plain": [
       "  Regiao Estado     Superficie  Populacao Densidade\n",
       "0  Norte     RO    237.576,167    1453756      6,12\n",
       "1  Norte     AC    164.165,250     653385      3,98\n",
       "2  Norte     AM  1.559.161,810    3221940      2,07\n",
       "3  Norte     RR    224.298,980     395725      1,76\n",
       "4  Norte     PA  1.247.689,515    7065573      5,66"
      ]
     },
     "execution_count": 43,
     "metadata": {},
     "output_type": "execute_result"
    }
   ],
   "source": [
    "dados = pd.read_csv(\"Dados/CD-Brasil.csv\", sep=\";\")\n",
    "dados['Populacao']= dados['Populacao'].str.replace('.','').astype(int)\n",
    "dados.head()"
   ]
  },
  {
   "cell_type": "code",
   "execution_count": 44,
   "id": "7a5af697",
   "metadata": {},
   "outputs": [
    {
     "data": {
      "image/png": "[encoded data removed]",
      "text/plain": [
       "<Figure size 800x600 with 1 Axes>"
      ]
     },
     "metadata": {},
     "output_type": "display_data"
    }
   ],
   "source": [
    "populacao  = dados['Populacao'].tolist()\n",
    "\n",
    "populacao.sort()\n",
    "\n",
    "plt.figure(figsize=(8, 6))\n",
    "plt.boxplot(populacao)\n",
    "plt.title('Boxplot da populacao por estados')\n",
    "plt.ylabel('População')\n",
    "plt.show()"
   ]
  },
  {
   "cell_type": "markdown",
   "id": "903d999a",
   "metadata": {},
   "source": [
    "Existe aqui uma simetria a a direita(distância de Q3-Q2 > Q2-Q1); sobre as caudas, é mostrado que existem valores bem altos se comprados com a maioria dos dados. Também existe aqui valores exteriores, que não devem ser considerados outliers pois é um dado de uma população que é realmente alta, não um provável erro."
   ]
  },
  {
   "cell_type": "code",
   "execution_count": null,
   "id": "2fc41bdf",
   "metadata": {},
   "outputs": [],
   "source": []
  },
  {
   "cell_type": "code",
   "execution_count": null,
   "id": "dea132f9",
   "metadata": {},
   "outputs": [],
   "source": []
  }
 ],
 "metadata": {
  "kernelspec": {
   "display_name": "Python 3 (ipykernel)",
   "language": "python",
   "name": "python3"
  },
  "language_info": {
   "codemirror_mode": {
    "name": "ipython",
    "version": 3
   },
   "file_extension": ".py",
   "mimetype": "text/x-python",
   "name": "python",
   "nbconvert_exporter": "python",
   "pygments_lexer": "ipython3",
   "version": "3.11.5"
  }
 },
 "nbformat": 4,
 "nbformat_minor": 5
}
