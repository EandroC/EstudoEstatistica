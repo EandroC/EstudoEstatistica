{
 "cells": [
  {
   "cell_type": "code",
   "execution_count": 1,
   "id": "0c147656",
   "metadata": {},
   "outputs": [],
   "source": [
    "import pandas as pd\n",
    "import numpy as np\n",
    "import math as mt\n",
    "from matplotlib import pyplot as plt "
   ]
  },
  {
   "cell_type": "markdown",
   "id": "0401700d",
   "metadata": {},
   "source": [
    "### Problema 1: Quer se estudar o número de erros de impressão de um livro. Para isso escolheu-se uma amostra de 50 páginas, encontrando-se o número de erros por página da tabela abaixo."
   ]
  },
  {
   "cell_type": "code",
   "execution_count": 2,
   "id": "5955a80a",
   "metadata": {},
   "outputs": [
    {
     "data": {
      "text/html": [
       "<div>\n",
       "<style scoped>\n",
       "    .dataframe tbody tr th:only-of-type {\n",
       "        vertical-align: middle;\n",
       "    }\n",
       "\n",
       "    .dataframe tbody tr th {\n",
       "        vertical-align: top;\n",
       "    }\n",
       "\n",
       "    .dataframe thead th {\n",
       "        text-align: right;\n",
       "    }\n",
       "</style>\n",
       "<table border=\"1\" class=\"dataframe\">\n",
       "  <thead>\n",
       "    <tr style=\"text-align: right;\">\n",
       "      <th></th>\n",
       "      <th>Erros</th>\n",
       "      <th>Frequencia</th>\n",
       "    </tr>\n",
       "  </thead>\n",
       "  <tbody>\n",
       "    <tr>\n",
       "      <th>0</th>\n",
       "      <td>0</td>\n",
       "      <td>25</td>\n",
       "    </tr>\n",
       "    <tr>\n",
       "      <th>1</th>\n",
       "      <td>1</td>\n",
       "      <td>20</td>\n",
       "    </tr>\n",
       "    <tr>\n",
       "      <th>2</th>\n",
       "      <td>2</td>\n",
       "      <td>3</td>\n",
       "    </tr>\n",
       "    <tr>\n",
       "      <th>3</th>\n",
       "      <td>3</td>\n",
       "      <td>1</td>\n",
       "    </tr>\n",
       "    <tr>\n",
       "      <th>4</th>\n",
       "      <td>4</td>\n",
       "      <td>1</td>\n",
       "    </tr>\n",
       "  </tbody>\n",
       "</table>\n",
       "</div>"
      ],
      "text/plain": [
       "   Erros  Frequencia\n",
       "0      0          25\n",
       "1      1          20\n",
       "2      2           3\n",
       "3      3           1\n",
       "4      4           1"
      ]
     },
     "execution_count": 2,
     "metadata": {},
     "output_type": "execute_result"
    }
   ],
   "source": [
    "erros = [0, 1, 2, 3, 4]\n",
    "frequencia = [25, 20, 3, 1, 1]\n",
    "\n",
    "freq_table = pd.DataFrame(erros, columns=['Erros'])\n",
    "freq_table['Frequencia'] = frequencia\n",
    "\n",
    "freq_table"
   ]
  },
  {
   "cell_type": "code",
   "execution_count": 3,
   "id": "b44c33f5",
   "metadata": {},
   "outputs": [
    {
     "data": {
      "text/html": [
       "<div>\n",
       "<style scoped>\n",
       "    .dataframe tbody tr th:only-of-type {\n",
       "        vertical-align: middle;\n",
       "    }\n",
       "\n",
       "    .dataframe tbody tr th {\n",
       "        vertical-align: top;\n",
       "    }\n",
       "\n",
       "    .dataframe thead th {\n",
       "        text-align: right;\n",
       "    }\n",
       "</style>\n",
       "<table border=\"1\" class=\"dataframe\">\n",
       "  <thead>\n",
       "    <tr style=\"text-align: right;\">\n",
       "      <th></th>\n",
       "      <th>QtdErrosXPgn</th>\n",
       "    </tr>\n",
       "  </thead>\n",
       "  <tbody>\n",
       "    <tr>\n",
       "      <th>0</th>\n",
       "      <td>0</td>\n",
       "    </tr>\n",
       "    <tr>\n",
       "      <th>1</th>\n",
       "      <td>0</td>\n",
       "    </tr>\n",
       "    <tr>\n",
       "      <th>2</th>\n",
       "      <td>0</td>\n",
       "    </tr>\n",
       "    <tr>\n",
       "      <th>3</th>\n",
       "      <td>0</td>\n",
       "    </tr>\n",
       "    <tr>\n",
       "      <th>4</th>\n",
       "      <td>0</td>\n",
       "    </tr>\n",
       "    <tr>\n",
       "      <th>5</th>\n",
       "      <td>0</td>\n",
       "    </tr>\n",
       "    <tr>\n",
       "      <th>6</th>\n",
       "      <td>0</td>\n",
       "    </tr>\n",
       "    <tr>\n",
       "      <th>7</th>\n",
       "      <td>0</td>\n",
       "    </tr>\n",
       "    <tr>\n",
       "      <th>8</th>\n",
       "      <td>0</td>\n",
       "    </tr>\n",
       "    <tr>\n",
       "      <th>9</th>\n",
       "      <td>0</td>\n",
       "    </tr>\n",
       "    <tr>\n",
       "      <th>10</th>\n",
       "      <td>0</td>\n",
       "    </tr>\n",
       "    <tr>\n",
       "      <th>11</th>\n",
       "      <td>0</td>\n",
       "    </tr>\n",
       "    <tr>\n",
       "      <th>12</th>\n",
       "      <td>0</td>\n",
       "    </tr>\n",
       "    <tr>\n",
       "      <th>13</th>\n",
       "      <td>0</td>\n",
       "    </tr>\n",
       "    <tr>\n",
       "      <th>14</th>\n",
       "      <td>0</td>\n",
       "    </tr>\n",
       "    <tr>\n",
       "      <th>15</th>\n",
       "      <td>0</td>\n",
       "    </tr>\n",
       "    <tr>\n",
       "      <th>16</th>\n",
       "      <td>0</td>\n",
       "    </tr>\n",
       "    <tr>\n",
       "      <th>17</th>\n",
       "      <td>0</td>\n",
       "    </tr>\n",
       "    <tr>\n",
       "      <th>18</th>\n",
       "      <td>0</td>\n",
       "    </tr>\n",
       "    <tr>\n",
       "      <th>19</th>\n",
       "      <td>0</td>\n",
       "    </tr>\n",
       "    <tr>\n",
       "      <th>20</th>\n",
       "      <td>0</td>\n",
       "    </tr>\n",
       "    <tr>\n",
       "      <th>21</th>\n",
       "      <td>0</td>\n",
       "    </tr>\n",
       "    <tr>\n",
       "      <th>22</th>\n",
       "      <td>0</td>\n",
       "    </tr>\n",
       "    <tr>\n",
       "      <th>23</th>\n",
       "      <td>0</td>\n",
       "    </tr>\n",
       "    <tr>\n",
       "      <th>24</th>\n",
       "      <td>0</td>\n",
       "    </tr>\n",
       "    <tr>\n",
       "      <th>25</th>\n",
       "      <td>1</td>\n",
       "    </tr>\n",
       "    <tr>\n",
       "      <th>26</th>\n",
       "      <td>1</td>\n",
       "    </tr>\n",
       "    <tr>\n",
       "      <th>27</th>\n",
       "      <td>1</td>\n",
       "    </tr>\n",
       "    <tr>\n",
       "      <th>28</th>\n",
       "      <td>1</td>\n",
       "    </tr>\n",
       "    <tr>\n",
       "      <th>29</th>\n",
       "      <td>1</td>\n",
       "    </tr>\n",
       "    <tr>\n",
       "      <th>30</th>\n",
       "      <td>1</td>\n",
       "    </tr>\n",
       "    <tr>\n",
       "      <th>31</th>\n",
       "      <td>1</td>\n",
       "    </tr>\n",
       "    <tr>\n",
       "      <th>32</th>\n",
       "      <td>1</td>\n",
       "    </tr>\n",
       "    <tr>\n",
       "      <th>33</th>\n",
       "      <td>1</td>\n",
       "    </tr>\n",
       "    <tr>\n",
       "      <th>34</th>\n",
       "      <td>1</td>\n",
       "    </tr>\n",
       "    <tr>\n",
       "      <th>35</th>\n",
       "      <td>1</td>\n",
       "    </tr>\n",
       "    <tr>\n",
       "      <th>36</th>\n",
       "      <td>1</td>\n",
       "    </tr>\n",
       "    <tr>\n",
       "      <th>37</th>\n",
       "      <td>1</td>\n",
       "    </tr>\n",
       "    <tr>\n",
       "      <th>38</th>\n",
       "      <td>1</td>\n",
       "    </tr>\n",
       "    <tr>\n",
       "      <th>39</th>\n",
       "      <td>1</td>\n",
       "    </tr>\n",
       "    <tr>\n",
       "      <th>40</th>\n",
       "      <td>1</td>\n",
       "    </tr>\n",
       "    <tr>\n",
       "      <th>41</th>\n",
       "      <td>1</td>\n",
       "    </tr>\n",
       "    <tr>\n",
       "      <th>42</th>\n",
       "      <td>1</td>\n",
       "    </tr>\n",
       "    <tr>\n",
       "      <th>43</th>\n",
       "      <td>1</td>\n",
       "    </tr>\n",
       "    <tr>\n",
       "      <th>44</th>\n",
       "      <td>1</td>\n",
       "    </tr>\n",
       "    <tr>\n",
       "      <th>45</th>\n",
       "      <td>2</td>\n",
       "    </tr>\n",
       "    <tr>\n",
       "      <th>46</th>\n",
       "      <td>2</td>\n",
       "    </tr>\n",
       "    <tr>\n",
       "      <th>47</th>\n",
       "      <td>2</td>\n",
       "    </tr>\n",
       "    <tr>\n",
       "      <th>48</th>\n",
       "      <td>3</td>\n",
       "    </tr>\n",
       "    <tr>\n",
       "      <th>49</th>\n",
       "      <td>4</td>\n",
       "    </tr>\n",
       "  </tbody>\n",
       "</table>\n",
       "</div>"
      ],
      "text/plain": [
       "    QtdErrosXPgn\n",
       "0              0\n",
       "1              0\n",
       "2              0\n",
       "3              0\n",
       "4              0\n",
       "5              0\n",
       "6              0\n",
       "7              0\n",
       "8              0\n",
       "9              0\n",
       "10             0\n",
       "11             0\n",
       "12             0\n",
       "13             0\n",
       "14             0\n",
       "15             0\n",
       "16             0\n",
       "17             0\n",
       "18             0\n",
       "19             0\n",
       "20             0\n",
       "21             0\n",
       "22             0\n",
       "23             0\n",
       "24             0\n",
       "25             1\n",
       "26             1\n",
       "27             1\n",
       "28             1\n",
       "29             1\n",
       "30             1\n",
       "31             1\n",
       "32             1\n",
       "33             1\n",
       "34             1\n",
       "35             1\n",
       "36             1\n",
       "37             1\n",
       "38             1\n",
       "39             1\n",
       "40             1\n",
       "41             1\n",
       "42             1\n",
       "43             1\n",
       "44             1\n",
       "45             2\n",
       "46             2\n",
       "47             2\n",
       "48             3\n",
       "49             4"
      ]
     },
     "execution_count": 3,
     "metadata": {},
     "output_type": "execute_result"
    }
   ],
   "source": [
    "paginas = []\n",
    "\n",
    "for erro, freq in zip(erros, frequencia):\n",
    "    paginas.extend([erro] * freq)\n",
    "\n",
    "paginas = pd.DataFrame(paginas, columns=['QtdErrosXPgn'])\n",
    "paginas"
   ]
  },
  {
   "cell_type": "markdown",
   "id": "c1da384a",
   "metadata": {},
   "source": [
    "#### Qual o número médio de erros por página?"
   ]
  },
  {
   "cell_type": "code",
   "execution_count": 4,
   "id": "d93d7a4b",
   "metadata": {},
   "outputs": [
    {
     "name": "stdout",
     "output_type": "stream",
     "text": [
      "Media: 0.66  Media usando pandas:  0.66\n"
     ]
    }
   ],
   "source": [
    "#Sem o uso do pandas\n",
    "media = paginas['QtdErrosXPgn'].sum()/len(paginas)\n",
    "\n",
    "#Usando o pandas\n",
    "mediaPd = paginas['QtdErrosXPgn'].mean()\n",
    "\n",
    "print('Media:', media,' Media usando pandas: ', mediaPd)"
   ]
  },
  {
   "cell_type": "markdown",
   "id": "1445259e",
   "metadata": {},
   "source": [
    "#### E o número mediano?"
   ]
  },
  {
   "cell_type": "code",
   "execution_count": 5,
   "id": "ce94c565",
   "metadata": {},
   "outputs": [
    {
     "name": "stdout",
     "output_type": "stream",
     "text": [
      "Mediana: 0.5  Mediana usando pandas:  0.5\n"
     ]
    }
   ],
   "source": [
    "#Sem o uso do Pandas\n",
    "if len(paginas)%2==0:\n",
    "    i = int((len(paginas)/2)-1)\n",
    "    o = i+1\n",
    "    mediana = (paginas['QtdErrosXPgn'][i] + paginas['QtdErrosXPgn'][o])/ 2\n",
    "else:\n",
    "    i = floor(len(paginas['QtdErrosXPgn'])/2)\n",
    "    mediana = paginas['QtdErrosXPgn'][i]\n",
    "\n",
    "#Usando o pandas\n",
    "\n",
    "medianaPd = paginas['QtdErrosXPgn'].median()\n",
    "\n",
    "print('Mediana:', mediana,' Mediana usando pandas: ', medianaPd)"
   ]
  },
  {
   "cell_type": "markdown",
   "id": "837d9774",
   "metadata": {},
   "source": [
    "#### Qual é o desvio padrão?"
   ]
  },
  {
   "cell_type": "markdown",
   "id": "2c2ea516",
   "metadata": {},
   "source": [
    "##### Sem o uso do pandas"
   ]
  },
  {
   "cell_type": "code",
   "execution_count": 6,
   "id": "2d24c8b9",
   "metadata": {},
   "outputs": [],
   "source": [
    "def funcDesvio(valor, media):\n",
    "    if valor > media:\n",
    "        return round(valor - media, 3)\n",
    "    else:\n",
    "        return round(media - valor, 3) \n",
    "    \n",
    "def funcQuadradoDesvios(valor):\n",
    "    return round(valor**2, 3)"
   ]
  },
  {
   "cell_type": "code",
   "execution_count": 7,
   "id": "78f43ff6",
   "metadata": {},
   "outputs": [
    {
     "name": "stdout",
     "output_type": "stream",
     "text": [
      "Desvios: [0.66, 0.66, 0.66, 0.66, 0.66, 0.66, 0.66, 0.66, 0.66, 0.66, 0.66, 0.66, 0.66, 0.66, 0.66, 0.66, 0.66, 0.66, 0.66, 0.66, 0.66, 0.66, 0.66, 0.66, 0.66, 0.34, 0.34, 0.34, 0.34, 0.34, 0.34, 0.34, 0.34, 0.34, 0.34, 0.34, 0.34, 0.34, 0.34, 0.34, 0.34, 0.34, 0.34, 0.34, 0.34, 1.34, 1.34, 1.34, 2.34, 3.34]\n",
      "\n",
      "Desvio Medio: 0.66\n",
      "\n",
      "Quadrado dos desvios [0.436, 0.436, 0.436, 0.436, 0.436, 0.436, 0.436, 0.436, 0.436, 0.436, 0.436, 0.436, 0.436, 0.436, 0.436, 0.436, 0.436, 0.436, 0.436, 0.436, 0.436, 0.436, 0.436, 0.436, 0.436, 0.116, 0.116, 0.116, 0.116, 0.116, 0.116, 0.116, 0.116, 0.116, 0.116, 0.116, 0.116, 0.116, 0.116, 0.116, 0.116, 0.116, 0.116, 0.116, 0.116, 1.796, 1.796, 1.796, 5.476, 11.156]\n",
      "\n",
      "Variancia: 0.705\n",
      "\n",
      "Desvio Padrão: 0.84\n"
     ]
    }
   ],
   "source": [
    "tamanho = len(paginas)\n",
    "media = paginas['QtdErrosXPgn'].mean()\n",
    "\n",
    "desvios = []\n",
    "quadradoDesvios = []\n",
    "\n",
    "#Pegando os desvios de cada elemento\n",
    "for i in paginas['QtdErrosXPgn']:\n",
    "    desvios.append(funcDesvio(i, media))\n",
    "\n",
    "#Calculando o desvio medio a partir do desvio\n",
    "desvioMedio = (sum(desvios))/tamanho\n",
    "\n",
    "#Pegando o quadrado dos desvios de cada elemento\n",
    "for i in desvios:\n",
    "    quadradoDesvios.append(funcQuadradoDesvios(i))\n",
    "    \n",
    "#Calculando a variancia a partir do quadrado dos desvios\n",
    "variancia = round((sum(quadradoDesvios))/tamanho, 3)\n",
    "\n",
    "#Calculado o desvio Padrao a partir da variância\n",
    "desvioPadrao = round(mt.sqrt(variancia),2)\n",
    "\n",
    "print('Desvios:', desvios)\n",
    "print()\n",
    "print('Desvio Medio:', desvioMedio)\n",
    "print()\n",
    "print('Quadrado dos desvios', quadradoDesvios)\n",
    "print()\n",
    "print('Variancia:', variancia)\n",
    "print()\n",
    "print('Desvio Padrão:', desvioPadrao)"
   ]
  },
  {
   "cell_type": "markdown",
   "id": "58b65814",
   "metadata": {},
   "source": [
    "##### Com o pandas"
   ]
  },
  {
   "cell_type": "code",
   "execution_count": 8,
   "id": "8d0c0e6d",
   "metadata": {},
   "outputs": [
    {
     "name": "stdout",
     "output_type": "stream",
     "text": [
      "Desvio Médio: 0.66\n",
      "Variância: 0.719\n",
      "Desvio Padrão: 0.85\n"
     ]
    }
   ],
   "source": [
    "#lista.mad() foi descontinuado\n",
    "desvioMedio = paginas['QtdErrosXPgn']\n",
    "desvioMedio = (desvioMedio-desvioMedio.mean()).abs().mean()\n",
    "print('Desvio Médio:', desvioMedio)\n",
    "\n",
    "#variância\n",
    "variancia = round(paginas['QtdErrosXPgn'].var(), 3)\n",
    "print(\"Variância:\", variancia)\n",
    "\n",
    "#desvio padrão\n",
    "desvioPadrao = round(paginas['QtdErrosXPgn'].std(), 2)\n",
    "print(\"Desvio Padrão:\", desvioPadrao)\n"
   ]
  },
  {
   "cell_type": "markdown",
   "id": "deb20598",
   "metadata": {},
   "source": [
    "###### Acredito que da primeira maneira o calculo é mais preciso."
   ]
  },
  {
   "cell_type": "markdown",
   "id": "d5f390df",
   "metadata": {},
   "source": [
    "##### Acima achei melhor definir os desvios, desvio médio, quadrado dos desvio, variância e o desvio padrão, para mostra os outros pontos e o que deve ser feito até chegar DP"
   ]
  },
  {
   "cell_type": "markdown",
   "id": "e4d09a21",
   "metadata": {},
   "source": [
    "#### Faça uma representação gráfica para a distribuição."
   ]
  },
  {
   "cell_type": "code",
   "execution_count": 9,
   "id": "1ad0ce27",
   "metadata": {},
   "outputs": [
    {
     "data": {
      "image/png": "[encoded data removed]",
      "text/plain": [
       "<Figure size 640x480 with 1 Axes>"
      ]
     },
     "metadata": {},
     "output_type": "display_data"
    }
   ],
   "source": [
    "plt.bar(freq_table['Erros'], freq_table['Frequencia'])\n",
    "plt.xlabel('Erros')\n",
    "plt.ylabel('Frequência')\n",
    "plt.title('Erros por Frequência')\n",
    "plt.show()\n"
   ]
  },
  {
   "cell_type": "markdown",
   "id": "5b8c0974",
   "metadata": {},
   "source": [
    "#### Se o livro tem 500 páginas, qual o número total de erros esperado no livro?"
   ]
  },
  {
   "cell_type": "code",
   "execution_count": 10,
   "id": "6e568ee0",
   "metadata": {},
   "outputs": [
    {
     "name": "stdout",
     "output_type": "stream",
     "text": [
      "O valor esperado é:  330.0\n"
     ]
    }
   ],
   "source": [
    "valor = media * 500\n",
    "print('O valor esperado é: ', valor)"
   ]
  },
  {
   "cell_type": "markdown",
   "id": "0b15c4b9",
   "metadata": {},
   "source": [
    "### Problema 2: As taxas de juros recebidas por 10 ações durante um certo período foram (medidas em porcentagem) 2,59; 2,64; 2,60; 2,62; 2,57; 2,55; 2,61; 2,50; 2,63; 2,64. Calcule a média, a mediana e o desvio padrão."
   ]
  },
  {
   "cell_type": "code",
   "execution_count": 11,
   "id": "2b6cd819",
   "metadata": {},
   "outputs": [],
   "source": [
    "dados = [2.59, 2.64, 2.60, 2.62, 2.57, 2.55, 2.61, 2.50, 2.63, 2.64]"
   ]
  },
  {
   "cell_type": "code",
   "execution_count": 12,
   "id": "bf2fce8e",
   "metadata": {},
   "outputs": [
    {
     "data": {
      "text/html": [
       "<div>\n",
       "<style scoped>\n",
       "    .dataframe tbody tr th:only-of-type {\n",
       "        vertical-align: middle;\n",
       "    }\n",
       "\n",
       "    .dataframe tbody tr th {\n",
       "        vertical-align: top;\n",
       "    }\n",
       "\n",
       "    .dataframe thead th {\n",
       "        text-align: right;\n",
       "    }\n",
       "</style>\n",
       "<table border=\"1\" class=\"dataframe\">\n",
       "  <thead>\n",
       "    <tr style=\"text-align: right;\">\n",
       "      <th></th>\n",
       "      <th>TaxasJuros</th>\n",
       "    </tr>\n",
       "  </thead>\n",
       "  <tbody>\n",
       "    <tr>\n",
       "      <th>0</th>\n",
       "      <td>2.59</td>\n",
       "    </tr>\n",
       "    <tr>\n",
       "      <th>1</th>\n",
       "      <td>2.64</td>\n",
       "    </tr>\n",
       "    <tr>\n",
       "      <th>2</th>\n",
       "      <td>2.60</td>\n",
       "    </tr>\n",
       "    <tr>\n",
       "      <th>3</th>\n",
       "      <td>2.62</td>\n",
       "    </tr>\n",
       "    <tr>\n",
       "      <th>4</th>\n",
       "      <td>2.57</td>\n",
       "    </tr>\n",
       "    <tr>\n",
       "      <th>5</th>\n",
       "      <td>2.55</td>\n",
       "    </tr>\n",
       "    <tr>\n",
       "      <th>6</th>\n",
       "      <td>2.61</td>\n",
       "    </tr>\n",
       "    <tr>\n",
       "      <th>7</th>\n",
       "      <td>2.50</td>\n",
       "    </tr>\n",
       "    <tr>\n",
       "      <th>8</th>\n",
       "      <td>2.63</td>\n",
       "    </tr>\n",
       "    <tr>\n",
       "      <th>9</th>\n",
       "      <td>2.64</td>\n",
       "    </tr>\n",
       "  </tbody>\n",
       "</table>\n",
       "</div>"
      ],
      "text/plain": [
       "   TaxasJuros\n",
       "0        2.59\n",
       "1        2.64\n",
       "2        2.60\n",
       "3        2.62\n",
       "4        2.57\n",
       "5        2.55\n",
       "6        2.61\n",
       "7        2.50\n",
       "8        2.63\n",
       "9        2.64"
      ]
     },
     "execution_count": 12,
     "metadata": {},
     "output_type": "execute_result"
    }
   ],
   "source": [
    "dados = pd.DataFrame(dados, columns=['TaxasJuros'])\n",
    "dados"
   ]
  },
  {
   "cell_type": "code",
   "execution_count": 13,
   "id": "2dba9d54",
   "metadata": {},
   "outputs": [
    {
     "name": "stdout",
     "output_type": "stream",
     "text": [
      "Media: 2.6\n",
      "Mediana: 2.6\n",
      "Desvio Padrão: 0.04\n"
     ]
    }
   ],
   "source": [
    "media = round(dados['TaxasJuros'].mean(), 2)\n",
    "print('Media:', media)\n",
    "\n",
    "mediana = round(dados['TaxasJuros'].median(), 2)\n",
    "print('Mediana:', mediana)\n",
    "\n",
    "desvioPadrao = round(dados['TaxasJuros'].std(), 2)\n",
    "print(\"Desvio Padrão:\", desvioPadrao)"
   ]
  },
  {
   "cell_type": "markdown",
   "id": "980ba1d3",
   "metadata": {},
   "source": [
    "### Problema 3: Para facilitar um projeto de ampliação da rede de esgoto de uma certa região de uma cidade, as autoridades tomaram uma amostra de tamanho 50 dos 270 quarteirões que compõem a região, e foram encontrados os seguintes números de casas por quarteirão:\n",
    "                                 2  2  3 10 13 14 15 15 16 16\n",
    "                                18 18 20 21 22 22 23 24 25 25\n",
    "                                26 27 29 29 30 32 36 42 44 45\n",
    "                                45 46 48 52 58 59 61 61 61 65\n",
    "                                66 66 68 75 78 80 89 90 92 97"
   ]
  },
  {
   "cell_type": "code",
   "execution_count": 14,
   "id": "cdee2d75",
   "metadata": {},
   "outputs": [],
   "source": [
    "dados = [2, 2, 3, 10, 13, 14, 15, 15, 16, 16, 18, 18, 20, 21, 22, 22, 23, 24, 25, 25, 26, 27, 29, 29, 30, 32, 36, 42, 44,\n",
    "         45, 45, 46, 48, 52, 58, 59, 61, 61, 61, 65, 66, 66, 68, 75, 78, 80, 89, 90, 92, 97]"
   ]
  },
  {
   "cell_type": "markdown",
   "id": "a23e26da",
   "metadata": {},
   "source": [
    "#### Use cinco intervalos e construa um histograma."
   ]
  },
  {
   "cell_type": "code",
   "execution_count": 15,
   "id": "c8c26eaa",
   "metadata": {},
   "outputs": [
    {
     "data": {
      "image/png": "[encoded data removed]",
      "text/plain": [
       "<Figure size 640x480 with 1 Axes>"
      ]
     },
     "metadata": {},
     "output_type": "display_data"
    }
   ],
   "source": [
    "plt.hist(dados, bins=5, edgecolor='black')\n",
    "\n",
    "plt.xlabel('Intervalo')\n",
    "plt.ylabel('Qtd de Quarteirões')\n",
    "plt.title('Amostra de tamanho 50 dos 270 quarteirões')\n",
    "\n",
    "\n",
    "plt.show()\n"
   ]
  },
  {
   "cell_type": "markdown",
   "id": "05e21f8b",
   "metadata": {},
   "source": [
    "#### Determine uma medida de posição central e uma medida de dispersão."
   ]
  },
  {
   "cell_type": "code",
   "execution_count": 16,
   "id": "9a85038d",
   "metadata": {},
   "outputs": [
    {
     "name": "stdout",
     "output_type": "stream",
     "text": [
      "Medida de posição central\n",
      "Mediana: 31.0\n",
      "\n",
      "medida de dispersão\n",
      "Desvio Padrão: 25.81\n"
     ]
    }
   ],
   "source": [
    "#Utilizando Numpy\n",
    "\n",
    "print('Medida de posição central')\n",
    "mediana = np.median(dados)\n",
    "print('Mediana:', mediana)\n",
    "\n",
    "print()\n",
    "\n",
    "print('medida de dispersão')\n",
    "desvioPadrao = round(np.std(dados),2)\n",
    "print('Desvio Padrão:', desvioPadrao)"
   ]
  },
  {
   "cell_type": "markdown",
   "id": "d6f4ebaa",
   "metadata": {},
   "source": [
    "### Problema 6: Numa pesquisa realizada com 100 famílias, levantaram-se as seguintes informações:"
   ]
  },
  {
   "cell_type": "code",
   "execution_count": 17,
   "id": "731621bb",
   "metadata": {},
   "outputs": [
    {
     "data": {
      "text/html": [
       "<div>\n",
       "<style scoped>\n",
       "    .dataframe tbody tr th:only-of-type {\n",
       "        vertical-align: middle;\n",
       "    }\n",
       "\n",
       "    .dataframe tbody tr th {\n",
       "        vertical-align: top;\n",
       "    }\n",
       "\n",
       "    .dataframe thead th {\n",
       "        text-align: right;\n",
       "    }\n",
       "</style>\n",
       "<table border=\"1\" class=\"dataframe\">\n",
       "  <thead>\n",
       "    <tr style=\"text-align: right;\">\n",
       "      <th></th>\n",
       "      <th>NumeroFilhos</th>\n",
       "      <th>FreqFamilia</th>\n",
       "    </tr>\n",
       "  </thead>\n",
       "  <tbody>\n",
       "    <tr>\n",
       "      <th>0</th>\n",
       "      <td>0</td>\n",
       "      <td>17</td>\n",
       "    </tr>\n",
       "    <tr>\n",
       "      <th>1</th>\n",
       "      <td>1</td>\n",
       "      <td>20</td>\n",
       "    </tr>\n",
       "    <tr>\n",
       "      <th>2</th>\n",
       "      <td>2</td>\n",
       "      <td>28</td>\n",
       "    </tr>\n",
       "    <tr>\n",
       "      <th>3</th>\n",
       "      <td>3</td>\n",
       "      <td>19</td>\n",
       "    </tr>\n",
       "    <tr>\n",
       "      <th>4</th>\n",
       "      <td>4</td>\n",
       "      <td>7</td>\n",
       "    </tr>\n",
       "    <tr>\n",
       "      <th>5</th>\n",
       "      <td>5</td>\n",
       "      <td>4</td>\n",
       "    </tr>\n",
       "    <tr>\n",
       "      <th>6</th>\n",
       "      <td>+ q 5</td>\n",
       "      <td>5</td>\n",
       "    </tr>\n",
       "  </tbody>\n",
       "</table>\n",
       "</div>"
      ],
      "text/plain": [
       "  NumeroFilhos  FreqFamilia\n",
       "0            0           17\n",
       "1            1           20\n",
       "2            2           28\n",
       "3            3           19\n",
       "4            4            7\n",
       "5            5            4\n",
       "6        + q 5            5"
      ]
     },
     "execution_count": 17,
     "metadata": {},
     "output_type": "execute_result"
    }
   ],
   "source": [
    "numeroFilhos = [0, 1, 2, 3, 4, 5, '+ q 5']\n",
    "freqFamilia = [17, 20, 28, 19, 7, 4, 5]\n",
    "\n",
    "pesquisa = pd.DataFrame(numeroFilhos, columns=['NumeroFilhos'])\n",
    "pesquisa['FreqFamilia'] = freqFamilia\n",
    "\n",
    "pesquisa"
   ]
  },
  {
   "cell_type": "code",
   "execution_count": 18,
   "id": "eac8f70e",
   "metadata": {},
   "outputs": [],
   "source": [
    "#Mudando elemento da lista\n",
    "numeroFilhos = [6 if x == '+ q 5' else x for x in numeroFilhos]\n",
    "\n",
    "familias = []\n",
    "\n",
    "for numeroFilhos, freqFamilia in zip(numeroFilhos, freqFamilia):\n",
    "    familias.extend([numeroFilhos] * freqFamilia)"
   ]
  },
  {
   "cell_type": "code",
   "execution_count": 19,
   "id": "79be38a9",
   "metadata": {},
   "outputs": [
    {
     "data": {
      "text/plain": [
       "100"
      ]
     },
     "execution_count": 19,
     "metadata": {},
     "output_type": "execute_result"
    }
   ],
   "source": [
    "len(familias)"
   ]
  },
  {
   "cell_type": "markdown",
   "id": "f809bb54",
   "metadata": {},
   "source": [
    "#### Qual a mediana do número de filhos?"
   ]
  },
  {
   "cell_type": "code",
   "execution_count": 20,
   "id": "42610dff",
   "metadata": {},
   "outputs": [
    {
     "name": "stdout",
     "output_type": "stream",
     "text": [
      "A mediana é: 2.0\n"
     ]
    }
   ],
   "source": [
    "mediana = np.median(familias)\n",
    "\n",
    "print(\"A mediana é:\", mediana)"
   ]
  },
  {
   "cell_type": "markdown",
   "id": "245bdfaf",
   "metadata": {},
   "source": [
    "#### E a moda?"
   ]
  },
  {
   "cell_type": "code",
   "execution_count": 21,
   "id": "64115346",
   "metadata": {},
   "outputs": [
    {
     "data": {
      "text/html": [
       "<div>\n",
       "<style scoped>\n",
       "    .dataframe tbody tr th:only-of-type {\n",
       "        vertical-align: middle;\n",
       "    }\n",
       "\n",
       "    .dataframe tbody tr th {\n",
       "        vertical-align: top;\n",
       "    }\n",
       "\n",
       "    .dataframe thead th {\n",
       "        text-align: right;\n",
       "    }\n",
       "</style>\n",
       "<table border=\"1\" class=\"dataframe\">\n",
       "  <thead>\n",
       "    <tr style=\"text-align: right;\">\n",
       "      <th></th>\n",
       "      <th>NumeroFilhos</th>\n",
       "      <th>FreqFamilia</th>\n",
       "    </tr>\n",
       "  </thead>\n",
       "  <tbody>\n",
       "    <tr>\n",
       "      <th>0</th>\n",
       "      <td>0</td>\n",
       "      <td>17</td>\n",
       "    </tr>\n",
       "    <tr>\n",
       "      <th>1</th>\n",
       "      <td>1</td>\n",
       "      <td>20</td>\n",
       "    </tr>\n",
       "    <tr>\n",
       "      <th>2</th>\n",
       "      <td>2</td>\n",
       "      <td>28</td>\n",
       "    </tr>\n",
       "    <tr>\n",
       "      <th>3</th>\n",
       "      <td>3</td>\n",
       "      <td>19</td>\n",
       "    </tr>\n",
       "    <tr>\n",
       "      <th>4</th>\n",
       "      <td>4</td>\n",
       "      <td>7</td>\n",
       "    </tr>\n",
       "    <tr>\n",
       "      <th>5</th>\n",
       "      <td>5</td>\n",
       "      <td>4</td>\n",
       "    </tr>\n",
       "    <tr>\n",
       "      <th>6</th>\n",
       "      <td>+ q 5</td>\n",
       "      <td>5</td>\n",
       "    </tr>\n",
       "  </tbody>\n",
       "</table>\n",
       "</div>"
      ],
      "text/plain": [
       "  NumeroFilhos  FreqFamilia\n",
       "0            0           17\n",
       "1            1           20\n",
       "2            2           28\n",
       "3            3           19\n",
       "4            4            7\n",
       "5            5            4\n",
       "6        + q 5            5"
      ]
     },
     "execution_count": 21,
     "metadata": {},
     "output_type": "execute_result"
    }
   ],
   "source": [
    "# Apenas de olhar tabela é possivel identificar que é a quantidade de 2 filhos que mais acontece.\n",
    "pesquisa"
   ]
  },
  {
   "cell_type": "code",
   "execution_count": 22,
   "id": "8e61686b",
   "metadata": {},
   "outputs": [
    {
     "name": "stdout",
     "output_type": "stream",
     "text": [
      "A moda é: 2\n"
     ]
    }
   ],
   "source": [
    "# Apenas para registrar outra maneira\n",
    "moda = np.argmax(np.bincount(familias))\n",
    "\n",
    "print(\"A moda é:\", moda)"
   ]
  },
  {
   "cell_type": "markdown",
   "id": "ea838da3",
   "metadata": {},
   "source": [
    "### Problema 7: Obtenha o esquema dos cinco números para os dados do Problema 3. Calcule o intervalo interquartil e as dispersões inferior e superior. Baseado nessas medidas, verifique se a forma da distribuição dos dados é normal."
   ]
  },
  {
   "cell_type": "code",
   "execution_count": 73,
   "id": "7ceee4d2",
   "metadata": {},
   "outputs": [],
   "source": [
    "dados = [2, 2, 3, 10, 13, 14, 15, 15, 16, 16, 18, 18, 20, 21, 22, 22, 23, 24, 25, 25, 26, 27, 29, 29, 30, 32, 36, 42, 44,\n",
    "         45, 45, 46, 48, 52, 58, 59, 61, 61, 61, 65, 66, 66, 68, 75, 78, 80, 89, 90, 92, 97]"
   ]
  },
  {
   "cell_type": "code",
   "execution_count": 74,
   "id": "85e1f110",
   "metadata": {},
   "outputs": [
    {
     "data": {
      "image/png": "[encoded data removed]",
      "text/plain": [
       "<Figure size 640x480 with 1 Axes>"
      ]
     },
     "metadata": {},
     "output_type": "display_data"
    }
   ],
   "source": [
    "plt.hist(dados, bins=10, color='skyblue', edgecolor='black')\n",
    "plt.xlabel('Valores')\n",
    "plt.ylabel('Frequência')\n",
    "plt.title('Histograma dos Dados')\n",
    "plt.grid(True)\n",
    "plt.show()"
   ]
  },
  {
   "cell_type": "markdown",
   "id": "f1c19fb2",
   "metadata": {},
   "source": [
    "##### Sem o uso de numpy"
   ]
  },
  {
   "cell_type": "code",
   "execution_count": 92,
   "id": "836d20e6",
   "metadata": {},
   "outputs": [
    {
     "name": "stdout",
     "output_type": "stream",
     "text": [
      "Q1: 20\n",
      "Q2 ou mediana: 31.0\n",
      "Q3: 61\n",
      "IQR: 41\n",
      "Dispersao Inferior: -41.5\n",
      "Dispersao Superior: 122.5\n"
     ]
    }
   ],
   "source": [
    "\n",
    "#ordena os dados\n",
    "dados.sort()\n",
    "\n",
    "#Q1\n",
    "Q1 = (len(dados)+1)/4\n",
    "\n",
    "#arredondar para cima\n",
    "Q1= mt.ceil(Q1)\n",
    "\n",
    "#-1 pois começa do valor zero\n",
    "dadoQ1 = dados[Q1-1]\n",
    "\n",
    "\n",
    "#Q2 ou mediana\n",
    "if len(dados)%2==0:\n",
    "    i = int((len(dados)/2)-1)\n",
    "    o = i+1\n",
    "    dadoQ2 = (dados[i] + dados[o])/ 2\n",
    "else:\n",
    "    i = floor(len(dados)/2)\n",
    "    dadoQ2 = dados[i]\n",
    "\n",
    "#Q3\n",
    "Q3 =(3*(len(dados)+1))/4\n",
    "Q3= mt.ceil(Q3)\n",
    "\n",
    "dadoQ3 = dados[Q3-1]\n",
    "\n",
    "#Intervalo interquartil\n",
    "IQR = dadoQ3 - dadoQ1\n",
    "\n",
    "#Distribuições\n",
    "dispersaoInferior = dadoQ1 - 1.5 * IQR\n",
    "dispersaoSuperior = dadoQ3 + 1.5 * IQR\n",
    "\n",
    "print('Q1:', dadoQ1)\n",
    "print('Q2 ou mediana:', dadoQ2)\n",
    "print('Q3:', dadoQ3)\n",
    "print('IQR:', IQR)\n",
    "print('Dispersao Inferior:', dispersaoInferior)\n",
    "print('Dispersao Superior:', dispersaoSuperior)"
   ]
  },
  {
   "cell_type": "markdown",
   "id": "d6137215",
   "metadata": {},
   "source": [
    "##### Com numpy"
   ]
  },
  {
   "cell_type": "code",
   "execution_count": 93,
   "id": "27c7dd1d",
   "metadata": {},
   "outputs": [
    {
     "name": "stdout",
     "output_type": "stream",
     "text": [
      "Q1: 20.25\n",
      "Q2 ou mediana: 31.0\n",
      "Q3: 61.0\n",
      "IQR: 42.0\n",
      "Dispersão Inferior: -42.75\n",
      "Dispersão Superior: 124.0\n"
     ]
    }
   ],
   "source": [
    "dadoQ1 = np.percentile(dados, 25)\n",
    "dadoQ2 = np.median(dados)\n",
    "dadoQ3 = np.percentile(dados, 75)\n",
    "\n",
    "IQR = q3 - q1\n",
    "\n",
    "\n",
    "dispersaoInferior = dadoQ1 - 1.5 * iqr\n",
    "dispersaoSuperior = dadoQ3 + 1.5 * iqr\n",
    "\n",
    "print('Q1:', dadoQ1)\n",
    "print('Q2 ou mediana:', dadoQ2)\n",
    "print('Q3:', dadoQ3)\n",
    "print(\"IQR:\", iqr)\n",
    "print(\"Dispersão Inferior:\", dispersaoInferior)\n",
    "print(\"Dispersão Superior:\", dispersaoSuperior)\n"
   ]
  },
  {
   "cell_type": "code",
   "execution_count": null,
   "id": "eea2f80c",
   "metadata": {},
   "outputs": [],
   "source": []
  }
 ],
 "metadata": {
  "kernelspec": {
   "display_name": "Python 3 (ipykernel)",
   "language": "python",
   "name": "python3"
  },
  "language_info": {
   "codemirror_mode": {
    "name": "ipython",
    "version": 3
   },
   "file_extension": ".py",
   "mimetype": "text/x-python",
   "name": "python",
   "nbconvert_exporter": "python",
   "pygments_lexer": "ipython3",
   "version": "3.11.5"
  }
 },
 "nbformat": 4,
 "nbformat_minor": 5
}
