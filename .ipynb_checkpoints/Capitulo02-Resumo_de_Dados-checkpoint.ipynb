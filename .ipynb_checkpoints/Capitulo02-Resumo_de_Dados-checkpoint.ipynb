{
 "cells": [
  {
   "cell_type": "code",
   "execution_count": 1,
   "id": "9d1dfd14",
   "metadata": {},
   "outputs": [],
   "source": [
    "#pip install stemgraphic\n",
    "import pandas as pd\n",
    "import numpy as np \n",
    "import math as mt\n",
    "import seaborn as sns\n",
    "import stemgraphic as st\n",
    "from matplotlib import pyplot as plt "
   ]
  },
  {
   "cell_type": "markdown",
   "id": "7b3e57e8",
   "metadata": {},
   "source": [
    "### Problema 2: Usando os dados da EmpregadosCompanhiaMB, construa a distribuição de freqüências das variáveis:"
   ]
  },
  {
   "cell_type": "code",
   "execution_count": 2,
   "id": "eecabb29",
   "metadata": {},
   "outputs": [],
   "source": [
    "dados = pd.read_csv(\"Dados/EmpregadosCompanhiaMB.csv\", sep=\";\")"
   ]
  },
  {
   "cell_type": "code",
   "execution_count": 3,
   "id": "9e92a487",
   "metadata": {},
   "outputs": [
    {
     "data": {
      "text/html": [
       "<div>\n",
       "<style scoped>\n",
       "    .dataframe tbody tr th:only-of-type {\n",
       "        vertical-align: middle;\n",
       "    }\n",
       "\n",
       "    .dataframe tbody tr th {\n",
       "        vertical-align: top;\n",
       "    }\n",
       "\n",
       "    .dataframe thead th {\n",
       "        text-align: right;\n",
       "    }\n",
       "</style>\n",
       "<table border=\"1\" class=\"dataframe\">\n",
       "  <thead>\n",
       "    <tr style=\"text-align: right;\">\n",
       "      <th></th>\n",
       "      <th>N</th>\n",
       "      <th>EstadoCivil</th>\n",
       "      <th>GrauInstrucao</th>\n",
       "      <th>Nfilhos</th>\n",
       "      <th>Salario(xSalMin)</th>\n",
       "      <th>AnosIdade</th>\n",
       "      <th>MesesIdade</th>\n",
       "      <th>RegiaoProcedencia</th>\n",
       "    </tr>\n",
       "  </thead>\n",
       "  <tbody>\n",
       "    <tr>\n",
       "      <th>0</th>\n",
       "      <td>1</td>\n",
       "      <td>solteiro</td>\n",
       "      <td>ensino fundamental</td>\n",
       "      <td>0</td>\n",
       "      <td>4</td>\n",
       "      <td>26</td>\n",
       "      <td>3</td>\n",
       "      <td>interior</td>\n",
       "    </tr>\n",
       "    <tr>\n",
       "      <th>1</th>\n",
       "      <td>2</td>\n",
       "      <td>casado</td>\n",
       "      <td>ensino fundamental</td>\n",
       "      <td>1</td>\n",
       "      <td>4,56</td>\n",
       "      <td>32</td>\n",
       "      <td>10</td>\n",
       "      <td>capital</td>\n",
       "    </tr>\n",
       "    <tr>\n",
       "      <th>2</th>\n",
       "      <td>3</td>\n",
       "      <td>casado</td>\n",
       "      <td>ensino fundamental</td>\n",
       "      <td>2</td>\n",
       "      <td>5,25</td>\n",
       "      <td>36</td>\n",
       "      <td>5</td>\n",
       "      <td>capital</td>\n",
       "    </tr>\n",
       "    <tr>\n",
       "      <th>3</th>\n",
       "      <td>4</td>\n",
       "      <td>solteiro</td>\n",
       "      <td>ensino médio</td>\n",
       "      <td>0</td>\n",
       "      <td>5,73</td>\n",
       "      <td>20</td>\n",
       "      <td>10</td>\n",
       "      <td>outra</td>\n",
       "    </tr>\n",
       "    <tr>\n",
       "      <th>4</th>\n",
       "      <td>5</td>\n",
       "      <td>solteiro</td>\n",
       "      <td>ensino fundamental</td>\n",
       "      <td>0</td>\n",
       "      <td>6,26</td>\n",
       "      <td>40</td>\n",
       "      <td>7</td>\n",
       "      <td>outra</td>\n",
       "    </tr>\n",
       "  </tbody>\n",
       "</table>\n",
       "</div>"
      ],
      "text/plain": [
       "   N EstadoCivil       GrauInstrucao  Nfilhos Salario(xSalMin)  AnosIdade  \\\n",
       "0  1    solteiro  ensino fundamental        0                4         26   \n",
       "1  2      casado  ensino fundamental        1             4,56         32   \n",
       "2  3      casado  ensino fundamental        2             5,25         36   \n",
       "3  4    solteiro        ensino médio        0             5,73         20   \n",
       "4  5    solteiro  ensino fundamental        0             6,26         40   \n",
       "\n",
       "   MesesIdade RegiaoProcedencia  \n",
       "0           3          interior  \n",
       "1          10           capital  \n",
       "2           5           capital  \n",
       "3          10             outra  \n",
       "4           7             outra  "
      ]
     },
     "execution_count": 3,
     "metadata": {},
     "output_type": "execute_result"
    }
   ],
   "source": [
    "dados.head()"
   ]
  },
  {
   "cell_type": "code",
   "execution_count": 4,
   "id": "2be5d389",
   "metadata": {},
   "outputs": [
    {
     "data": {
      "text/plain": [
       "N                     int64\n",
       "EstadoCivil          object\n",
       "GrauInstrucao        object\n",
       "Nfilhos               int64\n",
       "Salario(xSalMin)     object\n",
       "AnosIdade             int64\n",
       "MesesIdade            int64\n",
       "RegiaoProcedencia    object\n",
       "dtype: object"
      ]
     },
     "execution_count": 4,
     "metadata": {},
     "output_type": "execute_result"
    }
   ],
   "source": [
    "dados.dtypes"
   ]
  },
  {
   "cell_type": "markdown",
   "id": "b283b1b7",
   "metadata": {},
   "source": [
    "#### EstadoCivil"
   ]
  },
  {
   "cell_type": "code",
   "execution_count": 5,
   "id": "240c0700",
   "metadata": {},
   "outputs": [
    {
     "data": {
      "text/html": [
       "<div>\n",
       "<style scoped>\n",
       "    .dataframe tbody tr th:only-of-type {\n",
       "        vertical-align: middle;\n",
       "    }\n",
       "\n",
       "    .dataframe tbody tr th {\n",
       "        vertical-align: top;\n",
       "    }\n",
       "\n",
       "    .dataframe thead th {\n",
       "        text-align: right;\n",
       "    }\n",
       "</style>\n",
       "<table border=\"1\" class=\"dataframe\">\n",
       "  <thead>\n",
       "    <tr style=\"text-align: right;\">\n",
       "      <th>col_0</th>\n",
       "      <th>FreqAbsoluta</th>\n",
       "      <th>FreqRelativa</th>\n",
       "    </tr>\n",
       "    <tr>\n",
       "      <th>EstadoCivil</th>\n",
       "      <th></th>\n",
       "      <th></th>\n",
       "    </tr>\n",
       "  </thead>\n",
       "  <tbody>\n",
       "    <tr>\n",
       "      <th>casado</th>\n",
       "      <td>20</td>\n",
       "      <td>0.555556</td>\n",
       "    </tr>\n",
       "    <tr>\n",
       "      <th>solteiro</th>\n",
       "      <td>16</td>\n",
       "      <td>0.444444</td>\n",
       "    </tr>\n",
       "    <tr>\n",
       "      <th>Total</th>\n",
       "      <td>36</td>\n",
       "      <td>1.000000</td>\n",
       "    </tr>\n",
       "  </tbody>\n",
       "</table>\n",
       "</div>"
      ],
      "text/plain": [
       "col_0        FreqAbsoluta  FreqRelativa\n",
       "EstadoCivil                            \n",
       "casado                 20      0.555556\n",
       "solteiro               16      0.444444\n",
       "Total                  36      1.000000"
      ]
     },
     "execution_count": 5,
     "metadata": {},
     "output_type": "execute_result"
    }
   ],
   "source": [
    "#Fazendo a coluna da frequência absoluta\n",
    "freq_table = pd.crosstab(dados['EstadoCivil'], 'FreqAbsoluta')\n",
    "\n",
    "#Fazendo a coluna da frequência relativa, dividindo a coluna FreqAbsoluta pelo tamanho\n",
    "freq_table['FreqRelativa'] = freq_table['FreqAbsoluta']/len(dados) \n",
    "\n",
    "#Fazendo a linha com os totais\n",
    "freq_table.loc['Total'] = freq_table.sum(axis=0)\n",
    "\n",
    "#Alterando a coluna FreqAbsoluta do tipo float para inteiro (só para ficar mais bonitinho)\n",
    "freq_table['FreqAbsoluta'] = freq_table['FreqAbsoluta'].astype(int)\n",
    "\n",
    "freq_table"
   ]
  },
  {
   "cell_type": "markdown",
   "id": "06d73fc4",
   "metadata": {},
   "source": [
    "#### RegiaoProcedencia"
   ]
  },
  {
   "cell_type": "code",
   "execution_count": 6,
   "id": "4ca8a020",
   "metadata": {},
   "outputs": [
    {
     "data": {
      "text/html": [
       "<div>\n",
       "<style scoped>\n",
       "    .dataframe tbody tr th:only-of-type {\n",
       "        vertical-align: middle;\n",
       "    }\n",
       "\n",
       "    .dataframe tbody tr th {\n",
       "        vertical-align: top;\n",
       "    }\n",
       "\n",
       "    .dataframe thead th {\n",
       "        text-align: right;\n",
       "    }\n",
       "</style>\n",
       "<table border=\"1\" class=\"dataframe\">\n",
       "  <thead>\n",
       "    <tr style=\"text-align: right;\">\n",
       "      <th>col_0</th>\n",
       "      <th>FreqAbsoluta</th>\n",
       "      <th>FreqRelativa</th>\n",
       "    </tr>\n",
       "    <tr>\n",
       "      <th>RegiaoProcedencia</th>\n",
       "      <th></th>\n",
       "      <th></th>\n",
       "    </tr>\n",
       "  </thead>\n",
       "  <tbody>\n",
       "    <tr>\n",
       "      <th>capital</th>\n",
       "      <td>11</td>\n",
       "      <td>0.305556</td>\n",
       "    </tr>\n",
       "    <tr>\n",
       "      <th>interior</th>\n",
       "      <td>12</td>\n",
       "      <td>0.333333</td>\n",
       "    </tr>\n",
       "    <tr>\n",
       "      <th>outra</th>\n",
       "      <td>13</td>\n",
       "      <td>0.361111</td>\n",
       "    </tr>\n",
       "    <tr>\n",
       "      <th>Total</th>\n",
       "      <td>36</td>\n",
       "      <td>1.000000</td>\n",
       "    </tr>\n",
       "  </tbody>\n",
       "</table>\n",
       "</div>"
      ],
      "text/plain": [
       "col_0              FreqAbsoluta  FreqRelativa\n",
       "RegiaoProcedencia                            \n",
       "capital                      11      0.305556\n",
       "interior                     12      0.333333\n",
       "outra                        13      0.361111\n",
       "Total                        36      1.000000"
      ]
     },
     "execution_count": 6,
     "metadata": {},
     "output_type": "execute_result"
    }
   ],
   "source": [
    "freq_table = pd.crosstab(dados['RegiaoProcedencia'], 'FreqAbsoluta')\n",
    "freq_table['FreqRelativa'] = freq_table['FreqAbsoluta']/len(dados) \n",
    "freq_table.loc['Total'] = freq_table.sum(axis=0)\n",
    "\n",
    "freq_table['FreqAbsoluta'] = freq_table['FreqAbsoluta'].astype(int)\n",
    "\n",
    "freq_table"
   ]
  },
  {
   "cell_type": "markdown",
   "id": "6196a874",
   "metadata": {},
   "source": [
    "#### Nfilhos"
   ]
  },
  {
   "cell_type": "code",
   "execution_count": 7,
   "id": "4cee37dc",
   "metadata": {},
   "outputs": [
    {
     "data": {
      "text/html": [
       "<div>\n",
       "<style scoped>\n",
       "    .dataframe tbody tr th:only-of-type {\n",
       "        vertical-align: middle;\n",
       "    }\n",
       "\n",
       "    .dataframe tbody tr th {\n",
       "        vertical-align: top;\n",
       "    }\n",
       "\n",
       "    .dataframe thead th {\n",
       "        text-align: right;\n",
       "    }\n",
       "</style>\n",
       "<table border=\"1\" class=\"dataframe\">\n",
       "  <thead>\n",
       "    <tr style=\"text-align: right;\">\n",
       "      <th>col_0</th>\n",
       "      <th>FreqAbsoluta</th>\n",
       "      <th>FreqRelativa</th>\n",
       "    </tr>\n",
       "    <tr>\n",
       "      <th>Nfilhos</th>\n",
       "      <th></th>\n",
       "      <th></th>\n",
       "    </tr>\n",
       "  </thead>\n",
       "  <tbody>\n",
       "    <tr>\n",
       "      <th>0</th>\n",
       "      <td>20</td>\n",
       "      <td>0.555556</td>\n",
       "    </tr>\n",
       "    <tr>\n",
       "      <th>1</th>\n",
       "      <td>5</td>\n",
       "      <td>0.138889</td>\n",
       "    </tr>\n",
       "    <tr>\n",
       "      <th>2</th>\n",
       "      <td>7</td>\n",
       "      <td>0.194444</td>\n",
       "    </tr>\n",
       "    <tr>\n",
       "      <th>3</th>\n",
       "      <td>3</td>\n",
       "      <td>0.083333</td>\n",
       "    </tr>\n",
       "    <tr>\n",
       "      <th>5</th>\n",
       "      <td>1</td>\n",
       "      <td>0.027778</td>\n",
       "    </tr>\n",
       "    <tr>\n",
       "      <th>Total</th>\n",
       "      <td>36</td>\n",
       "      <td>1.000000</td>\n",
       "    </tr>\n",
       "  </tbody>\n",
       "</table>\n",
       "</div>"
      ],
      "text/plain": [
       "col_0    FreqAbsoluta  FreqRelativa\n",
       "Nfilhos                            \n",
       "0                  20      0.555556\n",
       "1                   5      0.138889\n",
       "2                   7      0.194444\n",
       "3                   3      0.083333\n",
       "5                   1      0.027778\n",
       "Total              36      1.000000"
      ]
     },
     "execution_count": 7,
     "metadata": {},
     "output_type": "execute_result"
    }
   ],
   "source": [
    "freq_table = pd.crosstab(dados['Nfilhos'], 'FreqAbsoluta')\n",
    "freq_table['FreqRelativa'] = freq_table['FreqAbsoluta']/len(dados) \n",
    "freq_table.loc['Total'] = freq_table.sum(axis=0)\n",
    "\n",
    "freq_table['FreqAbsoluta'] = freq_table['FreqAbsoluta'].astype(int)\n",
    "\n",
    "freq_table"
   ]
  },
  {
   "cell_type": "markdown",
   "id": "37d8d89b",
   "metadata": {},
   "source": [
    "#### AnosIdade"
   ]
  },
  {
   "cell_type": "code",
   "execution_count": 8,
   "id": "7608278a",
   "metadata": {},
   "outputs": [
    {
     "data": {
      "text/html": [
       "<div>\n",
       "<style scoped>\n",
       "    .dataframe tbody tr th:only-of-type {\n",
       "        vertical-align: middle;\n",
       "    }\n",
       "\n",
       "    .dataframe tbody tr th {\n",
       "        vertical-align: top;\n",
       "    }\n",
       "\n",
       "    .dataframe thead th {\n",
       "        text-align: right;\n",
       "    }\n",
       "</style>\n",
       "<table border=\"1\" class=\"dataframe\">\n",
       "  <thead>\n",
       "    <tr style=\"text-align: right;\">\n",
       "      <th>col_0</th>\n",
       "      <th>FreqAbsoluta</th>\n",
       "      <th>FreqRelativa</th>\n",
       "    </tr>\n",
       "    <tr>\n",
       "      <th>AnosIdade</th>\n",
       "      <th></th>\n",
       "      <th></th>\n",
       "    </tr>\n",
       "  </thead>\n",
       "  <tbody>\n",
       "    <tr>\n",
       "      <th>20</th>\n",
       "      <td>1</td>\n",
       "      <td>0.027778</td>\n",
       "    </tr>\n",
       "    <tr>\n",
       "      <th>23</th>\n",
       "      <td>1</td>\n",
       "      <td>0.027778</td>\n",
       "    </tr>\n",
       "    <tr>\n",
       "      <th>25</th>\n",
       "      <td>1</td>\n",
       "      <td>0.027778</td>\n",
       "    </tr>\n",
       "    <tr>\n",
       "      <th>26</th>\n",
       "      <td>2</td>\n",
       "      <td>0.055556</td>\n",
       "    </tr>\n",
       "    <tr>\n",
       "      <th>27</th>\n",
       "      <td>1</td>\n",
       "      <td>0.027778</td>\n",
       "    </tr>\n",
       "    <tr>\n",
       "      <th>28</th>\n",
       "      <td>1</td>\n",
       "      <td>0.027778</td>\n",
       "    </tr>\n",
       "    <tr>\n",
       "      <th>29</th>\n",
       "      <td>1</td>\n",
       "      <td>0.027778</td>\n",
       "    </tr>\n",
       "    <tr>\n",
       "      <th>30</th>\n",
       "      <td>2</td>\n",
       "      <td>0.055556</td>\n",
       "    </tr>\n",
       "    <tr>\n",
       "      <th>31</th>\n",
       "      <td>2</td>\n",
       "      <td>0.055556</td>\n",
       "    </tr>\n",
       "    <tr>\n",
       "      <th>32</th>\n",
       "      <td>2</td>\n",
       "      <td>0.055556</td>\n",
       "    </tr>\n",
       "    <tr>\n",
       "      <th>33</th>\n",
       "      <td>2</td>\n",
       "      <td>0.055556</td>\n",
       "    </tr>\n",
       "    <tr>\n",
       "      <th>34</th>\n",
       "      <td>2</td>\n",
       "      <td>0.055556</td>\n",
       "    </tr>\n",
       "    <tr>\n",
       "      <th>35</th>\n",
       "      <td>2</td>\n",
       "      <td>0.055556</td>\n",
       "    </tr>\n",
       "    <tr>\n",
       "      <th>36</th>\n",
       "      <td>2</td>\n",
       "      <td>0.055556</td>\n",
       "    </tr>\n",
       "    <tr>\n",
       "      <th>37</th>\n",
       "      <td>2</td>\n",
       "      <td>0.055556</td>\n",
       "    </tr>\n",
       "    <tr>\n",
       "      <th>38</th>\n",
       "      <td>1</td>\n",
       "      <td>0.027778</td>\n",
       "    </tr>\n",
       "    <tr>\n",
       "      <th>39</th>\n",
       "      <td>1</td>\n",
       "      <td>0.027778</td>\n",
       "    </tr>\n",
       "    <tr>\n",
       "      <th>40</th>\n",
       "      <td>2</td>\n",
       "      <td>0.055556</td>\n",
       "    </tr>\n",
       "    <tr>\n",
       "      <th>41</th>\n",
       "      <td>2</td>\n",
       "      <td>0.055556</td>\n",
       "    </tr>\n",
       "    <tr>\n",
       "      <th>42</th>\n",
       "      <td>1</td>\n",
       "      <td>0.027778</td>\n",
       "    </tr>\n",
       "    <tr>\n",
       "      <th>43</th>\n",
       "      <td>2</td>\n",
       "      <td>0.055556</td>\n",
       "    </tr>\n",
       "    <tr>\n",
       "      <th>44</th>\n",
       "      <td>1</td>\n",
       "      <td>0.027778</td>\n",
       "    </tr>\n",
       "    <tr>\n",
       "      <th>46</th>\n",
       "      <td>1</td>\n",
       "      <td>0.027778</td>\n",
       "    </tr>\n",
       "    <tr>\n",
       "      <th>48</th>\n",
       "      <td>1</td>\n",
       "      <td>0.027778</td>\n",
       "    </tr>\n",
       "    <tr>\n",
       "      <th>Total</th>\n",
       "      <td>36</td>\n",
       "      <td>1.000000</td>\n",
       "    </tr>\n",
       "  </tbody>\n",
       "</table>\n",
       "</div>"
      ],
      "text/plain": [
       "col_0      FreqAbsoluta  FreqRelativa\n",
       "AnosIdade                            \n",
       "20                    1      0.027778\n",
       "23                    1      0.027778\n",
       "25                    1      0.027778\n",
       "26                    2      0.055556\n",
       "27                    1      0.027778\n",
       "28                    1      0.027778\n",
       "29                    1      0.027778\n",
       "30                    2      0.055556\n",
       "31                    2      0.055556\n",
       "32                    2      0.055556\n",
       "33                    2      0.055556\n",
       "34                    2      0.055556\n",
       "35                    2      0.055556\n",
       "36                    2      0.055556\n",
       "37                    2      0.055556\n",
       "38                    1      0.027778\n",
       "39                    1      0.027778\n",
       "40                    2      0.055556\n",
       "41                    2      0.055556\n",
       "42                    1      0.027778\n",
       "43                    2      0.055556\n",
       "44                    1      0.027778\n",
       "46                    1      0.027778\n",
       "48                    1      0.027778\n",
       "Total                36      1.000000"
      ]
     },
     "execution_count": 8,
     "metadata": {},
     "output_type": "execute_result"
    }
   ],
   "source": [
    "freq_table = pd.crosstab(dados['AnosIdade'], 'FreqAbsoluta')\n",
    "freq_table['FreqRelativa'] = freq_table['FreqAbsoluta']/len(dados) \n",
    "freq_table.loc['Total'] = freq_table.sum(axis=0)\n",
    "\n",
    "freq_table['FreqAbsoluta'] = freq_table['FreqAbsoluta'].astype(int)\n",
    "\n",
    "freq_table"
   ]
  },
  {
   "cell_type": "markdown",
   "id": "76688cb8",
   "metadata": {},
   "source": [
    "#### Aqui existe um número de classes bem alto(48) então seria interessante fazer novas classes divididas por intervalos. "
   ]
  },
  {
   "cell_type": "code",
   "execution_count": 9,
   "id": "5c6dc7d7",
   "metadata": {},
   "outputs": [
    {
     "data": {
      "text/html": [
       "<div>\n",
       "<style scoped>\n",
       "    .dataframe tbody tr th:only-of-type {\n",
       "        vertical-align: middle;\n",
       "    }\n",
       "\n",
       "    .dataframe tbody tr th {\n",
       "        vertical-align: top;\n",
       "    }\n",
       "\n",
       "    .dataframe thead th {\n",
       "        text-align: right;\n",
       "    }\n",
       "</style>\n",
       "<table border=\"1\" class=\"dataframe\">\n",
       "  <thead>\n",
       "    <tr style=\"text-align: right;\">\n",
       "      <th>col_0</th>\n",
       "      <th>FreqAbsoluta</th>\n",
       "      <th>FreqRelativa</th>\n",
       "    </tr>\n",
       "    <tr>\n",
       "      <th>Intervalo</th>\n",
       "      <th></th>\n",
       "      <th></th>\n",
       "    </tr>\n",
       "  </thead>\n",
       "  <tbody>\n",
       "    <tr>\n",
       "      <th>(19.999, 25.0]</th>\n",
       "      <td>3</td>\n",
       "      <td>0.083333</td>\n",
       "    </tr>\n",
       "    <tr>\n",
       "      <th>(25.0, 30.0]</th>\n",
       "      <td>7</td>\n",
       "      <td>0.194444</td>\n",
       "    </tr>\n",
       "    <tr>\n",
       "      <th>(30.0, 35.0]</th>\n",
       "      <td>10</td>\n",
       "      <td>0.277778</td>\n",
       "    </tr>\n",
       "    <tr>\n",
       "      <th>(35.0, 40.0]</th>\n",
       "      <td>8</td>\n",
       "      <td>0.222222</td>\n",
       "    </tr>\n",
       "    <tr>\n",
       "      <th>(40.0, 45.0]</th>\n",
       "      <td>6</td>\n",
       "      <td>0.166667</td>\n",
       "    </tr>\n",
       "    <tr>\n",
       "      <th>(45.0, 50.0]</th>\n",
       "      <td>2</td>\n",
       "      <td>0.055556</td>\n",
       "    </tr>\n",
       "    <tr>\n",
       "      <th>Total</th>\n",
       "      <td>36</td>\n",
       "      <td>1.000000</td>\n",
       "    </tr>\n",
       "  </tbody>\n",
       "</table>\n",
       "</div>"
      ],
      "text/plain": [
       "col_0           FreqAbsoluta  FreqRelativa\n",
       "Intervalo                                 \n",
       "(19.999, 25.0]             3      0.083333\n",
       "(25.0, 30.0]               7      0.194444\n",
       "(30.0, 35.0]              10      0.277778\n",
       "(35.0, 40.0]               8      0.222222\n",
       "(40.0, 45.0]               6      0.166667\n",
       "(45.0, 50.0]               2      0.055556\n",
       "Total                     36      1.000000"
      ]
     },
     "execution_count": 9,
     "metadata": {},
     "output_type": "execute_result"
    }
   ],
   "source": [
    "#saber a quantidade de faixas necessarias, através da raiz e arrendodar caso necessário\n",
    "qtdFaixas = mt.ceil(np.sqrt(len(dados)))\n",
    "\n",
    "#pegar o minimo e maximo, aqui eu preferi deixa os números fechadinhos(arrendondei o min para baixo e o max para cima) \n",
    "#ex:48 eu arredondei para 50\n",
    "#o minimo não precisava fazer arredondamento nesse caso(já esta 20), mas já deixei caso necessite para outros códigos no futuro.\n",
    "minimo=np.amin(dados['AnosIdade'])-(np.amin(dados['AnosIdade'])%10)\n",
    "maximo=np.amax(dados['AnosIdade'])+(10-(np.amax(dados['AnosIdade'])%10))\n",
    "\n",
    "#defini o tamanho de cada faixa pegando a amplitude(max-min) e dividindo pela quantidade de faixas                \n",
    "tamanhoIntervalo = mt.ceil((maximo-minimo)/qtdFaixas)\n",
    "           \n",
    "bins=[]\n",
    "soma = minimo\n",
    "\n",
    "for i in range(qtdFaixas+1):\n",
    "    \n",
    "    bins.append(soma)\n",
    "    soma=soma+tamanhoIntervalo\n",
    " \n",
    "#peguei as idades e classifiquei em uma nova tabela\n",
    "idades = []\n",
    "for i in dados['AnosIdade']:\n",
    "    idades.append(i)\n",
    "\n",
    "\n",
    "classificacao = pd.DataFrame(idades, columns=['Idade'])\n",
    "\n",
    "classificacao['Intervalo'] = pd.cut(classificacao['Idade'], bins, include_lowest = True)\n",
    "\n",
    "#Aqui segui o que estava fazendo em outras tabelas\n",
    "freq_table = pd.crosstab(classificacao['Intervalo'], 'FreqAbsoluta')\n",
    "freq_table['FreqRelativa'] = freq_table['FreqAbsoluta']/len(dados) \n",
    "freq_table.loc['Total'] = freq_table.sum(axis=0)\n",
    "\n",
    "freq_table['FreqAbsoluta'] = freq_table['FreqAbsoluta'].astype(int)\n",
    "\n",
    "\n",
    "freq_table"
   ]
  },
  {
   "cell_type": "code",
   "execution_count": 10,
   "id": "a54c26c8",
   "metadata": {},
   "outputs": [
    {
     "data": {
      "text/html": [
       "<div>\n",
       "<style scoped>\n",
       "    .dataframe tbody tr th:only-of-type {\n",
       "        vertical-align: middle;\n",
       "    }\n",
       "\n",
       "    .dataframe tbody tr th {\n",
       "        vertical-align: top;\n",
       "    }\n",
       "\n",
       "    .dataframe thead th {\n",
       "        text-align: right;\n",
       "    }\n",
       "</style>\n",
       "<table border=\"1\" class=\"dataframe\">\n",
       "  <thead>\n",
       "    <tr style=\"text-align: right;\">\n",
       "      <th>col_0</th>\n",
       "      <th>FreqAbsoluta</th>\n",
       "      <th>FreqRelativa</th>\n",
       "    </tr>\n",
       "    <tr>\n",
       "      <th>Intervalo</th>\n",
       "      <th></th>\n",
       "      <th></th>\n",
       "    </tr>\n",
       "  </thead>\n",
       "  <tbody>\n",
       "    <tr>\n",
       "      <th>(19.971, 24.667]</th>\n",
       "      <td>2</td>\n",
       "      <td>0.055556</td>\n",
       "    </tr>\n",
       "    <tr>\n",
       "      <th>(24.667, 29.333]</th>\n",
       "      <td>6</td>\n",
       "      <td>0.166667</td>\n",
       "    </tr>\n",
       "    <tr>\n",
       "      <th>(29.333, 34.0]</th>\n",
       "      <td>10</td>\n",
       "      <td>0.277778</td>\n",
       "    </tr>\n",
       "    <tr>\n",
       "      <th>(34.0, 38.667]</th>\n",
       "      <td>7</td>\n",
       "      <td>0.194444</td>\n",
       "    </tr>\n",
       "    <tr>\n",
       "      <th>(38.667, 43.333]</th>\n",
       "      <td>8</td>\n",
       "      <td>0.222222</td>\n",
       "    </tr>\n",
       "    <tr>\n",
       "      <th>(43.333, 48.0]</th>\n",
       "      <td>3</td>\n",
       "      <td>0.083333</td>\n",
       "    </tr>\n",
       "    <tr>\n",
       "      <th>Total</th>\n",
       "      <td>36</td>\n",
       "      <td>1.000000</td>\n",
       "    </tr>\n",
       "  </tbody>\n",
       "</table>\n",
       "</div>"
      ],
      "text/plain": [
       "col_0             FreqAbsoluta  FreqRelativa\n",
       "Intervalo                                   \n",
       "(19.971, 24.667]             2      0.055556\n",
       "(24.667, 29.333]             6      0.166667\n",
       "(29.333, 34.0]              10      0.277778\n",
       "(34.0, 38.667]               7      0.194444\n",
       "(38.667, 43.333]             8      0.222222\n",
       "(43.333, 48.0]               3      0.083333\n",
       "Total                       36      1.000000"
      ]
     },
     "execution_count": 10,
     "metadata": {},
     "output_type": "execute_result"
    }
   ],
   "source": [
    "#Outra forma mais curta é pegando a apenas a raiz e deixando que faça as bins(classes) sozinho.\n",
    "bins= mt.ceil(np.sqrt(len(dados)))\n",
    "\n",
    "idades = []\n",
    "for i in dados['AnosIdade']:\n",
    "    idades.append(i)\n",
    "\n",
    "\n",
    "classificacao = pd.DataFrame(idades, columns=['Idade'])\n",
    "\n",
    "classificacao['Intervalo'] = pd.cut(classificacao['Idade'], bins, include_lowest = True)\n",
    "\n",
    "\n",
    "freq_table = pd.crosstab(classificacao['Intervalo'], 'FreqAbsoluta')\n",
    "freq_table['FreqRelativa'] = freq_table['FreqAbsoluta']/len(dados) \n",
    "freq_table.loc['Total'] = freq_table.sum(axis=0)\n",
    "\n",
    "freq_table['FreqAbsoluta'] = freq_table['FreqAbsoluta'].astype(int)\n",
    "\n",
    "freq_table"
   ]
  },
  {
   "cell_type": "markdown",
   "id": "8b6601c7",
   "metadata": {},
   "source": [
    "### Problema 3: Para o Conjunto de Dados 1 (CD-Brasil), construa a distribuição de freqüências para as variáveis população urbana e densidade populacional."
   ]
  },
  {
   "cell_type": "code",
   "execution_count": 11,
   "id": "f33dfb37",
   "metadata": {},
   "outputs": [],
   "source": [
    "dados = pd.read_csv(\"Dados/CD-Brasil.csv\", sep=\";\")"
   ]
  },
  {
   "cell_type": "code",
   "execution_count": 12,
   "id": "f80b43fa",
   "metadata": {},
   "outputs": [
    {
     "data": {
      "text/html": [
       "<div>\n",
       "<style scoped>\n",
       "    .dataframe tbody tr th:only-of-type {\n",
       "        vertical-align: middle;\n",
       "    }\n",
       "\n",
       "    .dataframe tbody tr th {\n",
       "        vertical-align: top;\n",
       "    }\n",
       "\n",
       "    .dataframe thead th {\n",
       "        text-align: right;\n",
       "    }\n",
       "</style>\n",
       "<table border=\"1\" class=\"dataframe\">\n",
       "  <thead>\n",
       "    <tr style=\"text-align: right;\">\n",
       "      <th></th>\n",
       "      <th>Regiao</th>\n",
       "      <th>Estado</th>\n",
       "      <th>Superficie</th>\n",
       "      <th>Populacao</th>\n",
       "      <th>Densidade</th>\n",
       "    </tr>\n",
       "  </thead>\n",
       "  <tbody>\n",
       "    <tr>\n",
       "      <th>0</th>\n",
       "      <td>Norte</td>\n",
       "      <td>RO</td>\n",
       "      <td>237.576,167</td>\n",
       "      <td>1.453.756</td>\n",
       "      <td>6,12</td>\n",
       "    </tr>\n",
       "    <tr>\n",
       "      <th>1</th>\n",
       "      <td>Norte</td>\n",
       "      <td>AC</td>\n",
       "      <td>164.165,250</td>\n",
       "      <td>653.385</td>\n",
       "      <td>3,98</td>\n",
       "    </tr>\n",
       "    <tr>\n",
       "      <th>2</th>\n",
       "      <td>Norte</td>\n",
       "      <td>AM</td>\n",
       "      <td>1.559.161,810</td>\n",
       "      <td>3.221.940</td>\n",
       "      <td>2,07</td>\n",
       "    </tr>\n",
       "    <tr>\n",
       "      <th>3</th>\n",
       "      <td>Norte</td>\n",
       "      <td>RR</td>\n",
       "      <td>224.298,980</td>\n",
       "      <td>395.725</td>\n",
       "      <td>1,76</td>\n",
       "    </tr>\n",
       "    <tr>\n",
       "      <th>4</th>\n",
       "      <td>Norte</td>\n",
       "      <td>PA</td>\n",
       "      <td>1.247.689,515</td>\n",
       "      <td>7.065.573</td>\n",
       "      <td>5,66</td>\n",
       "    </tr>\n",
       "  </tbody>\n",
       "</table>\n",
       "</div>"
      ],
      "text/plain": [
       "  Regiao Estado     Superficie  Populacao Densidade\n",
       "0  Norte     RO    237.576,167  1.453.756      6,12\n",
       "1  Norte     AC    164.165,250    653.385      3,98\n",
       "2  Norte     AM  1.559.161,810  3.221.940      2,07\n",
       "3  Norte     RR    224.298,980    395.725      1,76\n",
       "4  Norte     PA  1.247.689,515  7.065.573      5,66"
      ]
     },
     "execution_count": 12,
     "metadata": {},
     "output_type": "execute_result"
    }
   ],
   "source": [
    "dados.head()"
   ]
  },
  {
   "cell_type": "code",
   "execution_count": 13,
   "id": "be61cf92",
   "metadata": {},
   "outputs": [
    {
     "data": {
      "text/plain": [
       "Regiao        object\n",
       "Estado        object\n",
       "Superficie    object\n",
       "Populacao     object\n",
       "Densidade     object\n",
       "dtype: object"
      ]
     },
     "execution_count": 13,
     "metadata": {},
     "output_type": "execute_result"
    }
   ],
   "source": [
    "dados.dtypes"
   ]
  },
  {
   "cell_type": "code",
   "execution_count": 14,
   "id": "599b2d16",
   "metadata": {},
   "outputs": [],
   "source": [
    "dados['Superficie']= dados['Superficie'].str.replace('.','')\n",
    "dados['Superficie'] = dados['Superficie'].str.replace(',','.')"
   ]
  },
  {
   "cell_type": "code",
   "execution_count": 15,
   "id": "5c413bb5",
   "metadata": {},
   "outputs": [],
   "source": [
    "dados['Superficie'] = dados['Superficie'].astype(float)"
   ]
  },
  {
   "cell_type": "markdown",
   "id": "1e0d6b71",
   "metadata": {},
   "source": [
    "####  população urbana"
   ]
  },
  {
   "cell_type": "code",
   "execution_count": 16,
   "id": "e68afc6d",
   "metadata": {},
   "outputs": [],
   "source": [
    "dados['Populacao']= dados['Populacao'].str.replace('.','')"
   ]
  },
  {
   "cell_type": "code",
   "execution_count": 17,
   "id": "b47fcade",
   "metadata": {},
   "outputs": [],
   "source": [
    "dados['Populacao'] = dados['Populacao'].astype(int)"
   ]
  },
  {
   "cell_type": "code",
   "execution_count": 18,
   "id": "e2f9b658",
   "metadata": {},
   "outputs": [
    {
     "data": {
      "text/plain": [
       "Regiao         object\n",
       "Estado         object\n",
       "Superficie    float64\n",
       "Populacao       int32\n",
       "Densidade      object\n",
       "dtype: object"
      ]
     },
     "execution_count": 18,
     "metadata": {},
     "output_type": "execute_result"
    }
   ],
   "source": [
    "dados.dtypes"
   ]
  },
  {
   "cell_type": "code",
   "execution_count": 19,
   "id": "6fdbcbc2",
   "metadata": {},
   "outputs": [
    {
     "data": {
      "text/html": [
       "<div>\n",
       "<style scoped>\n",
       "    .dataframe tbody tr th:only-of-type {\n",
       "        vertical-align: middle;\n",
       "    }\n",
       "\n",
       "    .dataframe tbody tr th {\n",
       "        vertical-align: top;\n",
       "    }\n",
       "\n",
       "    .dataframe thead th {\n",
       "        text-align: right;\n",
       "    }\n",
       "</style>\n",
       "<table border=\"1\" class=\"dataframe\">\n",
       "  <thead>\n",
       "    <tr style=\"text-align: right;\">\n",
       "      <th></th>\n",
       "      <th>Regiao</th>\n",
       "      <th>Estado</th>\n",
       "      <th>Superficie</th>\n",
       "      <th>Populacao</th>\n",
       "      <th>Densidade</th>\n",
       "    </tr>\n",
       "  </thead>\n",
       "  <tbody>\n",
       "    <tr>\n",
       "      <th>0</th>\n",
       "      <td>Norte</td>\n",
       "      <td>RO</td>\n",
       "      <td>237576.167</td>\n",
       "      <td>1453756</td>\n",
       "      <td>6,12</td>\n",
       "    </tr>\n",
       "    <tr>\n",
       "      <th>1</th>\n",
       "      <td>Norte</td>\n",
       "      <td>AC</td>\n",
       "      <td>164165.250</td>\n",
       "      <td>653385</td>\n",
       "      <td>3,98</td>\n",
       "    </tr>\n",
       "    <tr>\n",
       "      <th>2</th>\n",
       "      <td>Norte</td>\n",
       "      <td>AM</td>\n",
       "      <td>1559161.810</td>\n",
       "      <td>3221940</td>\n",
       "      <td>2,07</td>\n",
       "    </tr>\n",
       "    <tr>\n",
       "      <th>3</th>\n",
       "      <td>Norte</td>\n",
       "      <td>RR</td>\n",
       "      <td>224298.980</td>\n",
       "      <td>395725</td>\n",
       "      <td>1,76</td>\n",
       "    </tr>\n",
       "    <tr>\n",
       "      <th>4</th>\n",
       "      <td>Norte</td>\n",
       "      <td>PA</td>\n",
       "      <td>1247689.515</td>\n",
       "      <td>7065573</td>\n",
       "      <td>5,66</td>\n",
       "    </tr>\n",
       "  </tbody>\n",
       "</table>\n",
       "</div>"
      ],
      "text/plain": [
       "  Regiao Estado   Superficie  Populacao Densidade\n",
       "0  Norte     RO   237576.167    1453756      6,12\n",
       "1  Norte     AC   164165.250     653385      3,98\n",
       "2  Norte     AM  1559161.810    3221940      2,07\n",
       "3  Norte     RR   224298.980     395725      1,76\n",
       "4  Norte     PA  1247689.515    7065573      5,66"
      ]
     },
     "execution_count": 19,
     "metadata": {},
     "output_type": "execute_result"
    }
   ],
   "source": [
    "dados.head()"
   ]
  },
  {
   "cell_type": "code",
   "execution_count": 20,
   "id": "9558aa49",
   "metadata": {},
   "outputs": [
    {
     "data": {
      "text/plain": [
       "Regiao\n",
       "Centro-Oeste    4\n",
       "Nordeste        9\n",
       "Norte           7\n",
       "Sudeste         4\n",
       "Sul             3\n",
       "dtype: int64"
      ]
     },
     "execution_count": 20,
     "metadata": {},
     "output_type": "execute_result"
    }
   ],
   "source": [
    "regiao = dados.groupby(['Regiao']).size()\n",
    "regiao"
   ]
  },
  {
   "cell_type": "code",
   "execution_count": 21,
   "id": "02815792",
   "metadata": {},
   "outputs": [],
   "source": [
    "len(dados)\n",
    "\n",
    "qtdFaixas= mt.ceil(np.sqrt(len(dados)))\n",
    "\n"
   ]
  },
  {
   "cell_type": "markdown",
   "id": "4e39aff9",
   "metadata": {},
   "source": [
    "##### Aqui da maneira que fiz as outras atividades ia ficar com intervalos vazios(pois existem grandes saltos de população de um estado para outro), então preferi elabora intervalo de maneira que não ficassem intervalos vazios e nem intervalos com um grande quantidade."
   ]
  },
  {
   "cell_type": "code",
   "execution_count": 22,
   "id": "b0ccb1be",
   "metadata": {},
   "outputs": [
    {
     "data": {
      "text/html": [
       "<div>\n",
       "<style scoped>\n",
       "    .dataframe tbody tr th:only-of-type {\n",
       "        vertical-align: middle;\n",
       "    }\n",
       "\n",
       "    .dataframe tbody tr th {\n",
       "        vertical-align: top;\n",
       "    }\n",
       "\n",
       "    .dataframe thead th {\n",
       "        text-align: right;\n",
       "    }\n",
       "</style>\n",
       "<table border=\"1\" class=\"dataframe\">\n",
       "  <thead>\n",
       "    <tr style=\"text-align: right;\">\n",
       "      <th>col_0</th>\n",
       "      <th>FreqAbsoluta</th>\n",
       "      <th>FreqRelativa</th>\n",
       "    </tr>\n",
       "    <tr>\n",
       "      <th>Intervalo</th>\n",
       "      <th></th>\n",
       "      <th></th>\n",
       "    </tr>\n",
       "  </thead>\n",
       "  <tbody>\n",
       "    <tr>\n",
       "      <th>Até 1400000</th>\n",
       "      <td>4</td>\n",
       "      <td>0.148148</td>\n",
       "    </tr>\n",
       "    <tr>\n",
       "      <th>Igual ou maior que 1400000 e menor 2500000</th>\n",
       "      <td>4</td>\n",
       "      <td>0.148148</td>\n",
       "    </tr>\n",
       "    <tr>\n",
       "      <th>Igual ou maior que 2500000 e menor 3250000</th>\n",
       "      <td>5</td>\n",
       "      <td>0.185185</td>\n",
       "    </tr>\n",
       "    <tr>\n",
       "      <th>Igual ou maior que 3250000 e menor 6000000</th>\n",
       "      <td>4</td>\n",
       "      <td>0.148148</td>\n",
       "    </tr>\n",
       "    <tr>\n",
       "      <th>Igual ou maior que 6000000 e menor 11000000</th>\n",
       "      <td>6</td>\n",
       "      <td>0.222222</td>\n",
       "    </tr>\n",
       "    <tr>\n",
       "      <th>Maior ou igual que 11000000</th>\n",
       "      <td>4</td>\n",
       "      <td>0.148148</td>\n",
       "    </tr>\n",
       "    <tr>\n",
       "      <th>Total</th>\n",
       "      <td>27</td>\n",
       "      <td>1.000000</td>\n",
       "    </tr>\n",
       "  </tbody>\n",
       "</table>\n",
       "</div>"
      ],
      "text/plain": [
       "col_0                                        FreqAbsoluta  FreqRelativa\n",
       "Intervalo                                                              \n",
       "Até 1400000                                             4      0.148148\n",
       "Igual ou maior que 1400000 e menor 2500000              4      0.148148\n",
       "Igual ou maior que 2500000 e menor 3250000              5      0.185185\n",
       "Igual ou maior que 3250000 e menor 6000000              4      0.148148\n",
       "Igual ou maior que 6000000 e menor 11000000             6      0.222222\n",
       "Maior ou igual que 11000000                             4      0.148148\n",
       "Total                                                  27      1.000000"
      ]
     },
     "execution_count": 22,
     "metadata": {},
     "output_type": "execute_result"
    }
   ],
   "source": [
    "#Apenas para saber uma quantidade de faixas adequada.\n",
    "qtdFaixas = mt.ceil(np.sqrt(len(dados)))\n",
    "\n",
    "bins=[350000, 1400000, 2500000, 3250000, 6000000, 11000000,40000000]\n",
    "\n",
    "populacoes = []\n",
    "for i in dados['Populacao']:\n",
    "    populacoes.append(i)\n",
    "\n",
    "classificacao = pd.DataFrame(populacoes, columns=['Populacao'])\n",
    "classificacao['Intervalo'] = pd.cut(classificacao['Populacao'], bins, include_lowest = True)\n",
    "\n",
    "#Renomeando as categorias\n",
    "classificacao['Intervalo'] = classificacao['Intervalo'].astype(str)\n",
    "classificacao.loc[classificacao['Intervalo'] ==  '(349999.999, 1400000.0]', 'Intervalo'] = \"Até 1400000\"\n",
    "classificacao.loc[classificacao['Intervalo'] ==  '(1400000.0, 2500000.0]', 'Intervalo'] = \"Igual ou maior que 1400000 e menor 2500000\"\n",
    "classificacao.loc[classificacao['Intervalo'] ==  '(2500000.0, 3250000.0]', 'Intervalo'] = \"Igual ou maior que 2500000 e menor 3250000\"\n",
    "classificacao.loc[classificacao['Intervalo'] ==  '(3250000.0, 6000000.0]', 'Intervalo'] = \"Igual ou maior que 3250000 e menor 6000000\"\n",
    "classificacao.loc[classificacao['Intervalo'] ==  '(6000000.0, 11000000.0]', 'Intervalo'] = \"Igual ou maior que 6000000 e menor 11000000\"\n",
    "classificacao.loc[classificacao['Intervalo'] ==  '(11000000.0, 40000000.0]', 'Intervalo'] = \"Maior ou igual que 11000000\"\n",
    "\n",
    "freq_table = pd.crosstab(classificacao['Intervalo'], 'FreqAbsoluta')\n",
    "freq_table['FreqRelativa'] = freq_table['FreqAbsoluta']/len(dados) \n",
    "freq_table.loc['Total'] = freq_table.sum(axis=0)\n",
    "\n",
    "freq_table['FreqAbsoluta'] = freq_table['FreqAbsoluta'].astype(int)\n",
    "      \n",
    "freq_table"
   ]
  },
  {
   "cell_type": "markdown",
   "id": "f7c20f56",
   "metadata": {},
   "source": [
    "####  densidade populacional"
   ]
  },
  {
   "cell_type": "code",
   "execution_count": 23,
   "id": "b8250d14",
   "metadata": {},
   "outputs": [],
   "source": [
    "dados['Densidade']= dados['Densidade'].str.replace(',','.')"
   ]
  },
  {
   "cell_type": "code",
   "execution_count": 24,
   "id": "7407f206",
   "metadata": {},
   "outputs": [],
   "source": [
    "dados['Densidade'] = dados['Densidade'].astype(float)"
   ]
  },
  {
   "cell_type": "code",
   "execution_count": 25,
   "id": "4784de8e",
   "metadata": {},
   "outputs": [
    {
     "data": {
      "text/plain": [
       "Regiao         object\n",
       "Estado         object\n",
       "Superficie    float64\n",
       "Populacao       int32\n",
       "Densidade     float64\n",
       "dtype: object"
      ]
     },
     "execution_count": 25,
     "metadata": {},
     "output_type": "execute_result"
    }
   ],
   "source": [
    "dados.dtypes"
   ]
  },
  {
   "cell_type": "code",
   "execution_count": 26,
   "id": "a9f4443b",
   "metadata": {},
   "outputs": [
    {
     "data": {
      "text/html": [
       "<div>\n",
       "<style scoped>\n",
       "    .dataframe tbody tr th:only-of-type {\n",
       "        vertical-align: middle;\n",
       "    }\n",
       "\n",
       "    .dataframe tbody tr th {\n",
       "        vertical-align: top;\n",
       "    }\n",
       "\n",
       "    .dataframe thead th {\n",
       "        text-align: right;\n",
       "    }\n",
       "</style>\n",
       "<table border=\"1\" class=\"dataframe\">\n",
       "  <thead>\n",
       "    <tr style=\"text-align: right;\">\n",
       "      <th></th>\n",
       "      <th>Regiao</th>\n",
       "      <th>Estado</th>\n",
       "      <th>Superficie</th>\n",
       "      <th>Populacao</th>\n",
       "      <th>Densidade</th>\n",
       "    </tr>\n",
       "  </thead>\n",
       "  <tbody>\n",
       "    <tr>\n",
       "      <th>0</th>\n",
       "      <td>Norte</td>\n",
       "      <td>RO</td>\n",
       "      <td>237576.167</td>\n",
       "      <td>1453756</td>\n",
       "      <td>6.12</td>\n",
       "    </tr>\n",
       "    <tr>\n",
       "      <th>1</th>\n",
       "      <td>Norte</td>\n",
       "      <td>AC</td>\n",
       "      <td>164165.250</td>\n",
       "      <td>653385</td>\n",
       "      <td>3.98</td>\n",
       "    </tr>\n",
       "    <tr>\n",
       "      <th>2</th>\n",
       "      <td>Norte</td>\n",
       "      <td>AM</td>\n",
       "      <td>1559161.810</td>\n",
       "      <td>3221940</td>\n",
       "      <td>2.07</td>\n",
       "    </tr>\n",
       "    <tr>\n",
       "      <th>3</th>\n",
       "      <td>Norte</td>\n",
       "      <td>RR</td>\n",
       "      <td>224298.980</td>\n",
       "      <td>395725</td>\n",
       "      <td>1.76</td>\n",
       "    </tr>\n",
       "    <tr>\n",
       "      <th>4</th>\n",
       "      <td>Norte</td>\n",
       "      <td>PA</td>\n",
       "      <td>1247689.515</td>\n",
       "      <td>7065573</td>\n",
       "      <td>5.66</td>\n",
       "    </tr>\n",
       "  </tbody>\n",
       "</table>\n",
       "</div>"
      ],
      "text/plain": [
       "  Regiao Estado   Superficie  Populacao  Densidade\n",
       "0  Norte     RO   237576.167    1453756       6.12\n",
       "1  Norte     AC   164165.250     653385       3.98\n",
       "2  Norte     AM  1559161.810    3221940       2.07\n",
       "3  Norte     RR   224298.980     395725       1.76\n",
       "4  Norte     PA  1247689.515    7065573       5.66"
      ]
     },
     "execution_count": 26,
     "metadata": {},
     "output_type": "execute_result"
    }
   ],
   "source": [
    "dados.head()"
   ]
  },
  {
   "cell_type": "code",
   "execution_count": 27,
   "id": "a52bd213",
   "metadata": {},
   "outputs": [
    {
     "data": {
      "text/html": [
       "<div>\n",
       "<style scoped>\n",
       "    .dataframe tbody tr th:only-of-type {\n",
       "        vertical-align: middle;\n",
       "    }\n",
       "\n",
       "    .dataframe tbody tr th {\n",
       "        vertical-align: top;\n",
       "    }\n",
       "\n",
       "    .dataframe thead th {\n",
       "        text-align: right;\n",
       "    }\n",
       "</style>\n",
       "<table border=\"1\" class=\"dataframe\">\n",
       "  <thead>\n",
       "    <tr style=\"text-align: right;\">\n",
       "      <th>col_0</th>\n",
       "      <th>FreqAbsoluta</th>\n",
       "      <th>FreqRelativa</th>\n",
       "    </tr>\n",
       "    <tr>\n",
       "      <th>Intervalo</th>\n",
       "      <th></th>\n",
       "      <th></th>\n",
       "    </tr>\n",
       "  </thead>\n",
       "  <tbody>\n",
       "    <tr>\n",
       "      <th>Até 20.0</th>\n",
       "      <td>12</td>\n",
       "      <td>0.444444</td>\n",
       "    </tr>\n",
       "    <tr>\n",
       "      <th>Igual ou maior que 20.0 e menor 40.0</th>\n",
       "      <td>3</td>\n",
       "      <td>0.111111</td>\n",
       "    </tr>\n",
       "    <tr>\n",
       "      <th>Igual ou maior que 40.0 e menor 60.0</th>\n",
       "      <td>3</td>\n",
       "      <td>0.111111</td>\n",
       "    </tr>\n",
       "    <tr>\n",
       "      <th>Igual ou maior que 60.0 e menor 80.0</th>\n",
       "      <td>3</td>\n",
       "      <td>0.111111</td>\n",
       "    </tr>\n",
       "    <tr>\n",
       "      <th>Igual ou maior que 80.0 e menor 100.0</th>\n",
       "      <td>2</td>\n",
       "      <td>0.074074</td>\n",
       "    </tr>\n",
       "    <tr>\n",
       "      <th>Maior ou igual que 100.0</th>\n",
       "      <td>4</td>\n",
       "      <td>0.148148</td>\n",
       "    </tr>\n",
       "    <tr>\n",
       "      <th>Total</th>\n",
       "      <td>27</td>\n",
       "      <td>1.000000</td>\n",
       "    </tr>\n",
       "  </tbody>\n",
       "</table>\n",
       "</div>"
      ],
      "text/plain": [
       "col_0                                  FreqAbsoluta  FreqRelativa\n",
       "Intervalo                                                        \n",
       "Até 20.0                                         12      0.444444\n",
       "Igual ou maior que 20.0 e menor 40.0              3      0.111111\n",
       "Igual ou maior que 40.0 e menor 60.0              3      0.111111\n",
       "Igual ou maior que 60.0 e menor 80.0              3      0.111111\n",
       "Igual ou maior que 80.0 e menor 100.0             2      0.074074\n",
       "Maior ou igual que 100.0                          4      0.148148\n",
       "Total                                            27      1.000000"
      ]
     },
     "execution_count": 27,
     "metadata": {},
     "output_type": "execute_result"
    }
   ],
   "source": [
    "bins=[1.70, 20.0, 40.0, 60.0, 80.0, 100, 450.0]\n",
    "\n",
    "densidades = []\n",
    "for i in dados['Densidade']:\n",
    "    densidades.append(i)\n",
    "\n",
    "\n",
    "classificacao = pd.DataFrame(densidades, columns=['Densidade'])\n",
    "classificacao['Intervalo'] = pd.cut(classificacao['Densidade'], bins, include_lowest = True)\n",
    "\n",
    "classificacao['Intervalo'] = classificacao['Intervalo'].astype(str)\n",
    "classificacao.loc[classificacao['Intervalo'] ==  '(1.699, 20.0]', 'Intervalo'] = \"Até 20.0\"\n",
    "classificacao.loc[classificacao['Intervalo'] ==  '(20.0, 40.0]', 'Intervalo'] = \"Igual ou maior que 20.0 e menor 40.0\"\n",
    "classificacao.loc[classificacao['Intervalo'] ==  '(40.0, 60.0]', 'Intervalo'] = \"Igual ou maior que 40.0 e menor 60.0\"\n",
    "classificacao.loc[classificacao['Intervalo'] ==  '(60.0, 80.0]', 'Intervalo'] = \"Igual ou maior que 60.0 e menor 80.0\"\n",
    "classificacao.loc[classificacao['Intervalo'] ==  '(80.0, 100.0]', 'Intervalo'] = \"Igual ou maior que 80.0 e menor 100.0\"\n",
    "classificacao.loc[classificacao['Intervalo'] ==  '(100.0, 450.0]', 'Intervalo'] = \"Maior ou igual que 100.0\"\n",
    "\n",
    "freq_table = pd.crosstab(classificacao['Intervalo'], 'FreqAbsoluta')\n",
    "freq_table['FreqRelativa'] = freq_table['FreqAbsoluta']/len(dados) \n",
    "freq_table.loc['Total'] = freq_table.sum(axis=0)\n",
    "\n",
    "freq_table['FreqAbsoluta'] = freq_table['FreqAbsoluta'].astype(int)\n",
    "      \n",
    "freq_table"
   ]
  },
  {
   "cell_type": "markdown",
   "id": "b44ba674",
   "metadata": {},
   "source": [
    "### Problema 4: Contou-se o número de erros de impressão da primeira página de um jornal durante 50 dias, obtendo-se os resultados abaixo:\n",
    "                                 8 11  8 12 14 13 11 14 14 15\n",
    "                                 6 10 14 19  6 12  7  5  8  8\n",
    "                                10 16 10 12 12  8 11  6  7 12\n",
    "                                 7 10 14  5 12  7  9 12 11  9\n",
    "                                14  8 14  8 12 10 12 22  7 15\n"
   ]
  },
  {
   "cell_type": "code",
   "execution_count": 28,
   "id": "d13a086e",
   "metadata": {},
   "outputs": [
    {
     "data": {
      "text/plain": [
       "50"
      ]
     },
     "execution_count": 28,
     "metadata": {},
     "output_type": "execute_result"
    }
   ],
   "source": [
    "dados = [ 8, 11, 8, 12, 14, 13, 11, 14, 14, 15, 6, 10, 14, 19, 6, 12, 7, 5, 8, 8, 10, 16, 10, 12, 12,\n",
    "         8, 11, 6, 7, 12, 7, 10, 14, 5, 12, 7, 9, 12, 11, 9, 14, 8, 14, 8, 12, 10, 12, 22, 7, 15]\n",
    "\n",
    "len(dados)"
   ]
  },
  {
   "cell_type": "markdown",
   "id": "bb420683",
   "metadata": {},
   "source": [
    "##### Coloquei dados em um dataframe e dei umas groupby para saber saber os dias que tiveram a mesma quantidade de erros. ex: dos 50 dias analisados houveram 2 dias em que ocorreram 5 erros"
   ]
  },
  {
   "cell_type": "code",
   "execution_count": 29,
   "id": "e21863d7",
   "metadata": {},
   "outputs": [
    {
     "data": {
      "text/html": [
       "<div>\n",
       "<style scoped>\n",
       "    .dataframe tbody tr th:only-of-type {\n",
       "        vertical-align: middle;\n",
       "    }\n",
       "\n",
       "    .dataframe tbody tr th {\n",
       "        vertical-align: top;\n",
       "    }\n",
       "\n",
       "    .dataframe thead th {\n",
       "        text-align: right;\n",
       "    }\n",
       "</style>\n",
       "<table border=\"1\" class=\"dataframe\">\n",
       "  <thead>\n",
       "    <tr style=\"text-align: right;\">\n",
       "      <th></th>\n",
       "      <th>Dia</th>\n",
       "      <th>NErros</th>\n",
       "    </tr>\n",
       "  </thead>\n",
       "  <tbody>\n",
       "    <tr>\n",
       "      <th>0</th>\n",
       "      <td>1</td>\n",
       "      <td>8</td>\n",
       "    </tr>\n",
       "    <tr>\n",
       "      <th>1</th>\n",
       "      <td>2</td>\n",
       "      <td>11</td>\n",
       "    </tr>\n",
       "    <tr>\n",
       "      <th>2</th>\n",
       "      <td>3</td>\n",
       "      <td>8</td>\n",
       "    </tr>\n",
       "    <tr>\n",
       "      <th>3</th>\n",
       "      <td>4</td>\n",
       "      <td>12</td>\n",
       "    </tr>\n",
       "    <tr>\n",
       "      <th>4</th>\n",
       "      <td>5</td>\n",
       "      <td>14</td>\n",
       "    </tr>\n",
       "    <tr>\n",
       "      <th>5</th>\n",
       "      <td>6</td>\n",
       "      <td>13</td>\n",
       "    </tr>\n",
       "    <tr>\n",
       "      <th>6</th>\n",
       "      <td>7</td>\n",
       "      <td>11</td>\n",
       "    </tr>\n",
       "    <tr>\n",
       "      <th>7</th>\n",
       "      <td>8</td>\n",
       "      <td>14</td>\n",
       "    </tr>\n",
       "    <tr>\n",
       "      <th>8</th>\n",
       "      <td>9</td>\n",
       "      <td>14</td>\n",
       "    </tr>\n",
       "    <tr>\n",
       "      <th>9</th>\n",
       "      <td>10</td>\n",
       "      <td>15</td>\n",
       "    </tr>\n",
       "    <tr>\n",
       "      <th>10</th>\n",
       "      <td>11</td>\n",
       "      <td>6</td>\n",
       "    </tr>\n",
       "    <tr>\n",
       "      <th>11</th>\n",
       "      <td>12</td>\n",
       "      <td>10</td>\n",
       "    </tr>\n",
       "    <tr>\n",
       "      <th>12</th>\n",
       "      <td>13</td>\n",
       "      <td>14</td>\n",
       "    </tr>\n",
       "    <tr>\n",
       "      <th>13</th>\n",
       "      <td>14</td>\n",
       "      <td>19</td>\n",
       "    </tr>\n",
       "    <tr>\n",
       "      <th>14</th>\n",
       "      <td>15</td>\n",
       "      <td>6</td>\n",
       "    </tr>\n",
       "    <tr>\n",
       "      <th>15</th>\n",
       "      <td>16</td>\n",
       "      <td>12</td>\n",
       "    </tr>\n",
       "    <tr>\n",
       "      <th>16</th>\n",
       "      <td>17</td>\n",
       "      <td>7</td>\n",
       "    </tr>\n",
       "    <tr>\n",
       "      <th>17</th>\n",
       "      <td>18</td>\n",
       "      <td>5</td>\n",
       "    </tr>\n",
       "    <tr>\n",
       "      <th>18</th>\n",
       "      <td>19</td>\n",
       "      <td>8</td>\n",
       "    </tr>\n",
       "    <tr>\n",
       "      <th>19</th>\n",
       "      <td>20</td>\n",
       "      <td>8</td>\n",
       "    </tr>\n",
       "    <tr>\n",
       "      <th>20</th>\n",
       "      <td>21</td>\n",
       "      <td>10</td>\n",
       "    </tr>\n",
       "    <tr>\n",
       "      <th>21</th>\n",
       "      <td>22</td>\n",
       "      <td>16</td>\n",
       "    </tr>\n",
       "    <tr>\n",
       "      <th>22</th>\n",
       "      <td>23</td>\n",
       "      <td>10</td>\n",
       "    </tr>\n",
       "    <tr>\n",
       "      <th>23</th>\n",
       "      <td>24</td>\n",
       "      <td>12</td>\n",
       "    </tr>\n",
       "    <tr>\n",
       "      <th>24</th>\n",
       "      <td>25</td>\n",
       "      <td>12</td>\n",
       "    </tr>\n",
       "    <tr>\n",
       "      <th>25</th>\n",
       "      <td>26</td>\n",
       "      <td>8</td>\n",
       "    </tr>\n",
       "    <tr>\n",
       "      <th>26</th>\n",
       "      <td>27</td>\n",
       "      <td>11</td>\n",
       "    </tr>\n",
       "    <tr>\n",
       "      <th>27</th>\n",
       "      <td>28</td>\n",
       "      <td>6</td>\n",
       "    </tr>\n",
       "    <tr>\n",
       "      <th>28</th>\n",
       "      <td>29</td>\n",
       "      <td>7</td>\n",
       "    </tr>\n",
       "    <tr>\n",
       "      <th>29</th>\n",
       "      <td>30</td>\n",
       "      <td>12</td>\n",
       "    </tr>\n",
       "    <tr>\n",
       "      <th>30</th>\n",
       "      <td>31</td>\n",
       "      <td>7</td>\n",
       "    </tr>\n",
       "    <tr>\n",
       "      <th>31</th>\n",
       "      <td>32</td>\n",
       "      <td>10</td>\n",
       "    </tr>\n",
       "    <tr>\n",
       "      <th>32</th>\n",
       "      <td>33</td>\n",
       "      <td>14</td>\n",
       "    </tr>\n",
       "    <tr>\n",
       "      <th>33</th>\n",
       "      <td>34</td>\n",
       "      <td>5</td>\n",
       "    </tr>\n",
       "    <tr>\n",
       "      <th>34</th>\n",
       "      <td>35</td>\n",
       "      <td>12</td>\n",
       "    </tr>\n",
       "    <tr>\n",
       "      <th>35</th>\n",
       "      <td>36</td>\n",
       "      <td>7</td>\n",
       "    </tr>\n",
       "    <tr>\n",
       "      <th>36</th>\n",
       "      <td>37</td>\n",
       "      <td>9</td>\n",
       "    </tr>\n",
       "    <tr>\n",
       "      <th>37</th>\n",
       "      <td>38</td>\n",
       "      <td>12</td>\n",
       "    </tr>\n",
       "    <tr>\n",
       "      <th>38</th>\n",
       "      <td>39</td>\n",
       "      <td>11</td>\n",
       "    </tr>\n",
       "    <tr>\n",
       "      <th>39</th>\n",
       "      <td>40</td>\n",
       "      <td>9</td>\n",
       "    </tr>\n",
       "    <tr>\n",
       "      <th>40</th>\n",
       "      <td>41</td>\n",
       "      <td>14</td>\n",
       "    </tr>\n",
       "    <tr>\n",
       "      <th>41</th>\n",
       "      <td>42</td>\n",
       "      <td>8</td>\n",
       "    </tr>\n",
       "    <tr>\n",
       "      <th>42</th>\n",
       "      <td>43</td>\n",
       "      <td>14</td>\n",
       "    </tr>\n",
       "    <tr>\n",
       "      <th>43</th>\n",
       "      <td>44</td>\n",
       "      <td>8</td>\n",
       "    </tr>\n",
       "    <tr>\n",
       "      <th>44</th>\n",
       "      <td>45</td>\n",
       "      <td>12</td>\n",
       "    </tr>\n",
       "    <tr>\n",
       "      <th>45</th>\n",
       "      <td>46</td>\n",
       "      <td>10</td>\n",
       "    </tr>\n",
       "    <tr>\n",
       "      <th>46</th>\n",
       "      <td>47</td>\n",
       "      <td>12</td>\n",
       "    </tr>\n",
       "    <tr>\n",
       "      <th>47</th>\n",
       "      <td>48</td>\n",
       "      <td>22</td>\n",
       "    </tr>\n",
       "    <tr>\n",
       "      <th>48</th>\n",
       "      <td>49</td>\n",
       "      <td>7</td>\n",
       "    </tr>\n",
       "    <tr>\n",
       "      <th>49</th>\n",
       "      <td>50</td>\n",
       "      <td>15</td>\n",
       "    </tr>\n",
       "  </tbody>\n",
       "</table>\n",
       "</div>"
      ],
      "text/plain": [
       "    Dia  NErros\n",
       "0     1       8\n",
       "1     2      11\n",
       "2     3       8\n",
       "3     4      12\n",
       "4     5      14\n",
       "5     6      13\n",
       "6     7      11\n",
       "7     8      14\n",
       "8     9      14\n",
       "9    10      15\n",
       "10   11       6\n",
       "11   12      10\n",
       "12   13      14\n",
       "13   14      19\n",
       "14   15       6\n",
       "15   16      12\n",
       "16   17       7\n",
       "17   18       5\n",
       "18   19       8\n",
       "19   20       8\n",
       "20   21      10\n",
       "21   22      16\n",
       "22   23      10\n",
       "23   24      12\n",
       "24   25      12\n",
       "25   26       8\n",
       "26   27      11\n",
       "27   28       6\n",
       "28   29       7\n",
       "29   30      12\n",
       "30   31       7\n",
       "31   32      10\n",
       "32   33      14\n",
       "33   34       5\n",
       "34   35      12\n",
       "35   36       7\n",
       "36   37       9\n",
       "37   38      12\n",
       "38   39      11\n",
       "39   40       9\n",
       "40   41      14\n",
       "41   42       8\n",
       "42   43      14\n",
       "43   44       8\n",
       "44   45      12\n",
       "45   46      10\n",
       "46   47      12\n",
       "47   48      22\n",
       "48   49       7\n",
       "49   50      15"
      ]
     },
     "execution_count": 29,
     "metadata": {},
     "output_type": "execute_result"
    }
   ],
   "source": [
    "erros = pd.DataFrame(range(1,51), columns=['Dia'])\n",
    "erros['NErros']=dados\n",
    "\n",
    "erros.to_csv('Dados/Erros.csv', header= True)\n",
    "erros"
   ]
  },
  {
   "cell_type": "code",
   "execution_count": 30,
   "id": "914b174b",
   "metadata": {},
   "outputs": [
    {
     "data": {
      "text/plain": [
       "NErros\n",
       "5     2\n",
       "6     3\n",
       "7     5\n",
       "8     7\n",
       "9     2\n",
       "10    5\n",
       "11    4\n",
       "12    9\n",
       "13    1\n",
       "14    7\n",
       "15    2\n",
       "16    1\n",
       "19    1\n",
       "22    1\n",
       "dtype: int64"
      ]
     },
     "execution_count": 30,
     "metadata": {},
     "output_type": "execute_result"
    }
   ],
   "source": [
    "dtbDias = erros.groupby(['NErros']).size()\n",
    "dtbDias"
   ]
  },
  {
   "cell_type": "markdown",
   "id": "2f5222da",
   "metadata": {},
   "source": [
    "##### Fiz uma tabela de frequência só observar melhor as ocorrencias de erros e a frequência relativa"
   ]
  },
  {
   "cell_type": "code",
   "execution_count": 31,
   "id": "c47dba47",
   "metadata": {},
   "outputs": [
    {
     "data": {
      "text/html": [
       "<div>\n",
       "<style scoped>\n",
       "    .dataframe tbody tr th:only-of-type {\n",
       "        vertical-align: middle;\n",
       "    }\n",
       "\n",
       "    .dataframe tbody tr th {\n",
       "        vertical-align: top;\n",
       "    }\n",
       "\n",
       "    .dataframe thead th {\n",
       "        text-align: right;\n",
       "    }\n",
       "</style>\n",
       "<table border=\"1\" class=\"dataframe\">\n",
       "  <thead>\n",
       "    <tr style=\"text-align: right;\">\n",
       "      <th>col_0</th>\n",
       "      <th>QtdDias</th>\n",
       "      <th>NErros</th>\n",
       "      <th>FreqRelativa</th>\n",
       "    </tr>\n",
       "    <tr>\n",
       "      <th>row_0</th>\n",
       "      <th></th>\n",
       "      <th></th>\n",
       "      <th></th>\n",
       "    </tr>\n",
       "  </thead>\n",
       "  <tbody>\n",
       "    <tr>\n",
       "      <th>5</th>\n",
       "      <td>2</td>\n",
       "      <td>5</td>\n",
       "      <td>0.04</td>\n",
       "    </tr>\n",
       "    <tr>\n",
       "      <th>6</th>\n",
       "      <td>3</td>\n",
       "      <td>6</td>\n",
       "      <td>0.06</td>\n",
       "    </tr>\n",
       "    <tr>\n",
       "      <th>7</th>\n",
       "      <td>5</td>\n",
       "      <td>7</td>\n",
       "      <td>0.10</td>\n",
       "    </tr>\n",
       "    <tr>\n",
       "      <th>8</th>\n",
       "      <td>7</td>\n",
       "      <td>8</td>\n",
       "      <td>0.14</td>\n",
       "    </tr>\n",
       "    <tr>\n",
       "      <th>9</th>\n",
       "      <td>2</td>\n",
       "      <td>9</td>\n",
       "      <td>0.04</td>\n",
       "    </tr>\n",
       "    <tr>\n",
       "      <th>10</th>\n",
       "      <td>5</td>\n",
       "      <td>10</td>\n",
       "      <td>0.10</td>\n",
       "    </tr>\n",
       "    <tr>\n",
       "      <th>11</th>\n",
       "      <td>4</td>\n",
       "      <td>11</td>\n",
       "      <td>0.08</td>\n",
       "    </tr>\n",
       "    <tr>\n",
       "      <th>12</th>\n",
       "      <td>9</td>\n",
       "      <td>12</td>\n",
       "      <td>0.18</td>\n",
       "    </tr>\n",
       "    <tr>\n",
       "      <th>13</th>\n",
       "      <td>1</td>\n",
       "      <td>13</td>\n",
       "      <td>0.02</td>\n",
       "    </tr>\n",
       "    <tr>\n",
       "      <th>14</th>\n",
       "      <td>7</td>\n",
       "      <td>14</td>\n",
       "      <td>0.14</td>\n",
       "    </tr>\n",
       "    <tr>\n",
       "      <th>15</th>\n",
       "      <td>2</td>\n",
       "      <td>15</td>\n",
       "      <td>0.04</td>\n",
       "    </tr>\n",
       "    <tr>\n",
       "      <th>16</th>\n",
       "      <td>1</td>\n",
       "      <td>16</td>\n",
       "      <td>0.02</td>\n",
       "    </tr>\n",
       "    <tr>\n",
       "      <th>19</th>\n",
       "      <td>1</td>\n",
       "      <td>19</td>\n",
       "      <td>0.02</td>\n",
       "    </tr>\n",
       "    <tr>\n",
       "      <th>22</th>\n",
       "      <td>1</td>\n",
       "      <td>22</td>\n",
       "      <td>0.02</td>\n",
       "    </tr>\n",
       "  </tbody>\n",
       "</table>\n",
       "</div>"
      ],
      "text/plain": [
       "col_0  QtdDias  NErros  FreqRelativa\n",
       "row_0                               \n",
       "5            2       5          0.04\n",
       "6            3       6          0.06\n",
       "7            5       7          0.10\n",
       "8            7       8          0.14\n",
       "9            2       9          0.04\n",
       "10           5      10          0.10\n",
       "11           4      11          0.08\n",
       "12           9      12          0.18\n",
       "13           1      13          0.02\n",
       "14           7      14          0.14\n",
       "15           2      15          0.04\n",
       "16           1      16          0.02\n",
       "19           1      19          0.02\n",
       "22           1      22          0.02"
      ]
     },
     "execution_count": 31,
     "metadata": {},
     "output_type": "execute_result"
    }
   ],
   "source": [
    "freq_table = pd.crosstab( dados, 'QtdDias')\n",
    "freq_table['NErros'] = freq_table.index\n",
    "freq_table['FreqRelativa'] = freq_table['QtdDias']/len(dados) \n",
    "\n",
    "freq_table"
   ]
  },
  {
   "cell_type": "markdown",
   "id": "dd38f692",
   "metadata": {},
   "source": [
    "#### Represente os dados graficamente.\n"
   ]
  },
  {
   "cell_type": "markdown",
   "id": "305d0713",
   "metadata": {},
   "source": [
    "##### Fiz um diagramas de barras em que x= número de erros y=  número de dias com essa quantidade de erros"
   ]
  },
  {
   "cell_type": "code",
   "execution_count": 32,
   "id": "f404c659",
   "metadata": {},
   "outputs": [
    {
     "data": {
      "text/plain": [
       "<Axes: xlabel='NErros'>"
      ]
     },
     "execution_count": 32,
     "metadata": {},
     "output_type": "execute_result"
    },
    {
     "data": {
      "image/png": "[encoded data removed]",
      "text/plain": [
       "<Figure size 640x480 with 1 Axes>"
      ]
     },
     "metadata": {},
     "output_type": "display_data"
    }
   ],
   "source": [
    "dtbDias.plot.bar(color = 'blue')"
   ]
  },
  {
   "cell_type": "markdown",
   "id": "63177138",
   "metadata": {},
   "source": [
    "#### Faça um histograma e um ramo-e-folhas."
   ]
  },
  {
   "cell_type": "markdown",
   "id": "6db2c85d",
   "metadata": {},
   "source": [
    "##### Através do histograma e ramo-e-folhas é possível notar que existe que nesses 50 dias que ocorreram, em maioria, entre 10 e 14 erros (também dando uma ideia da localização da moda, mediana e média)"
   ]
  },
  {
   "cell_type": "markdown",
   "id": "a66780a8",
   "metadata": {},
   "source": [
    "###### Histograma"
   ]
  },
  {
   "cell_type": "code",
   "execution_count": 33,
   "id": "d79d8cdf",
   "metadata": {},
   "outputs": [
    {
     "data": {
      "text/plain": [
       "<Axes: xlabel='NErros', ylabel='Count'>"
      ]
     },
     "execution_count": 33,
     "metadata": {},
     "output_type": "execute_result"
    },
    {
     "data": {
      "image/png": "[encoded data removed]",
      "text/plain": [
       "<Figure size 640x480 with 1 Axes>"
      ]
     },
     "metadata": {},
     "output_type": "display_data"
    }
   ],
   "source": [
    "sns.histplot(data=erros, x='NErros')"
   ]
  },
  {
   "cell_type": "markdown",
   "id": "e00a1ea9",
   "metadata": {},
   "source": [
    "###### Ramo-e-folhas"
   ]
  },
  {
   "cell_type": "markdown",
   "id": "a7ec1ecb",
   "metadata": {},
   "source": [
    "###### Usando a biblioteca stemgraphic"
   ]
  },
  {
   "cell_type": "code",
   "execution_count": 34,
   "id": "f0a50d04",
   "metadata": {},
   "outputs": [
    {
     "data": {
      "text/plain": [
       "(<Figure size 750x525 with 1 Axes>, <Axes: >)"
      ]
     },
     "execution_count": 34,
     "metadata": {},
     "output_type": "execute_result"
    },
    {
     "data": {
      "image/png": "[encoded data removed]",
      "text/plain": [
       "<Figure size 750x525 with 1 Axes>"
      ]
     },
     "metadata": {},
     "output_type": "display_data"
    }
   ],
   "source": [
    "st.stem_graphic(erros['NErros'])"
   ]
  },
  {
   "cell_type": "markdown",
   "id": "317868bb",
   "metadata": {},
   "source": [
    "###### Usando uma função"
   ]
  },
  {
   "cell_type": "code",
   "execution_count": 35,
   "id": "bd2af11a",
   "metadata": {},
   "outputs": [
    {
     "name": "stdout",
     "output_type": "stream",
     "text": [
      "5 | 0 0\n",
      "6 | 0 0 0\n",
      "7 | 0 0 0 0 0\n",
      "8 | 0 0 0 0 0 0 0\n",
      "9 | 0 0\n",
      "10 | 0 0 0 0 0\n",
      "11 | 0 0 0 0\n",
      "12 | 0 0 0 0 0 0 0 0 0\n",
      "13 | 0\n",
      "14 | 0 0 0 0 0 0 0\n",
      "15 | 0 0\n",
      "16 | 0\n",
      "19 | 0\n",
      "22 | 0\n"
     ]
    }
   ],
   "source": [
    "def ramo_e_folhas(data):\n",
    "    ramo_folhas = {}\n",
    "    for num in data:\n",
    "        ramo = int(num // 1)\n",
    "        folha = int(num % 1)\n",
    "        if ramo not in ramo_folhas:\n",
    "            ramo_folhas[ramo] = []\n",
    "        ramo_folhas[ramo].append(folha)\n",
    "    \n",
    "    for ramo, folhas in sorted(ramo_folhas.items()):\n",
    "        print(f\"{ramo} | {' '.join(str(f) for f in sorted(folhas))}\")\n",
    "\n",
    "ramo_e_folhas(erros['NErros'])"
   ]
  },
  {
   "cell_type": "code",
   "execution_count": 36,
   "id": "c179cfa0",
   "metadata": {},
   "outputs": [
    {
     "data": {
      "text/plain": [
       "count    50.00000\n",
       "mean     10.74000\n",
       "std       3.55028\n",
       "min       5.00000\n",
       "25%       8.00000\n",
       "50%      11.00000\n",
       "75%      12.75000\n",
       "max      22.00000\n",
       "Name: NErros, dtype: float64"
      ]
     },
     "execution_count": 36,
     "metadata": {},
     "output_type": "execute_result"
    }
   ],
   "source": [
    "erros['NErros'].describe()"
   ]
  },
  {
   "cell_type": "markdown",
   "id": "88015778",
   "metadata": {},
   "source": [
    "Dashboard no Tableau: https://public.tableau.com/views/AnlisedosErrosdeImpresso50Dias/Dashboard1?:language=en-US&:display_count=n&:origin=viz_share_link"
   ]
  },
  {
   "cell_type": "markdown",
   "id": "532bb08f",
   "metadata": {},
   "source": [
    "### Problema 5:  Usando os resultados do Problema 2 e da GrauInstrucao:"
   ]
  },
  {
   "cell_type": "code",
   "execution_count": 37,
   "id": "3a22117a",
   "metadata": {},
   "outputs": [],
   "source": [
    "dados = pd.read_csv(\"Dados/EmpregadosCompanhiaMB.csv\", sep=\";\")"
   ]
  },
  {
   "cell_type": "markdown",
   "id": "8a6f17ad",
   "metadata": {},
   "source": [
    "#### Construa um histograma para a variável idade\n"
   ]
  },
  {
   "cell_type": "code",
   "execution_count": 38,
   "id": "b049cc9e",
   "metadata": {},
   "outputs": [
    {
     "data": {
      "text/plain": [
       "<Axes: xlabel='AnosIdade', ylabel='Count'>"
      ]
     },
     "execution_count": 38,
     "metadata": {},
     "output_type": "execute_result"
    },
    {
     "data": {
      "image/png": "[encoded data removed]",
      "text/plain": [
       "<Figure size 640x480 with 1 Axes>"
      ]
     },
     "metadata": {},
     "output_type": "display_data"
    }
   ],
   "source": [
    "sns.histplot(data=dados, x='AnosIdade')"
   ]
  },
  {
   "cell_type": "markdown",
   "id": "92ccd6a8",
   "metadata": {},
   "source": [
    "#### Proponha uma representação gráfica para a variável grau de instrução."
   ]
  },
  {
   "cell_type": "markdown",
   "id": "adc21c4c",
   "metadata": {},
   "source": [
    "OBS: No livro é usada uma tabela de frequência hipotetica(com bem mais funcionários) não usando os dados da tabela EmpregadosCompanhiaMB, então aqui resolvi utilizar a tabela que eu tinha disponiveis os dados, fazendo sua tabela de frequência e representação gráfica."
   ]
  },
  {
   "cell_type": "markdown",
   "id": "cc5b7b8f",
   "metadata": {},
   "source": [
    "##### Tabela de Frequência"
   ]
  },
  {
   "cell_type": "code",
   "execution_count": 39,
   "id": "dc7bff6b",
   "metadata": {},
   "outputs": [
    {
     "data": {
      "text/html": [
       "<div>\n",
       "<style scoped>\n",
       "    .dataframe tbody tr th:only-of-type {\n",
       "        vertical-align: middle;\n",
       "    }\n",
       "\n",
       "    .dataframe tbody tr th {\n",
       "        vertical-align: top;\n",
       "    }\n",
       "\n",
       "    .dataframe thead th {\n",
       "        text-align: right;\n",
       "    }\n",
       "</style>\n",
       "<table border=\"1\" class=\"dataframe\">\n",
       "  <thead>\n",
       "    <tr style=\"text-align: right;\">\n",
       "      <th>col_0</th>\n",
       "      <th>FreqAbsoluta</th>\n",
       "      <th>FreqRelativa</th>\n",
       "    </tr>\n",
       "    <tr>\n",
       "      <th>GrauInstrucao</th>\n",
       "      <th></th>\n",
       "      <th></th>\n",
       "    </tr>\n",
       "  </thead>\n",
       "  <tbody>\n",
       "    <tr>\n",
       "      <th>ensino fundamental</th>\n",
       "      <td>12</td>\n",
       "      <td>0.333333</td>\n",
       "    </tr>\n",
       "    <tr>\n",
       "      <th>ensino médio</th>\n",
       "      <td>18</td>\n",
       "      <td>0.500000</td>\n",
       "    </tr>\n",
       "    <tr>\n",
       "      <th>superior</th>\n",
       "      <td>6</td>\n",
       "      <td>0.166667</td>\n",
       "    </tr>\n",
       "    <tr>\n",
       "      <th>Total</th>\n",
       "      <td>36</td>\n",
       "      <td>1.000000</td>\n",
       "    </tr>\n",
       "  </tbody>\n",
       "</table>\n",
       "</div>"
      ],
      "text/plain": [
       "col_0               FreqAbsoluta  FreqRelativa\n",
       "GrauInstrucao                                 \n",
       "ensino fundamental            12      0.333333\n",
       "ensino médio                  18      0.500000\n",
       "superior                       6      0.166667\n",
       "Total                         36      1.000000"
      ]
     },
     "execution_count": 39,
     "metadata": {},
     "output_type": "execute_result"
    }
   ],
   "source": [
    "freq_table = pd.crosstab(dados['GrauInstrucao'], 'FreqAbsoluta')\n",
    "freq_table['FreqRelativa'] = freq_table['FreqAbsoluta']/len(dados) \n",
    "freq_table.loc['Total'] = freq_table.sum(axis=0)\n",
    "\n",
    "freq_table['FreqAbsoluta'] = freq_table['FreqAbsoluta'].astype(int)\n",
    "\n",
    "freq_table"
   ]
  },
  {
   "cell_type": "markdown",
   "id": "63cd6e2e",
   "metadata": {},
   "source": [
    "##### Representação gráfica"
   ]
  },
  {
   "cell_type": "markdown",
   "id": "016de26d",
   "metadata": {},
   "source": [
    "###### Gráfico de Barras "
   ]
  },
  {
   "cell_type": "code",
   "execution_count": 40,
   "id": "e0e18b33",
   "metadata": {},
   "outputs": [
    {
     "data": {
      "text/plain": [
       "<Axes: xlabel='GrauInstrucao'>"
      ]
     },
     "execution_count": 40,
     "metadata": {},
     "output_type": "execute_result"
    },
    {
     "data": {
      "image/png": "[encoded data removed]",
      "text/plain": [
       "<Figure size 640x480 with 1 Axes>"
      ]
     },
     "metadata": {},
     "output_type": "display_data"
    }
   ],
   "source": [
    "grau = dados.groupby(['GrauInstrucao']).size()\n",
    "grau.plot.bar(color = 'blue')"
   ]
  },
  {
   "cell_type": "markdown",
   "id": "036656d5",
   "metadata": {},
   "source": [
    "###### Gráfico de Setores(Pizza)"
   ]
  },
  {
   "cell_type": "code",
   "execution_count": 41,
   "id": "192aef40",
   "metadata": {},
   "outputs": [
    {
     "data": {
      "image/png": "[encoded data removed]",
      "text/plain": [
       "<Figure size 1000x700 with 1 Axes>"
      ]
     },
     "metadata": {},
     "output_type": "display_data"
    }
   ],
   "source": [
    "#Apagando a linha com o total para não sair no gráfico. \n",
    "freq_table.drop(['Total'], inplace=True)\n",
    "\n",
    "fig = plt.figure(figsize =(10, 7)) \n",
    "plt.pie(freq_table['FreqRelativa'], labels = freq_table.index) \n",
    "plt.show()"
   ]
  },
  {
   "cell_type": "markdown",
   "id": "cf62443e",
   "metadata": {},
   "source": [
    "### Problema 6: As taxas médias geométricas de incremento anual (por 100 habitantes) dos 30 maiores municípios do Brasil estão dadas abaixo.\n",
    "                                3,67 1,82 3,73 4,10 4,30\n",
    "                                1,28 8,14 2,43 4,17 5,36\n",
    "                                3,96 6,54 5,84 7,35 3,63\n",
    "                                2,93 2,82 8,45 5,28 5,41\n",
    "                                7,77 4,65 1,88 2,12 4,26\n",
    "                                2,78 5,54 0,90 5,09 4,07"
   ]
  },
  {
   "cell_type": "code",
   "execution_count": 42,
   "id": "f349b920",
   "metadata": {},
   "outputs": [
    {
     "data": {
      "text/plain": [
       "30"
      ]
     },
     "execution_count": 42,
     "metadata": {},
     "output_type": "execute_result"
    }
   ],
   "source": [
    "dados = [3.67, 1.82, 3.73, 4.10, 4.30, 1.28, 8.14, 2.43, 4.17, 5.36, 3.96, 6.54, 5.84, 7.35, 3.63, 2.93, 2.82, 8.45, 5.28,\n",
    "         5.41, 7.77, 4.65, 1.88, 2.12, 4.26, 2.78, 5.54, 0.90, 5.09, 4.07]\n",
    "\n",
    "len(dados)"
   ]
  },
  {
   "cell_type": "code",
   "execution_count": 43,
   "id": "1a44525e",
   "metadata": {},
   "outputs": [
    {
     "data": {
      "text/html": [
       "<div>\n",
       "<style scoped>\n",
       "    .dataframe tbody tr th:only-of-type {\n",
       "        vertical-align: middle;\n",
       "    }\n",
       "\n",
       "    .dataframe tbody tr th {\n",
       "        vertical-align: top;\n",
       "    }\n",
       "\n",
       "    .dataframe thead th {\n",
       "        text-align: right;\n",
       "    }\n",
       "</style>\n",
       "<table border=\"1\" class=\"dataframe\">\n",
       "  <thead>\n",
       "    <tr style=\"text-align: right;\">\n",
       "      <th></th>\n",
       "      <th>MediaGeometrica</th>\n",
       "    </tr>\n",
       "  </thead>\n",
       "  <tbody>\n",
       "    <tr>\n",
       "      <th>0</th>\n",
       "      <td>3.67</td>\n",
       "    </tr>\n",
       "    <tr>\n",
       "      <th>1</th>\n",
       "      <td>1.82</td>\n",
       "    </tr>\n",
       "    <tr>\n",
       "      <th>2</th>\n",
       "      <td>3.73</td>\n",
       "    </tr>\n",
       "    <tr>\n",
       "      <th>3</th>\n",
       "      <td>4.10</td>\n",
       "    </tr>\n",
       "    <tr>\n",
       "      <th>4</th>\n",
       "      <td>4.30</td>\n",
       "    </tr>\n",
       "    <tr>\n",
       "      <th>5</th>\n",
       "      <td>1.28</td>\n",
       "    </tr>\n",
       "    <tr>\n",
       "      <th>6</th>\n",
       "      <td>8.14</td>\n",
       "    </tr>\n",
       "    <tr>\n",
       "      <th>7</th>\n",
       "      <td>2.43</td>\n",
       "    </tr>\n",
       "    <tr>\n",
       "      <th>8</th>\n",
       "      <td>4.17</td>\n",
       "    </tr>\n",
       "    <tr>\n",
       "      <th>9</th>\n",
       "      <td>5.36</td>\n",
       "    </tr>\n",
       "    <tr>\n",
       "      <th>10</th>\n",
       "      <td>3.96</td>\n",
       "    </tr>\n",
       "    <tr>\n",
       "      <th>11</th>\n",
       "      <td>6.54</td>\n",
       "    </tr>\n",
       "    <tr>\n",
       "      <th>12</th>\n",
       "      <td>5.84</td>\n",
       "    </tr>\n",
       "    <tr>\n",
       "      <th>13</th>\n",
       "      <td>7.35</td>\n",
       "    </tr>\n",
       "    <tr>\n",
       "      <th>14</th>\n",
       "      <td>3.63</td>\n",
       "    </tr>\n",
       "    <tr>\n",
       "      <th>15</th>\n",
       "      <td>2.93</td>\n",
       "    </tr>\n",
       "    <tr>\n",
       "      <th>16</th>\n",
       "      <td>2.82</td>\n",
       "    </tr>\n",
       "    <tr>\n",
       "      <th>17</th>\n",
       "      <td>8.45</td>\n",
       "    </tr>\n",
       "    <tr>\n",
       "      <th>18</th>\n",
       "      <td>5.28</td>\n",
       "    </tr>\n",
       "    <tr>\n",
       "      <th>19</th>\n",
       "      <td>5.41</td>\n",
       "    </tr>\n",
       "    <tr>\n",
       "      <th>20</th>\n",
       "      <td>7.77</td>\n",
       "    </tr>\n",
       "    <tr>\n",
       "      <th>21</th>\n",
       "      <td>4.65</td>\n",
       "    </tr>\n",
       "    <tr>\n",
       "      <th>22</th>\n",
       "      <td>1.88</td>\n",
       "    </tr>\n",
       "    <tr>\n",
       "      <th>23</th>\n",
       "      <td>2.12</td>\n",
       "    </tr>\n",
       "    <tr>\n",
       "      <th>24</th>\n",
       "      <td>4.26</td>\n",
       "    </tr>\n",
       "    <tr>\n",
       "      <th>25</th>\n",
       "      <td>2.78</td>\n",
       "    </tr>\n",
       "    <tr>\n",
       "      <th>26</th>\n",
       "      <td>5.54</td>\n",
       "    </tr>\n",
       "    <tr>\n",
       "      <th>27</th>\n",
       "      <td>0.90</td>\n",
       "    </tr>\n",
       "    <tr>\n",
       "      <th>28</th>\n",
       "      <td>5.09</td>\n",
       "    </tr>\n",
       "    <tr>\n",
       "      <th>29</th>\n",
       "      <td>4.07</td>\n",
       "    </tr>\n",
       "  </tbody>\n",
       "</table>\n",
       "</div>"
      ],
      "text/plain": [
       "    MediaGeometrica\n",
       "0              3.67\n",
       "1              1.82\n",
       "2              3.73\n",
       "3              4.10\n",
       "4              4.30\n",
       "5              1.28\n",
       "6              8.14\n",
       "7              2.43\n",
       "8              4.17\n",
       "9              5.36\n",
       "10             3.96\n",
       "11             6.54\n",
       "12             5.84\n",
       "13             7.35\n",
       "14             3.63\n",
       "15             2.93\n",
       "16             2.82\n",
       "17             8.45\n",
       "18             5.28\n",
       "19             5.41\n",
       "20             7.77\n",
       "21             4.65\n",
       "22             1.88\n",
       "23             2.12\n",
       "24             4.26\n",
       "25             2.78\n",
       "26             5.54\n",
       "27             0.90\n",
       "28             5.09\n",
       "29             4.07"
      ]
     },
     "execution_count": 43,
     "metadata": {},
     "output_type": "execute_result"
    }
   ],
   "source": [
    "media = pd.DataFrame(dados, columns=['MediaGeometrica'])\n",
    "media"
   ]
  },
  {
   "cell_type": "markdown",
   "id": "cc277c4a",
   "metadata": {},
   "source": [
    "#### Construa um histograma."
   ]
  },
  {
   "cell_type": "code",
   "execution_count": 44,
   "id": "67542d66",
   "metadata": {},
   "outputs": [
    {
     "data": {
      "text/plain": [
       "<Axes: xlabel='MediaGeometrica', ylabel='Count'>"
      ]
     },
     "execution_count": 44,
     "metadata": {},
     "output_type": "execute_result"
    },
    {
     "data": {
      "image/png": "[encoded data removed]",
      "text/plain": [
       "<Figure size 640x480 with 1 Axes>"
      ]
     },
     "metadata": {},
     "output_type": "display_data"
    }
   ],
   "source": [
    "sns.histplot(data=media, x='MediaGeometrica')"
   ]
  },
  {
   "cell_type": "markdown",
   "id": "e2b50ae3",
   "metadata": {},
   "source": [
    "#### Construa um gráfico de dispersão unidimensional"
   ]
  },
  {
   "cell_type": "code",
   "execution_count": 45,
   "id": "0ab9044b",
   "metadata": {},
   "outputs": [
    {
     "data": {
      "text/plain": [
       "<matplotlib.collections.PathCollection at 0x1eada149990>"
      ]
     },
     "execution_count": 45,
     "metadata": {},
     "output_type": "execute_result"
    },
    {
     "data": {
      "image/png": "[encoded data removed]",
      "text/plain": [
       "<Figure size 640x480 with 1 Axes>"
      ]
     },
     "metadata": {},
     "output_type": "display_data"
    }
   ],
   "source": [
    "dados = np.array(dados)\n",
    "plt.scatter( dados, [0] * dados.shape[0])"
   ]
  },
  {
   "cell_type": "markdown",
   "id": "982e5da0",
   "metadata": {},
   "source": [
    "### Problema 8: Construa um histograma, um ramo-e-folhas e um gráfico de dispersão unidimensional para o conjunto de dados 2 (CD-Municipios)."
   ]
  },
  {
   "cell_type": "code",
   "execution_count": 46,
   "id": "7b0e9489",
   "metadata": {},
   "outputs": [],
   "source": [
    "dados = pd.read_csv(\"Dados/CD-Municipios.csv\", sep=\";\")"
   ]
  },
  {
   "cell_type": "code",
   "execution_count": 47,
   "id": "bd219f0c",
   "metadata": {},
   "outputs": [
    {
     "data": {
      "text/html": [
       "<div>\n",
       "<style scoped>\n",
       "    .dataframe tbody tr th:only-of-type {\n",
       "        vertical-align: middle;\n",
       "    }\n",
       "\n",
       "    .dataframe tbody tr th {\n",
       "        vertical-align: top;\n",
       "    }\n",
       "\n",
       "    .dataframe thead th {\n",
       "        text-align: right;\n",
       "    }\n",
       "</style>\n",
       "<table border=\"1\" class=\"dataframe\">\n",
       "  <thead>\n",
       "    <tr style=\"text-align: right;\">\n",
       "      <th></th>\n",
       "      <th>N</th>\n",
       "      <th>Municipio</th>\n",
       "      <th>Populacao(x10000)</th>\n",
       "    </tr>\n",
       "  </thead>\n",
       "  <tbody>\n",
       "    <tr>\n",
       "      <th>0</th>\n",
       "      <td>1</td>\n",
       "      <td>São Paulo(SP)</td>\n",
       "      <td>988,8</td>\n",
       "    </tr>\n",
       "    <tr>\n",
       "      <th>1</th>\n",
       "      <td>2</td>\n",
       "      <td>Rio de Janeiro(RJ)</td>\n",
       "      <td>556,9</td>\n",
       "    </tr>\n",
       "    <tr>\n",
       "      <th>2</th>\n",
       "      <td>3</td>\n",
       "      <td>Salvador(BA)</td>\n",
       "      <td>224,6</td>\n",
       "    </tr>\n",
       "    <tr>\n",
       "      <th>3</th>\n",
       "      <td>4</td>\n",
       "      <td>Belo Horizonte(MG)</td>\n",
       "      <td>210,9</td>\n",
       "    </tr>\n",
       "    <tr>\n",
       "      <th>4</th>\n",
       "      <td>5</td>\n",
       "      <td>Fortaleza(CE)</td>\n",
       "      <td>201,5</td>\n",
       "    </tr>\n",
       "  </tbody>\n",
       "</table>\n",
       "</div>"
      ],
      "text/plain": [
       "   N           Municipio Populacao(x10000)\n",
       "0  1       São Paulo(SP)             988,8\n",
       "1  2  Rio de Janeiro(RJ)             556,9\n",
       "2  3        Salvador(BA)             224,6\n",
       "3  4  Belo Horizonte(MG)             210,9\n",
       "4  5       Fortaleza(CE)             201,5"
      ]
     },
     "execution_count": 47,
     "metadata": {},
     "output_type": "execute_result"
    }
   ],
   "source": [
    "dados.head()"
   ]
  },
  {
   "cell_type": "code",
   "execution_count": 48,
   "id": "94643319",
   "metadata": {},
   "outputs": [],
   "source": [
    "dados['Populacao(x10000)'] = dados['Populacao(x10000)'].str.replace(',','.')\n",
    "dados['Populacao(x10000)'] = dados['Populacao(x10000)'].astype(float)"
   ]
  },
  {
   "cell_type": "code",
   "execution_count": 49,
   "id": "b594f7be",
   "metadata": {},
   "outputs": [
    {
     "data": {
      "text/html": [
       "<div>\n",
       "<style scoped>\n",
       "    .dataframe tbody tr th:only-of-type {\n",
       "        vertical-align: middle;\n",
       "    }\n",
       "\n",
       "    .dataframe tbody tr th {\n",
       "        vertical-align: top;\n",
       "    }\n",
       "\n",
       "    .dataframe thead th {\n",
       "        text-align: right;\n",
       "    }\n",
       "</style>\n",
       "<table border=\"1\" class=\"dataframe\">\n",
       "  <thead>\n",
       "    <tr style=\"text-align: right;\">\n",
       "      <th></th>\n",
       "      <th>N</th>\n",
       "      <th>Municipio</th>\n",
       "      <th>Populacao(x10000)</th>\n",
       "    </tr>\n",
       "  </thead>\n",
       "  <tbody>\n",
       "    <tr>\n",
       "      <th>0</th>\n",
       "      <td>1</td>\n",
       "      <td>São Paulo(SP)</td>\n",
       "      <td>988.8</td>\n",
       "    </tr>\n",
       "    <tr>\n",
       "      <th>1</th>\n",
       "      <td>2</td>\n",
       "      <td>Rio de Janeiro(RJ)</td>\n",
       "      <td>556.9</td>\n",
       "    </tr>\n",
       "    <tr>\n",
       "      <th>2</th>\n",
       "      <td>3</td>\n",
       "      <td>Salvador(BA)</td>\n",
       "      <td>224.6</td>\n",
       "    </tr>\n",
       "    <tr>\n",
       "      <th>3</th>\n",
       "      <td>4</td>\n",
       "      <td>Belo Horizonte(MG)</td>\n",
       "      <td>210.9</td>\n",
       "    </tr>\n",
       "    <tr>\n",
       "      <th>4</th>\n",
       "      <td>5</td>\n",
       "      <td>Fortaleza(CE)</td>\n",
       "      <td>201.5</td>\n",
       "    </tr>\n",
       "  </tbody>\n",
       "</table>\n",
       "</div>"
      ],
      "text/plain": [
       "   N           Municipio  Populacao(x10000)\n",
       "0  1       São Paulo(SP)              988.8\n",
       "1  2  Rio de Janeiro(RJ)              556.9\n",
       "2  3        Salvador(BA)              224.6\n",
       "3  4  Belo Horizonte(MG)              210.9\n",
       "4  5       Fortaleza(CE)              201.5"
      ]
     },
     "execution_count": 49,
     "metadata": {},
     "output_type": "execute_result"
    }
   ],
   "source": [
    "dados.head()"
   ]
  },
  {
   "cell_type": "markdown",
   "id": "996f415b",
   "metadata": {},
   "source": [
    "#### Histograma"
   ]
  },
  {
   "cell_type": "code",
   "execution_count": 50,
   "id": "530adc09",
   "metadata": {},
   "outputs": [
    {
     "data": {
      "text/plain": [
       "array([[<Axes: title={'center': 'Populacao(x10000)'}>]], dtype=object)"
      ]
     },
     "execution_count": 50,
     "metadata": {},
     "output_type": "execute_result"
    },
    {
     "data": {
      "image/png": "[encoded data removed]",
      "text/plain": [
       "<Figure size 800x600 with 1 Axes>"
      ]
     },
     "metadata": {},
     "output_type": "display_data"
    }
   ],
   "source": [
    "#%matplotlib inline\n",
    "dados.hist(column=['Populacao(x10000)'],bins=30, figsize=(8,6))"
   ]
  },
  {
   "cell_type": "markdown",
   "id": "94f4bb6c",
   "metadata": {},
   "source": [
    "#### Ramo-e-folhas"
   ]
  },
  {
   "cell_type": "markdown",
   "id": "b5d9fa67",
   "metadata": {},
   "source": [
    "##### Usando a biblioteca stemgraphic"
   ]
  },
  {
   "cell_type": "code",
   "execution_count": 51,
   "id": "a685fffa",
   "metadata": {},
   "outputs": [
    {
     "data": {
      "text/plain": [
       "(<Figure size 750x325 with 1 Axes>, <Axes: >)"
      ]
     },
     "execution_count": 51,
     "metadata": {},
     "output_type": "execute_result"
    },
    {
     "data": {
      "image/png": "[encoded data removed]",
      "text/plain": [
       "<Figure size 750x325 with 1 Axes>"
      ]
     },
     "metadata": {},
     "output_type": "display_data"
    }
   ],
   "source": [
    "#tirar legenda: legend_pos=None,\n",
    "st.stem_graphic(dados['Populacao(x10000)'], aggregation=True, outliers=True,\n",
    "             delimiter_color='k', alpha=0, underline_color='orange')"
   ]
  },
  {
   "cell_type": "markdown",
   "id": "53f9bc2f",
   "metadata": {},
   "source": [
    "##### Usando uma função"
   ]
  },
  {
   "cell_type": "code",
   "execution_count": 52,
   "id": "d46b29ae",
   "metadata": {},
   "outputs": [
    {
     "name": "stdout",
     "output_type": "stream",
     "text": [
      "4 | 6 9\n",
      "5 | 0 4 6\n",
      "6 | 1 2 3 6 6 8\n",
      "7 | 2 4\n",
      "8 | 0 3 4\n",
      "9 | 2\n",
      "10 | 1 2\n",
      "11 | 6 9\n",
      "12 | 9\n",
      "13 | 5\n",
      "15 | 1\n",
      "18 | 7\n",
      "20 | 1\n",
      "21 | 0\n",
      "22 | 4\n",
      "55 | 6\n",
      "98 | 8\n"
     ]
    }
   ],
   "source": [
    "def ramo_e_folhas(data):\n",
    "    ramo_folhas = {}\n",
    "    for num in data:\n",
    "        ramo = int(num // 10)\n",
    "        folha = int(num % 10)\n",
    "        if ramo not in ramo_folhas:\n",
    "            ramo_folhas[ramo] = []\n",
    "        ramo_folhas[ramo].append(folha)\n",
    "    \n",
    "    for ramo, folhas in sorted(ramo_folhas.items()):\n",
    "        print(f\"{ramo} | {' '.join(str(f) for f in sorted(folhas))}\")\n",
    "\n",
    "ramo_e_folhas(dados['Populacao(x10000)'])"
   ]
  },
  {
   "cell_type": "markdown",
   "id": "bfab9e1b",
   "metadata": {},
   "source": [
    "#### dispersão unidimensional"
   ]
  },
  {
   "cell_type": "code",
   "execution_count": 53,
   "id": "607f368d",
   "metadata": {},
   "outputs": [
    {
     "data": {
      "text/plain": [
       "<matplotlib.collections.PathCollection at 0x1eadb89c350>"
      ]
     },
     "execution_count": 53,
     "metadata": {},
     "output_type": "execute_result"
    },
    {
     "data": {
      "image/png": "[encoded data removed]",
      "text/plain": [
       "<Figure size 640x480 with 1 Axes>"
      ]
     },
     "metadata": {},
     "output_type": "display_data"
    }
   ],
   "source": [
    "dados = np.array(dados['Populacao(x10000)'])\n",
    "plt.scatter( dados, [0] * dados.shape[0])"
   ]
  },
  {
   "cell_type": "markdown",
   "id": "420ac461",
   "metadata": {},
   "source": [
    "### Problema 9: A MB Indústria e Comércio, desejando melhorar o nível de seus funcionários em cargos de chefia, montou um curso experimental e indicou 25 funcionários para a primeira turma. Os dados referentes à seção a que pertencem, notas e graus obtidos no curso estão na tabela a seguir. Como havia dúvidas quanto à adoção de um único critério de avaliação, cada instrutor adotou seu próprio sistema de aferição. Usando dados daquela tabela, responda às questões:"
   ]
  },
  {
   "cell_type": "code",
   "execution_count": 54,
   "id": "17388b57",
   "metadata": {},
   "outputs": [],
   "source": [
    "dados = pd.read_csv(\"Dados/MBIndustriaComercio.csv\", sep=\";\")"
   ]
  },
  {
   "cell_type": "code",
   "execution_count": 55,
   "id": "c398c662",
   "metadata": {},
   "outputs": [
    {
     "data": {
      "text/html": [
       "<div>\n",
       "<style scoped>\n",
       "    .dataframe tbody tr th:only-of-type {\n",
       "        vertical-align: middle;\n",
       "    }\n",
       "\n",
       "    .dataframe tbody tr th {\n",
       "        vertical-align: top;\n",
       "    }\n",
       "\n",
       "    .dataframe thead th {\n",
       "        text-align: right;\n",
       "    }\n",
       "</style>\n",
       "<table border=\"1\" class=\"dataframe\">\n",
       "  <thead>\n",
       "    <tr style=\"text-align: right;\">\n",
       "      <th></th>\n",
       "      <th>Func</th>\n",
       "      <th>Secao</th>\n",
       "      <th>Administracao</th>\n",
       "      <th>Direito</th>\n",
       "      <th>Redacao</th>\n",
       "      <th>Estatistica</th>\n",
       "      <th>Ingles</th>\n",
       "      <th>Metodologia</th>\n",
       "      <th>Politica</th>\n",
       "    </tr>\n",
       "  </thead>\n",
       "  <tbody>\n",
       "    <tr>\n",
       "      <th>0</th>\n",
       "      <td>1</td>\n",
       "      <td>P</td>\n",
       "      <td>8</td>\n",
       "      <td>9</td>\n",
       "      <td>8,6</td>\n",
       "      <td>9</td>\n",
       "      <td>B</td>\n",
       "      <td>A</td>\n",
       "      <td>9</td>\n",
       "    </tr>\n",
       "    <tr>\n",
       "      <th>1</th>\n",
       "      <td>2</td>\n",
       "      <td>P</td>\n",
       "      <td>8</td>\n",
       "      <td>9</td>\n",
       "      <td>7</td>\n",
       "      <td>9</td>\n",
       "      <td>B</td>\n",
       "      <td>C</td>\n",
       "      <td>6,5</td>\n",
       "    </tr>\n",
       "    <tr>\n",
       "      <th>2</th>\n",
       "      <td>3</td>\n",
       "      <td>P</td>\n",
       "      <td>8</td>\n",
       "      <td>9</td>\n",
       "      <td>8</td>\n",
       "      <td>8</td>\n",
       "      <td>D</td>\n",
       "      <td>B</td>\n",
       "      <td>9</td>\n",
       "    </tr>\n",
       "    <tr>\n",
       "      <th>3</th>\n",
       "      <td>4</td>\n",
       "      <td>P</td>\n",
       "      <td>6</td>\n",
       "      <td>9</td>\n",
       "      <td>8,6</td>\n",
       "      <td>8</td>\n",
       "      <td>D</td>\n",
       "      <td>C</td>\n",
       "      <td>6</td>\n",
       "    </tr>\n",
       "    <tr>\n",
       "      <th>4</th>\n",
       "      <td>5</td>\n",
       "      <td>P</td>\n",
       "      <td>8</td>\n",
       "      <td>9</td>\n",
       "      <td>8</td>\n",
       "      <td>9</td>\n",
       "      <td>A</td>\n",
       "      <td>A</td>\n",
       "      <td>6,5</td>\n",
       "    </tr>\n",
       "  </tbody>\n",
       "</table>\n",
       "</div>"
      ],
      "text/plain": [
       "   Func Secao  Administracao  Direito Redacao  Estatistica Ingles Metodologia  \\\n",
       "0     1     P              8        9     8,6            9      B           A   \n",
       "1     2     P              8        9       7            9      B           C   \n",
       "2     3     P              8        9       8            8      D           B   \n",
       "3     4     P              6        9     8,6            8      D           C   \n",
       "4     5     P              8        9       8            9      A           A   \n",
       "\n",
       "  Politica  \n",
       "0        9  \n",
       "1      6,5  \n",
       "2        9  \n",
       "3        6  \n",
       "4      6,5  "
      ]
     },
     "execution_count": 55,
     "metadata": {},
     "output_type": "execute_result"
    }
   ],
   "source": [
    "dados.head()"
   ]
  },
  {
   "cell_type": "code",
   "execution_count": 56,
   "id": "5f86b1e7",
   "metadata": {},
   "outputs": [
    {
     "data": {
      "text/plain": [
       "Func              int64\n",
       "Secao            object\n",
       "Administracao     int64\n",
       "Direito           int64\n",
       "Redacao          object\n",
       "Estatistica       int64\n",
       "Ingles           object\n",
       "Metodologia      object\n",
       "Politica         object\n",
       "dtype: object"
      ]
     },
     "execution_count": 56,
     "metadata": {},
     "output_type": "execute_result"
    }
   ],
   "source": [
    "dados.dtypes"
   ]
  },
  {
   "cell_type": "code",
   "execution_count": 57,
   "id": "0f1984f8",
   "metadata": {},
   "outputs": [],
   "source": [
    "dados.loc[dados['Secao'] ==  'P', 'Secao'] = \"departamento pessoal\"\n",
    "dados.loc[dados['Secao'] ==  'T', 'Secao'] = \"seção técnica\"\n",
    "dados.loc[dados['Secao'] ==  'V', 'Secao'] = \"seção de vendas\"\n",
    "\n",
    "dados['Redacao'] = dados['Redacao'].str.replace(',','.')\n",
    "dados['Politica'] = dados['Politica'].str.replace(',','.')\n",
    "\n",
    "dados['Administracao'] = dados['Administracao'].astype(float)\n",
    "dados['Direito'] = dados['Direito'].astype(float)\n",
    "dados['Redacao'] = dados['Redacao'].astype(float)\n",
    "dados['Estatistica'] = dados['Estatistica'].astype(float)\n",
    "dados['Politica'] = dados['Politica'].astype(float)"
   ]
  },
  {
   "cell_type": "code",
   "execution_count": 58,
   "id": "78c0dde5",
   "metadata": {},
   "outputs": [
    {
     "data": {
      "text/html": [
       "<div>\n",
       "<style scoped>\n",
       "    .dataframe tbody tr th:only-of-type {\n",
       "        vertical-align: middle;\n",
       "    }\n",
       "\n",
       "    .dataframe tbody tr th {\n",
       "        vertical-align: top;\n",
       "    }\n",
       "\n",
       "    .dataframe thead th {\n",
       "        text-align: right;\n",
       "    }\n",
       "</style>\n",
       "<table border=\"1\" class=\"dataframe\">\n",
       "  <thead>\n",
       "    <tr style=\"text-align: right;\">\n",
       "      <th></th>\n",
       "      <th>Func</th>\n",
       "      <th>Secao</th>\n",
       "      <th>Administracao</th>\n",
       "      <th>Direito</th>\n",
       "      <th>Redacao</th>\n",
       "      <th>Estatistica</th>\n",
       "      <th>Ingles</th>\n",
       "      <th>Metodologia</th>\n",
       "      <th>Politica</th>\n",
       "    </tr>\n",
       "  </thead>\n",
       "  <tbody>\n",
       "    <tr>\n",
       "      <th>0</th>\n",
       "      <td>1</td>\n",
       "      <td>departamento pessoal</td>\n",
       "      <td>8.0</td>\n",
       "      <td>9.0</td>\n",
       "      <td>8.6</td>\n",
       "      <td>9.0</td>\n",
       "      <td>B</td>\n",
       "      <td>A</td>\n",
       "      <td>9.0</td>\n",
       "    </tr>\n",
       "    <tr>\n",
       "      <th>1</th>\n",
       "      <td>2</td>\n",
       "      <td>departamento pessoal</td>\n",
       "      <td>8.0</td>\n",
       "      <td>9.0</td>\n",
       "      <td>7.0</td>\n",
       "      <td>9.0</td>\n",
       "      <td>B</td>\n",
       "      <td>C</td>\n",
       "      <td>6.5</td>\n",
       "    </tr>\n",
       "    <tr>\n",
       "      <th>2</th>\n",
       "      <td>3</td>\n",
       "      <td>departamento pessoal</td>\n",
       "      <td>8.0</td>\n",
       "      <td>9.0</td>\n",
       "      <td>8.0</td>\n",
       "      <td>8.0</td>\n",
       "      <td>D</td>\n",
       "      <td>B</td>\n",
       "      <td>9.0</td>\n",
       "    </tr>\n",
       "    <tr>\n",
       "      <th>3</th>\n",
       "      <td>4</td>\n",
       "      <td>departamento pessoal</td>\n",
       "      <td>6.0</td>\n",
       "      <td>9.0</td>\n",
       "      <td>8.6</td>\n",
       "      <td>8.0</td>\n",
       "      <td>D</td>\n",
       "      <td>C</td>\n",
       "      <td>6.0</td>\n",
       "    </tr>\n",
       "    <tr>\n",
       "      <th>4</th>\n",
       "      <td>5</td>\n",
       "      <td>departamento pessoal</td>\n",
       "      <td>8.0</td>\n",
       "      <td>9.0</td>\n",
       "      <td>8.0</td>\n",
       "      <td>9.0</td>\n",
       "      <td>A</td>\n",
       "      <td>A</td>\n",
       "      <td>6.5</td>\n",
       "    </tr>\n",
       "  </tbody>\n",
       "</table>\n",
       "</div>"
      ],
      "text/plain": [
       "   Func                 Secao  Administracao  Direito  Redacao  Estatistica  \\\n",
       "0     1  departamento pessoal            8.0      9.0      8.6          9.0   \n",
       "1     2  departamento pessoal            8.0      9.0      7.0          9.0   \n",
       "2     3  departamento pessoal            8.0      9.0      8.0          8.0   \n",
       "3     4  departamento pessoal            6.0      9.0      8.6          8.0   \n",
       "4     5  departamento pessoal            8.0      9.0      8.0          9.0   \n",
       "\n",
       "  Ingles Metodologia  Politica  \n",
       "0      B           A       9.0  \n",
       "1      B           C       6.5  \n",
       "2      D           B       9.0  \n",
       "3      D           C       6.0  \n",
       "4      A           A       6.5  "
      ]
     },
     "execution_count": 58,
     "metadata": {},
     "output_type": "execute_result"
    }
   ],
   "source": [
    "dados.head()"
   ]
  },
  {
   "cell_type": "code",
   "execution_count": 59,
   "id": "1262bd7f",
   "metadata": {},
   "outputs": [
    {
     "data": {
      "text/plain": [
       "Func               int64\n",
       "Secao             object\n",
       "Administracao    float64\n",
       "Direito          float64\n",
       "Redacao          float64\n",
       "Estatistica      float64\n",
       "Ingles            object\n",
       "Metodologia       object\n",
       "Politica         float64\n",
       "dtype: object"
      ]
     },
     "execution_count": 59,
     "metadata": {},
     "output_type": "execute_result"
    }
   ],
   "source": [
    "dados.dtypes"
   ]
  },
  {
   "cell_type": "markdown",
   "id": "baa762d1",
   "metadata": {},
   "source": [
    "#### Compare e indique as diferenças existentes entre as distribuições das variáveis Direito, Política e Estatística."
   ]
  },
  {
   "cell_type": "markdown",
   "id": "5de046a9",
   "metadata": {},
   "source": [
    "##### Direito"
   ]
  },
  {
   "cell_type": "code",
   "execution_count": 60,
   "id": "da98ca49",
   "metadata": {},
   "outputs": [
    {
     "data": {
      "text/plain": [
       "<Axes: xlabel='Direito'>"
      ]
     },
     "execution_count": 60,
     "metadata": {},
     "output_type": "execute_result"
    },
    {
     "data": {
      "image/png": "[encoded data removed]",
      "text/plain": [
       "<Figure size 640x480 with 1 Axes>"
      ]
     },
     "metadata": {},
     "output_type": "display_data"
    }
   ],
   "source": [
    "notas = dados.groupby(['Direito']).size()\n",
    "notas.plot.bar(color = 'blue')"
   ]
  },
  {
   "cell_type": "markdown",
   "id": "119db74c",
   "metadata": {},
   "source": [
    "##### Politica"
   ]
  },
  {
   "cell_type": "code",
   "execution_count": 61,
   "id": "fe0ce4bf",
   "metadata": {},
   "outputs": [
    {
     "data": {
      "text/plain": [
       "<Axes: xlabel='Politica'>"
      ]
     },
     "execution_count": 61,
     "metadata": {},
     "output_type": "execute_result"
    },
    {
     "data": {
      "image/png": "[encoded data removed]",
      "text/plain": [
       "<Figure size 640x480 with 1 Axes>"
      ]
     },
     "metadata": {},
     "output_type": "display_data"
    }
   ],
   "source": [
    "notas = dados.groupby(['Politica']).size()\n",
    "notas.plot.bar(color = 'blue')"
   ]
  },
  {
   "cell_type": "markdown",
   "id": "1ab0195a",
   "metadata": {},
   "source": [
    "##### Estatistica"
   ]
  },
  {
   "cell_type": "code",
   "execution_count": 62,
   "id": "df97e094",
   "metadata": {},
   "outputs": [
    {
     "data": {
      "text/plain": [
       "<Axes: xlabel='Estatistica'>"
      ]
     },
     "execution_count": 62,
     "metadata": {},
     "output_type": "execute_result"
    },
    {
     "data": {
      "image/png": "[encoded data removed]",
      "text/plain": [
       "<Figure size 640x480 with 1 Axes>"
      ]
     },
     "metadata": {},
     "output_type": "display_data"
    }
   ],
   "source": [
    "notas = dados.groupby(['Estatistica']).size()\n",
    "notas.plot.bar(color = 'blue')"
   ]
  },
  {
   "cell_type": "markdown",
   "id": "672cded1",
   "metadata": {},
   "source": [
    "###### Direito: todos os avaliados possuem a mesma nota(9).\n",
    "###### Politica: Possuem notas com casas decimais (6,5).\n",
    "###### Estatistica: Não possui nenhuma notas com casas decimais."
   ]
  },
  {
   "cell_type": "markdown",
   "id": "2a85977a",
   "metadata": {},
   "source": [
    "#### Construa o histograma para as notas da variável Redação."
   ]
  },
  {
   "cell_type": "code",
   "execution_count": 63,
   "id": "c91061a9",
   "metadata": {},
   "outputs": [
    {
     "data": {
      "text/plain": [
       "<Axes: xlabel='Redacao', ylabel='Count'>"
      ]
     },
     "execution_count": 63,
     "metadata": {},
     "output_type": "execute_result"
    },
    {
     "data": {
      "image/png": "[encoded data removed]",
      "text/plain": [
       "<Figure size 640x480 with 1 Axes>"
      ]
     },
     "metadata": {},
     "output_type": "display_data"
    }
   ],
   "source": [
    "sns.histplot(data=dados, x='Redacao')"
   ]
  },
  {
   "cell_type": "markdown",
   "id": "feaa6797",
   "metadata": {},
   "source": [
    "#### Construa a distribuição de freqüências da variável Metodologia e faça um gráfico para indicar essa distribuição"
   ]
  },
  {
   "cell_type": "markdown",
   "id": "d08f695f",
   "metadata": {},
   "source": [
    "##### DIstribuição de frequência"
   ]
  },
  {
   "cell_type": "code",
   "execution_count": 64,
   "id": "c0b3c478",
   "metadata": {},
   "outputs": [
    {
     "data": {
      "text/html": [
       "<div>\n",
       "<style scoped>\n",
       "    .dataframe tbody tr th:only-of-type {\n",
       "        vertical-align: middle;\n",
       "    }\n",
       "\n",
       "    .dataframe tbody tr th {\n",
       "        vertical-align: top;\n",
       "    }\n",
       "\n",
       "    .dataframe thead th {\n",
       "        text-align: right;\n",
       "    }\n",
       "</style>\n",
       "<table border=\"1\" class=\"dataframe\">\n",
       "  <thead>\n",
       "    <tr style=\"text-align: right;\">\n",
       "      <th>col_0</th>\n",
       "      <th>FreqAbsoluta</th>\n",
       "      <th>FreqRelativa</th>\n",
       "    </tr>\n",
       "    <tr>\n",
       "      <th>Metodologia</th>\n",
       "      <th></th>\n",
       "      <th></th>\n",
       "    </tr>\n",
       "  </thead>\n",
       "  <tbody>\n",
       "    <tr>\n",
       "      <th>A</th>\n",
       "      <td>7</td>\n",
       "      <td>0.28</td>\n",
       "    </tr>\n",
       "    <tr>\n",
       "      <th>B</th>\n",
       "      <td>8</td>\n",
       "      <td>0.32</td>\n",
       "    </tr>\n",
       "    <tr>\n",
       "      <th>C</th>\n",
       "      <td>10</td>\n",
       "      <td>0.40</td>\n",
       "    </tr>\n",
       "    <tr>\n",
       "      <th>Total</th>\n",
       "      <td>25</td>\n",
       "      <td>1.00</td>\n",
       "    </tr>\n",
       "  </tbody>\n",
       "</table>\n",
       "</div>"
      ],
      "text/plain": [
       "col_0        FreqAbsoluta  FreqRelativa\n",
       "Metodologia                            \n",
       "A                       7          0.28\n",
       "B                       8          0.32\n",
       "C                      10          0.40\n",
       "Total                  25          1.00"
      ]
     },
     "execution_count": 64,
     "metadata": {},
     "output_type": "execute_result"
    }
   ],
   "source": [
    "freq_table = pd.crosstab(dados['Metodologia'], 'FreqAbsoluta')\n",
    "freq_table['FreqRelativa'] = freq_table['FreqAbsoluta']/len(dados) \n",
    "freq_table.loc['Total'] = freq_table.sum(axis=0)\n",
    "\n",
    "freq_table['FreqAbsoluta'] = freq_table['FreqAbsoluta'].astype(int)\n",
    "\n",
    "freq_table"
   ]
  },
  {
   "cell_type": "markdown",
   "id": "82f9fcdf",
   "metadata": {},
   "source": [
    "##### Gráfico de barras"
   ]
  },
  {
   "cell_type": "code",
   "execution_count": 65,
   "id": "72d71a4a",
   "metadata": {},
   "outputs": [
    {
     "data": {
      "text/plain": [
       "<Axes: xlabel='Metodologia'>"
      ]
     },
     "execution_count": 65,
     "metadata": {},
     "output_type": "execute_result"
    },
    {
     "data": {
      "image/png": "[encoded data removed]",
      "text/plain": [
       "<Figure size 640x480 with 1 Axes>"
      ]
     },
     "metadata": {},
     "output_type": "display_data"
    }
   ],
   "source": [
    "notas = dados.groupby(['Metodologia']).size()\n",
    "notas.plot.bar(color = 'blue')"
   ]
  },
  {
   "cell_type": "markdown",
   "id": "7df4d1db",
   "metadata": {},
   "source": [
    "##### Grafico de setores"
   ]
  },
  {
   "cell_type": "code",
   "execution_count": 66,
   "id": "854c3258",
   "metadata": {},
   "outputs": [
    {
     "data": {
      "image/png": "[encoded data removed]",
      "text/plain": [
       "<Figure size 1000x700 with 1 Axes>"
      ]
     },
     "metadata": {},
     "output_type": "display_data"
    }
   ],
   "source": [
    "freq_table.drop(['Total'], inplace=True)\n",
    "\n",
    "fig = plt.figure(figsize =(10, 7)) \n",
    "plt.pie(freq_table['FreqRelativa'], labels = freq_table.index) \n",
    "plt.show()"
   ]
  },
  {
   "cell_type": "markdown",
   "id": "f54433b5",
   "metadata": {},
   "source": [
    "#### Como é o aproveitamento dos funcionários na disciplina Estatística, segundo a seção a que eles pertencem?"
   ]
  },
  {
   "cell_type": "code",
   "execution_count": 67,
   "id": "c6348ffa",
   "metadata": {},
   "outputs": [
    {
     "data": {
      "text/plain": [
       "<Axes: xlabel='Estatistica'>"
      ]
     },
     "execution_count": 67,
     "metadata": {},
     "output_type": "execute_result"
    },
    {
     "data": {
      "image/png": "[encoded data removed]",
      "text/plain": [
       "<Figure size 640x480 with 1 Axes>"
      ]
     },
     "metadata": {},
     "output_type": "display_data"
    }
   ],
   "source": [
    "secao = dados.groupby(['Secao']).size()\n",
    "estatistica = dados.groupby(['Estatistica']).size()\n",
    "\n",
    "ordem = []\n",
    "for key in estatistica.keys(): ordem.append(key)\n",
    "    \n",
    "dados.groupby('Secao')['Estatistica'].value_counts().unstack(0).loc[ordem].plot.bar()"
   ]
  },
  {
   "cell_type": "markdown",
   "id": "a2c4fbc6",
   "metadata": {},
   "source": [
    "#### Todos os departamentos tiveram um bom aproveitamento, apenas a secao de vendas teve uma nota menor que 7, mas esse era o departamento com maior quantidade de integrantes. Abaixo, a tabela com quantidade total de participantes e os que obtiveram avaliação igual ou maior que 7."
   ]
  },
  {
   "cell_type": "code",
   "execution_count": 68,
   "id": "b819bb5a",
   "metadata": {},
   "outputs": [
    {
     "data": {
      "text/html": [
       "<div>\n",
       "<style scoped>\n",
       "    .dataframe tbody tr th:only-of-type {\n",
       "        vertical-align: middle;\n",
       "    }\n",
       "\n",
       "    .dataframe tbody tr th {\n",
       "        vertical-align: top;\n",
       "    }\n",
       "\n",
       "    .dataframe thead th {\n",
       "        text-align: right;\n",
       "    }\n",
       "</style>\n",
       "<table border=\"1\" class=\"dataframe\">\n",
       "  <thead>\n",
       "    <tr style=\"text-align: right;\">\n",
       "      <th>col_0</th>\n",
       "      <th>Participantes</th>\n",
       "      <th>&gt;=7</th>\n",
       "    </tr>\n",
       "    <tr>\n",
       "      <th>Secao</th>\n",
       "      <th></th>\n",
       "      <th></th>\n",
       "    </tr>\n",
       "  </thead>\n",
       "  <tbody>\n",
       "    <tr>\n",
       "      <th>departamento pessoal</th>\n",
       "      <td>7</td>\n",
       "      <td>7</td>\n",
       "    </tr>\n",
       "    <tr>\n",
       "      <th>seção de vendas</th>\n",
       "      <td>11</td>\n",
       "      <td>10</td>\n",
       "    </tr>\n",
       "    <tr>\n",
       "      <th>seção técnica</th>\n",
       "      <td>7</td>\n",
       "      <td>7</td>\n",
       "    </tr>\n",
       "  </tbody>\n",
       "</table>\n",
       "</div>"
      ],
      "text/plain": [
       "col_0                 Participantes  >=7\n",
       "Secao                                   \n",
       "departamento pessoal              7    7\n",
       "seção de vendas                  11   10\n",
       "seção técnica                     7    7"
      ]
     },
     "execution_count": 68,
     "metadata": {},
     "output_type": "execute_result"
    }
   ],
   "source": [
    "bomAproveitamento = dados[dados.Estatistica>=7]\n",
    "\n",
    "freq_table = pd.crosstab(dados['Secao'], 'Participantes')\n",
    "freq_table['>=7'] = pd.crosstab(bomAproveitamento['Secao'], '')\n",
    "freq_table"
   ]
  },
  {
   "cell_type": "markdown",
   "id": "fe1fff63",
   "metadata": {},
   "source": [
    "### Problema 10: A tabela abaixo fornece a distribuição de 250 empresas classificadas segundo o número de empregados.\n",
    "Intervalos de classes desiguais. É muito comum o uso de classes com tamanhos desiguais no agrupamento dos dados em tabelas de freqüências. Nestes casos deve-se tomar alguns cuidados especiais quanto à análise e construção do histograma"
   ]
  },
  {
   "cell_type": "code",
   "execution_count": 69,
   "id": "493b839a",
   "metadata": {},
   "outputs": [],
   "source": [
    "dados = pd.read_csv(\"Dados/DistribuicaoEmpresas.csv\", sep=\";\")"
   ]
  },
  {
   "cell_type": "code",
   "execution_count": 70,
   "id": "4e6dd2ae",
   "metadata": {},
   "outputs": [
    {
     "data": {
      "text/html": [
       "<div>\n",
       "<style scoped>\n",
       "    .dataframe tbody tr th:only-of-type {\n",
       "        vertical-align: middle;\n",
       "    }\n",
       "\n",
       "    .dataframe tbody tr th {\n",
       "        vertical-align: top;\n",
       "    }\n",
       "\n",
       "    .dataframe thead th {\n",
       "        text-align: right;\n",
       "    }\n",
       "</style>\n",
       "<table border=\"1\" class=\"dataframe\">\n",
       "  <thead>\n",
       "    <tr style=\"text-align: right;\">\n",
       "      <th></th>\n",
       "      <th>NumeroEmpregados</th>\n",
       "      <th>LimiteInferior</th>\n",
       "      <th>LimiteSuperior</th>\n",
       "      <th>Frequencia</th>\n",
       "    </tr>\n",
       "  </thead>\n",
       "  <tbody>\n",
       "    <tr>\n",
       "      <th>0</th>\n",
       "      <td>(0, 10]</td>\n",
       "      <td>0</td>\n",
       "      <td>10</td>\n",
       "      <td>5</td>\n",
       "    </tr>\n",
       "    <tr>\n",
       "      <th>1</th>\n",
       "      <td>(10, 20]</td>\n",
       "      <td>10</td>\n",
       "      <td>20</td>\n",
       "      <td>20</td>\n",
       "    </tr>\n",
       "    <tr>\n",
       "      <th>2</th>\n",
       "      <td>(20, 30]</td>\n",
       "      <td>20</td>\n",
       "      <td>30</td>\n",
       "      <td>35</td>\n",
       "    </tr>\n",
       "    <tr>\n",
       "      <th>3</th>\n",
       "      <td>(30, 40]</td>\n",
       "      <td>30</td>\n",
       "      <td>40</td>\n",
       "      <td>40</td>\n",
       "    </tr>\n",
       "    <tr>\n",
       "      <th>4</th>\n",
       "      <td>(40, 60]</td>\n",
       "      <td>40</td>\n",
       "      <td>60</td>\n",
       "      <td>50</td>\n",
       "    </tr>\n",
       "    <tr>\n",
       "      <th>5</th>\n",
       "      <td>(60, 80]</td>\n",
       "      <td>60</td>\n",
       "      <td>80</td>\n",
       "      <td>30</td>\n",
       "    </tr>\n",
       "    <tr>\n",
       "      <th>6</th>\n",
       "      <td>(80, 100]</td>\n",
       "      <td>80</td>\n",
       "      <td>100</td>\n",
       "      <td>20</td>\n",
       "    </tr>\n",
       "    <tr>\n",
       "      <th>7</th>\n",
       "      <td>(100, 140]</td>\n",
       "      <td>100</td>\n",
       "      <td>140</td>\n",
       "      <td>20</td>\n",
       "    </tr>\n",
       "    <tr>\n",
       "      <th>8</th>\n",
       "      <td>(140, 180]</td>\n",
       "      <td>140</td>\n",
       "      <td>180</td>\n",
       "      <td>15</td>\n",
       "    </tr>\n",
       "    <tr>\n",
       "      <th>9</th>\n",
       "      <td>(180, 260]</td>\n",
       "      <td>180</td>\n",
       "      <td>260</td>\n",
       "      <td>15</td>\n",
       "    </tr>\n",
       "  </tbody>\n",
       "</table>\n",
       "</div>"
      ],
      "text/plain": [
       "  NumeroEmpregados  LimiteInferior  LimiteSuperior  Frequencia\n",
       "0          (0, 10]               0              10           5\n",
       "1         (10, 20]              10              20          20\n",
       "2         (20, 30]              20              30          35\n",
       "3         (30, 40]              30              40          40\n",
       "4         (40, 60]              40              60          50\n",
       "5         (60, 80]              60              80          30\n",
       "6        (80, 100]              80             100          20\n",
       "7       (100, 140]             100             140          20\n",
       "8       (140, 180]             140             180          15\n",
       "9       (180, 260]             180             260          15"
      ]
     },
     "execution_count": 70,
     "metadata": {},
     "output_type": "execute_result"
    }
   ],
   "source": [
    "dados"
   ]
  },
  {
   "cell_type": "code",
   "execution_count": 71,
   "id": "e444b081",
   "metadata": {},
   "outputs": [
    {
     "data": {
      "text/plain": [
       "NumeroEmpregados    object\n",
       "LimiteInferior       int64\n",
       "LimiteSuperior       int64\n",
       "Frequencia           int64\n",
       "dtype: object"
      ]
     },
     "execution_count": 71,
     "metadata": {},
     "output_type": "execute_result"
    }
   ],
   "source": [
    "dados.dtypes"
   ]
  },
  {
   "cell_type": "markdown",
   "id": "fce78e07",
   "metadata": {},
   "source": [
    "#### Amplitude"
   ]
  },
  {
   "cell_type": "code",
   "execution_count": 72,
   "id": "460450c1",
   "metadata": {},
   "outputs": [
    {
     "data": {
      "text/html": [
       "<div>\n",
       "<style scoped>\n",
       "    .dataframe tbody tr th:only-of-type {\n",
       "        vertical-align: middle;\n",
       "    }\n",
       "\n",
       "    .dataframe tbody tr th {\n",
       "        vertical-align: top;\n",
       "    }\n",
       "\n",
       "    .dataframe thead th {\n",
       "        text-align: right;\n",
       "    }\n",
       "</style>\n",
       "<table border=\"1\" class=\"dataframe\">\n",
       "  <thead>\n",
       "    <tr style=\"text-align: right;\">\n",
       "      <th></th>\n",
       "      <th>NumeroEmpregados</th>\n",
       "      <th>LimiteInferior</th>\n",
       "      <th>LimiteSuperior</th>\n",
       "      <th>Frequencia</th>\n",
       "      <th>Amplitude</th>\n",
       "    </tr>\n",
       "  </thead>\n",
       "  <tbody>\n",
       "    <tr>\n",
       "      <th>0</th>\n",
       "      <td>(0, 10]</td>\n",
       "      <td>0</td>\n",
       "      <td>10</td>\n",
       "      <td>5</td>\n",
       "      <td>10</td>\n",
       "    </tr>\n",
       "    <tr>\n",
       "      <th>1</th>\n",
       "      <td>(10, 20]</td>\n",
       "      <td>10</td>\n",
       "      <td>20</td>\n",
       "      <td>20</td>\n",
       "      <td>10</td>\n",
       "    </tr>\n",
       "    <tr>\n",
       "      <th>2</th>\n",
       "      <td>(20, 30]</td>\n",
       "      <td>20</td>\n",
       "      <td>30</td>\n",
       "      <td>35</td>\n",
       "      <td>10</td>\n",
       "    </tr>\n",
       "    <tr>\n",
       "      <th>3</th>\n",
       "      <td>(30, 40]</td>\n",
       "      <td>30</td>\n",
       "      <td>40</td>\n",
       "      <td>40</td>\n",
       "      <td>10</td>\n",
       "    </tr>\n",
       "    <tr>\n",
       "      <th>4</th>\n",
       "      <td>(40, 60]</td>\n",
       "      <td>40</td>\n",
       "      <td>60</td>\n",
       "      <td>50</td>\n",
       "      <td>20</td>\n",
       "    </tr>\n",
       "    <tr>\n",
       "      <th>5</th>\n",
       "      <td>(60, 80]</td>\n",
       "      <td>60</td>\n",
       "      <td>80</td>\n",
       "      <td>30</td>\n",
       "      <td>20</td>\n",
       "    </tr>\n",
       "    <tr>\n",
       "      <th>6</th>\n",
       "      <td>(80, 100]</td>\n",
       "      <td>80</td>\n",
       "      <td>100</td>\n",
       "      <td>20</td>\n",
       "      <td>20</td>\n",
       "    </tr>\n",
       "    <tr>\n",
       "      <th>7</th>\n",
       "      <td>(100, 140]</td>\n",
       "      <td>100</td>\n",
       "      <td>140</td>\n",
       "      <td>20</td>\n",
       "      <td>40</td>\n",
       "    </tr>\n",
       "    <tr>\n",
       "      <th>8</th>\n",
       "      <td>(140, 180]</td>\n",
       "      <td>140</td>\n",
       "      <td>180</td>\n",
       "      <td>15</td>\n",
       "      <td>40</td>\n",
       "    </tr>\n",
       "    <tr>\n",
       "      <th>9</th>\n",
       "      <td>(180, 260]</td>\n",
       "      <td>180</td>\n",
       "      <td>260</td>\n",
       "      <td>15</td>\n",
       "      <td>80</td>\n",
       "    </tr>\n",
       "  </tbody>\n",
       "</table>\n",
       "</div>"
      ],
      "text/plain": [
       "  NumeroEmpregados  LimiteInferior  LimiteSuperior  Frequencia  Amplitude\n",
       "0          (0, 10]               0              10           5         10\n",
       "1         (10, 20]              10              20          20         10\n",
       "2         (20, 30]              20              30          35         10\n",
       "3         (30, 40]              30              40          40         10\n",
       "4         (40, 60]              40              60          50         20\n",
       "5         (60, 80]              60              80          30         20\n",
       "6        (80, 100]              80             100          20         20\n",
       "7       (100, 140]             100             140          20         40\n",
       "8       (140, 180]             140             180          15         40\n",
       "9       (180, 260]             180             260          15         80"
      ]
     },
     "execution_count": 72,
     "metadata": {},
     "output_type": "execute_result"
    }
   ],
   "source": [
    "dados['Amplitude'] = dados['LimiteSuperior']-dados['LimiteInferior']\n",
    "dados"
   ]
  },
  {
   "cell_type": "markdown",
   "id": "eadd2c78",
   "metadata": {},
   "source": [
    "#### Densidade de Frenquencia\n",
    "densidades de freqüências em cada classe, ou seja, a medida que indica qual a concentração por unidade da variável."
   ]
  },
  {
   "cell_type": "code",
   "execution_count": 73,
   "id": "31147833",
   "metadata": {},
   "outputs": [
    {
     "data": {
      "text/html": [
       "<div>\n",
       "<style scoped>\n",
       "    .dataframe tbody tr th:only-of-type {\n",
       "        vertical-align: middle;\n",
       "    }\n",
       "\n",
       "    .dataframe tbody tr th {\n",
       "        vertical-align: top;\n",
       "    }\n",
       "\n",
       "    .dataframe thead th {\n",
       "        text-align: right;\n",
       "    }\n",
       "</style>\n",
       "<table border=\"1\" class=\"dataframe\">\n",
       "  <thead>\n",
       "    <tr style=\"text-align: right;\">\n",
       "      <th></th>\n",
       "      <th>NumeroEmpregados</th>\n",
       "      <th>LimiteInferior</th>\n",
       "      <th>LimiteSuperior</th>\n",
       "      <th>Frequencia</th>\n",
       "      <th>Amplitude</th>\n",
       "      <th>DensidadeFrenquencia</th>\n",
       "    </tr>\n",
       "  </thead>\n",
       "  <tbody>\n",
       "    <tr>\n",
       "      <th>0</th>\n",
       "      <td>(0, 10]</td>\n",
       "      <td>0</td>\n",
       "      <td>10</td>\n",
       "      <td>5</td>\n",
       "      <td>10</td>\n",
       "      <td>0.50</td>\n",
       "    </tr>\n",
       "    <tr>\n",
       "      <th>1</th>\n",
       "      <td>(10, 20]</td>\n",
       "      <td>10</td>\n",
       "      <td>20</td>\n",
       "      <td>20</td>\n",
       "      <td>10</td>\n",
       "      <td>2.00</td>\n",
       "    </tr>\n",
       "    <tr>\n",
       "      <th>2</th>\n",
       "      <td>(20, 30]</td>\n",
       "      <td>20</td>\n",
       "      <td>30</td>\n",
       "      <td>35</td>\n",
       "      <td>10</td>\n",
       "      <td>3.50</td>\n",
       "    </tr>\n",
       "    <tr>\n",
       "      <th>3</th>\n",
       "      <td>(30, 40]</td>\n",
       "      <td>30</td>\n",
       "      <td>40</td>\n",
       "      <td>40</td>\n",
       "      <td>10</td>\n",
       "      <td>4.00</td>\n",
       "    </tr>\n",
       "    <tr>\n",
       "      <th>4</th>\n",
       "      <td>(40, 60]</td>\n",
       "      <td>40</td>\n",
       "      <td>60</td>\n",
       "      <td>50</td>\n",
       "      <td>20</td>\n",
       "      <td>2.50</td>\n",
       "    </tr>\n",
       "    <tr>\n",
       "      <th>5</th>\n",
       "      <td>(60, 80]</td>\n",
       "      <td>60</td>\n",
       "      <td>80</td>\n",
       "      <td>30</td>\n",
       "      <td>20</td>\n",
       "      <td>1.50</td>\n",
       "    </tr>\n",
       "    <tr>\n",
       "      <th>6</th>\n",
       "      <td>(80, 100]</td>\n",
       "      <td>80</td>\n",
       "      <td>100</td>\n",
       "      <td>20</td>\n",
       "      <td>20</td>\n",
       "      <td>1.00</td>\n",
       "    </tr>\n",
       "    <tr>\n",
       "      <th>7</th>\n",
       "      <td>(100, 140]</td>\n",
       "      <td>100</td>\n",
       "      <td>140</td>\n",
       "      <td>20</td>\n",
       "      <td>40</td>\n",
       "      <td>0.50</td>\n",
       "    </tr>\n",
       "    <tr>\n",
       "      <th>8</th>\n",
       "      <td>(140, 180]</td>\n",
       "      <td>140</td>\n",
       "      <td>180</td>\n",
       "      <td>15</td>\n",
       "      <td>40</td>\n",
       "      <td>0.38</td>\n",
       "    </tr>\n",
       "    <tr>\n",
       "      <th>9</th>\n",
       "      <td>(180, 260]</td>\n",
       "      <td>180</td>\n",
       "      <td>260</td>\n",
       "      <td>15</td>\n",
       "      <td>80</td>\n",
       "      <td>0.19</td>\n",
       "    </tr>\n",
       "  </tbody>\n",
       "</table>\n",
       "</div>"
      ],
      "text/plain": [
       "  NumeroEmpregados  LimiteInferior  LimiteSuperior  Frequencia  Amplitude  \\\n",
       "0          (0, 10]               0              10           5         10   \n",
       "1         (10, 20]              10              20          20         10   \n",
       "2         (20, 30]              20              30          35         10   \n",
       "3         (30, 40]              30              40          40         10   \n",
       "4         (40, 60]              40              60          50         20   \n",
       "5         (60, 80]              60              80          30         20   \n",
       "6        (80, 100]              80             100          20         20   \n",
       "7       (100, 140]             100             140          20         40   \n",
       "8       (140, 180]             140             180          15         40   \n",
       "9       (180, 260]             180             260          15         80   \n",
       "\n",
       "   DensidadeFrenquencia  \n",
       "0                  0.50  \n",
       "1                  2.00  \n",
       "2                  3.50  \n",
       "3                  4.00  \n",
       "4                  2.50  \n",
       "5                  1.50  \n",
       "6                  1.00  \n",
       "7                  0.50  \n",
       "8                  0.38  \n",
       "9                  0.19  "
      ]
     },
     "execution_count": 73,
     "metadata": {},
     "output_type": "execute_result"
    }
   ],
   "source": [
    "dados['DensidadeFrenquencia'] = round(dados['Frequencia']/dados['Amplitude'], 2)\n",
    "dados"
   ]
  },
  {
   "cell_type": "markdown",
   "id": "479c41f9",
   "metadata": {},
   "source": [
    "Assim, observando-se os números da quarta coluna, vê-se que a classe de maior concentração passa a ser a (30, 40], enquanto a última- (180, 260] - é a de menor concentração. Para compreender a distribuição, estes dados são muito mais informativos do que as freqüências absolutas simplesmente."
   ]
  },
  {
   "cell_type": "markdown",
   "id": "bae0ba71",
   "metadata": {},
   "source": [
    "#### Proporção\n",
    "\n",
    "OBS: O mesmo que a frequência relativa dos dados, ou seja:  \n",
    "                       <p> 250 = 1  <p> \n",
    "              <p>dados['Frequencia'] = ?<p>\n"
   ]
  },
  {
   "cell_type": "code",
   "execution_count": 74,
   "id": "7e9786a2",
   "metadata": {},
   "outputs": [
    {
     "data": {
      "text/html": [
       "<div>\n",
       "<style scoped>\n",
       "    .dataframe tbody tr th:only-of-type {\n",
       "        vertical-align: middle;\n",
       "    }\n",
       "\n",
       "    .dataframe tbody tr th {\n",
       "        vertical-align: top;\n",
       "    }\n",
       "\n",
       "    .dataframe thead th {\n",
       "        text-align: right;\n",
       "    }\n",
       "</style>\n",
       "<table border=\"1\" class=\"dataframe\">\n",
       "  <thead>\n",
       "    <tr style=\"text-align: right;\">\n",
       "      <th></th>\n",
       "      <th>NumeroEmpregados</th>\n",
       "      <th>LimiteInferior</th>\n",
       "      <th>LimiteSuperior</th>\n",
       "      <th>Frequencia</th>\n",
       "      <th>Amplitude</th>\n",
       "      <th>DensidadeFrenquencia</th>\n",
       "      <th>Proporcao</th>\n",
       "    </tr>\n",
       "  </thead>\n",
       "  <tbody>\n",
       "    <tr>\n",
       "      <th>0</th>\n",
       "      <td>(0, 10]</td>\n",
       "      <td>0</td>\n",
       "      <td>10</td>\n",
       "      <td>5</td>\n",
       "      <td>10</td>\n",
       "      <td>0.50</td>\n",
       "      <td>0.02</td>\n",
       "    </tr>\n",
       "    <tr>\n",
       "      <th>1</th>\n",
       "      <td>(10, 20]</td>\n",
       "      <td>10</td>\n",
       "      <td>20</td>\n",
       "      <td>20</td>\n",
       "      <td>10</td>\n",
       "      <td>2.00</td>\n",
       "      <td>0.08</td>\n",
       "    </tr>\n",
       "    <tr>\n",
       "      <th>2</th>\n",
       "      <td>(20, 30]</td>\n",
       "      <td>20</td>\n",
       "      <td>30</td>\n",
       "      <td>35</td>\n",
       "      <td>10</td>\n",
       "      <td>3.50</td>\n",
       "      <td>0.14</td>\n",
       "    </tr>\n",
       "    <tr>\n",
       "      <th>3</th>\n",
       "      <td>(30, 40]</td>\n",
       "      <td>30</td>\n",
       "      <td>40</td>\n",
       "      <td>40</td>\n",
       "      <td>10</td>\n",
       "      <td>4.00</td>\n",
       "      <td>0.16</td>\n",
       "    </tr>\n",
       "    <tr>\n",
       "      <th>4</th>\n",
       "      <td>(40, 60]</td>\n",
       "      <td>40</td>\n",
       "      <td>60</td>\n",
       "      <td>50</td>\n",
       "      <td>20</td>\n",
       "      <td>2.50</td>\n",
       "      <td>0.20</td>\n",
       "    </tr>\n",
       "    <tr>\n",
       "      <th>5</th>\n",
       "      <td>(60, 80]</td>\n",
       "      <td>60</td>\n",
       "      <td>80</td>\n",
       "      <td>30</td>\n",
       "      <td>20</td>\n",
       "      <td>1.50</td>\n",
       "      <td>0.12</td>\n",
       "    </tr>\n",
       "    <tr>\n",
       "      <th>6</th>\n",
       "      <td>(80, 100]</td>\n",
       "      <td>80</td>\n",
       "      <td>100</td>\n",
       "      <td>20</td>\n",
       "      <td>20</td>\n",
       "      <td>1.00</td>\n",
       "      <td>0.08</td>\n",
       "    </tr>\n",
       "    <tr>\n",
       "      <th>7</th>\n",
       "      <td>(100, 140]</td>\n",
       "      <td>100</td>\n",
       "      <td>140</td>\n",
       "      <td>20</td>\n",
       "      <td>40</td>\n",
       "      <td>0.50</td>\n",
       "      <td>0.08</td>\n",
       "    </tr>\n",
       "    <tr>\n",
       "      <th>8</th>\n",
       "      <td>(140, 180]</td>\n",
       "      <td>140</td>\n",
       "      <td>180</td>\n",
       "      <td>15</td>\n",
       "      <td>40</td>\n",
       "      <td>0.38</td>\n",
       "      <td>0.06</td>\n",
       "    </tr>\n",
       "    <tr>\n",
       "      <th>9</th>\n",
       "      <td>(180, 260]</td>\n",
       "      <td>180</td>\n",
       "      <td>260</td>\n",
       "      <td>15</td>\n",
       "      <td>80</td>\n",
       "      <td>0.19</td>\n",
       "      <td>0.06</td>\n",
       "    </tr>\n",
       "  </tbody>\n",
       "</table>\n",
       "</div>"
      ],
      "text/plain": [
       "  NumeroEmpregados  LimiteInferior  LimiteSuperior  Frequencia  Amplitude  \\\n",
       "0          (0, 10]               0              10           5         10   \n",
       "1         (10, 20]              10              20          20         10   \n",
       "2         (20, 30]              20              30          35         10   \n",
       "3         (30, 40]              30              40          40         10   \n",
       "4         (40, 60]              40              60          50         20   \n",
       "5         (60, 80]              60              80          30         20   \n",
       "6        (80, 100]              80             100          20         20   \n",
       "7       (100, 140]             100             140          20         40   \n",
       "8       (140, 180]             140             180          15         40   \n",
       "9       (180, 260]             180             260          15         80   \n",
       "\n",
       "   DensidadeFrenquencia  Proporcao  \n",
       "0                  0.50       0.02  \n",
       "1                  2.00       0.08  \n",
       "2                  3.50       0.14  \n",
       "3                  4.00       0.16  \n",
       "4                  2.50       0.20  \n",
       "5                  1.50       0.12  \n",
       "6                  1.00       0.08  \n",
       "7                  0.50       0.08  \n",
       "8                  0.38       0.06  \n",
       "9                  0.19       0.06  "
      ]
     },
     "execution_count": 74,
     "metadata": {},
     "output_type": "execute_result"
    }
   ],
   "source": [
    "totalEmpresas = dados['Frequencia'].sum()\n",
    "\n",
    "dados['Proporcao'] = round(dados['Frequencia']/totalEmpresas, 2)\n",
    "dados"
   ]
  },
  {
   "cell_type": "markdown",
   "id": "b0ceb0b6",
   "metadata": {},
   "source": [
    "#### Densidade da Proporção\n",
    "Pode-se construir a densidade da proporção (ou porcentagem) por unidade da variável "
   ]
  },
  {
   "cell_type": "code",
   "execution_count": 75,
   "id": "4b7ecae3",
   "metadata": {},
   "outputs": [
    {
     "data": {
      "text/html": [
       "<div>\n",
       "<style scoped>\n",
       "    .dataframe tbody tr th:only-of-type {\n",
       "        vertical-align: middle;\n",
       "    }\n",
       "\n",
       "    .dataframe tbody tr th {\n",
       "        vertical-align: top;\n",
       "    }\n",
       "\n",
       "    .dataframe thead th {\n",
       "        text-align: right;\n",
       "    }\n",
       "</style>\n",
       "<table border=\"1\" class=\"dataframe\">\n",
       "  <thead>\n",
       "    <tr style=\"text-align: right;\">\n",
       "      <th></th>\n",
       "      <th>NumeroEmpregados</th>\n",
       "      <th>LimiteInferior</th>\n",
       "      <th>LimiteSuperior</th>\n",
       "      <th>Frequencia</th>\n",
       "      <th>Amplitude</th>\n",
       "      <th>DensidadeFrenquencia</th>\n",
       "      <th>Proporcao</th>\n",
       "      <th>DensidadeProporcao</th>\n",
       "    </tr>\n",
       "  </thead>\n",
       "  <tbody>\n",
       "    <tr>\n",
       "      <th>0</th>\n",
       "      <td>(0, 10]</td>\n",
       "      <td>0</td>\n",
       "      <td>10</td>\n",
       "      <td>5</td>\n",
       "      <td>10</td>\n",
       "      <td>0.50</td>\n",
       "      <td>0.02</td>\n",
       "      <td>0.0020</td>\n",
       "    </tr>\n",
       "    <tr>\n",
       "      <th>1</th>\n",
       "      <td>(10, 20]</td>\n",
       "      <td>10</td>\n",
       "      <td>20</td>\n",
       "      <td>20</td>\n",
       "      <td>10</td>\n",
       "      <td>2.00</td>\n",
       "      <td>0.08</td>\n",
       "      <td>0.0080</td>\n",
       "    </tr>\n",
       "    <tr>\n",
       "      <th>2</th>\n",
       "      <td>(20, 30]</td>\n",
       "      <td>20</td>\n",
       "      <td>30</td>\n",
       "      <td>35</td>\n",
       "      <td>10</td>\n",
       "      <td>3.50</td>\n",
       "      <td>0.14</td>\n",
       "      <td>0.0140</td>\n",
       "    </tr>\n",
       "    <tr>\n",
       "      <th>3</th>\n",
       "      <td>(30, 40]</td>\n",
       "      <td>30</td>\n",
       "      <td>40</td>\n",
       "      <td>40</td>\n",
       "      <td>10</td>\n",
       "      <td>4.00</td>\n",
       "      <td>0.16</td>\n",
       "      <td>0.0160</td>\n",
       "    </tr>\n",
       "    <tr>\n",
       "      <th>4</th>\n",
       "      <td>(40, 60]</td>\n",
       "      <td>40</td>\n",
       "      <td>60</td>\n",
       "      <td>50</td>\n",
       "      <td>20</td>\n",
       "      <td>2.50</td>\n",
       "      <td>0.20</td>\n",
       "      <td>0.0100</td>\n",
       "    </tr>\n",
       "    <tr>\n",
       "      <th>5</th>\n",
       "      <td>(60, 80]</td>\n",
       "      <td>60</td>\n",
       "      <td>80</td>\n",
       "      <td>30</td>\n",
       "      <td>20</td>\n",
       "      <td>1.50</td>\n",
       "      <td>0.12</td>\n",
       "      <td>0.0060</td>\n",
       "    </tr>\n",
       "    <tr>\n",
       "      <th>6</th>\n",
       "      <td>(80, 100]</td>\n",
       "      <td>80</td>\n",
       "      <td>100</td>\n",
       "      <td>20</td>\n",
       "      <td>20</td>\n",
       "      <td>1.00</td>\n",
       "      <td>0.08</td>\n",
       "      <td>0.0040</td>\n",
       "    </tr>\n",
       "    <tr>\n",
       "      <th>7</th>\n",
       "      <td>(100, 140]</td>\n",
       "      <td>100</td>\n",
       "      <td>140</td>\n",
       "      <td>20</td>\n",
       "      <td>40</td>\n",
       "      <td>0.50</td>\n",
       "      <td>0.08</td>\n",
       "      <td>0.0020</td>\n",
       "    </tr>\n",
       "    <tr>\n",
       "      <th>8</th>\n",
       "      <td>(140, 180]</td>\n",
       "      <td>140</td>\n",
       "      <td>180</td>\n",
       "      <td>15</td>\n",
       "      <td>40</td>\n",
       "      <td>0.38</td>\n",
       "      <td>0.06</td>\n",
       "      <td>0.0015</td>\n",
       "    </tr>\n",
       "    <tr>\n",
       "      <th>9</th>\n",
       "      <td>(180, 260]</td>\n",
       "      <td>180</td>\n",
       "      <td>260</td>\n",
       "      <td>15</td>\n",
       "      <td>80</td>\n",
       "      <td>0.19</td>\n",
       "      <td>0.06</td>\n",
       "      <td>0.0008</td>\n",
       "    </tr>\n",
       "  </tbody>\n",
       "</table>\n",
       "</div>"
      ],
      "text/plain": [
       "  NumeroEmpregados  LimiteInferior  LimiteSuperior  Frequencia  Amplitude  \\\n",
       "0          (0, 10]               0              10           5         10   \n",
       "1         (10, 20]              10              20          20         10   \n",
       "2         (20, 30]              20              30          35         10   \n",
       "3         (30, 40]              30              40          40         10   \n",
       "4         (40, 60]              40              60          50         20   \n",
       "5         (60, 80]              60              80          30         20   \n",
       "6        (80, 100]              80             100          20         20   \n",
       "7       (100, 140]             100             140          20         40   \n",
       "8       (140, 180]             140             180          15         40   \n",
       "9       (180, 260]             180             260          15         80   \n",
       "\n",
       "   DensidadeFrenquencia  Proporcao  DensidadeProporcao  \n",
       "0                  0.50       0.02              0.0020  \n",
       "1                  2.00       0.08              0.0080  \n",
       "2                  3.50       0.14              0.0140  \n",
       "3                  4.00       0.16              0.0160  \n",
       "4                  2.50       0.20              0.0100  \n",
       "5                  1.50       0.12              0.0060  \n",
       "6                  1.00       0.08              0.0040  \n",
       "7                  0.50       0.08              0.0020  \n",
       "8                  0.38       0.06              0.0015  \n",
       "9                  0.19       0.06              0.0008  "
      ]
     },
     "execution_count": 75,
     "metadata": {},
     "output_type": "execute_result"
    }
   ],
   "source": [
    "dados['DensidadeProporcao'] = round(dados['Proporcao']/dados['Amplitude'], 4)\n",
    "dados"
   ]
  },
  {
   "cell_type": "code",
   "execution_count": 76,
   "id": "522b4346",
   "metadata": {},
   "outputs": [
    {
     "data": {
      "text/html": [
       "<div>\n",
       "<style scoped>\n",
       "    .dataframe tbody tr th:only-of-type {\n",
       "        vertical-align: middle;\n",
       "    }\n",
       "\n",
       "    .dataframe tbody tr th {\n",
       "        vertical-align: top;\n",
       "    }\n",
       "\n",
       "    .dataframe thead th {\n",
       "        text-align: right;\n",
       "    }\n",
       "</style>\n",
       "<table border=\"1\" class=\"dataframe\">\n",
       "  <thead>\n",
       "    <tr style=\"text-align: right;\">\n",
       "      <th></th>\n",
       "      <th>NumeroEmpregados</th>\n",
       "      <th>LimiteInferior</th>\n",
       "      <th>LimiteSuperior</th>\n",
       "      <th>Frequencia</th>\n",
       "      <th>Amplitude</th>\n",
       "      <th>DensidadeFrenquencia</th>\n",
       "      <th>Proporcao</th>\n",
       "      <th>DensidadeProporcao</th>\n",
       "    </tr>\n",
       "  </thead>\n",
       "  <tbody>\n",
       "    <tr>\n",
       "      <th>0</th>\n",
       "      <td>(0, 10]</td>\n",
       "      <td>0.0</td>\n",
       "      <td>10.0</td>\n",
       "      <td>5.0</td>\n",
       "      <td>10.0</td>\n",
       "      <td>0.50</td>\n",
       "      <td>0.02</td>\n",
       "      <td>0.0020</td>\n",
       "    </tr>\n",
       "    <tr>\n",
       "      <th>1</th>\n",
       "      <td>(10, 20]</td>\n",
       "      <td>10.0</td>\n",
       "      <td>20.0</td>\n",
       "      <td>20.0</td>\n",
       "      <td>10.0</td>\n",
       "      <td>2.00</td>\n",
       "      <td>0.08</td>\n",
       "      <td>0.0080</td>\n",
       "    </tr>\n",
       "    <tr>\n",
       "      <th>2</th>\n",
       "      <td>(20, 30]</td>\n",
       "      <td>20.0</td>\n",
       "      <td>30.0</td>\n",
       "      <td>35.0</td>\n",
       "      <td>10.0</td>\n",
       "      <td>3.50</td>\n",
       "      <td>0.14</td>\n",
       "      <td>0.0140</td>\n",
       "    </tr>\n",
       "    <tr>\n",
       "      <th>3</th>\n",
       "      <td>(30, 40]</td>\n",
       "      <td>30.0</td>\n",
       "      <td>40.0</td>\n",
       "      <td>40.0</td>\n",
       "      <td>10.0</td>\n",
       "      <td>4.00</td>\n",
       "      <td>0.16</td>\n",
       "      <td>0.0160</td>\n",
       "    </tr>\n",
       "    <tr>\n",
       "      <th>4</th>\n",
       "      <td>(40, 60]</td>\n",
       "      <td>40.0</td>\n",
       "      <td>60.0</td>\n",
       "      <td>50.0</td>\n",
       "      <td>20.0</td>\n",
       "      <td>2.50</td>\n",
       "      <td>0.20</td>\n",
       "      <td>0.0100</td>\n",
       "    </tr>\n",
       "    <tr>\n",
       "      <th>5</th>\n",
       "      <td>(60, 80]</td>\n",
       "      <td>60.0</td>\n",
       "      <td>80.0</td>\n",
       "      <td>30.0</td>\n",
       "      <td>20.0</td>\n",
       "      <td>1.50</td>\n",
       "      <td>0.12</td>\n",
       "      <td>0.0060</td>\n",
       "    </tr>\n",
       "    <tr>\n",
       "      <th>6</th>\n",
       "      <td>(80, 100]</td>\n",
       "      <td>80.0</td>\n",
       "      <td>100.0</td>\n",
       "      <td>20.0</td>\n",
       "      <td>20.0</td>\n",
       "      <td>1.00</td>\n",
       "      <td>0.08</td>\n",
       "      <td>0.0040</td>\n",
       "    </tr>\n",
       "    <tr>\n",
       "      <th>7</th>\n",
       "      <td>(100, 140]</td>\n",
       "      <td>100.0</td>\n",
       "      <td>140.0</td>\n",
       "      <td>20.0</td>\n",
       "      <td>40.0</td>\n",
       "      <td>0.50</td>\n",
       "      <td>0.08</td>\n",
       "      <td>0.0020</td>\n",
       "    </tr>\n",
       "    <tr>\n",
       "      <th>8</th>\n",
       "      <td>(140, 180]</td>\n",
       "      <td>140.0</td>\n",
       "      <td>180.0</td>\n",
       "      <td>15.0</td>\n",
       "      <td>40.0</td>\n",
       "      <td>0.38</td>\n",
       "      <td>0.06</td>\n",
       "      <td>0.0015</td>\n",
       "    </tr>\n",
       "    <tr>\n",
       "      <th>9</th>\n",
       "      <td>(180, 260]</td>\n",
       "      <td>180.0</td>\n",
       "      <td>260.0</td>\n",
       "      <td>15.0</td>\n",
       "      <td>80.0</td>\n",
       "      <td>0.19</td>\n",
       "      <td>0.06</td>\n",
       "      <td>0.0008</td>\n",
       "    </tr>\n",
       "    <tr>\n",
       "      <th>Total</th>\n",
       "      <td>NaN</td>\n",
       "      <td>NaN</td>\n",
       "      <td>NaN</td>\n",
       "      <td>250.0</td>\n",
       "      <td>NaN</td>\n",
       "      <td>NaN</td>\n",
       "      <td>1.00</td>\n",
       "      <td>NaN</td>\n",
       "    </tr>\n",
       "  </tbody>\n",
       "</table>\n",
       "</div>"
      ],
      "text/plain": [
       "      NumeroEmpregados  LimiteInferior  LimiteSuperior  Frequencia  Amplitude  \\\n",
       "0              (0, 10]             0.0            10.0         5.0       10.0   \n",
       "1             (10, 20]            10.0            20.0        20.0       10.0   \n",
       "2             (20, 30]            20.0            30.0        35.0       10.0   \n",
       "3             (30, 40]            30.0            40.0        40.0       10.0   \n",
       "4             (40, 60]            40.0            60.0        50.0       20.0   \n",
       "5             (60, 80]            60.0            80.0        30.0       20.0   \n",
       "6            (80, 100]            80.0           100.0        20.0       20.0   \n",
       "7           (100, 140]           100.0           140.0        20.0       40.0   \n",
       "8           (140, 180]           140.0           180.0        15.0       40.0   \n",
       "9           (180, 260]           180.0           260.0        15.0       80.0   \n",
       "Total              NaN             NaN             NaN       250.0        NaN   \n",
       "\n",
       "       DensidadeFrenquencia  Proporcao  DensidadeProporcao  \n",
       "0                      0.50       0.02              0.0020  \n",
       "1                      2.00       0.08              0.0080  \n",
       "2                      3.50       0.14              0.0140  \n",
       "3                      4.00       0.16              0.0160  \n",
       "4                      2.50       0.20              0.0100  \n",
       "5                      1.50       0.12              0.0060  \n",
       "6                      1.00       0.08              0.0040  \n",
       "7                      0.50       0.08              0.0020  \n",
       "8                      0.38       0.06              0.0015  \n",
       "9                      0.19       0.06              0.0008  \n",
       "Total                   NaN       1.00                 NaN  "
      ]
     },
     "execution_count": 76,
     "metadata": {},
     "output_type": "execute_result"
    }
   ],
   "source": [
    "dados.at[('Total'), ('Frequencia')] = dados['Frequencia'].sum(axis=0)\n",
    "dados.at[('Total'), ('Proporcao')] = dados['Proporcao'].sum(axis=0)\n",
    "\n",
    "dados"
   ]
  },
  {
   "cell_type": "markdown",
   "id": "74aa5c3d",
   "metadata": {},
   "source": [
    "#### Para a construção do histograma, basta lembrar que a área total deve ser igual a 1 (ou 100%), o que sugere usar no eixo das ordenadas os valores da coluna DensidadeProporcao."
   ]
  },
  {
   "cell_type": "markdown",
   "id": "9d6df8ba",
   "metadata": {},
   "source": [
    "##### Figura 2.19- Livro Estatítisca Básica\n",
    "<img src=\"IMGs/Figura2.19.png\">\n",
    "\n",
    "###### Relação com as colunas elaboradas\n",
    "<img src=\"IMGs/Figura2.19-Relacao.png\">"
   ]
  },
  {
   "cell_type": "markdown",
   "id": "547aa62f",
   "metadata": {},
   "source": [
    "### Problema 11: Dispomos de uma relação de 200 aluguéis de imóveis urbanos e uma relação de 100 aluguéis rurais."
   ]
  },
  {
   "cell_type": "code",
   "execution_count": 77,
   "id": "16f53c71",
   "metadata": {},
   "outputs": [],
   "source": [
    "dados = pd.read_csv(\"Dados/RelacaoAlugueis.csv\", sep=\";\")"
   ]
  },
  {
   "cell_type": "code",
   "execution_count": 78,
   "id": "4da8086a",
   "metadata": {},
   "outputs": [
    {
     "data": {
      "text/html": [
       "<div>\n",
       "<style scoped>\n",
       "    .dataframe tbody tr th:only-of-type {\n",
       "        vertical-align: middle;\n",
       "    }\n",
       "\n",
       "    .dataframe tbody tr th {\n",
       "        vertical-align: top;\n",
       "    }\n",
       "\n",
       "    .dataframe thead th {\n",
       "        text-align: right;\n",
       "    }\n",
       "</style>\n",
       "<table border=\"1\" class=\"dataframe\">\n",
       "  <thead>\n",
       "    <tr style=\"text-align: right;\">\n",
       "      <th></th>\n",
       "      <th>ClassesAlugueis</th>\n",
       "      <th>ZonaUrbana</th>\n",
       "      <th>ZonaRural</th>\n",
       "    </tr>\n",
       "  </thead>\n",
       "  <tbody>\n",
       "    <tr>\n",
       "      <th>0</th>\n",
       "      <td>(2, 3]</td>\n",
       "      <td>10</td>\n",
       "      <td>30</td>\n",
       "    </tr>\n",
       "    <tr>\n",
       "      <th>1</th>\n",
       "      <td>(3, 5]</td>\n",
       "      <td>40</td>\n",
       "      <td>50</td>\n",
       "    </tr>\n",
       "    <tr>\n",
       "      <th>2</th>\n",
       "      <td>(5, 7]</td>\n",
       "      <td>80</td>\n",
       "      <td>15</td>\n",
       "    </tr>\n",
       "    <tr>\n",
       "      <th>3</th>\n",
       "      <td>(7, 10]</td>\n",
       "      <td>50</td>\n",
       "      <td>5</td>\n",
       "    </tr>\n",
       "    <tr>\n",
       "      <th>4</th>\n",
       "      <td>(10, 15]</td>\n",
       "      <td>20</td>\n",
       "      <td>0</td>\n",
       "    </tr>\n",
       "    <tr>\n",
       "      <th>5</th>\n",
       "      <td>Total</td>\n",
       "      <td>200</td>\n",
       "      <td>100</td>\n",
       "    </tr>\n",
       "  </tbody>\n",
       "</table>\n",
       "</div>"
      ],
      "text/plain": [
       "  ClassesAlugueis  ZonaUrbana  ZonaRural\n",
       "0          (2, 3]          10         30\n",
       "1          (3, 5]          40         50\n",
       "2          (5, 7]          80         15\n",
       "3         (7, 10]          50          5\n",
       "4        (10, 15]          20          0\n",
       "5           Total         200        100"
      ]
     },
     "execution_count": 78,
     "metadata": {},
     "output_type": "execute_result"
    }
   ],
   "source": [
    "dados"
   ]
  },
  {
   "cell_type": "code",
   "execution_count": 79,
   "id": "5a37ea8c",
   "metadata": {},
   "outputs": [
    {
     "data": {
      "text/plain": [
       "ClassesAlugueis    object\n",
       "ZonaUrbana          int64\n",
       "ZonaRural           int64\n",
       "dtype: object"
      ]
     },
     "execution_count": 79,
     "metadata": {},
     "output_type": "execute_result"
    }
   ],
   "source": [
    "dados.dtypes"
   ]
  },
  {
   "cell_type": "markdown",
   "id": "6bbfcd72",
   "metadata": {},
   "source": [
    "#### Construa os histogramas das duas distribuições."
   ]
  },
  {
   "cell_type": "code",
   "execution_count": 80,
   "id": "559adf33",
   "metadata": {},
   "outputs": [],
   "source": [
    "def extrair_limite_inferior(texto):\n",
    "    if texto.startswith(\"(\") and texto.endswith(\"]\"):  # Verifica se a string está no formato correto\n",
    "        limite_inferior = texto.split(\",\")[0][1:]  # Divide a string e pega o primeiro elemento\n",
    "        return limite_inferior\n",
    "    else:\n",
    "        return None\n",
    "    \n",
    "def extrair_limite_superior(texto):\n",
    "    if texto.startswith(\"(\") and texto.endswith(\"]\"):  # Verifica se a string está no formato correto\n",
    "        limite_superior = texto.split(\",\")[1][:-1]  # Divide a string e pega o último elemento\n",
    "        return limite_superior\n",
    "    else:\n",
    "        return None"
   ]
  },
  {
   "cell_type": "markdown",
   "id": "7a19c0a8",
   "metadata": {},
   "source": [
    "##### Alugueis Zona Urbana"
   ]
  },
  {
   "cell_type": "code",
   "execution_count": 81,
   "id": "2b04627b",
   "metadata": {},
   "outputs": [
    {
     "data": {
      "text/html": [
       "<div>\n",
       "<style scoped>\n",
       "    .dataframe tbody tr th:only-of-type {\n",
       "        vertical-align: middle;\n",
       "    }\n",
       "\n",
       "    .dataframe tbody tr th {\n",
       "        vertical-align: top;\n",
       "    }\n",
       "\n",
       "    .dataframe thead th {\n",
       "        text-align: right;\n",
       "    }\n",
       "</style>\n",
       "<table border=\"1\" class=\"dataframe\">\n",
       "  <thead>\n",
       "    <tr style=\"text-align: right;\">\n",
       "      <th></th>\n",
       "      <th>ClassesAlugueis</th>\n",
       "      <th>LimiteInferior</th>\n",
       "      <th>LimiteSuperior</th>\n",
       "      <th>Frequencia</th>\n",
       "      <th>Amplitude</th>\n",
       "      <th>DensidadeFrenquencia</th>\n",
       "      <th>Proporcao</th>\n",
       "      <th>DensidadeProporcao</th>\n",
       "    </tr>\n",
       "  </thead>\n",
       "  <tbody>\n",
       "    <tr>\n",
       "      <th>0</th>\n",
       "      <td>(2, 3]</td>\n",
       "      <td>2.0</td>\n",
       "      <td>3.0</td>\n",
       "      <td>10.0</td>\n",
       "      <td>1.0</td>\n",
       "      <td>10.00</td>\n",
       "      <td>0.05</td>\n",
       "      <td>0.0500</td>\n",
       "    </tr>\n",
       "    <tr>\n",
       "      <th>1</th>\n",
       "      <td>(3, 5]</td>\n",
       "      <td>3.0</td>\n",
       "      <td>5.0</td>\n",
       "      <td>40.0</td>\n",
       "      <td>2.0</td>\n",
       "      <td>20.00</td>\n",
       "      <td>0.20</td>\n",
       "      <td>0.1000</td>\n",
       "    </tr>\n",
       "    <tr>\n",
       "      <th>2</th>\n",
       "      <td>(5, 7]</td>\n",
       "      <td>5.0</td>\n",
       "      <td>7.0</td>\n",
       "      <td>80.0</td>\n",
       "      <td>2.0</td>\n",
       "      <td>40.00</td>\n",
       "      <td>0.40</td>\n",
       "      <td>0.2000</td>\n",
       "    </tr>\n",
       "    <tr>\n",
       "      <th>3</th>\n",
       "      <td>(7, 10]</td>\n",
       "      <td>7.0</td>\n",
       "      <td>10.0</td>\n",
       "      <td>50.0</td>\n",
       "      <td>3.0</td>\n",
       "      <td>16.67</td>\n",
       "      <td>0.25</td>\n",
       "      <td>0.0833</td>\n",
       "    </tr>\n",
       "    <tr>\n",
       "      <th>4</th>\n",
       "      <td>(10, 15]</td>\n",
       "      <td>10.0</td>\n",
       "      <td>15.0</td>\n",
       "      <td>20.0</td>\n",
       "      <td>5.0</td>\n",
       "      <td>4.00</td>\n",
       "      <td>0.10</td>\n",
       "      <td>0.0200</td>\n",
       "    </tr>\n",
       "    <tr>\n",
       "      <th>Total</th>\n",
       "      <td>NaN</td>\n",
       "      <td>NaN</td>\n",
       "      <td>NaN</td>\n",
       "      <td>200.0</td>\n",
       "      <td>NaN</td>\n",
       "      <td>NaN</td>\n",
       "      <td>1.00</td>\n",
       "      <td>NaN</td>\n",
       "    </tr>\n",
       "  </tbody>\n",
       "</table>\n",
       "</div>"
      ],
      "text/plain": [
       "      ClassesAlugueis  LimiteInferior  LimiteSuperior  Frequencia  Amplitude  \\\n",
       "0              (2, 3]             2.0             3.0        10.0        1.0   \n",
       "1              (3, 5]             3.0             5.0        40.0        2.0   \n",
       "2              (5, 7]             5.0             7.0        80.0        2.0   \n",
       "3             (7, 10]             7.0            10.0        50.0        3.0   \n",
       "4            (10, 15]            10.0            15.0        20.0        5.0   \n",
       "Total             NaN             NaN             NaN       200.0        NaN   \n",
       "\n",
       "       DensidadeFrenquencia  Proporcao  DensidadeProporcao  \n",
       "0                     10.00       0.05              0.0500  \n",
       "1                     20.00       0.20              0.1000  \n",
       "2                     40.00       0.40              0.2000  \n",
       "3                     16.67       0.25              0.0833  \n",
       "4                      4.00       0.10              0.0200  \n",
       "Total                   NaN       1.00                 NaN  "
      ]
     },
     "execution_count": 81,
     "metadata": {},
     "output_type": "execute_result"
    }
   ],
   "source": [
    "zonaUrbana = pd.DataFrame(dados, columns=['ClassesAlugueis'])\n",
    "\n",
    "#Retirando a linha total\n",
    "zonaUrbana = zonaUrbana.drop(zonaUrbana[zonaUrbana['ClassesAlugueis'] == 'Total'].index)\n",
    "\n",
    "#Pegando limites inferior e superior\n",
    "zonaUrbana['LimiteInferior'] = zonaUrbana['ClassesAlugueis'].apply(extrair_limite_inferior)\n",
    "zonaUrbana['LimiteSuperior'] = zonaUrbana['ClassesAlugueis'].apply(extrair_limite_superior)\n",
    "#Convertendo\n",
    "zonaUrbana['LimiteInferior'] = zonaUrbana['LimiteInferior'].astype(int)\n",
    "zonaUrbana['LimiteSuperior'] = zonaUrbana['LimiteSuperior'].astype(int)\n",
    "\n",
    "#Frequencia\n",
    "zonaUrbana['Frequencia'] = dados['ZonaUrbana']\n",
    "#Amplitude\n",
    "zonaUrbana['Amplitude'] = zonaUrbana['LimiteSuperior'] - zonaUrbana['LimiteInferior']\n",
    "#DensidadeFrenquencia\n",
    "zonaUrbana['DensidadeFrenquencia'] = round(zonaUrbana['Frequencia']/zonaUrbana['Amplitude'], 2)\n",
    "#Proporcao\n",
    "totalAlugueis = zonaUrbana['Frequencia'].sum()\n",
    "zonaUrbana['Proporcao'] = round(zonaUrbana['Frequencia']/totalAlugueis, 2)\n",
    "#DensidadeProporcao\n",
    "zonaUrbana['DensidadeProporcao'] = round(zonaUrbana['Proporcao']/zonaUrbana['Amplitude'], 4)\n",
    "#Linha total\n",
    "zonaUrbana.at[('Total'), ('Frequencia')] = zonaUrbana['Frequencia'].sum(axis=0)\n",
    "zonaUrbana.at[('Total'), ('Proporcao')] = zonaUrbana['Proporcao'].sum(axis=0)\n",
    "\n",
    "zonaUrbana"
   ]
  },
  {
   "cell_type": "markdown",
   "id": "ffcdb875",
   "metadata": {},
   "source": [
    "###### utilizando a coluna Frequencia no eixo das ordenadas"
   ]
  },
  {
   "cell_type": "code",
   "execution_count": 82,
   "id": "fbde04c9",
   "metadata": {},
   "outputs": [
    {
     "data": {
      "image/png": "[encoded data removed]",
      "text/plain": [
       "<Figure size 640x480 with 1 Axes>"
      ]
     },
     "metadata": {},
     "output_type": "display_data"
    }
   ],
   "source": [
    "#Transformando itens da coluna em lista e eliminando a linha nula\n",
    "classesAlugueis = zonaUrbana['ClassesAlugueis'].tolist()\n",
    "classesAlugueis = classesAlugueis[:-1]\n",
    "\n",
    "#Transformando itens da coluna em lista e eliminando a linha total\n",
    "frequencia = zonaUrbana['Frequencia'].tolist()\n",
    "frequencia = frequencia[:-1]\n",
    "\n",
    "amplitude = zonaUrbana['Amplitude'].tolist()\n",
    "\n",
    "# Calculando os limites inferiores e superiores dos bins\n",
    "limites_inferiores = [float(c.split(',')[0][1:]) for c in classesAlugueis]\n",
    "limites_superiores = [float(c.split(',')[1][:-1]) for c in classesAlugueis]\n",
    "\n",
    "fig, ax = plt.subplots()\n",
    "\n",
    "# Plotando o histograma com bins de diferentes tamanhos\n",
    "plt.hist([limite_inferior + (amplitude[i] / 2) for i, limite_inferior in enumerate(limites_inferiores)], bins=limites_inferiores + [limites_superiores[-1]], weights=frequencia, edgecolor='black')\n",
    "plt.title('Aluguéis Zona Urbana')\n",
    "plt.xlabel('Classes de Aluguéis')\n",
    "plt.ylabel('Quantidade')\n",
    "plt.xticks([limite_inferior + (amplitude[i] / 2) for i, limite_inferior in enumerate(limites_inferiores)], classesAlugueis)\n",
    "\n",
    "#Tirando bordas, começa em: fig, ax = plt.subplots()\n",
    "ax.spines['top'].set_color('none')\n",
    "ax.spines['right'].set_color('none')\n",
    "#ax.spines['bottom'].set_color('none')\n",
    "#ax.spines['left'].set_color('none')\n",
    "\n",
    "plt.show()"
   ]
  },
  {
   "cell_type": "markdown",
   "id": "aac3b12f",
   "metadata": {},
   "source": [
    "###### utilizando a coluna DensidadeProporcao no eixo das ordenadas e colocando as proporcao(em forma de porcentagem) como rotulo"
   ]
  },
  {
   "cell_type": "code",
   "execution_count": 83,
   "id": "be7ab307",
   "metadata": {},
   "outputs": [
    {
     "data": {
      "image/png": "[encoded data removed]",
      "text/plain": [
       "<Figure size 640x480 with 1 Axes>"
      ]
     },
     "metadata": {},
     "output_type": "display_data"
    }
   ],
   "source": [
    "classesAlugueis = zonaUrbana['ClassesAlugueis'].tolist()\n",
    "classesAlugueis = classesAlugueis[:-1]\n",
    "\n",
    "densidade = zonaUrbana['DensidadeProporcao'].tolist()\n",
    "densidade = densidade[:-1]\n",
    "\n",
    "amplitude = zonaUrbana['Amplitude'].tolist()\n",
    "\n",
    "proporcao = zonaUrbana['Proporcao'].tolist() \n",
    "proporcao = proporcao[:-1]\n",
    "\n",
    "limites_inferiores = [float(c.split(',')[0][1:]) for c in classesAlugueis]\n",
    "limites_superiores = [float(c.split(',')[1][:-1]) for c in classesAlugueis]\n",
    "\n",
    "fig, ax = plt.subplots()\n",
    "\n",
    "plt.hist([limite_inferior + (amplitude[i] / 2) for i, limite_inferior in enumerate(limites_inferiores)], bins=limites_inferiores + [limites_superiores[-1]], weights=densidade, edgecolor='black')\n",
    "plt.title('Aluguéis Zona Urbana')\n",
    "plt.xlabel('Classes de Aluguéis')\n",
    "plt.ylabel('Densidade')\n",
    "\n",
    "\n",
    "for i, prop in enumerate(proporcao):\n",
    "    plt.text(limites_inferiores[i] + amplitude[i] / 2, densidade[i] + 0.005, f'{prop*100:.2f}%', ha='center', va='bottom')\n",
    "\n",
    "ax.spines['top'].set_color('none')\n",
    "ax.spines['right'].set_color('none')    \n",
    "    \n",
    "plt.show()"
   ]
  },
  {
   "cell_type": "markdown",
   "id": "3b98bb94",
   "metadata": {},
   "source": [
    "##### Alugueis Zona Rural"
   ]
  },
  {
   "cell_type": "code",
   "execution_count": 84,
   "id": "fcbdb40b",
   "metadata": {},
   "outputs": [
    {
     "data": {
      "text/html": [
       "<div>\n",
       "<style scoped>\n",
       "    .dataframe tbody tr th:only-of-type {\n",
       "        vertical-align: middle;\n",
       "    }\n",
       "\n",
       "    .dataframe tbody tr th {\n",
       "        vertical-align: top;\n",
       "    }\n",
       "\n",
       "    .dataframe thead th {\n",
       "        text-align: right;\n",
       "    }\n",
       "</style>\n",
       "<table border=\"1\" class=\"dataframe\">\n",
       "  <thead>\n",
       "    <tr style=\"text-align: right;\">\n",
       "      <th></th>\n",
       "      <th>ClassesAlugueis</th>\n",
       "      <th>LimiteInferior</th>\n",
       "      <th>LimiteSuperior</th>\n",
       "      <th>Frequencia</th>\n",
       "      <th>Amplitude</th>\n",
       "      <th>DensidadeFrenquencia</th>\n",
       "      <th>Proporcao</th>\n",
       "      <th>DensidadeProporcao</th>\n",
       "    </tr>\n",
       "  </thead>\n",
       "  <tbody>\n",
       "    <tr>\n",
       "      <th>0</th>\n",
       "      <td>(2, 3]</td>\n",
       "      <td>2.0</td>\n",
       "      <td>3.0</td>\n",
       "      <td>30.0</td>\n",
       "      <td>1.0</td>\n",
       "      <td>30.00</td>\n",
       "      <td>0.30</td>\n",
       "      <td>0.3000</td>\n",
       "    </tr>\n",
       "    <tr>\n",
       "      <th>1</th>\n",
       "      <td>(3, 5]</td>\n",
       "      <td>3.0</td>\n",
       "      <td>5.0</td>\n",
       "      <td>50.0</td>\n",
       "      <td>2.0</td>\n",
       "      <td>25.00</td>\n",
       "      <td>0.50</td>\n",
       "      <td>0.2500</td>\n",
       "    </tr>\n",
       "    <tr>\n",
       "      <th>2</th>\n",
       "      <td>(5, 7]</td>\n",
       "      <td>5.0</td>\n",
       "      <td>7.0</td>\n",
       "      <td>15.0</td>\n",
       "      <td>2.0</td>\n",
       "      <td>7.50</td>\n",
       "      <td>0.15</td>\n",
       "      <td>0.0750</td>\n",
       "    </tr>\n",
       "    <tr>\n",
       "      <th>3</th>\n",
       "      <td>(7, 10]</td>\n",
       "      <td>7.0</td>\n",
       "      <td>10.0</td>\n",
       "      <td>5.0</td>\n",
       "      <td>3.0</td>\n",
       "      <td>1.67</td>\n",
       "      <td>0.05</td>\n",
       "      <td>0.0167</td>\n",
       "    </tr>\n",
       "    <tr>\n",
       "      <th>4</th>\n",
       "      <td>(10, 15]</td>\n",
       "      <td>10.0</td>\n",
       "      <td>15.0</td>\n",
       "      <td>0.0</td>\n",
       "      <td>5.0</td>\n",
       "      <td>0.00</td>\n",
       "      <td>0.00</td>\n",
       "      <td>0.0000</td>\n",
       "    </tr>\n",
       "    <tr>\n",
       "      <th>Total</th>\n",
       "      <td>NaN</td>\n",
       "      <td>NaN</td>\n",
       "      <td>NaN</td>\n",
       "      <td>100.0</td>\n",
       "      <td>NaN</td>\n",
       "      <td>NaN</td>\n",
       "      <td>1.00</td>\n",
       "      <td>NaN</td>\n",
       "    </tr>\n",
       "  </tbody>\n",
       "</table>\n",
       "</div>"
      ],
      "text/plain": [
       "      ClassesAlugueis  LimiteInferior  LimiteSuperior  Frequencia  Amplitude  \\\n",
       "0              (2, 3]             2.0             3.0        30.0        1.0   \n",
       "1              (3, 5]             3.0             5.0        50.0        2.0   \n",
       "2              (5, 7]             5.0             7.0        15.0        2.0   \n",
       "3             (7, 10]             7.0            10.0         5.0        3.0   \n",
       "4            (10, 15]            10.0            15.0         0.0        5.0   \n",
       "Total             NaN             NaN             NaN       100.0        NaN   \n",
       "\n",
       "       DensidadeFrenquencia  Proporcao  DensidadeProporcao  \n",
       "0                     30.00       0.30              0.3000  \n",
       "1                     25.00       0.50              0.2500  \n",
       "2                      7.50       0.15              0.0750  \n",
       "3                      1.67       0.05              0.0167  \n",
       "4                      0.00       0.00              0.0000  \n",
       "Total                   NaN       1.00                 NaN  "
      ]
     },
     "execution_count": 84,
     "metadata": {},
     "output_type": "execute_result"
    }
   ],
   "source": [
    "zonaRural = pd.DataFrame(dados, columns=['ClassesAlugueis'])\n",
    "\n",
    "#Retirando a linha total\n",
    "zonaRural = zonaRural.drop(zonaRural[zonaRural['ClassesAlugueis'] == 'Total'].index)\n",
    "\n",
    "#Pegando limites inferior e superior\n",
    "zonaRural['LimiteInferior'] = zonaRural['ClassesAlugueis'].apply(extrair_limite_inferior)\n",
    "zonaRural['LimiteSuperior'] = zonaRural['ClassesAlugueis'].apply(extrair_limite_superior)\n",
    "#Convertendo\n",
    "zonaRural['LimiteInferior'] = zonaRural['LimiteInferior'].astype(int)\n",
    "zonaRural['LimiteSuperior'] = zonaRural['LimiteSuperior'].astype(int)\n",
    "\n",
    "#Frequencia\n",
    "zonaRural['Frequencia'] = dados['ZonaRural']\n",
    "#Amplitude\n",
    "zonaRural['Amplitude'] = zonaRural['LimiteSuperior'] - zonaRural['LimiteInferior']\n",
    "#DensidadeFrenquencia\n",
    "zonaRural['DensidadeFrenquencia'] = round(zonaRural['Frequencia']/zonaRural['Amplitude'], 2)\n",
    "#Proporcao\n",
    "totalAlugueis = zonaRural['Frequencia'].sum()\n",
    "zonaRural['Proporcao'] = round(zonaRural['Frequencia']/totalAlugueis, 2)\n",
    "#DensidadeProporcao\n",
    "zonaRural['DensidadeProporcao'] = round(zonaRural['Proporcao']/zonaRural['Amplitude'], 4)\n",
    "#Linha total\n",
    "zonaRural.at[('Total'), ('Frequencia')] = zonaRural['Frequencia'].sum(axis=0)\n",
    "zonaRural.at[('Total'), ('Proporcao')] = zonaRural['Proporcao'].sum(axis=0)\n",
    "\n",
    "zonaRural"
   ]
  },
  {
   "cell_type": "markdown",
   "id": "52ee3961",
   "metadata": {},
   "source": [
    "###### utilizando a coluna Frequencia no eixo das ordenadas"
   ]
  },
  {
   "cell_type": "code",
   "execution_count": 85,
   "id": "6a67b235",
   "metadata": {},
   "outputs": [
    {
     "data": {
      "image/png": "[encoded data removed]",
      "text/plain": [
       "<Figure size 640x480 with 1 Axes>"
      ]
     },
     "metadata": {},
     "output_type": "display_data"
    }
   ],
   "source": [
    "classesAlugueis = zonaRural['ClassesAlugueis'].tolist()\n",
    "classesAlugueis = classesAlugueis[:-1]\n",
    "\n",
    "frequencia = zonaRural['Frequencia'].tolist()\n",
    "frequencia = frequencia[:-1]\n",
    "\n",
    "amplitude = zonaRural['Amplitude'].tolist()\n",
    "\n",
    "limites_inferiores = [float(c.split(',')[0][1:]) for c in classesAlugueis]\n",
    "limites_superiores = [float(c.split(',')[1][:-1]) for c in classesAlugueis]\n",
    "\n",
    "fig, ax = plt.subplots()\n",
    "\n",
    "plt.hist([limite_inferior + (amplitude[i] / 2) for i, limite_inferior in enumerate(limites_inferiores)], bins=limites_inferiores + [limites_superiores[-1]], weights=frequencia, edgecolor='black')\n",
    "plt.title('Aluguéis Zona Rural')\n",
    "plt.xlabel('Classes de Aluguéis')\n",
    "plt.ylabel('Quantidade')\n",
    "plt.xticks([limite_inferior + (amplitude[i] / 2) for i, limite_inferior in enumerate(limites_inferiores)], classesAlugueis)\n",
    "\n",
    "ax.spines['top'].set_color('none')\n",
    "ax.spines['right'].set_color('none')\n",
    "\n",
    "plt.show()"
   ]
  },
  {
   "cell_type": "markdown",
   "id": "466cd4da",
   "metadata": {},
   "source": [
    "###### utilizando a coluna DensidadeProporcao no eixo das ordenadas e colocando as proporcao(em forma de porcentagem) como rotulo"
   ]
  },
  {
   "cell_type": "code",
   "execution_count": 86,
   "id": "fc4529a3",
   "metadata": {},
   "outputs": [
    {
     "data": {
      "image/png": "[encoded data removed]",
      "text/plain": [
       "<Figure size 640x480 with 1 Axes>"
      ]
     },
     "metadata": {},
     "output_type": "display_data"
    }
   ],
   "source": [
    "classesAlugueis = zonaRural['ClassesAlugueis'].tolist()\n",
    "classesAlugueis = classesAlugueis[:-1]\n",
    "\n",
    "densidade = zonaRural['DensidadeProporcao'].tolist()\n",
    "densidade = densidade[:-1]\n",
    "\n",
    "amplitude = zonaRural['Amplitude'].tolist()\n",
    "\n",
    "proporcao = zonaRural['Proporcao'].tolist() \n",
    "proporcao = proporcao[:-1]\n",
    "\n",
    "limites_inferiores = [float(c.split(',')[0][1:]) for c in classesAlugueis]\n",
    "limites_superiores = [float(c.split(',')[1][:-1]) for c in classesAlugueis]\n",
    "\n",
    "fig, ax = plt.subplots()\n",
    "\n",
    "plt.hist([limite_inferior + (amplitude[i] / 2) for i, limite_inferior in enumerate(limites_inferiores)], bins=limites_inferiores + [limites_superiores[-1]], weights=densidade, edgecolor='black')\n",
    "plt.title('Aluguéis Zona Rural')\n",
    "plt.xlabel('Classes de Aluguéis')\n",
    "plt.ylabel('Densidade')\n",
    "\n",
    "\n",
    "for i, prop in enumerate(proporcao):\n",
    "    plt.text(limites_inferiores[i] + amplitude[i] / 2, densidade[i] + 0.005, f'{prop*100:.2f}%', ha='center', va='bottom')\n",
    "\n",
    "ax.spines['top'].set_color('none')\n",
    "ax.spines['right'].set_color('none')\n",
    "\n",
    "plt.show()"
   ]
  },
  {
   "cell_type": "markdown",
   "id": "95c6758b",
   "metadata": {},
   "source": [
    "### Problema 16: Usando os dados da EmpregadosCompanhiaMB:"
   ]
  },
  {
   "cell_type": "code",
   "execution_count": 87,
   "id": "1fce974f",
   "metadata": {},
   "outputs": [
    {
     "data": {
      "text/html": [
       "<div>\n",
       "<style scoped>\n",
       "    .dataframe tbody tr th:only-of-type {\n",
       "        vertical-align: middle;\n",
       "    }\n",
       "\n",
       "    .dataframe tbody tr th {\n",
       "        vertical-align: top;\n",
       "    }\n",
       "\n",
       "    .dataframe thead th {\n",
       "        text-align: right;\n",
       "    }\n",
       "</style>\n",
       "<table border=\"1\" class=\"dataframe\">\n",
       "  <thead>\n",
       "    <tr style=\"text-align: right;\">\n",
       "      <th></th>\n",
       "      <th>N</th>\n",
       "      <th>EstadoCivil</th>\n",
       "      <th>GrauInstrucao</th>\n",
       "      <th>Nfilhos</th>\n",
       "      <th>Salario(xSalMin)</th>\n",
       "      <th>AnosIdade</th>\n",
       "      <th>MesesIdade</th>\n",
       "      <th>RegiaoProcedencia</th>\n",
       "    </tr>\n",
       "  </thead>\n",
       "  <tbody>\n",
       "    <tr>\n",
       "      <th>0</th>\n",
       "      <td>1</td>\n",
       "      <td>solteiro</td>\n",
       "      <td>ensino fundamental</td>\n",
       "      <td>0</td>\n",
       "      <td>4</td>\n",
       "      <td>26</td>\n",
       "      <td>3</td>\n",
       "      <td>interior</td>\n",
       "    </tr>\n",
       "    <tr>\n",
       "      <th>1</th>\n",
       "      <td>2</td>\n",
       "      <td>casado</td>\n",
       "      <td>ensino fundamental</td>\n",
       "      <td>1</td>\n",
       "      <td>4,56</td>\n",
       "      <td>32</td>\n",
       "      <td>10</td>\n",
       "      <td>capital</td>\n",
       "    </tr>\n",
       "    <tr>\n",
       "      <th>2</th>\n",
       "      <td>3</td>\n",
       "      <td>casado</td>\n",
       "      <td>ensino fundamental</td>\n",
       "      <td>2</td>\n",
       "      <td>5,25</td>\n",
       "      <td>36</td>\n",
       "      <td>5</td>\n",
       "      <td>capital</td>\n",
       "    </tr>\n",
       "    <tr>\n",
       "      <th>3</th>\n",
       "      <td>4</td>\n",
       "      <td>solteiro</td>\n",
       "      <td>ensino médio</td>\n",
       "      <td>0</td>\n",
       "      <td>5,73</td>\n",
       "      <td>20</td>\n",
       "      <td>10</td>\n",
       "      <td>outra</td>\n",
       "    </tr>\n",
       "    <tr>\n",
       "      <th>4</th>\n",
       "      <td>5</td>\n",
       "      <td>solteiro</td>\n",
       "      <td>ensino fundamental</td>\n",
       "      <td>0</td>\n",
       "      <td>6,26</td>\n",
       "      <td>40</td>\n",
       "      <td>7</td>\n",
       "      <td>outra</td>\n",
       "    </tr>\n",
       "  </tbody>\n",
       "</table>\n",
       "</div>"
      ],
      "text/plain": [
       "   N EstadoCivil       GrauInstrucao  Nfilhos Salario(xSalMin)  AnosIdade  \\\n",
       "0  1    solteiro  ensino fundamental        0                4         26   \n",
       "1  2      casado  ensino fundamental        1             4,56         32   \n",
       "2  3      casado  ensino fundamental        2             5,25         36   \n",
       "3  4    solteiro        ensino médio        0             5,73         20   \n",
       "4  5    solteiro  ensino fundamental        0             6,26         40   \n",
       "\n",
       "   MesesIdade RegiaoProcedencia  \n",
       "0           3          interior  \n",
       "1          10           capital  \n",
       "2           5           capital  \n",
       "3          10             outra  \n",
       "4           7             outra  "
      ]
     },
     "execution_count": 87,
     "metadata": {},
     "output_type": "execute_result"
    }
   ],
   "source": [
    "dados = pd.read_csv(\"Dados/EmpregadosCompanhiaMB.csv\", sep=\";\")\n",
    "dados.head()"
   ]
  },
  {
   "cell_type": "markdown",
   "id": "d073609e",
   "metadata": {},
   "source": [
    "#### Construa a distribuição de freqüências para a variável idade.\n"
   ]
  },
  {
   "cell_type": "code",
   "execution_count": 88,
   "id": "a47d069b",
   "metadata": {},
   "outputs": [
    {
     "data": {
      "text/html": [
       "<div>\n",
       "<style scoped>\n",
       "    .dataframe tbody tr th:only-of-type {\n",
       "        vertical-align: middle;\n",
       "    }\n",
       "\n",
       "    .dataframe tbody tr th {\n",
       "        vertical-align: top;\n",
       "    }\n",
       "\n",
       "    .dataframe thead th {\n",
       "        text-align: right;\n",
       "    }\n",
       "</style>\n",
       "<table border=\"1\" class=\"dataframe\">\n",
       "  <thead>\n",
       "    <tr style=\"text-align: right;\">\n",
       "      <th>col_0</th>\n",
       "      <th>FreqAbsoluta</th>\n",
       "      <th>FreqRelativa</th>\n",
       "    </tr>\n",
       "    <tr>\n",
       "      <th>Intervalo</th>\n",
       "      <th></th>\n",
       "      <th></th>\n",
       "    </tr>\n",
       "  </thead>\n",
       "  <tbody>\n",
       "    <tr>\n",
       "      <th>(20, 25]</th>\n",
       "      <td>3</td>\n",
       "      <td>0.083333</td>\n",
       "    </tr>\n",
       "    <tr>\n",
       "      <th>(25, 30]</th>\n",
       "      <td>7</td>\n",
       "      <td>0.194444</td>\n",
       "    </tr>\n",
       "    <tr>\n",
       "      <th>(30, 35]</th>\n",
       "      <td>10</td>\n",
       "      <td>0.277778</td>\n",
       "    </tr>\n",
       "    <tr>\n",
       "      <th>(35, 40]</th>\n",
       "      <td>8</td>\n",
       "      <td>0.222222</td>\n",
       "    </tr>\n",
       "    <tr>\n",
       "      <th>(40, 45]</th>\n",
       "      <td>6</td>\n",
       "      <td>0.166667</td>\n",
       "    </tr>\n",
       "    <tr>\n",
       "      <th>(45, 50]</th>\n",
       "      <td>2</td>\n",
       "      <td>0.055556</td>\n",
       "    </tr>\n",
       "  </tbody>\n",
       "</table>\n",
       "</div>"
      ],
      "text/plain": [
       "col_0      FreqAbsoluta  FreqRelativa\n",
       "Intervalo                            \n",
       "(20, 25]              3      0.083333\n",
       "(25, 30]              7      0.194444\n",
       "(30, 35]             10      0.277778\n",
       "(35, 40]              8      0.222222\n",
       "(40, 45]              6      0.166667\n",
       "(45, 50]              2      0.055556"
      ]
     },
     "execution_count": 88,
     "metadata": {},
     "output_type": "execute_result"
    }
   ],
   "source": [
    "qtdFaixas = mt.ceil(np.sqrt(len(dados)))\n",
    "\n",
    "minimo=np.amin(dados['AnosIdade'])-(np.amin(dados['AnosIdade'])%10)\n",
    "maximo=np.amax(dados['AnosIdade'])+(10-(np.amax(dados['AnosIdade'])%10))\n",
    "\n",
    "tamanhoIntervalo = mt.ceil((maximo-minimo)/qtdFaixas)\n",
    "           \n",
    "bins=[]\n",
    "soma = minimo\n",
    "\n",
    "for i in range(qtdFaixas+1):\n",
    "    \n",
    "    bins.append(soma)\n",
    "    soma=soma+tamanhoIntervalo\n",
    "\n",
    "idades = []\n",
    "for i in dados['AnosIdade']:\n",
    "    idades.append(i)\n",
    "\n",
    "\n",
    "classificacao = pd.DataFrame(idades, columns=['Idade'])\n",
    "\n",
    "classificacao['Intervalo'] = pd.cut(classificacao['Idade'], bins, include_lowest = True)\n",
    "\n",
    "classificacao['Intervalo'] = classificacao['Intervalo'].astype(str)\n",
    "classificacao.loc[classificacao['Intervalo'] ==  '(19.999, 25.0]', 'Intervalo'] = \"(20, 25]\"\n",
    "classificacao.loc[classificacao['Intervalo'] ==  '(25.0, 30.0]', 'Intervalo'] = \"(25, 30]\"\n",
    "classificacao.loc[classificacao['Intervalo'] ==  '(30.0, 35.0]', 'Intervalo'] = \"(30, 35]\"\n",
    "classificacao.loc[classificacao['Intervalo'] ==  '(35.0, 40.0]', 'Intervalo'] = \"(35, 40]\"\n",
    "classificacao.loc[classificacao['Intervalo'] ==  '(40.0, 45.0]', 'Intervalo'] = \"(40, 45]\"\n",
    "classificacao.loc[classificacao['Intervalo'] ==  '(45.0, 50.0]', 'Intervalo'] = \"(45, 50]\"\n",
    "\n",
    "freq_table = pd.crosstab(classificacao['Intervalo'], 'FreqAbsoluta')\n",
    "freq_table['FreqRelativa'] = freq_table['FreqAbsoluta']/len(dados) \n",
    "\n",
    "freq_table['FreqAbsoluta'] = freq_table['FreqAbsoluta'].astype(int)\n",
    "\n",
    "freq_table"
   ]
  },
  {
   "cell_type": "markdown",
   "id": "2f69becb",
   "metadata": {},
   "source": [
    "#### Faça o gráfico da porcentagem acumulada."
   ]
  },
  {
   "cell_type": "markdown",
   "id": "c7833dc1",
   "metadata": {},
   "source": [
    "##### Fazendo a tabela com as frequencias"
   ]
  },
  {
   "cell_type": "code",
   "execution_count": 89,
   "id": "cd8326af",
   "metadata": {},
   "outputs": [
    {
     "data": {
      "text/html": [
       "<div>\n",
       "<style scoped>\n",
       "    .dataframe tbody tr th:only-of-type {\n",
       "        vertical-align: middle;\n",
       "    }\n",
       "\n",
       "    .dataframe tbody tr th {\n",
       "        vertical-align: top;\n",
       "    }\n",
       "\n",
       "    .dataframe thead th {\n",
       "        text-align: right;\n",
       "    }\n",
       "</style>\n",
       "<table border=\"1\" class=\"dataframe\">\n",
       "  <thead>\n",
       "    <tr style=\"text-align: right;\">\n",
       "      <th>col_0</th>\n",
       "      <th>FreqAbsoluta</th>\n",
       "      <th>FreqAbsolutaAcumulada</th>\n",
       "      <th>FreqRelativa</th>\n",
       "      <th>FreqRelativaAcumulada</th>\n",
       "    </tr>\n",
       "    <tr>\n",
       "      <th>Intervalo</th>\n",
       "      <th></th>\n",
       "      <th></th>\n",
       "      <th></th>\n",
       "      <th></th>\n",
       "    </tr>\n",
       "  </thead>\n",
       "  <tbody>\n",
       "    <tr>\n",
       "      <th>(20, 25]</th>\n",
       "      <td>3.0</td>\n",
       "      <td>3.0</td>\n",
       "      <td>0.083333</td>\n",
       "      <td>0.083333</td>\n",
       "    </tr>\n",
       "    <tr>\n",
       "      <th>(25, 30]</th>\n",
       "      <td>7.0</td>\n",
       "      <td>10.0</td>\n",
       "      <td>0.194444</td>\n",
       "      <td>0.277778</td>\n",
       "    </tr>\n",
       "    <tr>\n",
       "      <th>(30, 35]</th>\n",
       "      <td>10.0</td>\n",
       "      <td>20.0</td>\n",
       "      <td>0.277778</td>\n",
       "      <td>0.555556</td>\n",
       "    </tr>\n",
       "    <tr>\n",
       "      <th>(35, 40]</th>\n",
       "      <td>8.0</td>\n",
       "      <td>28.0</td>\n",
       "      <td>0.222222</td>\n",
       "      <td>0.777778</td>\n",
       "    </tr>\n",
       "    <tr>\n",
       "      <th>(40, 45]</th>\n",
       "      <td>6.0</td>\n",
       "      <td>34.0</td>\n",
       "      <td>0.166667</td>\n",
       "      <td>0.944444</td>\n",
       "    </tr>\n",
       "    <tr>\n",
       "      <th>(45, 50]</th>\n",
       "      <td>2.0</td>\n",
       "      <td>36.0</td>\n",
       "      <td>0.055556</td>\n",
       "      <td>1.000000</td>\n",
       "    </tr>\n",
       "    <tr>\n",
       "      <th>Total</th>\n",
       "      <td>36.0</td>\n",
       "      <td>NaN</td>\n",
       "      <td>1.000000</td>\n",
       "      <td>NaN</td>\n",
       "    </tr>\n",
       "  </tbody>\n",
       "</table>\n",
       "</div>"
      ],
      "text/plain": [
       "col_0      FreqAbsoluta  FreqAbsolutaAcumulada  FreqRelativa  \\\n",
       "Intervalo                                                      \n",
       "(20, 25]            3.0                    3.0      0.083333   \n",
       "(25, 30]            7.0                   10.0      0.194444   \n",
       "(30, 35]           10.0                   20.0      0.277778   \n",
       "(35, 40]            8.0                   28.0      0.222222   \n",
       "(40, 45]            6.0                   34.0      0.166667   \n",
       "(45, 50]            2.0                   36.0      0.055556   \n",
       "Total              36.0                    NaN      1.000000   \n",
       "\n",
       "col_0      FreqRelativaAcumulada  \n",
       "Intervalo                         \n",
       "(20, 25]                0.083333  \n",
       "(25, 30]                0.277778  \n",
       "(30, 35]                0.555556  \n",
       "(35, 40]                0.777778  \n",
       "(40, 45]                0.944444  \n",
       "(45, 50]                1.000000  \n",
       "Total                        NaN  "
      ]
     },
     "execution_count": 89,
     "metadata": {},
     "output_type": "execute_result"
    }
   ],
   "source": [
    "freq_table = freq_table.copy()\n",
    "\n",
    "freq_table['FreqAbsolutaAcumulada'] = freq_table['FreqAbsoluta'].cumsum()\n",
    "freq_table['FreqRelativaAcumulada'] = freq_table['FreqRelativa'].cumsum()\n",
    "\n",
    "#reordenando\n",
    "freq_table = freq_table[['FreqAbsoluta', 'FreqAbsolutaAcumulada', 'FreqRelativa','FreqRelativaAcumulada' ]]\n",
    "\n",
    "#Totais necessários\n",
    "freq_table.at[('Total'), ('FreqAbsoluta')] = freq_table['FreqAbsoluta'].sum(axis=0)\n",
    "freq_table.at[('Total'), ('FreqRelativa')] = freq_table['FreqRelativa'].sum(axis=0)\n",
    "freq_table"
   ]
  },
  {
   "cell_type": "markdown",
   "id": "bde0e93e",
   "metadata": {},
   "source": [
    "##### Fazendo o gráfico"
   ]
  },
  {
   "cell_type": "code",
   "execution_count": 90,
   "id": "8e1e78dc",
   "metadata": {},
   "outputs": [
    {
     "data": {
      "image/png": "[encoded data removed]",
      "text/plain": [
       "<Figure size 700x600 with 1 Axes>"
      ]
     },
     "metadata": {},
     "output_type": "display_data"
    }
   ],
   "source": [
    "#Pegando as idades da coluna AnosIdade\n",
    "listaIdades = dados['AnosIdade'].tolist()\n",
    "\n",
    "# Calculando a frequência relativa acumulada para as idades fornecidas\n",
    "freqAcumulada_para_idades = [sum(1 for idade in listaIdades if idade <= i) / len(listaIdades) for i in range(min(listaIdades), max(listaIdades)+1)]\n",
    "\n",
    "plt.figure(figsize=(7, 6))\n",
    "plt.plot(range(min(listaIdades), max(listaIdades)+1), freqAcumulada_para_idades, marker='o', linestyle='-')\n",
    "plt.title('Frequência Relativa Acumulada por Idade')\n",
    "plt.xlabel('Idade')\n",
    "plt.ylabel('Frequência Relativa Acumulada')\n",
    "plt.xticks(range(min(idades), max(idades)+1, 5))  # Ajustando os rótulos do eixo x para aparecerem a cada intervalo de 5 unidades\n",
    "plt.grid(True)\n",
    "plt.tight_layout()\n",
    "plt.show()"
   ]
  },
  {
   "cell_type": "markdown",
   "id": "03684b37",
   "metadata": {},
   "source": [
    "#### Usando o gráfico anterior, ache os valores de i correspondentes aos pontos (i, 25%), ( i, 50 %) e (i, 75 %)."
   ]
  },
  {
   "cell_type": "code",
   "execution_count": 91,
   "id": "b297a375",
   "metadata": {},
   "outputs": [
    {
     "data": {
      "image/png": "[encoded data removed]",
      "text/plain": [
       "<Figure size 700x600 with 1 Axes>"
      ]
     },
     "metadata": {},
     "output_type": "display_data"
    }
   ],
   "source": [
    "plt.figure(figsize=(7, 6))\n",
    "plt.plot(range(min(listaIdades), max(listaIdades)+1), freqAcumulada_para_idades, marker='o', linestyle='-')\n",
    "plt.title('Frequência Relativa Acumulada por Idade')\n",
    "plt.xlabel('Idade')\n",
    "plt.ylabel('Frequência Relativa Acumulada')\n",
    "\n",
    "# Calculando os valores correspondentes aos percentis desejados\n",
    "percentis = {'25th': np.percentile(listaIdades, 25), '50th': np.percentile(listaIdades, 50), '75th': np.percentile(listaIdades, 75)}\n",
    "\n",
    "# Adicionando linhas verticais para marcar os percentis\n",
    "for label, percentile in percentis.items():\n",
    "    plt.axvline(x=percentile, color='r', linestyle='--', linewidth=0.8, label=f'{label} Percentile')\n",
    "    plt.text(percentile, 0.1, f'{percentile}', rotation=90, verticalalignment='bottom', horizontalalignment='center', color='r')\n",
    "\n",
    "plt.legend()\n",
    "plt.xticks(list(percentis.values()), list(percentis.keys()))  # Atualizando os rótulos do eixo x com os percentis\n",
    "plt.grid(True)\n",
    "plt.tight_layout()\n",
    "plt.show()\n"
   ]
  },
  {
   "cell_type": "markdown",
   "id": "0707d0f2",
   "metadata": {},
   "source": [
    "### Construir a função de distribuição empírica (f.d.e.) para a variável idade referente aos dados da EmpregadosCompanhiaMB."
   ]
  },
  {
   "cell_type": "code",
   "execution_count": 92,
   "id": "704f5d3e",
   "metadata": {},
   "outputs": [],
   "source": [
    "dados = pd.read_csv(\"Dados/EmpregadosCompanhiaMB.csv\", sep=\";\")"
   ]
  },
  {
   "cell_type": "code",
   "execution_count": 93,
   "id": "0493d5b3",
   "metadata": {},
   "outputs": [
    {
     "data": {
      "image/png": "[encoded data removed]",
      "text/plain": [
       "<Figure size 640x480 with 1 Axes>"
      ]
     },
     "metadata": {},
     "output_type": "display_data"
    }
   ],
   "source": [
    "# Calculando a função de distribuição empírica\n",
    "x = np.sort(dados['AnosIdade'])\n",
    "y = np.arange(1, len(x) + 1) / len(x)\n",
    "\n",
    "# Plotando o gráfico\n",
    "plt.step(x, y, where='post')\n",
    "plt.xlabel('Idade')\n",
    "plt.ylabel('Probabilidade acumulada')\n",
    "plt.title('Função de Distribuição Empírica das Idades')\n",
    "plt.grid(True)\n",
    "plt.show()"
   ]
  },
  {
   "cell_type": "code",
   "execution_count": null,
   "id": "5e24cc7a",
   "metadata": {},
   "outputs": [],
   "source": []
  }
 ],
 "metadata": {
  "kernelspec": {
   "display_name": "Python 3 (ipykernel)",
   "language": "python",
   "name": "python3"
  },
  "language_info": {
   "codemirror_mode": {
    "name": "ipython",
    "version": 3
   },
   "file_extension": ".py",
   "mimetype": "text/x-python",
   "name": "python",
   "nbconvert_exporter": "python",
   "pygments_lexer": "ipython3",
   "version": "3.11.5"
  }
 },
 "nbformat": 4,
 "nbformat_minor": 5
}
