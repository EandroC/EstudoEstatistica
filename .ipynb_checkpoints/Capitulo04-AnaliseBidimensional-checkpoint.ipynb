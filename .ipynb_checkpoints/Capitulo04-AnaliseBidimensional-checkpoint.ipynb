{
 "cells": [
  {
   "cell_type": "code",
   "execution_count": 1,
   "id": "b6fcc35c",
   "metadata": {},
   "outputs": [],
   "source": [
    "import pandas as pd"
   ]
  },
  {
   "cell_type": "markdown",
   "id": "ef8aac62",
   "metadata": {},
   "source": [
    "### Problema 1: Usando os dados da EmpregadosCompanhiaMB, Capítulo 2:"
   ]
  },
  {
   "cell_type": "code",
   "execution_count": 2,
   "id": "4a643022",
   "metadata": {},
   "outputs": [],
   "source": [
    "dados = pd.read_csv(\"Dados/EmpregadosCompanhiaMB.csv\", sep=\";\")"
   ]
  },
  {
   "cell_type": "code",
   "execution_count": 3,
   "id": "ee9797b4",
   "metadata": {},
   "outputs": [
    {
     "data": {
      "text/html": [
       "<div>\n",
       "<style scoped>\n",
       "    .dataframe tbody tr th:only-of-type {\n",
       "        vertical-align: middle;\n",
       "    }\n",
       "\n",
       "    .dataframe tbody tr th {\n",
       "        vertical-align: top;\n",
       "    }\n",
       "\n",
       "    .dataframe thead th {\n",
       "        text-align: right;\n",
       "    }\n",
       "</style>\n",
       "<table border=\"1\" class=\"dataframe\">\n",
       "  <thead>\n",
       "    <tr style=\"text-align: right;\">\n",
       "      <th></th>\n",
       "      <th>N</th>\n",
       "      <th>EstadoCivil</th>\n",
       "      <th>GrauInstrucao</th>\n",
       "      <th>Nfilhos</th>\n",
       "      <th>Salario(xSalMin)</th>\n",
       "      <th>AnosIdade</th>\n",
       "      <th>MesesIdade</th>\n",
       "      <th>RegiaoProcedencia</th>\n",
       "    </tr>\n",
       "  </thead>\n",
       "  <tbody>\n",
       "    <tr>\n",
       "      <th>0</th>\n",
       "      <td>1</td>\n",
       "      <td>solteiro</td>\n",
       "      <td>ensino fundamental</td>\n",
       "      <td>0</td>\n",
       "      <td>4</td>\n",
       "      <td>26</td>\n",
       "      <td>3</td>\n",
       "      <td>interior</td>\n",
       "    </tr>\n",
       "    <tr>\n",
       "      <th>1</th>\n",
       "      <td>2</td>\n",
       "      <td>casado</td>\n",
       "      <td>ensino fundamental</td>\n",
       "      <td>1</td>\n",
       "      <td>4,56</td>\n",
       "      <td>32</td>\n",
       "      <td>10</td>\n",
       "      <td>capital</td>\n",
       "    </tr>\n",
       "    <tr>\n",
       "      <th>2</th>\n",
       "      <td>3</td>\n",
       "      <td>casado</td>\n",
       "      <td>ensino fundamental</td>\n",
       "      <td>2</td>\n",
       "      <td>5,25</td>\n",
       "      <td>36</td>\n",
       "      <td>5</td>\n",
       "      <td>capital</td>\n",
       "    </tr>\n",
       "    <tr>\n",
       "      <th>3</th>\n",
       "      <td>4</td>\n",
       "      <td>solteiro</td>\n",
       "      <td>ensino médio</td>\n",
       "      <td>0</td>\n",
       "      <td>5,73</td>\n",
       "      <td>20</td>\n",
       "      <td>10</td>\n",
       "      <td>outra</td>\n",
       "    </tr>\n",
       "    <tr>\n",
       "      <th>4</th>\n",
       "      <td>5</td>\n",
       "      <td>solteiro</td>\n",
       "      <td>ensino fundamental</td>\n",
       "      <td>0</td>\n",
       "      <td>6,26</td>\n",
       "      <td>40</td>\n",
       "      <td>7</td>\n",
       "      <td>outra</td>\n",
       "    </tr>\n",
       "  </tbody>\n",
       "</table>\n",
       "</div>"
      ],
      "text/plain": [
       "   N EstadoCivil       GrauInstrucao  Nfilhos Salario(xSalMin)  AnosIdade  \\\n",
       "0  1    solteiro  ensino fundamental        0                4         26   \n",
       "1  2      casado  ensino fundamental        1             4,56         32   \n",
       "2  3      casado  ensino fundamental        2             5,25         36   \n",
       "3  4    solteiro        ensino médio        0             5,73         20   \n",
       "4  5    solteiro  ensino fundamental        0             6,26         40   \n",
       "\n",
       "   MesesIdade RegiaoProcedencia  \n",
       "0           3          interior  \n",
       "1          10           capital  \n",
       "2           5           capital  \n",
       "3          10             outra  \n",
       "4           7             outra  "
      ]
     },
     "execution_count": 3,
     "metadata": {},
     "output_type": "execute_result"
    }
   ],
   "source": [
    "dados.head()"
   ]
  },
  {
   "cell_type": "markdown",
   "id": "c8d83b20",
   "metadata": {},
   "source": [
    "#### Construa a distribuição de freqüência conjunta para as variáveis grau de instrução e região de procedência."
   ]
  },
  {
   "cell_type": "markdown",
   "id": "f6cb4c53",
   "metadata": {},
   "source": [
    "##### Freqüências absolutas"
   ]
  },
  {
   "cell_type": "code",
   "execution_count": 4,
   "id": "e75e784d",
   "metadata": {},
   "outputs": [
    {
     "data": {
      "text/html": [
       "<div>\n",
       "<style scoped>\n",
       "    .dataframe tbody tr th:only-of-type {\n",
       "        vertical-align: middle;\n",
       "    }\n",
       "\n",
       "    .dataframe tbody tr th {\n",
       "        vertical-align: top;\n",
       "    }\n",
       "\n",
       "    .dataframe thead th {\n",
       "        text-align: right;\n",
       "    }\n",
       "</style>\n",
       "<table border=\"1\" class=\"dataframe\">\n",
       "  <thead>\n",
       "    <tr style=\"text-align: right;\">\n",
       "      <th>RegiaoProcedencia</th>\n",
       "      <th>capital</th>\n",
       "      <th>interior</th>\n",
       "      <th>outra</th>\n",
       "      <th>Total</th>\n",
       "    </tr>\n",
       "    <tr>\n",
       "      <th>GrauInstrucao</th>\n",
       "      <th></th>\n",
       "      <th></th>\n",
       "      <th></th>\n",
       "      <th></th>\n",
       "    </tr>\n",
       "  </thead>\n",
       "  <tbody>\n",
       "    <tr>\n",
       "      <th>ensino fundamental</th>\n",
       "      <td>4</td>\n",
       "      <td>3</td>\n",
       "      <td>5</td>\n",
       "      <td>12</td>\n",
       "    </tr>\n",
       "    <tr>\n",
       "      <th>ensino médio</th>\n",
       "      <td>5</td>\n",
       "      <td>7</td>\n",
       "      <td>6</td>\n",
       "      <td>18</td>\n",
       "    </tr>\n",
       "    <tr>\n",
       "      <th>superior</th>\n",
       "      <td>2</td>\n",
       "      <td>2</td>\n",
       "      <td>2</td>\n",
       "      <td>6</td>\n",
       "    </tr>\n",
       "    <tr>\n",
       "      <th>Total</th>\n",
       "      <td>11</td>\n",
       "      <td>12</td>\n",
       "      <td>13</td>\n",
       "      <td>36</td>\n",
       "    </tr>\n",
       "  </tbody>\n",
       "</table>\n",
       "</div>"
      ],
      "text/plain": [
       "RegiaoProcedencia   capital  interior  outra  Total\n",
       "GrauInstrucao                                      \n",
       "ensino fundamental        4         3      5     12\n",
       "ensino médio              5         7      6     18\n",
       "superior                  2         2      2      6\n",
       "Total                    11        12     13     36"
      ]
     },
     "execution_count": 4,
     "metadata": {},
     "output_type": "execute_result"
    }
   ],
   "source": [
    "tabelaConjunta = pd.crosstab(dados['GrauInstrucao'], dados['RegiaoProcedencia'], margins=True, margins_name='Total')\n",
    "tabelaConjunta"
   ]
  },
  {
   "cell_type": "markdown",
   "id": "79ec1130",
   "metadata": {},
   "source": [
    "##### Freqüências relativas"
   ]
  },
  {
   "cell_type": "code",
   "execution_count": 5,
   "id": "afe0a2eb",
   "metadata": {},
   "outputs": [
    {
     "data": {
      "text/html": [
       "<div>\n",
       "<style scoped>\n",
       "    .dataframe tbody tr th:only-of-type {\n",
       "        vertical-align: middle;\n",
       "    }\n",
       "\n",
       "    .dataframe tbody tr th {\n",
       "        vertical-align: top;\n",
       "    }\n",
       "\n",
       "    .dataframe thead th {\n",
       "        text-align: right;\n",
       "    }\n",
       "</style>\n",
       "<table border=\"1\" class=\"dataframe\">\n",
       "  <thead>\n",
       "    <tr style=\"text-align: right;\">\n",
       "      <th>RegiaoProcedencia</th>\n",
       "      <th>capital</th>\n",
       "      <th>interior</th>\n",
       "      <th>outra</th>\n",
       "      <th>Total</th>\n",
       "    </tr>\n",
       "    <tr>\n",
       "      <th>GrauInstrucao</th>\n",
       "      <th></th>\n",
       "      <th></th>\n",
       "      <th></th>\n",
       "      <th></th>\n",
       "    </tr>\n",
       "  </thead>\n",
       "  <tbody>\n",
       "    <tr>\n",
       "      <th>ensino fundamental</th>\n",
       "      <td>0.111111</td>\n",
       "      <td>0.083333</td>\n",
       "      <td>0.138889</td>\n",
       "      <td>0.333333</td>\n",
       "    </tr>\n",
       "    <tr>\n",
       "      <th>ensino médio</th>\n",
       "      <td>0.138889</td>\n",
       "      <td>0.194444</td>\n",
       "      <td>0.166667</td>\n",
       "      <td>0.500000</td>\n",
       "    </tr>\n",
       "    <tr>\n",
       "      <th>superior</th>\n",
       "      <td>0.055556</td>\n",
       "      <td>0.055556</td>\n",
       "      <td>0.055556</td>\n",
       "      <td>0.166667</td>\n",
       "    </tr>\n",
       "    <tr>\n",
       "      <th>Total</th>\n",
       "      <td>0.305556</td>\n",
       "      <td>0.333333</td>\n",
       "      <td>0.361111</td>\n",
       "      <td>1.000000</td>\n",
       "    </tr>\n",
       "  </tbody>\n",
       "</table>\n",
       "</div>"
      ],
      "text/plain": [
       "RegiaoProcedencia    capital  interior     outra     Total\n",
       "GrauInstrucao                                             \n",
       "ensino fundamental  0.111111  0.083333  0.138889  0.333333\n",
       "ensino médio        0.138889  0.194444  0.166667  0.500000\n",
       "superior            0.055556  0.055556  0.055556  0.166667\n",
       "Total               0.305556  0.333333  0.361111  1.000000"
      ]
     },
     "execution_count": 5,
     "metadata": {},
     "output_type": "execute_result"
    }
   ],
   "source": [
    "tabelaConjunta = pd.crosstab(dados['GrauInstrucao'], dados['RegiaoProcedencia'], margins=True, margins_name='Total', normalize=True)\n",
    "tabelaConjunta"
   ]
  },
  {
   "cell_type": "markdown",
   "id": "190c38fb",
   "metadata": {},
   "source": [
    "##### Freqüências relativas (porcentagem)"
   ]
  },
  {
   "cell_type": "code",
   "execution_count": 6,
   "id": "87a80fdb",
   "metadata": {},
   "outputs": [
    {
     "data": {
      "text/html": [
       "<div>\n",
       "<style scoped>\n",
       "    .dataframe tbody tr th:only-of-type {\n",
       "        vertical-align: middle;\n",
       "    }\n",
       "\n",
       "    .dataframe tbody tr th {\n",
       "        vertical-align: top;\n",
       "    }\n",
       "\n",
       "    .dataframe thead th {\n",
       "        text-align: right;\n",
       "    }\n",
       "</style>\n",
       "<table border=\"1\" class=\"dataframe\">\n",
       "  <thead>\n",
       "    <tr style=\"text-align: right;\">\n",
       "      <th>RegiaoProcedencia</th>\n",
       "      <th>capital</th>\n",
       "      <th>interior</th>\n",
       "      <th>outra</th>\n",
       "      <th>Total</th>\n",
       "    </tr>\n",
       "    <tr>\n",
       "      <th>GrauInstrucao</th>\n",
       "      <th></th>\n",
       "      <th></th>\n",
       "      <th></th>\n",
       "      <th></th>\n",
       "    </tr>\n",
       "  </thead>\n",
       "  <tbody>\n",
       "    <tr>\n",
       "      <th>ensino fundamental</th>\n",
       "      <td>11.11</td>\n",
       "      <td>8.33</td>\n",
       "      <td>13.89</td>\n",
       "      <td>33.33</td>\n",
       "    </tr>\n",
       "    <tr>\n",
       "      <th>ensino médio</th>\n",
       "      <td>13.89</td>\n",
       "      <td>19.44</td>\n",
       "      <td>16.67</td>\n",
       "      <td>50.00</td>\n",
       "    </tr>\n",
       "    <tr>\n",
       "      <th>superior</th>\n",
       "      <td>5.56</td>\n",
       "      <td>5.56</td>\n",
       "      <td>5.56</td>\n",
       "      <td>16.67</td>\n",
       "    </tr>\n",
       "    <tr>\n",
       "      <th>Total</th>\n",
       "      <td>30.56</td>\n",
       "      <td>33.33</td>\n",
       "      <td>36.11</td>\n",
       "      <td>100.00</td>\n",
       "    </tr>\n",
       "  </tbody>\n",
       "</table>\n",
       "</div>"
      ],
      "text/plain": [
       "RegiaoProcedencia   capital  interior  outra   Total\n",
       "GrauInstrucao                                       \n",
       "ensino fundamental    11.11      8.33  13.89   33.33\n",
       "ensino médio          13.89     19.44  16.67   50.00\n",
       "superior               5.56      5.56   5.56   16.67\n",
       "Total                 30.56     33.33  36.11  100.00"
      ]
     },
     "execution_count": 6,
     "metadata": {},
     "output_type": "execute_result"
    }
   ],
   "source": [
    "tabelaConjunta = round(pd.crosstab(dados['GrauInstrucao'], dados['RegiaoProcedencia'], margins=True, margins_name='Total', normalize=True) * 100, 2)\n",
    "tabelaConjunta"
   ]
  },
  {
   "cell_type": "markdown",
   "id": "5654e689",
   "metadata": {},
   "source": [
    "#### Qual a porcentagem de funcionários que têm o ensino médio?"
   ]
  },
  {
   "cell_type": "code",
   "execution_count": 7,
   "id": "d2d23329",
   "metadata": {},
   "outputs": [
    {
     "data": {
      "text/plain": [
       "50.0"
      ]
     },
     "execution_count": 7,
     "metadata": {},
     "output_type": "execute_result"
    }
   ],
   "source": [
    "tabelaConjunta.loc['ensino médio', 'Total']"
   ]
  },
  {
   "cell_type": "markdown",
   "id": "0e274116",
   "metadata": {},
   "source": [
    "#### Qual a porcentagem daqueles que têm o ensino médio e são do interior?"
   ]
  },
  {
   "cell_type": "code",
   "execution_count": 8,
   "id": "c8d7e0c3",
   "metadata": {},
   "outputs": [
    {
     "data": {
      "text/plain": [
       "19.44"
      ]
     },
     "execution_count": 8,
     "metadata": {},
     "output_type": "execute_result"
    }
   ],
   "source": [
    "tabelaConjunta.loc['ensino médio', 'interior']"
   ]
  },
  {
   "cell_type": "markdown",
   "id": "bb86087f",
   "metadata": {},
   "source": [
    "#### Dentre os funcionários do interior, quantos porcento têm o ensino médio?"
   ]
  },
  {
   "cell_type": "code",
   "execution_count": 9,
   "id": "17de36f6",
   "metadata": {},
   "outputs": [
    {
     "name": "stdout",
     "output_type": "stream",
     "text": [
      "58.33\n"
     ]
    }
   ],
   "source": [
    "interiorMedio = tabelaConjunta.loc['ensino médio', 'interior']\n",
    "\n",
    "ttlFuncInterior = tabelaConjunta.loc['Total', 'interior']\n",
    "\n",
    "porcentagem = round((interiorMedio / ttlFuncInterior) * 100, 2)\n",
    "\n",
    "print(porcentagem)"
   ]
  },
  {
   "cell_type": "markdown",
   "id": "4e74226c",
   "metadata": {},
   "source": [
    "### Problema 2: No problema anterior, sorteando um funcionário ao acaso entre os 36:"
   ]
  },
  {
   "cell_type": "markdown",
   "id": "fc74bd66",
   "metadata": {},
   "source": [
    "#### Qual será provavelmente o seu grau de instrução?"
   ]
  },
  {
   "cell_type": "code",
   "execution_count": 22,
   "id": "79b36aa6",
   "metadata": {},
   "outputs": [
    {
     "data": {
      "text/plain": [
       "'ensino médio'"
      ]
     },
     "execution_count": 22,
     "metadata": {},
     "output_type": "execute_result"
    }
   ],
   "source": [
    "freqInstrucao = tabelaConjunta.sum(axis=1)\n",
    "freqInstrucao.idxmax()"
   ]
  },
  {
   "cell_type": "markdown",
   "id": "aa0ebd03",
   "metadata": {},
   "source": [
    "#### E sua região de procedência?"
   ]
  },
  {
   "cell_type": "code",
   "execution_count": 24,
   "id": "495e8602",
   "metadata": {},
   "outputs": [
    {
     "data": {
      "text/plain": [
       "'outra'"
      ]
     },
     "execution_count": 24,
     "metadata": {},
     "output_type": "execute_result"
    }
   ],
   "source": [
    "freqRegiao = tabelaConjunta.sum(axis=0)\n",
    "freqRegiao.idxmax()"
   ]
  },
  {
   "cell_type": "markdown",
   "id": "10ec84b0",
   "metadata": {},
   "source": [
    "#### Qual a probabilidade do sorteado ter nível superior?"
   ]
  },
  {
   "cell_type": "code",
   "execution_count": 25,
   "id": "1b51c885",
   "metadata": {},
   "outputs": [
    {
     "data": {
      "text/plain": [
       "16.68"
      ]
     },
     "execution_count": 25,
     "metadata": {},
     "output_type": "execute_result"
    }
   ],
   "source": [
    "freqInstrucao.loc['superior']"
   ]
  },
  {
   "cell_type": "markdown",
   "id": "28d4c4ac",
   "metadata": {},
   "source": [
    "#### Sabendo que o sorteado é do interior, qual a probabilidade de ele possuir nível superior?"
   ]
  },
  {
   "cell_type": "code",
   "execution_count": 29,
   "id": "990effe8",
   "metadata": {},
   "outputs": [
    {
     "data": {
      "text/plain": [
       "16.68"
      ]
     },
     "execution_count": 29,
     "metadata": {},
     "output_type": "execute_result"
    }
   ],
   "source": [
    "round((tabelaConjunta.loc['superior', 'interior'] / freqRegiao.loc['interior']) * 100, 2)"
   ]
  },
  {
   "cell_type": "markdown",
   "id": "b9503cd1",
   "metadata": {},
   "source": [
    "#### Sabendo que o escolhido é da capital, qual a probabilidade de ele possuir nível superior?"
   ]
  },
  {
   "cell_type": "code",
   "execution_count": 31,
   "id": "81691208",
   "metadata": {},
   "outputs": [
    {
     "data": {
      "text/plain": [
       "18.19"
      ]
     },
     "execution_count": 31,
     "metadata": {},
     "output_type": "execute_result"
    }
   ],
   "source": [
    "round((tabelaConjunta.loc['superior', 'capital'] / freqRegiao.loc['capital']) * 100, 2)"
   ]
  },
  {
   "cell_type": "markdown",
   "id": "174056a8",
   "metadata": {},
   "source": [
    "### Problema 3: Numa pesquisa sobre rotatividade de mão-de-obra, para uma amostra de 40 pessoas foram observadas duas variáveis: número de empregos nos últimos dois anos (X) e salário mais recente, em número de salários mínimos (Y). Os resultados foram:"
   ]
  },
  {
   "cell_type": "code",
   "execution_count": 33,
   "id": "defb89f7",
   "metadata": {},
   "outputs": [
    {
     "data": {
      "text/html": [
       "<div>\n",
       "<style scoped>\n",
       "    .dataframe tbody tr th:only-of-type {\n",
       "        vertical-align: middle;\n",
       "    }\n",
       "\n",
       "    .dataframe tbody tr th {\n",
       "        vertical-align: top;\n",
       "    }\n",
       "\n",
       "    .dataframe thead th {\n",
       "        text-align: right;\n",
       "    }\n",
       "</style>\n",
       "<table border=\"1\" class=\"dataframe\">\n",
       "  <thead>\n",
       "    <tr style=\"text-align: right;\">\n",
       "      <th></th>\n",
       "      <th>Individuo</th>\n",
       "      <th>X</th>\n",
       "      <th>Y</th>\n",
       "    </tr>\n",
       "  </thead>\n",
       "  <tbody>\n",
       "    <tr>\n",
       "      <th>0</th>\n",
       "      <td>1</td>\n",
       "      <td>1</td>\n",
       "      <td>6</td>\n",
       "    </tr>\n",
       "    <tr>\n",
       "      <th>1</th>\n",
       "      <td>2</td>\n",
       "      <td>3</td>\n",
       "      <td>2</td>\n",
       "    </tr>\n",
       "    <tr>\n",
       "      <th>2</th>\n",
       "      <td>3</td>\n",
       "      <td>2</td>\n",
       "      <td>4</td>\n",
       "    </tr>\n",
       "    <tr>\n",
       "      <th>3</th>\n",
       "      <td>4</td>\n",
       "      <td>3</td>\n",
       "      <td>1</td>\n",
       "    </tr>\n",
       "    <tr>\n",
       "      <th>4</th>\n",
       "      <td>5</td>\n",
       "      <td>2</td>\n",
       "      <td>4</td>\n",
       "    </tr>\n",
       "    <tr>\n",
       "      <th>5</th>\n",
       "      <td>6</td>\n",
       "      <td>2</td>\n",
       "      <td>1</td>\n",
       "    </tr>\n",
       "    <tr>\n",
       "      <th>6</th>\n",
       "      <td>7</td>\n",
       "      <td>3</td>\n",
       "      <td>3</td>\n",
       "    </tr>\n",
       "    <tr>\n",
       "      <th>7</th>\n",
       "      <td>8</td>\n",
       "      <td>1</td>\n",
       "      <td>5</td>\n",
       "    </tr>\n",
       "    <tr>\n",
       "      <th>8</th>\n",
       "      <td>9</td>\n",
       "      <td>2</td>\n",
       "      <td>2</td>\n",
       "    </tr>\n",
       "    <tr>\n",
       "      <th>9</th>\n",
       "      <td>10</td>\n",
       "      <td>3</td>\n",
       "      <td>2</td>\n",
       "    </tr>\n",
       "    <tr>\n",
       "      <th>10</th>\n",
       "      <td>11</td>\n",
       "      <td>2</td>\n",
       "      <td>5</td>\n",
       "    </tr>\n",
       "    <tr>\n",
       "      <th>11</th>\n",
       "      <td>12</td>\n",
       "      <td>3</td>\n",
       "      <td>2</td>\n",
       "    </tr>\n",
       "    <tr>\n",
       "      <th>12</th>\n",
       "      <td>13</td>\n",
       "      <td>1</td>\n",
       "      <td>6</td>\n",
       "    </tr>\n",
       "    <tr>\n",
       "      <th>13</th>\n",
       "      <td>14</td>\n",
       "      <td>2</td>\n",
       "      <td>6</td>\n",
       "    </tr>\n",
       "    <tr>\n",
       "      <th>14</th>\n",
       "      <td>15</td>\n",
       "      <td>3</td>\n",
       "      <td>2</td>\n",
       "    </tr>\n",
       "    <tr>\n",
       "      <th>15</th>\n",
       "      <td>16</td>\n",
       "      <td>4</td>\n",
       "      <td>2</td>\n",
       "    </tr>\n",
       "    <tr>\n",
       "      <th>16</th>\n",
       "      <td>17</td>\n",
       "      <td>1</td>\n",
       "      <td>5</td>\n",
       "    </tr>\n",
       "    <tr>\n",
       "      <th>17</th>\n",
       "      <td>18</td>\n",
       "      <td>2</td>\n",
       "      <td>5</td>\n",
       "    </tr>\n",
       "    <tr>\n",
       "      <th>18</th>\n",
       "      <td>19</td>\n",
       "      <td>2</td>\n",
       "      <td>1</td>\n",
       "    </tr>\n",
       "    <tr>\n",
       "      <th>19</th>\n",
       "      <td>20</td>\n",
       "      <td>2</td>\n",
       "      <td>1</td>\n",
       "    </tr>\n",
       "    <tr>\n",
       "      <th>20</th>\n",
       "      <td>21</td>\n",
       "      <td>2</td>\n",
       "      <td>4</td>\n",
       "    </tr>\n",
       "    <tr>\n",
       "      <th>21</th>\n",
       "      <td>22</td>\n",
       "      <td>3</td>\n",
       "      <td>2</td>\n",
       "    </tr>\n",
       "    <tr>\n",
       "      <th>22</th>\n",
       "      <td>23</td>\n",
       "      <td>4</td>\n",
       "      <td>1</td>\n",
       "    </tr>\n",
       "    <tr>\n",
       "      <th>23</th>\n",
       "      <td>24</td>\n",
       "      <td>1</td>\n",
       "      <td>5</td>\n",
       "    </tr>\n",
       "    <tr>\n",
       "      <th>24</th>\n",
       "      <td>25</td>\n",
       "      <td>2</td>\n",
       "      <td>4</td>\n",
       "    </tr>\n",
       "    <tr>\n",
       "      <th>25</th>\n",
       "      <td>26</td>\n",
       "      <td>3</td>\n",
       "      <td>2</td>\n",
       "    </tr>\n",
       "    <tr>\n",
       "      <th>26</th>\n",
       "      <td>27</td>\n",
       "      <td>4</td>\n",
       "      <td>1</td>\n",
       "    </tr>\n",
       "    <tr>\n",
       "      <th>27</th>\n",
       "      <td>28</td>\n",
       "      <td>1</td>\n",
       "      <td>5</td>\n",
       "    </tr>\n",
       "    <tr>\n",
       "      <th>28</th>\n",
       "      <td>29</td>\n",
       "      <td>4</td>\n",
       "      <td>4</td>\n",
       "    </tr>\n",
       "    <tr>\n",
       "      <th>29</th>\n",
       "      <td>30</td>\n",
       "      <td>3</td>\n",
       "      <td>3</td>\n",
       "    </tr>\n",
       "    <tr>\n",
       "      <th>30</th>\n",
       "      <td>31</td>\n",
       "      <td>2</td>\n",
       "      <td>2</td>\n",
       "    </tr>\n",
       "    <tr>\n",
       "      <th>31</th>\n",
       "      <td>32</td>\n",
       "      <td>1</td>\n",
       "      <td>1</td>\n",
       "    </tr>\n",
       "    <tr>\n",
       "      <th>32</th>\n",
       "      <td>33</td>\n",
       "      <td>4</td>\n",
       "      <td>1</td>\n",
       "    </tr>\n",
       "    <tr>\n",
       "      <th>33</th>\n",
       "      <td>34</td>\n",
       "      <td>2</td>\n",
       "      <td>6</td>\n",
       "    </tr>\n",
       "    <tr>\n",
       "      <th>34</th>\n",
       "      <td>35</td>\n",
       "      <td>4</td>\n",
       "      <td>2</td>\n",
       "    </tr>\n",
       "    <tr>\n",
       "      <th>35</th>\n",
       "      <td>36</td>\n",
       "      <td>3</td>\n",
       "      <td>1</td>\n",
       "    </tr>\n",
       "    <tr>\n",
       "      <th>36</th>\n",
       "      <td>37</td>\n",
       "      <td>1</td>\n",
       "      <td>4</td>\n",
       "    </tr>\n",
       "    <tr>\n",
       "      <th>37</th>\n",
       "      <td>38</td>\n",
       "      <td>3</td>\n",
       "      <td>2</td>\n",
       "    </tr>\n",
       "    <tr>\n",
       "      <th>38</th>\n",
       "      <td>39</td>\n",
       "      <td>2</td>\n",
       "      <td>3</td>\n",
       "    </tr>\n",
       "    <tr>\n",
       "      <th>39</th>\n",
       "      <td>40</td>\n",
       "      <td>2</td>\n",
       "      <td>5</td>\n",
       "    </tr>\n",
       "  </tbody>\n",
       "</table>\n",
       "</div>"
      ],
      "text/plain": [
       "    Individuo  X  Y\n",
       "0           1  1  6\n",
       "1           2  3  2\n",
       "2           3  2  4\n",
       "3           4  3  1\n",
       "4           5  2  4\n",
       "5           6  2  1\n",
       "6           7  3  3\n",
       "7           8  1  5\n",
       "8           9  2  2\n",
       "9          10  3  2\n",
       "10         11  2  5\n",
       "11         12  3  2\n",
       "12         13  1  6\n",
       "13         14  2  6\n",
       "14         15  3  2\n",
       "15         16  4  2\n",
       "16         17  1  5\n",
       "17         18  2  5\n",
       "18         19  2  1\n",
       "19         20  2  1\n",
       "20         21  2  4\n",
       "21         22  3  2\n",
       "22         23  4  1\n",
       "23         24  1  5\n",
       "24         25  2  4\n",
       "25         26  3  2\n",
       "26         27  4  1\n",
       "27         28  1  5\n",
       "28         29  4  4\n",
       "29         30  3  3\n",
       "30         31  2  2\n",
       "31         32  1  1\n",
       "32         33  4  1\n",
       "33         34  2  6\n",
       "34         35  4  2\n",
       "35         36  3  1\n",
       "36         37  1  4\n",
       "37         38  3  2\n",
       "38         39  2  3\n",
       "39         40  2  5"
      ]
     },
     "execution_count": 33,
     "metadata": {},
     "output_type": "execute_result"
    }
   ],
   "source": [
    "dados = pd.read_csv(\"Dados/RotatividadeMao-de-obra.csv\", sep =\";\")\n",
    "dados"
   ]
  },
  {
   "cell_type": "markdown",
   "id": "5ba63207",
   "metadata": {},
   "source": [
    "#### Usando a mediana, classifique os indivíduos em dois níveis, alto e baixo, para cada uma das variáveis, e construa a distribuição de freqüências conjunta das duas classificações."
   ]
  },
  {
   "cell_type": "code",
   "execution_count": null,
   "id": "0cc56c75",
   "metadata": {},
   "outputs": [],
   "source": []
  },
  {
   "cell_type": "markdown",
   "id": "f8bdce5a",
   "metadata": {},
   "source": [
    "#### Qual a porcentagem das pessoas com baixa rotatividade e ganhando pouco?"
   ]
  },
  {
   "cell_type": "code",
   "execution_count": null,
   "id": "88f0e023",
   "metadata": {},
   "outputs": [],
   "source": []
  },
  {
   "cell_type": "markdown",
   "id": "684a5600",
   "metadata": {},
   "source": [
    "#### Qual a porcentagem das pessoas que ganham pouco?"
   ]
  },
  {
   "cell_type": "code",
   "execution_count": null,
   "id": "118972a5",
   "metadata": {},
   "outputs": [],
   "source": []
  },
  {
   "cell_type": "markdown",
   "id": "9e3514d3",
   "metadata": {},
   "source": [
    "#### Entre as pessoas com baixa rotatividade, qual a porcentagem das que ganham pouco?"
   ]
  },
  {
   "cell_type": "code",
   "execution_count": null,
   "id": "d22c42dd",
   "metadata": {},
   "outputs": [],
   "source": []
  },
  {
   "cell_type": "markdown",
   "id": "1c2ffbb7",
   "metadata": {},
   "source": [
    "#### A informação adicional dada em (d) mudou muito a porcentagem observada em (c)?O que isso significa?"
   ]
  },
  {
   "cell_type": "code",
   "execution_count": null,
   "id": "48511fea",
   "metadata": {},
   "outputs": [],
   "source": []
  }
 ],
 "metadata": {
  "kernelspec": {
   "display_name": "Python 3 (ipykernel)",
   "language": "python",
   "name": "python3"
  },
  "language_info": {
   "codemirror_mode": {
    "name": "ipython",
    "version": 3
   },
   "file_extension": ".py",
   "mimetype": "text/x-python",
   "name": "python",
   "nbconvert_exporter": "python",
   "pygments_lexer": "ipython3",
   "version": "3.11.5"
  }
 },
 "nbformat": 4,
 "nbformat_minor": 5
}
