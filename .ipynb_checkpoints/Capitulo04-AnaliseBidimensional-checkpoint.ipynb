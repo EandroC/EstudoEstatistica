{
 "cells": [
  {
   "cell_type": "code",
   "execution_count": 10,
   "id": "b6fcc35c",
   "metadata": {},
   "outputs": [],
   "source": [
    "import pandas as pd"
   ]
  },
  {
   "cell_type": "markdown",
   "id": "ef8aac62",
   "metadata": {},
   "source": [
    "### Problema 1: Usando os dados da EmpregadosCompanhiaMB, Capítulo 2:"
   ]
  },
  {
   "cell_type": "code",
   "execution_count": 11,
   "id": "4a643022",
   "metadata": {},
   "outputs": [],
   "source": [
    "dados = pd.read_csv(\"Dados/EmpregadosCompanhiaMB.csv\", sep=\";\")"
   ]
  },
  {
   "cell_type": "code",
   "execution_count": 12,
   "id": "ee9797b4",
   "metadata": {},
   "outputs": [
    {
     "data": {
      "text/html": [
       "<div>\n",
       "<style scoped>\n",
       "    .dataframe tbody tr th:only-of-type {\n",
       "        vertical-align: middle;\n",
       "    }\n",
       "\n",
       "    .dataframe tbody tr th {\n",
       "        vertical-align: top;\n",
       "    }\n",
       "\n",
       "    .dataframe thead th {\n",
       "        text-align: right;\n",
       "    }\n",
       "</style>\n",
       "<table border=\"1\" class=\"dataframe\">\n",
       "  <thead>\n",
       "    <tr style=\"text-align: right;\">\n",
       "      <th></th>\n",
       "      <th>N</th>\n",
       "      <th>EstadoCivil</th>\n",
       "      <th>GrauInstrucao</th>\n",
       "      <th>Nfilhos</th>\n",
       "      <th>Salario(xSalMin)</th>\n",
       "      <th>AnosIdade</th>\n",
       "      <th>MesesIdade</th>\n",
       "      <th>RegiaoProcedencia</th>\n",
       "    </tr>\n",
       "  </thead>\n",
       "  <tbody>\n",
       "    <tr>\n",
       "      <th>0</th>\n",
       "      <td>1</td>\n",
       "      <td>solteiro</td>\n",
       "      <td>ensino fundamental</td>\n",
       "      <td>0</td>\n",
       "      <td>4</td>\n",
       "      <td>26</td>\n",
       "      <td>3</td>\n",
       "      <td>interior</td>\n",
       "    </tr>\n",
       "    <tr>\n",
       "      <th>1</th>\n",
       "      <td>2</td>\n",
       "      <td>casado</td>\n",
       "      <td>ensino fundamental</td>\n",
       "      <td>1</td>\n",
       "      <td>4,56</td>\n",
       "      <td>32</td>\n",
       "      <td>10</td>\n",
       "      <td>capital</td>\n",
       "    </tr>\n",
       "    <tr>\n",
       "      <th>2</th>\n",
       "      <td>3</td>\n",
       "      <td>casado</td>\n",
       "      <td>ensino fundamental</td>\n",
       "      <td>2</td>\n",
       "      <td>5,25</td>\n",
       "      <td>36</td>\n",
       "      <td>5</td>\n",
       "      <td>capital</td>\n",
       "    </tr>\n",
       "    <tr>\n",
       "      <th>3</th>\n",
       "      <td>4</td>\n",
       "      <td>solteiro</td>\n",
       "      <td>ensino médio</td>\n",
       "      <td>0</td>\n",
       "      <td>5,73</td>\n",
       "      <td>20</td>\n",
       "      <td>10</td>\n",
       "      <td>outra</td>\n",
       "    </tr>\n",
       "    <tr>\n",
       "      <th>4</th>\n",
       "      <td>5</td>\n",
       "      <td>solteiro</td>\n",
       "      <td>ensino fundamental</td>\n",
       "      <td>0</td>\n",
       "      <td>6,26</td>\n",
       "      <td>40</td>\n",
       "      <td>7</td>\n",
       "      <td>outra</td>\n",
       "    </tr>\n",
       "  </tbody>\n",
       "</table>\n",
       "</div>"
      ],
      "text/plain": [
       "   N EstadoCivil       GrauInstrucao  Nfilhos Salario(xSalMin)  AnosIdade  \\\n",
       "0  1    solteiro  ensino fundamental        0                4         26   \n",
       "1  2      casado  ensino fundamental        1             4,56         32   \n",
       "2  3      casado  ensino fundamental        2             5,25         36   \n",
       "3  4    solteiro        ensino médio        0             5,73         20   \n",
       "4  5    solteiro  ensino fundamental        0             6,26         40   \n",
       "\n",
       "   MesesIdade RegiaoProcedencia  \n",
       "0           3          interior  \n",
       "1          10           capital  \n",
       "2           5           capital  \n",
       "3          10             outra  \n",
       "4           7             outra  "
      ]
     },
     "execution_count": 12,
     "metadata": {},
     "output_type": "execute_result"
    }
   ],
   "source": [
    "dados.head()"
   ]
  },
  {
   "cell_type": "markdown",
   "id": "c8d83b20",
   "metadata": {},
   "source": [
    "#### Construa a distribuição de freqüência conjunta para as variáveis grau de instrução e região de procedência."
   ]
  },
  {
   "cell_type": "markdown",
   "id": "f6cb4c53",
   "metadata": {},
   "source": [
    "##### Freqüências absolutas"
   ]
  },
  {
   "cell_type": "code",
   "execution_count": 13,
   "id": "e75e784d",
   "metadata": {},
   "outputs": [
    {
     "data": {
      "text/html": [
       "<div>\n",
       "<style scoped>\n",
       "    .dataframe tbody tr th:only-of-type {\n",
       "        vertical-align: middle;\n",
       "    }\n",
       "\n",
       "    .dataframe tbody tr th {\n",
       "        vertical-align: top;\n",
       "    }\n",
       "\n",
       "    .dataframe thead th {\n",
       "        text-align: right;\n",
       "    }\n",
       "</style>\n",
       "<table border=\"1\" class=\"dataframe\">\n",
       "  <thead>\n",
       "    <tr style=\"text-align: right;\">\n",
       "      <th>RegiaoProcedencia</th>\n",
       "      <th>capital</th>\n",
       "      <th>interior</th>\n",
       "      <th>outra</th>\n",
       "      <th>Total</th>\n",
       "    </tr>\n",
       "    <tr>\n",
       "      <th>GrauInstrucao</th>\n",
       "      <th></th>\n",
       "      <th></th>\n",
       "      <th></th>\n",
       "      <th></th>\n",
       "    </tr>\n",
       "  </thead>\n",
       "  <tbody>\n",
       "    <tr>\n",
       "      <th>ensino fundamental</th>\n",
       "      <td>4</td>\n",
       "      <td>3</td>\n",
       "      <td>5</td>\n",
       "      <td>12</td>\n",
       "    </tr>\n",
       "    <tr>\n",
       "      <th>ensino médio</th>\n",
       "      <td>5</td>\n",
       "      <td>7</td>\n",
       "      <td>6</td>\n",
       "      <td>18</td>\n",
       "    </tr>\n",
       "    <tr>\n",
       "      <th>superior</th>\n",
       "      <td>2</td>\n",
       "      <td>2</td>\n",
       "      <td>2</td>\n",
       "      <td>6</td>\n",
       "    </tr>\n",
       "    <tr>\n",
       "      <th>Total</th>\n",
       "      <td>11</td>\n",
       "      <td>12</td>\n",
       "      <td>13</td>\n",
       "      <td>36</td>\n",
       "    </tr>\n",
       "  </tbody>\n",
       "</table>\n",
       "</div>"
      ],
      "text/plain": [
       "RegiaoProcedencia   capital  interior  outra  Total\n",
       "GrauInstrucao                                      \n",
       "ensino fundamental        4         3      5     12\n",
       "ensino médio              5         7      6     18\n",
       "superior                  2         2      2      6\n",
       "Total                    11        12     13     36"
      ]
     },
     "execution_count": 13,
     "metadata": {},
     "output_type": "execute_result"
    }
   ],
   "source": [
    "tabelaConjunta = pd.crosstab(dados['GrauInstrucao'], dados['RegiaoProcedencia'], margins=True, margins_name='Total')\n",
    "tabelaConjunta"
   ]
  },
  {
   "cell_type": "markdown",
   "id": "79ec1130",
   "metadata": {},
   "source": [
    "##### Freqüências relativas"
   ]
  },
  {
   "cell_type": "code",
   "execution_count": 14,
   "id": "afe0a2eb",
   "metadata": {},
   "outputs": [
    {
     "data": {
      "text/html": [
       "<div>\n",
       "<style scoped>\n",
       "    .dataframe tbody tr th:only-of-type {\n",
       "        vertical-align: middle;\n",
       "    }\n",
       "\n",
       "    .dataframe tbody tr th {\n",
       "        vertical-align: top;\n",
       "    }\n",
       "\n",
       "    .dataframe thead th {\n",
       "        text-align: right;\n",
       "    }\n",
       "</style>\n",
       "<table border=\"1\" class=\"dataframe\">\n",
       "  <thead>\n",
       "    <tr style=\"text-align: right;\">\n",
       "      <th>RegiaoProcedencia</th>\n",
       "      <th>capital</th>\n",
       "      <th>interior</th>\n",
       "      <th>outra</th>\n",
       "      <th>Total</th>\n",
       "    </tr>\n",
       "    <tr>\n",
       "      <th>GrauInstrucao</th>\n",
       "      <th></th>\n",
       "      <th></th>\n",
       "      <th></th>\n",
       "      <th></th>\n",
       "    </tr>\n",
       "  </thead>\n",
       "  <tbody>\n",
       "    <tr>\n",
       "      <th>ensino fundamental</th>\n",
       "      <td>0.111111</td>\n",
       "      <td>0.083333</td>\n",
       "      <td>0.138889</td>\n",
       "      <td>0.333333</td>\n",
       "    </tr>\n",
       "    <tr>\n",
       "      <th>ensino médio</th>\n",
       "      <td>0.138889</td>\n",
       "      <td>0.194444</td>\n",
       "      <td>0.166667</td>\n",
       "      <td>0.500000</td>\n",
       "    </tr>\n",
       "    <tr>\n",
       "      <th>superior</th>\n",
       "      <td>0.055556</td>\n",
       "      <td>0.055556</td>\n",
       "      <td>0.055556</td>\n",
       "      <td>0.166667</td>\n",
       "    </tr>\n",
       "    <tr>\n",
       "      <th>Total</th>\n",
       "      <td>0.305556</td>\n",
       "      <td>0.333333</td>\n",
       "      <td>0.361111</td>\n",
       "      <td>1.000000</td>\n",
       "    </tr>\n",
       "  </tbody>\n",
       "</table>\n",
       "</div>"
      ],
      "text/plain": [
       "RegiaoProcedencia    capital  interior     outra     Total\n",
       "GrauInstrucao                                             \n",
       "ensino fundamental  0.111111  0.083333  0.138889  0.333333\n",
       "ensino médio        0.138889  0.194444  0.166667  0.500000\n",
       "superior            0.055556  0.055556  0.055556  0.166667\n",
       "Total               0.305556  0.333333  0.361111  1.000000"
      ]
     },
     "execution_count": 14,
     "metadata": {},
     "output_type": "execute_result"
    }
   ],
   "source": [
    "tabelaConjunta = pd.crosstab(dados['GrauInstrucao'], dados['RegiaoProcedencia'], margins=True, margins_name='Total', normalize=True)\n",
    "tabelaConjunta"
   ]
  },
  {
   "cell_type": "markdown",
   "id": "190c38fb",
   "metadata": {},
   "source": [
    "##### Freqüências relativas (porcentagem)"
   ]
  },
  {
   "cell_type": "code",
   "execution_count": 15,
   "id": "87a80fdb",
   "metadata": {},
   "outputs": [
    {
     "data": {
      "text/html": [
       "<div>\n",
       "<style scoped>\n",
       "    .dataframe tbody tr th:only-of-type {\n",
       "        vertical-align: middle;\n",
       "    }\n",
       "\n",
       "    .dataframe tbody tr th {\n",
       "        vertical-align: top;\n",
       "    }\n",
       "\n",
       "    .dataframe thead th {\n",
       "        text-align: right;\n",
       "    }\n",
       "</style>\n",
       "<table border=\"1\" class=\"dataframe\">\n",
       "  <thead>\n",
       "    <tr style=\"text-align: right;\">\n",
       "      <th>RegiaoProcedencia</th>\n",
       "      <th>capital</th>\n",
       "      <th>interior</th>\n",
       "      <th>outra</th>\n",
       "      <th>Total</th>\n",
       "    </tr>\n",
       "    <tr>\n",
       "      <th>GrauInstrucao</th>\n",
       "      <th></th>\n",
       "      <th></th>\n",
       "      <th></th>\n",
       "      <th></th>\n",
       "    </tr>\n",
       "  </thead>\n",
       "  <tbody>\n",
       "    <tr>\n",
       "      <th>ensino fundamental</th>\n",
       "      <td>11.11</td>\n",
       "      <td>8.33</td>\n",
       "      <td>13.89</td>\n",
       "      <td>33.33</td>\n",
       "    </tr>\n",
       "    <tr>\n",
       "      <th>ensino médio</th>\n",
       "      <td>13.89</td>\n",
       "      <td>19.44</td>\n",
       "      <td>16.67</td>\n",
       "      <td>50.00</td>\n",
       "    </tr>\n",
       "    <tr>\n",
       "      <th>superior</th>\n",
       "      <td>5.56</td>\n",
       "      <td>5.56</td>\n",
       "      <td>5.56</td>\n",
       "      <td>16.67</td>\n",
       "    </tr>\n",
       "    <tr>\n",
       "      <th>Total</th>\n",
       "      <td>30.56</td>\n",
       "      <td>33.33</td>\n",
       "      <td>36.11</td>\n",
       "      <td>100.00</td>\n",
       "    </tr>\n",
       "  </tbody>\n",
       "</table>\n",
       "</div>"
      ],
      "text/plain": [
       "RegiaoProcedencia   capital  interior  outra   Total\n",
       "GrauInstrucao                                       \n",
       "ensino fundamental    11.11      8.33  13.89   33.33\n",
       "ensino médio          13.89     19.44  16.67   50.00\n",
       "superior               5.56      5.56   5.56   16.67\n",
       "Total                 30.56     33.33  36.11  100.00"
      ]
     },
     "execution_count": 15,
     "metadata": {},
     "output_type": "execute_result"
    }
   ],
   "source": [
    "tabelaConjunta = round(pd.crosstab(dados['GrauInstrucao'], dados['RegiaoProcedencia'], margins=True, margins_name='Total', normalize=True) * 100, 2)\n",
    "tabelaConjunta"
   ]
  },
  {
   "cell_type": "markdown",
   "id": "5654e689",
   "metadata": {},
   "source": [
    "#### Qual a porcentagem de funcionários que têm o ensino médio?"
   ]
  },
  {
   "cell_type": "code",
   "execution_count": 16,
   "id": "d2d23329",
   "metadata": {},
   "outputs": [
    {
     "data": {
      "text/plain": [
       "50.0"
      ]
     },
     "execution_count": 16,
     "metadata": {},
     "output_type": "execute_result"
    }
   ],
   "source": [
    "tabelaConjunta.loc['ensino médio', 'Total']"
   ]
  },
  {
   "cell_type": "markdown",
   "id": "0e274116",
   "metadata": {},
   "source": [
    "#### Qual a porcentagem daqueles que têm o ensino médio e são do interior?"
   ]
  },
  {
   "cell_type": "code",
   "execution_count": 17,
   "id": "c8d7e0c3",
   "metadata": {},
   "outputs": [
    {
     "data": {
      "text/plain": [
       "19.44"
      ]
     },
     "execution_count": 17,
     "metadata": {},
     "output_type": "execute_result"
    }
   ],
   "source": [
    "tabelaConjunta.loc['ensino médio', 'interior']"
   ]
  },
  {
   "cell_type": "markdown",
   "id": "bb86087f",
   "metadata": {},
   "source": [
    "#### Dentre os funcionários do interior, quantos porcento têm o ensino médio?"
   ]
  },
  {
   "cell_type": "code",
   "execution_count": 18,
   "id": "17de36f6",
   "metadata": {},
   "outputs": [
    {
     "name": "stdout",
     "output_type": "stream",
     "text": [
      "58.33\n"
     ]
    }
   ],
   "source": [
    "interiorMedio = tabelaConjunta.loc['ensino médio', 'interior']\n",
    "\n",
    "ttlFuncInterior = tabelaConjunta.loc['Total', 'interior']\n",
    "\n",
    "porcentagem = round((interiorMedio / ttlFuncInterior) * 100, 2)\n",
    "\n",
    "print(porcentagem)"
   ]
  },
  {
   "cell_type": "code",
   "execution_count": null,
   "id": "e8a0e7b4",
   "metadata": {},
   "outputs": [],
   "source": []
  }
 ],
 "metadata": {
  "kernelspec": {
   "display_name": "Python 3 (ipykernel)",
   "language": "python",
   "name": "python3"
  },
  "language_info": {
   "codemirror_mode": {
    "name": "ipython",
    "version": 3
   },
   "file_extension": ".py",
   "mimetype": "text/x-python",
   "name": "python",
   "nbconvert_exporter": "python",
   "pygments_lexer": "ipython3",
   "version": "3.11.5"
  }
 },
 "nbformat": 4,
 "nbformat_minor": 5
}
