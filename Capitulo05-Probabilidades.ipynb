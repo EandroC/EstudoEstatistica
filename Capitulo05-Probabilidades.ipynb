{
 "cells": [
  {
   "cell_type": "markdown",
   "id": "fd4fc865",
   "metadata": {},
   "source": [
    "### Problema 1: Uma urna contém duas bolas brancas (B) e três bolas vermelhas (V). Retira-se uma bola ao acaso da urna. Se for branca, lança-se uma moeda; se for vermelha, ela é devolvida à urna e retira-se outra. Dê um espaço amostral para o experimento."
   ]
  },
  {
   "cell_type": "code",
   "execution_count": 1,
   "id": "39e51d3e",
   "metadata": {},
   "outputs": [
    {
     "name": "stdout",
     "output_type": "stream",
     "text": [
      "Espaço Amostral:\n",
      "('B', 'C')\n",
      "('B', 'K')\n",
      "('V', 'V')\n",
      "('V', 'B')\n"
     ]
    }
   ],
   "source": [
    "espacoAmostral = []\n",
    "\n",
    "# Se uma bola branca for retirada\n",
    "for resultado in ['C', 'K']:  # Resultado da moeda - cara(C) ou coroa(K))\n",
    "    espacoAmostral.append(('B', resultado))\n",
    "\n",
    "# Se uma bola vermelha for retirada\n",
    "for resultado in ['V', 'B']:  # Será devolvida e retirada uma nova bola - vermelha(V) ou branca (B)\n",
    "    espacoAmostral.append(('V', resultado))\n",
    "\n",
    "print(\"Espaço Amostral:\")\n",
    "for evento in espacoAmostral:\n",
    "    print(evento)\n"
   ]
  },
  {
   "cell_type": "markdown",
   "id": "bd417156",
   "metadata": {},
   "source": [
    "### Problema 2: Lance um dado até que a face 5 apareça pela primeira vez. Enumere os possíveis resultados desse experimento."
   ]
  },
  {
   "cell_type": "code",
   "execution_count": 2,
   "id": "b8f574e9",
   "metadata": {},
   "outputs": [
    {
     "name": "stdout",
     "output_type": "stream",
     "text": [
      "Espaço Amostral:\n",
      "5\n",
      "F5\n",
      "FF5\n",
      "FFF5\n",
      "FFFF5\n",
      "FFFFF5\n",
      "...\n",
      "Esse espaço amostral pode ser infinito\n"
     ]
    }
   ],
   "source": [
    "def stringRepetida(letra, numero):\n",
    "    # Cria a string repetindo a letra o número de vezes especificado\n",
    "    string_repetida = letra * numero\n",
    "    return string_repetida\n",
    "\n",
    "espacoAmostral = []\n",
    "letra = 'F'\n",
    "for contagem in range(7):  # Resultado da moeda - cara(C) ou coroa(K))\n",
    "    if contagem == 0:\n",
    "        espacoAmostral.append(5)\n",
    "    elif contagem < 6:\n",
    "        string_repetida = stringRepetida(letra, contagem)\n",
    "        espacoAmostral.append(string_repetida + str(5))\n",
    "    else:\n",
    "        espacoAmostral.append('...')\n",
    "\n",
    "        \n",
    "print(\"Espaço Amostral:\")\n",
    "for evento in espacoAmostral:\n",
    "    print(evento)\n",
    "print(\"Esse espaço amostral pode ser infinito\")"
   ]
  },
  {
   "cell_type": "markdown",
   "id": "069cd971",
   "metadata": {},
   "source": [
    "### Problema 3: Três jogadores A, B e C disputam um torneio de tênis. Inicialmente, A joga com B e o vencedor joga com C, e assim por diante. O torneio termina quando um jogador ganha duas vezes em seguida ou quando são disputadas, ao todo, quatro partidas. Quais são os resultados possíveis do torneio?"
   ]
  },
  {
   "cell_type": "code",
   "execution_count": 3,
   "id": "782108aa",
   "metadata": {},
   "outputs": [
    {
     "name": "stdout",
     "output_type": "stream",
     "text": [
      "Resultado possíveis:\n",
      "('A', 'A')\n",
      "('A', 'C', 'B', 'A')\n",
      "('A', 'C', 'B', 'B')\n",
      "('A', 'C', 'C')\n",
      "('B', 'B')\n",
      "('B', 'C', 'A', 'A')\n",
      "('B', 'C', 'A', 'B')\n",
      "('B', 'C', 'C')\n"
     ]
    }
   ],
   "source": [
    "espacoAmostral =[]\n",
    "\n",
    "for rodada1 in ['A', 'B']:\n",
    "    espacoAmostral.append((rodada1, rodada1))\n",
    "    for rodada2 in [rodada1, 'C']:\n",
    "        if rodada1 != rodada2:\n",
    "            for rodada3 in ['A', 'B', 'C']:\n",
    "                if rodada2 == rodada3:\n",
    "                    espacoAmostral.append((rodada1, rodada2, rodada3))\n",
    "                else:\n",
    "                    for rodada4 in ['A', 'B']:\n",
    "                           if rodada1 != rodada3: #Não é possivel que aconteça isso, ex: R1: AB= A, R2: AC= C, R3: CB= B (na rodada 3 irá jogar contra o eliminado da rodada 1)\n",
    "                                espacoAmostral.append((rodada1, rodada2, rodada3, rodada4))\n",
    "        \n",
    "    \n",
    "print(\"Resultado possíveis:\")\n",
    "for evento in espacoAmostral:\n",
    "    print(evento)"
   ]
  },
  {
   "cell_type": "code",
   "execution_count": null,
   "id": "2d3a8b0f",
   "metadata": {},
   "outputs": [],
   "source": []
  }
 ],
 "metadata": {
  "kernelspec": {
   "display_name": "Python 3 (ipykernel)",
   "language": "python",
   "name": "python3"
  },
  "language_info": {
   "codemirror_mode": {
    "name": "ipython",
    "version": 3
   },
   "file_extension": ".py",
   "mimetype": "text/x-python",
   "name": "python",
   "nbconvert_exporter": "python",
   "pygments_lexer": "ipython3",
   "version": "3.11.5"
  }
 },
 "nbformat": 4,
 "nbformat_minor": 5
}
