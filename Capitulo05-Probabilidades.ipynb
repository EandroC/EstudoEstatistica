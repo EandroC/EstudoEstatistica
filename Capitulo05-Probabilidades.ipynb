{
 "cells": [
  {
   "cell_type": "code",
   "execution_count": 1,
   "id": "eb32a21d",
   "metadata": {},
   "outputs": [],
   "source": [
    "from itertools import product"
   ]
  },
  {
   "cell_type": "markdown",
   "id": "fd4fc865",
   "metadata": {},
   "source": [
    "### Problema 1: Uma urna contém duas bolas brancas (B) e três bolas vermelhas (V). Retira-se uma bola ao acaso da urna. Se for branca, lança-se uma moeda; se for vermelha, ela é devolvida à urna e retira-se outra. Dê um espaço amostral para o experimento."
   ]
  },
  {
   "cell_type": "code",
   "execution_count": 2,
   "id": "39e51d3e",
   "metadata": {},
   "outputs": [
    {
     "name": "stdout",
     "output_type": "stream",
     "text": [
      "Espaço Amostral:\n",
      "Ω = {('B', 'C'), ('B', 'K'), ('V', 'V'), ('V', 'B')}\n"
     ]
    }
   ],
   "source": [
    "espaco_amostral = []\n",
    "\n",
    "# Se uma bola branca for retirada\n",
    "for resultado in ['C', 'K']:  # Resultado da moeda - cara(C) ou coroa(K))\n",
    "    espaco_amostral.append(('B', resultado))\n",
    "\n",
    "# Se uma bola vermelha for retirada\n",
    "for resultado in ['V', 'B']:  # Será devolvida e retirada uma nova bola - vermelha(V) ou branca (B)\n",
    "    espaco_amostral.append(('V', resultado))\n",
    "\n",
    "print(\"Espaço Amostral:\")\n",
    "print(\"Ω = {\", end=\"\")\n",
    "print(', '.join([str(evento) for evento in espaco_amostral]), end=\"\")\n",
    "print(\"}\")"
   ]
  },
  {
   "cell_type": "markdown",
   "id": "bd417156",
   "metadata": {},
   "source": [
    "### Problema 2: Lance um dado até que a face 5 apareça pela primeira vez. Enumere os possíveis resultados desse experimento."
   ]
  },
  {
   "cell_type": "code",
   "execution_count": 3,
   "id": "b8f574e9",
   "metadata": {},
   "outputs": [
    {
     "name": "stdout",
     "output_type": "stream",
     "text": [
      "Espaço Amostral:\n",
      "Ω = {5, F5, FF5, FFF5, FFFF5, FFFFF5, ...}\n",
      "Esse espaço amostral pode ser infinito\n"
     ]
    }
   ],
   "source": [
    "def stringRepetida(letra, numero):\n",
    "    # Cria a string repetindo a letra o número de vezes especificado\n",
    "    string_repetida = letra * numero\n",
    "    return string_repetida\n",
    "\n",
    "espaco_amostral = []\n",
    "letra = 'F'\n",
    "for contagem in range(7):  # Resultado da moeda - cara(C) ou coroa(K))\n",
    "    if contagem == 0:\n",
    "        espaco_amostral.append(5)\n",
    "    elif contagem < 6:\n",
    "        string_repetida = stringRepetida(letra, contagem)\n",
    "        espaco_amostral.append(string_repetida + str(5))\n",
    "    else:\n",
    "        espaco_amostral.append('...')\n",
    "\n",
    "        \n",
    "print(\"Espaço Amostral:\")\n",
    "print(\"Ω = {\", end=\"\")\n",
    "print(', '.join([str(evento) for evento in espaco_amostral]), end=\"\")\n",
    "print(\"}\")\n",
    "print(\"Esse espaço amostral pode ser infinito\")"
   ]
  },
  {
   "cell_type": "markdown",
   "id": "069cd971",
   "metadata": {},
   "source": [
    "### Problema 3: Três jogadores A, B e C disputam um torneio de tênis. Inicialmente, A joga com B e o vencedor joga com C, e assim por diante. O torneio termina quando um jogador ganha duas vezes em seguida ou quando são disputadas, ao todo, quatro partidas. Quais são os resultados possíveis do torneio?"
   ]
  },
  {
   "cell_type": "code",
   "execution_count": 4,
   "id": "782108aa",
   "metadata": {},
   "outputs": [
    {
     "name": "stdout",
     "output_type": "stream",
     "text": [
      "Resultado possíveis:\n",
      "Ω = {('A', 'A'), ('A', 'C', 'B', 'A'), ('A', 'C', 'B', 'B'), ('A', 'C', 'C'), ('B', 'B'), ('B', 'C', 'A', 'A'), ('B', 'C', 'A', 'B'), ('B', 'C', 'C')}\n"
     ]
    }
   ],
   "source": [
    "espaco_amostral =[]\n",
    "\n",
    "for rodada1 in ['A', 'B']:\n",
    "    espaco_amostral.append((rodada1, rodada1))\n",
    "    for rodada2 in [rodada1, 'C']:\n",
    "        if rodada1 != rodada2:\n",
    "            for rodada3 in ['A', 'B', 'C']:\n",
    "                if rodada2 == rodada3:\n",
    "                    espaco_amostral.append((rodada1, rodada2, rodada3))\n",
    "                else:\n",
    "                    for rodada4 in ['A', 'B']:\n",
    "                           if rodada1 != rodada3: #Não é possivel que aconteça isso, ex: R1: AB= A, R2: AC= C, R3: CB= B (na rodada 3 irá jogar contra o eliminado da rodada 1)\n",
    "                                espaco_amostral.append((rodada1, rodada2, rodada3, rodada4))\n",
    "        \n",
    "    \n",
    "print(\"Resultado possíveis:\")\n",
    "print(\"Ω = {\", end=\"\")\n",
    "print(', '.join([str(evento) for evento in espaco_amostral]), end=\"\")\n",
    "print(\"}\")"
   ]
  },
  {
   "cell_type": "markdown",
   "id": "ccf25a01",
   "metadata": {},
   "source": [
    "### Problema 4: Duas moedas são lançadas. Dê dois possíveis espaços amostrais para esse experimento. Represente um deles como o produto cartesiano de dois outros espaços amostrais (ver Morettin et al., 1999, para o conceito de produto cartesiano)."
   ]
  },
  {
   "cell_type": "code",
   "execution_count": 5,
   "id": "dd9ad956",
   "metadata": {},
   "outputs": [
    {
     "name": "stdout",
     "output_type": "stream",
     "text": [
      "Espaço Amostral:\n",
      "Ω = {('C', 'C'), ('K', 'C'), ('C', 'K'), ('K', 'K')}\n"
     ]
    }
   ],
   "source": [
    "espaco_amostral = []\n",
    "\n",
    "\n",
    "for moeda in ['C', 'K']:\n",
    "    espaco_amostral.append(('C', moeda))\n",
    "    espaco_amostral.append(('K', moeda))\n",
    "\n",
    "print(\"Espaço Amostral:\")\n",
    "print(\"Ω = {\", end=\"\")\n",
    "print(', '.join([str(evento) for evento in espaco_amostral]), end=\"\")\n",
    "print(\"}\")"
   ]
  },
  {
   "cell_type": "markdown",
   "id": "7e6cde47",
   "metadata": {},
   "source": [
    "#### utilizando itertools"
   ]
  },
  {
   "cell_type": "code",
   "execution_count": 6,
   "id": "fcc70eb5",
   "metadata": {},
   "outputs": [
    {
     "name": "stdout",
     "output_type": "stream",
     "text": [
      "Espaço Amostral:\n",
      "Ω = {('C', 'C'), ('C', 'K'), ('K', 'C'), ('K', 'K')}\n"
     ]
    }
   ],
   "source": [
    "moeda = ['C', 'K']\n",
    "\n",
    "espaco_amostral = list(product(moeda, repeat=2))\n",
    "\n",
    "print(\"Espaço Amostral:\")\n",
    "print(\"Ω = {\", end=\"\")\n",
    "print(', '.join([str(evento) for evento in espaco_amostral]), end=\"\")\n",
    "print(\"}\")"
   ]
  },
  {
   "cell_type": "code",
   "execution_count": 7,
   "id": "f6477d2a",
   "metadata": {},
   "outputs": [
    {
     "name": "stdout",
     "output_type": "stream",
     "text": [
      "O produto cartesiano seria: Ω={ C, K } X { C, K }\n"
     ]
    }
   ],
   "source": [
    "print('O produto cartesiano seria: Ω={{ {}, {} }} X {{ {}, {} }}'.format(moeda[0], moeda[1], moeda[0], moeda[1]))"
   ]
  },
  {
   "cell_type": "markdown",
   "id": "de94bd23",
   "metadata": {},
   "source": [
    "### Problema 5: Uma moeda e um dado são lançados. Dê um espaço amostral do experimento e depois represente-o como produto cartesiano dos dois espaços amostrais, correspondente aos experimentos considerados individualmente."
   ]
  },
  {
   "cell_type": "code",
   "execution_count": 8,
   "id": "f15376e8",
   "metadata": {},
   "outputs": [
    {
     "name": "stdout",
     "output_type": "stream",
     "text": [
      "Espaço Amostral:\n",
      "Ω = {('C', 1), ('C', 2), ('C', 3), ('C', 4), ('C', 5), ('C', 6), ('K', 1), ('K', 2), ('K', 3), ('K', 4), ('K', 5), ('K', 6)}\n"
     ]
    }
   ],
   "source": [
    "espaco_amostral = []\n",
    "\n",
    "\n",
    "for moeda in range(1,7):\n",
    "    espaco_amostral.append(('C', moeda))\n",
    "    espaco_amostral.append(('K', moeda))\n",
    "\n",
    "espaco_amostral = sorted(espaco_amostral)\n",
    "\n",
    "print(\"Espaço Amostral:\")\n",
    "print(\"Ω = {\", end=\"\")\n",
    "print(', '.join([str(evento) for evento in espaco_amostral]), end=\"\")\n",
    "print(\"}\")"
   ]
  },
  {
   "cell_type": "code",
   "execution_count": 9,
   "id": "3092adc6",
   "metadata": {},
   "outputs": [
    {
     "name": "stdout",
     "output_type": "stream",
     "text": [
      "Espaço Amostral:\n",
      "Ω = {('C', 1), ('C', 2), ('C', 3), ('C', 4), ('C', 5), ('C', 6), ('K', 1), ('K', 2), ('K', 3), ('K', 4), ('K', 5), ('K', 6)}\n"
     ]
    }
   ],
   "source": [
    "moeda = ['C', 'K']\n",
    "dado = [1, 2, 3, 4, 5, 6]\n",
    "\n",
    "espaco_amostral = list(product(moeda, dado))\n",
    "\n",
    "print(\"Espaço Amostral:\")\n",
    "print(\"Ω = {\", end=\"\")\n",
    "print(', '.join([str(evento) for evento in espaco_amostral]), end=\"\")\n",
    "print(\"}\")"
   ]
  },
  {
   "cell_type": "code",
   "execution_count": 10,
   "id": "ce363d3a",
   "metadata": {},
   "outputs": [
    {
     "name": "stdout",
     "output_type": "stream",
     "text": [
      "O produto cartesiano seria: Ω={ C, K } X { 1, 2, 3, 4, 5, 6, }\n"
     ]
    }
   ],
   "source": [
    "moeda = ['C', 'K']\n",
    "dado = [1, 2, 3, 4, 5, 6]\n",
    "\n",
    "# Imprimindo o produto cartesiano com formatação de string e um loop for\n",
    "print('O produto cartesiano seria: Ω={{ {}, {} }} X {{'.format(moeda[0], moeda[1]), end='')\n",
    "for valor in dado:\n",
    "    print(' {},'.format(valor), end='')\n",
    "print(' }')\n"
   ]
  },
  {
   "cell_type": "markdown",
   "id": "1545b598",
   "metadata": {},
   "source": [
    "### Problema 6:  Defina um espaço amostral para cada um dos seguintes experimentos aleatórios:"
   ]
  },
  {
   "cell_type": "markdown",
   "id": "f94a3f99",
   "metadata": {},
   "source": [
    "#### Lançamento de dois dados; anota-se a configuração obtida"
   ]
  },
  {
   "cell_type": "code",
   "execution_count": 11,
   "id": "d1b70993",
   "metadata": {},
   "outputs": [
    {
     "name": "stdout",
     "output_type": "stream",
     "text": [
      "Espaço Amostral:\n",
      "Ω = {(1, 1), (1, 2), (1, 3), (1, 4), (1, 5), (1, 6), (2, 1), (2, 2), (2, 3), (2, 4), (2, 5), (2, 6), (3, 1), (3, 2), (3, 3), (3, 4), (3, 5), (3, 6), (4, 1), (4, 2), (4, 3), (4, 4), (4, 5), (4, 6), (5, 1), (5, 2), (5, 3), (5, 4), (5, 5), (5, 6), (6, 1), (6, 2), (6, 3), (6, 4), (6, 5), (6, 6)}\n"
     ]
    }
   ],
   "source": [
    "dado = [1, 2, 3, 4, 5, 6]\n",
    "\n",
    "espaco_amostral = list(product(dado, repeat=2))\n",
    "\n",
    "print(\"Espaço Amostral:\")\n",
    "print(\"Ω = {\", end=\"\")\n",
    "print(', '.join([str(evento) for evento in espaco_amostral]), end=\"\")\n",
    "print(\"}\")"
   ]
  },
  {
   "cell_type": "markdown",
   "id": "831df350",
   "metadata": {},
   "source": [
    "#### Numa linha de produção conta-se o número de peças defeituosas num intervalo de uma hora."
   ]
  },
  {
   "cell_type": "code",
   "execution_count": 12,
   "id": "c4d15c8b",
   "metadata": {},
   "outputs": [
    {
     "name": "stdout",
     "output_type": "stream",
     "text": [
      "Espaço Amostral:\n",
      "Ω = {1, 2, 3, 4, 5, 6, ...}\n"
     ]
    }
   ],
   "source": [
    "espaco_amostral = [1, 2, 3, 4, 5, 6, '...']\n",
    "\n",
    "print(\"Espaço Amostral:\")\n",
    "print(\"Ω = {\", end=\"\")\n",
    "print(', '.join([str(evento) for evento in espaco_amostral]), end=\"\")\n",
    "print(\"}\")"
   ]
  },
  {
   "cell_type": "markdown",
   "id": "dd43212c",
   "metadata": {},
   "source": [
    "#### Mede-se a duração de lâmpadas, deixando-as acesas até que se queimem."
   ]
  },
  {
   "cell_type": "code",
   "execution_count": 2,
   "id": "33e4f20f",
   "metadata": {},
   "outputs": [
    {
     "name": "stdout",
     "output_type": "stream",
     "text": [
      "Ω = {t : t > 0}\n"
     ]
    }
   ],
   "source": [
    "print(\"Ω = {t : t > 0}\")"
   ]
  },
  {
   "cell_type": "markdown",
   "id": "2a554696",
   "metadata": {},
   "source": [
    "#### Lança-se uma moeda até aparecer cara e anota-se o número de lançamentos."
   ]
  },
  {
   "cell_type": "code",
   "execution_count": 3,
   "id": "2b5b4da6",
   "metadata": {},
   "outputs": [
    {
     "name": "stdout",
     "output_type": "stream",
     "text": [
      "Espaço Amostral:\n",
      "Ω = {1, 2, 3, ...}\n"
     ]
    }
   ],
   "source": [
    "espaco_amostral = [1, 2, 3, '...']\n",
    "\n",
    "print(\"Espaço Amostral:\")\n",
    "print(\"Ω = {\", end=\"\")\n",
    "print(', '.join([str(evento) for evento in espaco_amostral]), end=\"\")\n",
    "print(\"}\")"
   ]
  },
  {
   "cell_type": "markdown",
   "id": "4e15e0c7",
   "metadata": {},
   "source": [
    "#### De um grupo de cinco pessoas {A, B, C, D, E}, sorteiam-se duas, uma após outra, com reposição, e anota-se a configuração formada."
   ]
  },
  {
   "cell_type": "code",
   "execution_count": 7,
   "id": "955bd3fb",
   "metadata": {},
   "outputs": [
    {
     "name": "stdout",
     "output_type": "stream",
     "text": [
      "Espaço Amostral:\n",
      "Ω = {('A', 'A'), ('A', 'B'), ('A', 'C'), ('A', 'D'), ('B', 'A'), ('B', 'B'), ('B', 'C'), ('B', 'D'), ('C', 'A'), ('C', 'B'), ('C', 'C'), ('C', 'D'), ('D', 'A'), ('D', 'B'), ('D', 'C'), ('D', 'D')}\n"
     ]
    }
   ],
   "source": [
    "espaco_amostral = []\n",
    "\n",
    "\n",
    "elementos = ['A', 'B', 'C', 'D']\n",
    "\n",
    "espaco_amostral = list(product(elementos, repeat=2))\n",
    "\n",
    "\n",
    "\n",
    "'''\n",
    "          ou \n",
    "          \n",
    "for moeda in ['A', 'B', 'C', 'D']:\n",
    "    espaco_amostral.append(('A', moeda))\n",
    "    espaco_amostral.append(('B', moeda))\n",
    "    espaco_amostral.append(('C', moeda))\n",
    "    espaco_amostral.append(('D', moeda))\n",
    "\n",
    "espaco_amostral = sorted(espaco_amostral)\n",
    "'''\n",
    "\n",
    "print(\"Espaço Amostral:\")\n",
    "print(\"Ω = {\", end=\"\")\n",
    "print(', '.join([str(evento) for evento in espaco_amostral]), end=\"\")\n",
    "print(\"}\")"
   ]
  },
  {
   "cell_type": "markdown",
   "id": "ee838322",
   "metadata": {},
   "source": [
    "#### Mesmo enunciado, sem reposição."
   ]
  },
  {
   "cell_type": "code",
   "execution_count": 10,
   "id": "e56df87a",
   "metadata": {},
   "outputs": [
    {
     "name": "stdout",
     "output_type": "stream",
     "text": [
      "Espaço Amostral:\n",
      "Ω = {('A', 'B'), ('A', 'C'), ('A', 'D'), ('B', 'A'), ('B', 'C'), ('B', 'D'), ('C', 'A'), ('C', 'B'), ('C', 'D'), ('D', 'A'), ('D', 'B'), ('D', 'C')}\n"
     ]
    }
   ],
   "source": [
    "elementos = ['A', 'B', 'C', 'D']\n",
    "espaco_amostral = [(x, y) for x, y in product(elementos, repeat=2) if x != y]\n",
    "\n",
    "\n",
    "print(\"Espaço Amostral:\")\n",
    "print(\"Ω = {\", end=\"\")\n",
    "print(', '.join([str(evento) for evento in espaco_amostral]), end=\"\")\n",
    "print(\"}\")"
   ]
  },
  {
   "cell_type": "markdown",
   "id": "48bc01af",
   "metadata": {},
   "source": [
    "#### Mesmo enunciado que, mas as duas selecionadas simultaneamente."
   ]
  },
  {
   "cell_type": "code",
   "execution_count": 11,
   "id": "93e0f0bb",
   "metadata": {},
   "outputs": [
    {
     "name": "stdout",
     "output_type": "stream",
     "text": [
      "Espaço Amostral:\n",
      "Ω = {('A', 'B'), ('A', 'C'), ('A', 'D'), ('B', 'A'), ('B', 'C'), ('B', 'D'), ('C', 'A'), ('C', 'B'), ('C', 'D'), ('D', 'A'), ('D', 'B'), ('D', 'C')}\n"
     ]
    }
   ],
   "source": [
    "elementos = ['A', 'B', 'C', 'D']\n",
    "espaco_amostral = [(x, y) for x, y in product(elementos, repeat=2) if x != y]\n",
    "\n",
    "\n",
    "print(\"Espaço Amostral:\")\n",
    "print(\"Ω = {\", end=\"\")\n",
    "print(', '.join([str(evento) for evento in espaco_amostral]), end=\"\")\n",
    "print(\"}\")"
   ]
  },
  {
   "cell_type": "markdown",
   "id": "d04d8590",
   "metadata": {},
   "source": [
    "#### De cada família entrevistada numa pesquisa, anotam-se a classe social a que pertence (A, B, C, D) e o estado civil do chefe da família."
   ]
  },
  {
   "cell_type": "code",
   "execution_count": 12,
   "id": "0494c24f",
   "metadata": {},
   "outputs": [
    {
     "name": "stdout",
     "output_type": "stream",
     "text": [
      "Espaço Amostral:\n",
      "Ω = {('A', 'S'), ('A', 'C'), ('A', 'D'), ('A', 'V'), ('B', 'S'), ('B', 'C'), ('B', 'D'), ('B', 'V'), ('C', 'S'), ('C', 'C'), ('C', 'D'), ('C', 'V'), ('D', 'S'), ('D', 'C'), ('D', 'D'), ('D', 'V')}\n"
     ]
    }
   ],
   "source": [
    "classe_social = ['A', 'B', 'C', 'D']\n",
    "estado_civil = ['S', 'C', 'D', 'V']  #solteiro, casado, divorciado e viúvo, respectivamente\n",
    "\n",
    "espaco_amostral = list(product(classe_social, estado_civil))\n",
    "\n",
    "print(\"Espaço Amostral:\")\n",
    "print(\"Ω = {\", end=\"\")\n",
    "print(', '.join([str(evento) for evento in espaco_amostral]), end=\"\")\n",
    "print(\"}\")"
   ]
  },
  {
   "cell_type": "code",
   "execution_count": null,
   "id": "ac736db8",
   "metadata": {},
   "outputs": [],
   "source": []
  }
 ],
 "metadata": {
  "kernelspec": {
   "display_name": "Python 3 (ipykernel)",
   "language": "python",
   "name": "python3"
  },
  "language_info": {
   "codemirror_mode": {
    "name": "ipython",
    "version": 3
   },
   "file_extension": ".py",
   "mimetype": "text/x-python",
   "name": "python",
   "nbconvert_exporter": "python",
   "pygments_lexer": "ipython3",
   "version": "3.11.5"
  }
 },
 "nbformat": 4,
 "nbformat_minor": 5
}
