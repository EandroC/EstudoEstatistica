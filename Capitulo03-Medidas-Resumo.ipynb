{
 "cells": [
  {
   "cell_type": "code",
   "execution_count": 86,
   "id": "0c147656",
   "metadata": {},
   "outputs": [],
   "source": [
    "import pandas as pd\n",
    "import math as mt"
   ]
  },
  {
   "cell_type": "markdown",
   "id": "0401700d",
   "metadata": {},
   "source": [
    "### Problema 1: Quer se estudar o número de erros de impressão de um livro. Para isso escolheu-se uma amostra de 50 páginas, encontrando-se o número de erros por página da tabela abaixo."
   ]
  },
  {
   "cell_type": "code",
   "execution_count": 40,
   "id": "5955a80a",
   "metadata": {},
   "outputs": [
    {
     "data": {
      "text/html": [
       "<div>\n",
       "<style scoped>\n",
       "    .dataframe tbody tr th:only-of-type {\n",
       "        vertical-align: middle;\n",
       "    }\n",
       "\n",
       "    .dataframe tbody tr th {\n",
       "        vertical-align: top;\n",
       "    }\n",
       "\n",
       "    .dataframe thead th {\n",
       "        text-align: right;\n",
       "    }\n",
       "</style>\n",
       "<table border=\"1\" class=\"dataframe\">\n",
       "  <thead>\n",
       "    <tr style=\"text-align: right;\">\n",
       "      <th></th>\n",
       "      <th>Erros</th>\n",
       "      <th>Frequencia</th>\n",
       "    </tr>\n",
       "  </thead>\n",
       "  <tbody>\n",
       "    <tr>\n",
       "      <th>0</th>\n",
       "      <td>0</td>\n",
       "      <td>25</td>\n",
       "    </tr>\n",
       "    <tr>\n",
       "      <th>1</th>\n",
       "      <td>1</td>\n",
       "      <td>20</td>\n",
       "    </tr>\n",
       "    <tr>\n",
       "      <th>2</th>\n",
       "      <td>2</td>\n",
       "      <td>3</td>\n",
       "    </tr>\n",
       "    <tr>\n",
       "      <th>3</th>\n",
       "      <td>3</td>\n",
       "      <td>1</td>\n",
       "    </tr>\n",
       "    <tr>\n",
       "      <th>4</th>\n",
       "      <td>4</td>\n",
       "      <td>1</td>\n",
       "    </tr>\n",
       "  </tbody>\n",
       "</table>\n",
       "</div>"
      ],
      "text/plain": [
       "   Erros  Frequencia\n",
       "0      0          25\n",
       "1      1          20\n",
       "2      2           3\n",
       "3      3           1\n",
       "4      4           1"
      ]
     },
     "execution_count": 40,
     "metadata": {},
     "output_type": "execute_result"
    }
   ],
   "source": [
    "erros = [0, 1, 2, 3, 4]\n",
    "frequencia = [25, 20, 3, 1, 1]\n",
    "\n",
    "freq_table = pd.DataFrame(erros, columns=['Erros'])\n",
    "freq_table['Frequencia'] = frequencia\n",
    "\n",
    "freq_table"
   ]
  },
  {
   "cell_type": "code",
   "execution_count": 109,
   "id": "b44c33f5",
   "metadata": {},
   "outputs": [],
   "source": []
  },
  {
   "cell_type": "code",
   "execution_count": 137,
   "id": "b0ae7c36",
   "metadata": {},
   "outputs": [
    {
     "ename": "TypeError",
     "evalue": "'int' object is not subscriptable",
     "output_type": "error",
     "traceback": [
      "\u001b[1;31m---------------------------------------------------------------------------\u001b[0m",
      "\u001b[1;31mTypeError\u001b[0m                                 Traceback (most recent call last)",
      "Cell \u001b[1;32mIn[137], line 3\u001b[0m\n\u001b[0;32m      1\u001b[0m listaErros \u001b[38;5;241m=\u001b[39m []\n\u001b[0;32m      2\u001b[0m \u001b[38;5;28;01mfor\u001b[39;00m i \u001b[38;5;129;01min\u001b[39;00m \u001b[38;5;28mrange\u001b[39m(erros\u001b[38;5;241m+\u001b[39m\u001b[38;5;241m1\u001b[39m):\n\u001b[1;32m----> 3\u001b[0m     \u001b[38;5;28mprint\u001b[39m(erros[i])\n",
      "\u001b[1;31mTypeError\u001b[0m: 'int' object is not subscriptable"
     ]
    }
   ],
   "source": [
    "listaErros = []\n",
    "for i in range(erros+1):\n",
    "    print(erros[i])\n",
    "    #lista_erros.extend(erros[i] * frequencia[i])\n",
    "    "
   ]
  },
  {
   "cell_type": "markdown",
   "id": "c1da384a",
   "metadata": {},
   "source": [
    "#### Qual o número médio de erros por página?"
   ]
  },
  {
   "cell_type": "code",
   "execution_count": 19,
   "id": "d93d7a4b",
   "metadata": {},
   "outputs": [
    {
     "name": "stdout",
     "output_type": "stream",
     "text": [
      "Media: 23.333333333333332  Media usando pandas:  23.333333333333332\n"
     ]
    }
   ],
   "source": [
    "#Sem o uso do pandas\n",
    "media = freq_table['Frequencia'].sum()/len(freq_table)\n",
    "\n",
    "#Usando o pandas\n",
    "mediaPd = freq_table['Frequencia'].mean()\n",
    "\n",
    "print('Media:', media,' Media usando pandas: ', mediaPd)"
   ]
  },
  {
   "cell_type": "markdown",
   "id": "1445259e",
   "metadata": {},
   "source": [
    "#### E o número mediano?"
   ]
  },
  {
   "cell_type": "code",
   "execution_count": 46,
   "id": "ce94c565",
   "metadata": {},
   "outputs": [
    {
     "name": "stdout",
     "output_type": "stream",
     "text": [
      "Mediana: 3  Mediana usando pandas:  3.0\n"
     ]
    }
   ],
   "source": [
    "#Sem o uso do Pandas\n",
    "if len(freq_table)%2==0:\n",
    "    i = int((len(freq_table)/2)-1)\n",
    "    print(i)\n",
    "    o = i+1\n",
    "    print(o)\n",
    "    mediana = (freq_table['Frequencia'][i] + freq_table['Frequencia'][o])/ 2\n",
    "else:\n",
    "    i = floor(len(freq_table['Frequencia'])/2)\n",
    "    mediana = freq_table['Frequencia'][i]\n",
    "\n",
    "#Usando o pandas\n",
    "\n",
    "medianaPd = freq_table['Frequencia'].median()\n",
    "\n",
    "print('Mediana:', mediana,' Mediana usando pandas: ', medianaPd)"
   ]
  },
  {
   "cell_type": "markdown",
   "id": "837d9774",
   "metadata": {},
   "source": [
    "#### Qual é o desvio padrão?"
   ]
  },
  {
   "cell_type": "code",
   "execution_count": 82,
   "id": "2d24c8b9",
   "metadata": {},
   "outputs": [],
   "source": [
    "def funcDesvio(valor, tamanho):\n",
    "    if valor > tamanho:\n",
    "        return valor - tamanho\n",
    "    else:\n",
    "        return tamanho - valor \n",
    "    \n",
    "def funcQuadradoDesvios(valor):\n",
    "    return valor**2"
   ]
  },
  {
   "cell_type": "code",
   "execution_count": 92,
   "id": "78f43ff6",
   "metadata": {},
   "outputs": [
    {
     "name": "stdout",
     "output_type": "stream",
     "text": [
      "[20, 15, 2, 4, 4]\n",
      "9.0\n",
      "[400, 225, 4, 16, 16]\n",
      "132.2\n",
      "11.5\n"
     ]
    }
   ],
   "source": [
    "tamanho = len(freq_table)\n",
    "desvios = []\n",
    "quadradoDesvios = []\n",
    "\n",
    "#Pegando os desvios de cada elemento\n",
    "for i in freq_table['Frequencia']:\n",
    "    desvios.append(funcDesvio(i, tamanho))\n",
    "\n",
    "#Calculando desvio medio a partir do desvio\n",
    "desvioMedio = (sum(desvios))/tamanho\n",
    "\n",
    "#Pegando o quadrado dos desvios de cada elemento\n",
    "for i in desvios:\n",
    "    quadradoDesvios.append(funcQuadradoDesvios(i))\n",
    "\n",
    "#Calculando a variancia a partir do quadrado dos desvios\n",
    "variancia = (sum(quadradoDesvios))/tamanho\n",
    "\n",
    "#Calculado o desvio Padrao a partir da variância\n",
    "desvioPadrao = round(mt.sqrt(variancia),2)\n",
    "\n",
    "print(desvios)\n",
    "print(desvioMedio)\n",
    "print(quadradoDesvios)\n",
    "print(variancia)\n",
    "print(desvioPadrao)\n",
    "\n",
    "\n",
    "#freq_table['Frequencia'].map(transformar_sexo)"
   ]
  },
  {
   "cell_type": "code",
   "execution_count": null,
   "id": "4d492419",
   "metadata": {},
   "outputs": [],
   "source": []
  }
 ],
 "metadata": {
  "kernelspec": {
   "display_name": "Python 3 (ipykernel)",
   "language": "python",
   "name": "python3"
  },
  "language_info": {
   "codemirror_mode": {
    "name": "ipython",
    "version": 3
   },
   "file_extension": ".py",
   "mimetype": "text/x-python",
   "name": "python",
   "nbconvert_exporter": "python",
   "pygments_lexer": "ipython3",
   "version": "3.11.5"
  }
 },
 "nbformat": 4,
 "nbformat_minor": 5
}
